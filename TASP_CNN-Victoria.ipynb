{
 "cells": [
  {
   "cell_type": "code",
   "execution_count": null,
   "id": "087f7b63-0652-4e21-b146-c67697fefc56",
   "metadata": {},
   "outputs": [],
   "source": [
    "https://discover.data.vic.gov.au/dataset/crash-stats-data-extract"
   ]
  },
  {
   "cell_type": "markdown",
   "id": "835b171f-bf99-42a4-addd-79c633d23f4b",
   "metadata": {},
   "source": [
    "[TFM](https://github.com/jmrplens/TFG-TFM_EPS)"
   ]
  },
  {
   "cell_type": "markdown",
   "id": "d63fb9ae-88b7-4246-8fb7-f7e904b6d049",
   "metadata": {
    "tags": []
   },
   "source": [
    "# Diagrama de flujo"
   ]
  },
  {
   "cell_type": "markdown",
   "id": "60478eb5-96bc-4235-801e-0bef3c9b2433",
   "metadata": {},
   "source": [
    "<center><img width='600px' src=\"Data/Data_flow.png\"/></center>\n",
    "\n",
    "Metodología\n",
    "https://ieeexplore.ieee.org/stamp/stamp.jsp?tp=&arnumber=294849"
   ]
  },
  {
   "cell_type": "markdown",
   "id": "90c2e215-b652-4dbb-a951-8a62aff35046",
   "metadata": {
    "tags": [],
    "toc-hr-collapsed": true
   },
   "source": [
    "# Métodos"
   ]
  },
  {
   "cell_type": "markdown",
   "id": "yabWKtrCSTTp",
   "metadata": {
    "id": "yabWKtrCSTTp",
    "tags": []
   },
   "source": [
    "## Carga Google Drive"
   ]
  },
  {
   "cell_type": "code",
   "execution_count": 1,
   "id": "9kRlrtLcSWSU",
   "metadata": {
    "id": "9kRlrtLcSWSU",
    "tags": []
   },
   "outputs": [],
   "source": [
    "# from google.colab import drive\n",
    "# drive.mount('/content/drive')"
   ]
  },
  {
   "cell_type": "markdown",
   "id": "d509f4f4-6594-4a0c-9bed-927d3922d6a0",
   "metadata": {
    "tags": []
   },
   "source": [
    "## Versión y especificación de directorios"
   ]
  },
  {
   "cell_type": "code",
   "execution_count": 2,
   "id": "ae3e1708-463b-4941-93b8-0a8204bbf307",
   "metadata": {},
   "outputs": [],
   "source": [
    "import os"
   ]
  },
  {
   "cell_type": "code",
   "execution_count": 3,
   "id": "054036f2-0df1-4f75-a418-fa94f2d4b3bc",
   "metadata": {},
   "outputs": [],
   "source": [
    "%load_ext autoreload\n",
    "%autoreload 2\n",
    "\n",
    "\n",
    "%load_ext tensorboard"
   ]
  },
  {
   "cell_type": "code",
   "execution_count": 4,
   "id": "d2b404dc-0e9c-4945-b4e5-d1a77d863a3d",
   "metadata": {},
   "outputs": [],
   "source": [
    "from datetime import datetime\n",
    "\n",
    "MODEL_TIMESTAMP = datetime.now().strftime(\"%Y-%m-%d-%H:%M:%S\")\n",
    "\n",
    "\n",
    "WEIGHTS_PATH  = './feature_weights/'\n",
    "REPORTS_PATH  = 'Reports/'\n",
    "MODELS_PATH   = 'Models/'\n",
    "F1_SCORES_PATH = 'F1scores/'\n",
    "GA_SCORES_PATH = 'GA_Scores/'\n",
    "HYPERPARAMS_PATH = './hyperparams/'\n",
    "\n",
    "HYPERPARAMS_EVOLUTON_PATH = './hyperparams_evolution/'\n",
    "FINAL_POPULATION_PATH  = './population/'\n",
    "CONFUSIONS_MATRIX_PATH = 'confusion_matrix/'\n",
    "TSNE_PATH = 'tsne/'\n",
    "\n",
    "REPORTS_TIMES_PATH = 'times/'\n",
    "\n",
    "\n",
    "###### MODELS ######\n",
    "MODELS_NAME = ['knn', 'convolution_1d', 'convolution_2d', 'nb', 'svc', 'auto_ml']\n",
    "MODELS_NAME = ['nb', 'svc', 'knn', 'logistic_regression', 'random_forest', 'mlp', 'convolution_1d', 'convolution_2d', 'auto_ml']\n",
    "\n",
    "REPORTS_SUMMARY_PATH = f\"{REPORTS_PATH}summary/\"\n",
    "######## CONFIG ########\n"
   ]
  },
  {
   "cell_type": "code",
   "execution_count": 5,
   "id": "ccaf93ea-bab8-4846-a12e-bcfa1b14a72a",
   "metadata": {},
   "outputs": [
    {
     "name": "stdout",
     "output_type": "stream",
     "text": [
      "The autoreload extension is already loaded. To reload it, use:\n",
      "  %reload_ext autoreload\n"
     ]
    }
   ],
   "source": [
    "%load_ext autoreload\n",
    "%autoreload 2\n",
    "\n",
    "laptop = True\n",
    "calculate_weights = True\n",
    "tsne = False\n",
    "\n",
    "leeds  = False\n",
    "madrid = False\n",
    "UK = True\n",
    "\n",
    "tree_method = 'auto' if laptop else 'gpu_hist'\n",
    "\n",
    "train_nn = True\n",
    "other_models = cnn1d = True\n",
    "cnn1d = False\n",
    "cnn2d = True\n",
    "other_models = cnn1d = True\n",
    "\n",
    "calculate_cnn_hyperparams = False\n"
   ]
  },
  {
   "cell_type": "code",
   "execution_count": 6,
   "id": "ea665cef-e563-4798-8ed2-78a8f2ddb21a",
   "metadata": {},
   "outputs": [],
   "source": [
    "# laptop = True\n",
    "# calculate_weights = True\n",
    "# tsne = False\n",
    "\n",
    "# leeds  = False\n",
    "# madrid = False\n",
    "# UK = True\n",
    "\n",
    "# tree_method = 'auto' if laptop else 'gpu_hist'\n",
    "# # tree_method = 'gpu_hist'\n",
    "# train_nn = False\n",
    "# other_models = cnn1d = False"
   ]
  },
  {
   "cell_type": "markdown",
   "id": "1ccb628e-a7f4-40e8-a62d-576f7a78c2fd",
   "metadata": {
    "tags": []
   },
   "source": [
    "## Importar Tensorflow"
   ]
  },
  {
   "cell_type": "code",
   "execution_count": 7,
   "id": "5bb40e62-06ae-46b9-a711-a5d5667c4dbb",
   "metadata": {},
   "outputs": [],
   "source": [
    "# !pip install tensorflow-addons"
   ]
  },
  {
   "cell_type": "code",
   "execution_count": 8,
   "id": "32053d4d-f4d8-4b07-9cd8-bb5bf4ac8d44",
   "metadata": {},
   "outputs": [
    {
     "name": "stderr",
     "output_type": "stream",
     "text": [
      "2023-10-10 00:15:31.050218: I tensorflow/core/platform/cpu_feature_guard.cc:193] This TensorFlow binary is optimized with oneAPI Deep Neural Network Library (oneDNN) to use the following CPU instructions in performance-critical operations:  AVX2 AVX_VNNI FMA\n",
      "To enable them in other operations, rebuild TensorFlow with the appropriate compiler flags.\n",
      "2023-10-10 00:15:31.123703: I tensorflow/core/util/util.cc:169] oneDNN custom operations are on. You may see slightly different numerical results due to floating-point round-off errors from different computation orders. To turn them off, set the environment variable `TF_ENABLE_ONEDNN_OPTS=0`.\n",
      "2023-10-10 00:15:31.141797: E tensorflow/stream_executor/cuda/cuda_blas.cc:2981] Unable to register cuBLAS factory: Attempting to register factory for plugin cuBLAS when one has already been registered\n",
      "2023-10-10 00:15:31.477606: W tensorflow/stream_executor/platform/default/dso_loader.cc:64] Could not load dynamic library 'libnvinfer.so.7'; dlerror: libnvinfer.so.7: cannot open shared object file: No such file or directory; LD_LIBRARY_PATH: /usr/local/cuda/lib64:/usr/local/cuda-10.1/lib64:/usr/local/cuda-11/lib64:/usr/local/cuda-11.1/lib64:/usr/local/cuda-11.2/lib64:/usr/local/cuda-11.7/lib64\n",
      "2023-10-10 00:15:31.477639: W tensorflow/stream_executor/platform/default/dso_loader.cc:64] Could not load dynamic library 'libnvinfer_plugin.so.7'; dlerror: libnvinfer_plugin.so.7: cannot open shared object file: No such file or directory; LD_LIBRARY_PATH: /usr/local/cuda/lib64:/usr/local/cuda-10.1/lib64:/usr/local/cuda-11/lib64:/usr/local/cuda-11.1/lib64:/usr/local/cuda-11.2/lib64:/usr/local/cuda-11.7/lib64\n",
      "2023-10-10 00:15:31.477642: W tensorflow/compiler/tf2tensorrt/utils/py_utils.cc:38] TF-TRT Warning: Cannot dlopen some TensorRT libraries. If you would like to use Nvidia GPU with TensorRT, please make sure the missing libraries mentioned above are installed properly.\n"
     ]
    }
   ],
   "source": [
    "import tensorflow as tf\n",
    "from tensorflow.keras import backend as K\n",
    "from tensorflow.keras import layers, models\n",
    "from tensorflow.keras.regularizers import l2\n",
    "from tensorflow.keras.optimizers import Adam\n",
    "from tensorflow.keras import applications, optimizers\n",
    "from tensorflow.keras.applications.vgg16 import VGG16, preprocess_input\n",
    "from tensorflow.keras.preprocessing.image import ImageDataGenerator, load_img, img_to_array\n",
    "from tensorflow.keras.utils import model_to_dot, plot_model\n",
    "from tensorflow.keras.layers import Input, Lambda, Activation, Conv2D, MaxPooling2D, BatchNormalization, Add, concatenate, Conv2DTranspose, Flatten"
   ]
  },
  {
   "cell_type": "code",
   "execution_count": 9,
   "id": "e5732f07-8398-47a1-9d62-53cf7dd45556",
   "metadata": {},
   "outputs": [
    {
     "name": "stdout",
     "output_type": "stream",
     "text": [
      "Found GPU at: /device:GPU:0\n"
     ]
    },
    {
     "name": "stderr",
     "output_type": "stream",
     "text": [
      "2023-10-10 00:15:31.944945: I tensorflow/core/platform/cpu_feature_guard.cc:193] This TensorFlow binary is optimized with oneAPI Deep Neural Network Library (oneDNN) to use the following CPU instructions in performance-critical operations:  AVX2 AVX_VNNI FMA\n",
      "To enable them in other operations, rebuild TensorFlow with the appropriate compiler flags.\n",
      "2023-10-10 00:15:32.016408: I tensorflow/stream_executor/cuda/cuda_gpu_executor.cc:980] successful NUMA node read from SysFS had negative value (-1), but there must be at least one NUMA node, so returning NUMA node zero\n",
      "2023-10-10 00:15:32.022493: I tensorflow/stream_executor/cuda/cuda_gpu_executor.cc:980] successful NUMA node read from SysFS had negative value (-1), but there must be at least one NUMA node, so returning NUMA node zero\n",
      "2023-10-10 00:15:32.022586: I tensorflow/stream_executor/cuda/cuda_gpu_executor.cc:980] successful NUMA node read from SysFS had negative value (-1), but there must be at least one NUMA node, so returning NUMA node zero\n",
      "2023-10-10 00:15:32.351094: I tensorflow/stream_executor/cuda/cuda_gpu_executor.cc:980] successful NUMA node read from SysFS had negative value (-1), but there must be at least one NUMA node, so returning NUMA node zero\n",
      "2023-10-10 00:15:32.351200: I tensorflow/stream_executor/cuda/cuda_gpu_executor.cc:980] successful NUMA node read from SysFS had negative value (-1), but there must be at least one NUMA node, so returning NUMA node zero\n",
      "2023-10-10 00:15:32.351253: I tensorflow/stream_executor/cuda/cuda_gpu_executor.cc:980] successful NUMA node read from SysFS had negative value (-1), but there must be at least one NUMA node, so returning NUMA node zero\n",
      "2023-10-10 00:15:32.351303: I tensorflow/core/common_runtime/gpu/gpu_device.cc:1616] Created device /device:GPU:0 with 21876 MB memory:  -> device: 0, name: NVIDIA GeForce RTX 3090 Ti, pci bus id: 0000:01:00.0, compute capability: 8.6\n"
     ]
    }
   ],
   "source": [
    "device_name = tf.test.gpu_device_name()\n",
    "if device_name != '/device:GPU:0':\n",
    "  raise SystemError('GPU device not found')\n",
    "print('Found GPU at: {}'.format(device_name))\n",
    "# !nvidia-smi"
   ]
  },
  {
   "cell_type": "markdown",
   "id": "213b591c-8916-415a-a23c-8309f52f56e8",
   "metadata": {
    "tags": []
   },
   "source": [
    "## Importador/Exportador JSON"
   ]
  },
  {
   "cell_type": "code",
   "execution_count": 10,
   "id": "75269bf0-27f7-4b71-b311-256035370133",
   "metadata": {
    "tags": []
   },
   "outputs": [],
   "source": [
    "import json\n",
    "\n",
    "def write_json(feature_vector, root_path, file_name):\n",
    "    with open(root_path + file_name, 'w') as outfile:\n",
    "        json.dump(feature_vector, outfile)\n",
    "\n",
    "def load_json(root_path, file_name):\n",
    "    with open(root_path + file_name) as json_file:\n",
    "        data = json.load(json_file)\n",
    "\n",
    "    return data"
   ]
  },
  {
   "cell_type": "markdown",
   "id": "f4388716-87a9-4e2d-ab4a-e3959fa1958f",
   "metadata": {
    "tags": []
   },
   "source": [
    "## Construcción de imágenes"
   ]
  },
  {
   "cell_type": "code",
   "execution_count": 11,
   "id": "75b5661a-a9ac-4686-9611-6d43711d1528",
   "metadata": {},
   "outputs": [],
   "source": [
    "import numpy as np\n",
    "import math\n",
    "from matplotlib import pyplot as plt\n",
    "\n",
    "def get_feature_matrix_indexes(sorted_feature_vector,matrix):  \n",
    "\n",
    "    half_row = round((matrix.shape[0] - 1) / 2)\n",
    "    half_column = round((matrix.shape[1] - 1) / 2)\n",
    "\n",
    "    matrix_indexes = {}\n",
    "    \n",
    "    index = 0\n",
    "\n",
    "    for parent_key in sorted_feature_vector:\n",
    "        normalized_index = math.ceil(index/2)\n",
    "\n",
    "        if (index % 2 != 0): # Impar\n",
    "            current_row = half_row - normalized_index\n",
    "        else: # Par\n",
    "            current_row = half_row + normalized_index\n",
    "\n",
    "        sorted_child_indexes = np.argsort(feature_vector[parent_key]['feature_weights'])[::-1]\n",
    "\n",
    "        child_names   = np.array(feature_vector[parent_key]['feature_childs'])\n",
    "        child_weights = np.array(feature_vector[parent_key]['feature_weights'])\n",
    "\n",
    "        sorted_child_names   = child_names[sorted_child_indexes]\n",
    "        sorted_child_weights = child_weights[sorted_child_indexes]\n",
    "\n",
    "        position = 0\n",
    "        for sorted_child_index in sorted_child_indexes:\n",
    "            normalized_position = math.ceil(position/2)\n",
    "\n",
    "            if (position % 2 != 0): # Impar\n",
    "                current_column = half_column - normalized_position\n",
    "            else: # Par\n",
    "                current_column = half_column + normalized_position\n",
    "\n",
    "            matrix_indexes[child_names[sorted_child_index]] = [current_row, current_column]\n",
    "            position = position + 1 \n",
    "\n",
    "        index = index + 1\n",
    "\n",
    "    return matrix_indexes\n",
    "    \n",
    "def fv2gi(feature_vector):\n",
    "\n",
    "    max_dimension = 0\n",
    "    for key in feature_vector:\n",
    "        childs_number = len(feature_vector[key]['feature_childs'])\n",
    "        max_dimension = max(childs_number, max_dimension)\n",
    "                \n",
    "    matrix = np.zeros((max_dimension, max_dimension))\n",
    "\n",
    "    weights_vector = []\n",
    "    for parent_key in feature_vector:\n",
    "        wpi = sum([float(child_weight) for child_weight in feature_vector[parent_key]['feature_weights']])\n",
    "        feature_vector[parent_key]['wpi'] = wpi\n",
    "        weights_vector.append(wpi)\n",
    "\n",
    "   \n",
    "    sorted_feature_vector = sorted(feature_vector.items(),\n",
    "                                   key = lambda item: item[1]['wpi'],\n",
    "                                   reverse = True)\n",
    "     \n",
    "    sorted_feature_vector = dict(sorted_feature_vector)\n",
    "\n",
    "    \n",
    "    matrix_indexes = get_feature_matrix_indexes(sorted_feature_vector, matrix)\n",
    "\n",
    "    return matrix_indexes\n",
    "\n",
    "def get_max_child_numbers(feature_vector):\n",
    "\tmax_child_numbers = 0\n",
    "\n",
    "\tfor v in feature_vector.values():\n",
    "\n",
    "\t\tif len(v['feature_childs']) > max_child_numbers:\n",
    "\t\t\tmax_child_numbers = len(v['feature_childs'])\n",
    "\n",
    "\treturn max_child_numbers\n",
    "\n",
    "# matrix_indexes = fv2gi(feature_vector)"
   ]
  },
  {
   "cell_type": "markdown",
   "id": "fbdb0004-1f9b-493a-9c83-91d943b5309d",
   "metadata": {
    "tags": []
   },
   "source": [
    "## Construcción Feature Vector"
   ]
  },
  {
   "cell_type": "code",
   "execution_count": 12,
   "id": "077b732a-ca4a-440e-8ae2-dbb3d15ba01e",
   "metadata": {},
   "outputs": [],
   "source": [
    "def fill_feature_vector(X_dataset,child_weights):\n",
    "  # Obtenemos el set de columnas del dataset\n",
    "  train_columns_set  = set(X_dataset.columns)\n",
    "\n",
    "  for parent_feature in feature_vector.keys():\n",
    "    # Obtiene el set de características hijas del padre actual\n",
    "    # dict.fromleys para mantener el orden, un set desordena los valores\n",
    "    feature_childs_set = dict.fromkeys(feature_vector[parent_feature]['feature_childs'])\n",
    "\n",
    "    # Obtener el índice de las columnas del actual padre para acceder a los pesos del XGBoost\n",
    "    index_feature_childs = X_dataset.columns.get_indexer(feature_childs_set)\n",
    "\n",
    "    feature_vector[parent_feature]['feature_weights'] = list([str(child_weight) for child_weight in child_weights[index_feature_childs]])\n",
    "\n",
    "  return feature_vector"
   ]
  },
  {
   "cell_type": "markdown",
   "id": "150c95ea-ae18-4406-b116-5ce6674b7f6e",
   "metadata": {
    "tags": []
   },
   "source": [
    "## Normalización de datos"
   ]
  },
  {
   "cell_type": "code",
   "execution_count": 13,
   "id": "017e1821-71be-48d9-85cb-07808165a1cb",
   "metadata": {},
   "outputs": [],
   "source": [
    "from scipy.stats import zscore\n",
    "import pandas as pd\n",
    "\n",
    "def normalize_data(X_data):\n",
    "\n",
    "    # Create a sample df\n",
    "    normalized_df = X_data\n",
    "\n",
    "    # Calculate the zscores and drop zscores into new column\n",
    "    for column in normalized_df.columns:\n",
    "        normalized_df[column] = zscore(normalized_df[column])\n",
    "    \n",
    "    return normalized_df"
   ]
  },
  {
   "cell_type": "markdown",
   "id": "8358c9a0-6423-4aa8-92a3-e01a8ac72bb0",
   "metadata": {
    "tags": []
   },
   "source": [
    "## Oversampling de datos"
   ]
  },
  {
   "cell_type": "code",
   "execution_count": 14,
   "id": "efac95c3-8dc1-4acf-b4e0-78d24fa64131",
   "metadata": {
    "tags": []
   },
   "outputs": [],
   "source": [
    "from imblearn.over_sampling import BorderlineSMOTE\n",
    "from imblearn.over_sampling import RandomOverSampler\n",
    "from imblearn.over_sampling import KMeansSMOTE\n",
    "\n",
    "def oversample_data(X_data, Y_labels):\n",
    "\n",
    "    oversampler = BorderlineSMOTE(kind='borderline-2', random_state = 3)\n",
    "    # oversampler = RandomOverSampler()\n",
    "    # oversampler = KMeansSMOTE()\n",
    "    X_oversampled, Y_oversampled = oversampler.fit_resample(X_data, Y_labels)\n",
    "\n",
    "    print('********** After OverSampling **********')\n",
    "    # print('Slight: ', (Y_oversampled == 'Slight').sum())\n",
    "    # print('Serious:', (Y_oversampled == 'Serious').sum())\n",
    "    # print('Fatal:  ', (Y_oversampled == 'Fatal').sum())\n",
    "    # print('\\n Total X: ', len(X_oversampled), ' Total Y: ', len(Y_oversampled), '\\n')\n",
    "\n",
    "    print('Slight: ', (Y_oversampled == 'Slight').sum())\n",
    "    print('Assistance:', (Y_oversampled == 'Assistance').sum())\n",
    "    print('\\n Total X: ', len(X_oversampled), ' Total Y: ', len(Y_oversampled), '\\n')\n",
    "\n",
    "    return X_oversampled, Y_oversampled"
   ]
  },
  {
   "cell_type": "markdown",
   "id": "31e306be-543d-4ba7-b9a4-2cb1cb938f0b",
   "metadata": {
    "tags": []
   },
   "source": [
    "## Construcción de imágenes"
   ]
  },
  {
   "cell_type": "code",
   "execution_count": 15,
   "id": "7b61998b-bd46-4dad-a0e8-8363f92f7741",
   "metadata": {},
   "outputs": [],
   "source": [
    "def build_gray_images(dataset, dimension_x, dimension_y, matrix_indexes):\n",
    "\n",
    "    matrix_3d = np.zeros((dimension_x, dimension_y, len(dataset.index)))\n",
    "    print(len(dataset.index))\n",
    "    for feature, value in matrix_indexes.items():\n",
    "        matrix_3d[value[0], value[1],] = dataset[feature]\n",
    "        \n",
    "    return matrix_3d"
   ]
  },
  {
   "cell_type": "markdown",
   "id": "bc000ada-10b7-43b8-ab9f-789d9d35be8c",
   "metadata": {
    "tags": [],
    "toc-hr-collapsed": true
   },
   "source": [
    "## Algoritmo genético"
   ]
  },
  {
   "cell_type": "code",
   "execution_count": 16,
   "id": "a263a40b-6570-42df-8c3c-8f57209e49e2",
   "metadata": {},
   "outputs": [],
   "source": [
    "HYPERPARAMS_TO_OPTIMIZE = {'eta': {'type': 'float',\n",
    "                                   'init': [0.01, 1],\n",
    "                                   'mutation': [-0.2, 0.2],\n",
    "                                   'round': 2\n",
    "                                   },\n",
    "                           'max_depth': {'type': 'int',\n",
    "                                         'init': [1, 25],\n",
    "                                         'mutation': [-3, 3],\n",
    "                                         'step': 1\n",
    "                                   },\n",
    "                           'min_child_weight': {'type': 'float',\n",
    "                                                'init': [0.01, 20.0],\n",
    "                                                'mutation': [-4, 4],\n",
    "                                                'round': 1\n",
    "                                   }\n",
    "                          }\n",
    "\n",
    "number_of_individuals = 50\n",
    "numberOfParentsMating = 10\n",
    "number_of_hyperparams = len(HYPERPARAMS_TO_OPTIMIZE)\n",
    "number_of_generations = 50"
   ]
  },
  {
   "cell_type": "markdown",
   "id": "aabcfd52-f850-40a9-a44f-183653456b65",
   "metadata": {
    "tags": []
   },
   "source": [
    "### Inicializar población"
   ]
  },
  {
   "cell_type": "code",
   "execution_count": 17,
   "id": "1f539cc1-22ad-467b-8e0b-0c892aff1111",
   "metadata": {},
   "outputs": [],
   "source": [
    "def generate_individual(hyperparams_to_optimize):\n",
    "\n",
    "    individual = []\n",
    "\n",
    "    for key in hyperparams_to_optimize:\n",
    "        min_value = hyperparams_to_optimize[key]['init'][0]\n",
    "        max_value = hyperparams_to_optimize[key]['init'][1]\n",
    "        data_type = hyperparams_to_optimize[key]['type']\n",
    "        \n",
    "        if data_type == 'int':\n",
    "            step = hyperparams_to_optimize[key]['step']\n",
    "            hyperparam = int(random.randrange(min_value, max_value))\n",
    "\n",
    "        if data_type == 'float':\n",
    "            round_to = hyperparams_to_optimize[key]['round']\n",
    "            hyperparam = round(random.uniform(min_value, max_value), round_to)\n",
    "\n",
    "        individual.append(hyperparam)\n",
    "    \n",
    "    return individual\n",
    "\n",
    "def initialize_population(number_of_individuals, hyperparams_to_optimize):\n",
    "    population = []\n",
    "\n",
    "    for i in range(number_of_individuals):\n",
    "\n",
    "        population.append(generate_individual(hyperparams_to_optimize))\n",
    "      \n",
    "    return np.array(population)"
   ]
  },
  {
   "cell_type": "markdown",
   "id": "0b80a92b-17eb-4a29-b12e-3852265dde12",
   "metadata": {
    "tags": []
   },
   "source": [
    "### Fitness function"
   ]
  },
  {
   "cell_type": "code",
   "execution_count": 18,
   "id": "d5133e38-307e-4138-a664-fd4e28dc89c4",
   "metadata": {},
   "outputs": [],
   "source": [
    "from sklearn.metrics import f1_score\n",
    "\n",
    "def fitness_f1score(y_true, y_pred):\n",
    "\n",
    "    fitness = round((f1_score(y_true, y_pred, average='micro')), 4)\n",
    "\n",
    "    return fitness # Train the data annd find fitness score"
   ]
  },
  {
   "cell_type": "markdown",
   "id": "f9222dcc-088c-468e-bbc7-a0dec6541004",
   "metadata": {
    "tags": []
   },
   "source": [
    "### Evaluación de población"
   ]
  },
  {
   "cell_type": "code",
   "execution_count": 19,
   "id": "03f69b5d-1aba-4bad-a705-adcc672e68d2",
   "metadata": {},
   "outputs": [],
   "source": [
    "from xgboost import XGBClassifier\n",
    "import xgboost as xgb\n",
    "import time\n",
    "\n",
    "def train_population(population, hyperparams_to_optimize, dMatrixTrain, dMatrixTest, Y_test):\n",
    "\n",
    "    fScore = []\n",
    "    \n",
    "    params = {'objective':'multi:softprob',\n",
    "              'tree_method': tree_method,\n",
    "              'single_precision_histogram': True,\n",
    "              'num_class': 3\n",
    "             }\n",
    "\n",
    "    # params = {'objective':'binary:logistic',\n",
    "    #           'tree_method': tree_method,\n",
    "    #           'single_precision_histogram': True\n",
    "    #          }\n",
    "    for individual_index in range(population.shape[0]):\n",
    "        # Se almacenan en hyperparams_to_optimize los valores del individuo con su nombre correspondiente de hyperparams_name_to_optimize.\n",
    "        hyperparams = {}\n",
    "\n",
    "        for index, hyperparam_value in enumerate(population[individual_index]):\n",
    "\n",
    "            hyperparam_name_to_optimize = list(hyperparams_to_optimize.keys())[index]\n",
    "            data_type = hyperparams_to_optimize[hyperparam_name_to_optimize]['type']\n",
    "\n",
    "            hyperparams[hyperparam_name_to_optimize] = hyperparam_value\n",
    "            hyperparams[hyperparam_name_to_optimize] = hyperparams[hyperparam_name_to_optimize].astype(data_type)\n",
    "        \n",
    "        params.update(hyperparams)\n",
    "\n",
    "        # num_round = params['n_estimators']\n",
    "        \n",
    "        start = time.time()\n",
    "\n",
    "        xgb.set_config(verbosity = 0)\n",
    "        bst = xgb.train(params,\n",
    "                        dMatrixTrain)\n",
    "\n",
    "        end = time.time()\n",
    "\n",
    "        preds = bst.predict(dMatrixTest)\n",
    "        \n",
    "        single_predictions = [np.argmax(pred) for pred in preds]\n",
    "        # preds = preds > 0.5\n",
    "        fitness_score = fitness_f1score(Y_test, single_predictions)\n",
    "\n",
    "        # print(f\"{individual_index}: {hyperparams} --> time(s): {round(end - start, 2)} --> score: {fitness_score}\")\n",
    "\n",
    "        fScore.append(fitness_score)\n",
    "\n",
    "    return fScore"
   ]
  },
  {
   "cell_type": "markdown",
   "id": "49b66fd8-ae70-4f20-84f6-0113ae309a08",
   "metadata": {
    "tags": []
   },
   "source": [
    "### Selección de padres"
   ]
  },
  {
   "cell_type": "code",
   "execution_count": 20,
   "id": "771d8007-f28e-424c-8ff6-f174822b02a1",
   "metadata": {},
   "outputs": [],
   "source": [
    "# Select parents for mating\n",
    "def new_parents_selection(population, fitness, numParents):\n",
    "    selectedParents = np.empty((numParents, population.shape[1])) # Create an array to store fittest parents.\n",
    "\n",
    "    for parentId in range(numParents):\n",
    "        bestFitnessId = np.where(fitness == np.max(fitness))\n",
    "        bestFitnessId  = bestFitnessId[0][0]\n",
    "        selectedParents[parentId, :] = population[bestFitnessId, :]\n",
    "        fitness[bestFitnessId] = -1 # Set this value to negative, in case of F1-score, so this parent is not selected again\n",
    "\n",
    "    return selectedParents"
   ]
  },
  {
   "cell_type": "markdown",
   "id": "78f9b882-ad82-4446-a301-a856dedbd660",
   "metadata": {
    "tags": []
   },
   "source": [
    "### Cruzamiento de población"
   ]
  },
  {
   "cell_type": "code",
   "execution_count": 21,
   "id": "db837b53-3d02-446c-aa9c-6c772da6be04",
   "metadata": {},
   "outputs": [],
   "source": [
    "'''\n",
    "Mate these parents to create children having parameters from these parents (we are using uniform crossover method)\n",
    "'''\n",
    "def crossover_uniform(parents, childrenSize):\n",
    "    \n",
    "    crossoverPointIndex  = np.arange(0, np.uint8(childrenSize[1]), 1, dtype= np.uint8) # get all the index\n",
    "    crossoverPointIndex1 = np.random.randint(0, np.uint8(childrenSize[1]), np.uint8(childrenSize[1]/2)) # select half  of the indexes randomly\n",
    "    crossoverPointIndex2 = np.array(list(set(crossoverPointIndex) - set(crossoverPointIndex1))) #select leftover indexes\n",
    "    \n",
    "    children = np.empty(childrenSize)\n",
    "    \n",
    "    '''\n",
    "    Create child by choosing parameters from two parents selected using new_parent_selection function. The parameter values\n",
    "    will be picked from the indexes, which were randomly selected above. \n",
    "    '''\n",
    "    for i in range(childrenSize[0]):\n",
    "        \n",
    "        #find parent 1 index \n",
    "        parent1_index = i%parents.shape[0]\n",
    "        #find parent 2 index\n",
    "        parent2_index = (i+1)%parents.shape[0]\n",
    "        #insert parameters based on random selected indexes in parent 1\n",
    "        children[i, crossoverPointIndex1] = parents[parent1_index, crossoverPointIndex1]\n",
    "        #insert parameters based on random selected indexes in parent 1\n",
    "        children[i, crossoverPointIndex2] = parents[parent2_index, crossoverPointIndex2]\n",
    "\n",
    "    return children"
   ]
  },
  {
   "cell_type": "markdown",
   "id": "17d549ad-a75d-4943-a89a-ea9e783054a6",
   "metadata": {
    "tags": []
   },
   "source": [
    "### Mutación"
   ]
  },
  {
   "cell_type": "code",
   "execution_count": 22,
   "id": "bb741b25-56ed-4e66-adbd-42d3b5607974",
   "metadata": {},
   "outputs": [],
   "source": [
    "def mutation(crossover, hyperparams_to_optimize):\n",
    "    \n",
    "    # MUTATION_PROBABILITY = 1/numberOfParameters\n",
    "    \n",
    "    MUTATION_PROBABILITY = 0.4\n",
    "    number_of_parameters = len(hyperparams_to_optimize)\n",
    "\n",
    "    for idx in range(crossover.shape[0]):\n",
    "\n",
    "        mutation_probability = np.random.rand(1)\n",
    "\n",
    "        while MUTATION_PROBABILITY > mutation_probability:\n",
    "\n",
    "            mutationValue = 0\n",
    "\n",
    "            hyperparam_selected_index = np.random.randint(0, number_of_parameters)\n",
    "            hyperparam_selected_name  = list(hyperparams_to_optimize.keys())[hyperparam_selected_index]\n",
    "\n",
    "            min_limit_value = hyperparams_to_optimize[hyperparam_selected_name]['init'][0]\n",
    "            max_limit_value = hyperparams_to_optimize[hyperparam_selected_name]['init'][1]\n",
    "\n",
    "            min_mutation_value = hyperparams_to_optimize[hyperparam_selected_name]['mutation'][0]\n",
    "            max_mutation_value = hyperparams_to_optimize[hyperparam_selected_name]['mutation'][1]\n",
    "\n",
    "            data_type = hyperparams_to_optimize[hyperparam_selected_name]['type']\n",
    "            \n",
    "            if data_type == 'int':\n",
    "                step = hyperparams_to_optimize[hyperparam_selected_name]['step']\n",
    "                mutationValue = int(random.randrange(min_mutation_value, max_mutation_value, step = step))\n",
    "\n",
    "            if data_type == 'float':\n",
    "                round_to = hyperparams_to_optimize[hyperparam_selected_name]['round']\n",
    "                mutationValue = round(random.uniform(min_mutation_value, max_mutation_value), round_to)\n",
    "                \n",
    "            # print(idx, hyperparam_selected_name, mutationValue)\n",
    "\n",
    "            crossover[idx, hyperparam_selected_index] = crossover[idx,hyperparam_selected_index] + mutationValue\n",
    "\n",
    "            if(crossover[idx, hyperparam_selected_index] > max_limit_value):\n",
    "                crossover[idx, hyperparam_selected_index] = max_limit_value\n",
    "\n",
    "            if(crossover[idx, hyperparam_selected_index] < min_limit_value):\n",
    "                crossover[idx, hyperparam_selected_index] = min_limit_value\n",
    "                \n",
    "            mutation_probability = np.random.rand(1)\n",
    "\n",
    "\n",
    "    return crossover"
   ]
  },
  {
   "cell_type": "markdown",
   "id": "d37d6d9f-8ae4-4740-9983-e51d39cdeac6",
   "metadata": {
    "tags": []
   },
   "source": [
    "## Reshape de imágenes"
   ]
  },
  {
   "cell_type": "code",
   "execution_count": 23,
   "id": "5ded491b-6d05-44f5-9ee9-44064babfd00",
   "metadata": {},
   "outputs": [],
   "source": [
    "# Add one channel\n",
    "# https://machinelearningmastery.com/a-gentle-introduction-to-channels-first-and-channels-last-image-formats-for-deep-learning/\n",
    "\n",
    "# Add one channel to gray images depending of the number of the data\n",
    "def shape_images(X_data, gray_images):\n",
    "  images = []\n",
    "\n",
    "  for i in range(0,len(X_data)):\n",
    "      original_matrix = gray_images[:,:,i]\n",
    "      # print(original_matrix.shape)\n",
    "      shaped_image = np.expand_dims(original_matrix, axis=2)\n",
    "      # print(shaped_image.shape)\n",
    "      images.append(shaped_image)\n",
    "      # plt.matshow(shaped_image)\n",
    "\n",
    "  return images"
   ]
  },
  {
   "cell_type": "markdown",
   "id": "021df180-f056-4e21-ac6e-39d41369831b",
   "metadata": {
    "tags": [],
    "toc-hr-collapsed": true
   },
   "source": [
    "## Visualización de datos"
   ]
  },
  {
   "cell_type": "markdown",
   "id": "5d7a4a49-64d8-4a32-abf7-e626f39d0938",
   "metadata": {
    "tags": []
   },
   "source": [
    "### Matriz de correlación"
   ]
  },
  {
   "cell_type": "code",
   "execution_count": 24,
   "id": "29dfa69d-7135-476f-9c1d-4ebf5d30bf53",
   "metadata": {},
   "outputs": [],
   "source": [
    "import seaborn as sns\n",
    "\n",
    "def correlation_matrix(X_data):\n",
    "    corrMatrix = X_data.corr()\n",
    "    fig,ax  = plt.subplots(1,1,figsize=(20,15))\n",
    "    sns.heatmap(corrMatrix, annot=True)\n",
    "    ax.set_xticklabels(ax.get_xticklabels(),rotation = 30)\n",
    "    plt.savefig('saving-a-seaborn-plot-as-eps-file.svg')\n",
    "    plt.show()\n"
   ]
  },
  {
   "cell_type": "markdown",
   "id": "78eaa5de-34f0-4724-ba36-0fdcf19c64e7",
   "metadata": {
    "tags": []
   },
   "source": [
    "### PCA"
   ]
  },
  {
   "cell_type": "code",
   "execution_count": 25,
   "id": "7d011694-26fe-41e3-9a39-85722f128f6f",
   "metadata": {},
   "outputs": [],
   "source": [
    "from sklearn.decomposition import PCA\n",
    "\n",
    "def pca(X_train_data, X_test_data):\n",
    "    pca = PCA()\n",
    "    X_train_pca = pca.fit_transform(X_train_data)\n",
    "    X_test_pca  = pca.transform(X_test_data)\n",
    "    explained_variance = pca.explained_variance_ratio_\n",
    "\n",
    "    figure_name = plt.figure(figsize=(20, 15))\n",
    "    plt.plot(np.cumsum(pca.explained_variance_ratio_))\n",
    "    plt.xlabel('number of components')\n",
    "    plt.ylabel('cumulative explained variance')\n",
    "    plt.savefig('saving-a-seaborn-plot-as-eps-file.svg')\n",
    "    plt.show()"
   ]
  },
  {
   "cell_type": "markdown",
   "id": "401456b5-b7b9-421c-83db-709796ee1d8e",
   "metadata": {
    "tags": []
   },
   "source": [
    "### TSNE"
   ]
  },
  {
   "cell_type": "code",
   "execution_count": 26,
   "id": "74c55dca-09c1-4831-a64c-bc04a9cdf73e",
   "metadata": {},
   "outputs": [],
   "source": [
    "from sklearn.manifold import TSNE\n",
    "from sklearn.preprocessing import StandardScaler\n",
    "\n",
    "def plot_TSNE(X_data, Y_data, n_components, output_file_name, title):\n",
    "\n",
    "    # X_data_scaled = StandardScaler().fit_transform(X_data)\n",
    "    z_data = TSNE(n_components = n_components).fit_transform(X_data)\n",
    "\n",
    "    # X_test_scaled = StandardScaler().fit_transform(X_test),\n",
    "    # z_test = TSNE(n_components=2).fit_transform(X_test_scaled),\n",
    "\n",
    "    palette = sns.color_palette('husl', 3)\n",
    "    fig,ax  = plt.subplots(1, 1, figsize=(7,4))\n",
    "    sns.scatterplot(x = z_data[:,0],\n",
    "                    y = z_data[:,1],\n",
    "                    hue = Y_data,\n",
    "                    palette = palette,\n",
    "                    legend = 'full'\n",
    "                   ).set(title = title)\n",
    "    plt.xlabel('Dimension 1', weight = 'bold').set_fontsize('10')\n",
    "    plt.ylabel('Dimension 1', weight = 'bold').set_fontsize('10')\n",
    "\n",
    "    if (output_file_name): plt.savefig(output_file_name)"
   ]
  },
  {
   "cell_type": "markdown",
   "id": "f80b4c26-5100-4723-9342-b7b9aa187d79",
   "metadata": {
    "tags": []
   },
   "source": [
    "### Autoencoder"
   ]
  },
  {
   "cell_type": "code",
   "execution_count": 27,
   "id": "0f4072a7-e2e5-4e45-9456-4bea3270a25a",
   "metadata": {},
   "outputs": [],
   "source": [
    "def autoencoder ():\n",
    "    input_img = Input(shape=(25,))\n",
    "\n",
    "    # definimos el encoder, que tendra una entrada de Input_img y una segunda capa con entrada de encoder1 y salida 3\n",
    "    encoder1 = layers.Dense(15, activation='sigmoid')(input_img)\n",
    "    encoder2 = layers.Dense(3, activation='sigmoid')(encoder1)\n",
    "\n",
    "    # definimos el  decoder que tendra una entrada inicial de encoder3 y una salida de 128 y finalmete una capa de salida con los mismos que Input_img\n",
    "    decoder1 = layers.Dense(15, activation='sigmoid')(encoder2)\n",
    "    decoder2 = layers.Dense(25, activation='sigmoid')(decoder1)\n",
    "\n",
    "    # this model maps an input to its reconstruction\n",
    "    autoencoder = tf.keras.Model(inputs=input_img, outputs=decoder2)\n",
    "    autoencoder.summary()\n",
    "\n",
    "    autoencoder.compile(optimizer='adam',\n",
    "                        loss='categorical_crossentropy',\n",
    "                        metrics=[tfa.metrics.F1Score(num_classes = num_classes, average='micro', threshold=0.1)],) #se usan estos dos en estas arquitecturas\n",
    "    \n",
    "    return autoencoder"
   ]
  },
  {
   "cell_type": "markdown",
   "id": "6ffc6df4-982b-49e8-8649-8da2c48a5af1",
   "metadata": {
    "tags": []
   },
   "source": [
    "## 1D-Convolution"
   ]
  },
  {
   "cell_type": "code",
   "execution_count": 28,
   "id": "9e0a8732-da51-49e8-92d5-e27a67fc56a9",
   "metadata": {},
   "outputs": [],
   "source": [
    "num_classes = 2"
   ]
  },
  {
   "cell_type": "code",
   "execution_count": 29,
   "id": "62c8eaad-10d3-46ae-89b9-be1f28028268",
   "metadata": {},
   "outputs": [
    {
     "name": "stderr",
     "output_type": "stream",
     "text": [
      "2023-10-10 00:15:33.130834: I tensorflow/stream_executor/cuda/cuda_gpu_executor.cc:980] successful NUMA node read from SysFS had negative value (-1), but there must be at least one NUMA node, so returning NUMA node zero\n",
      "2023-10-10 00:15:33.130968: I tensorflow/stream_executor/cuda/cuda_gpu_executor.cc:980] successful NUMA node read from SysFS had negative value (-1), but there must be at least one NUMA node, so returning NUMA node zero\n",
      "2023-10-10 00:15:33.131018: I tensorflow/stream_executor/cuda/cuda_gpu_executor.cc:980] successful NUMA node read from SysFS had negative value (-1), but there must be at least one NUMA node, so returning NUMA node zero\n",
      "2023-10-10 00:15:33.131226: I tensorflow/stream_executor/cuda/cuda_gpu_executor.cc:980] successful NUMA node read from SysFS had negative value (-1), but there must be at least one NUMA node, so returning NUMA node zero\n",
      "2023-10-10 00:15:33.131284: I tensorflow/stream_executor/cuda/cuda_gpu_executor.cc:980] successful NUMA node read from SysFS had negative value (-1), but there must be at least one NUMA node, so returning NUMA node zero\n",
      "2023-10-10 00:15:33.131327: I tensorflow/stream_executor/cuda/cuda_gpu_executor.cc:980] successful NUMA node read from SysFS had negative value (-1), but there must be at least one NUMA node, so returning NUMA node zero\n",
      "2023-10-10 00:15:33.131401: I tensorflow/stream_executor/cuda/cuda_gpu_executor.cc:980] successful NUMA node read from SysFS had negative value (-1), but there must be at least one NUMA node, so returning NUMA node zero\n",
      "2023-10-10 00:15:33.131448: I tensorflow/stream_executor/cuda/cuda_gpu_executor.cc:980] successful NUMA node read from SysFS had negative value (-1), but there must be at least one NUMA node, so returning NUMA node zero\n",
      "2023-10-10 00:15:33.131487: I tensorflow/core/common_runtime/gpu/gpu_device.cc:1616] Created device /job:localhost/replica:0/task:0/device:GPU:0 with 21876 MB memory:  -> device: 0, name: NVIDIA GeForce RTX 3090 Ti, pci bus id: 0000:01:00.0, compute capability: 8.6\n"
     ]
    }
   ],
   "source": [
    "\n",
    "\n",
    "import tensorflow_addons as tfa\n",
    "\n",
    "lr_init = 0.1\n",
    "\n",
    "convolution_1d = models.Sequential()\n",
    "convolution_1d.add(layers.Conv1D(256, 3, strides = 1, activation='relu', padding='same', input_shape=(5, 5, 1)))\n",
    "convolution_1d.add(layers.BatchNormalization())\n",
    "convolution_1d.add(layers.Conv1D(256, 3, strides = 1, activation='relu', padding='same'))\n",
    "convolution_1d.add(layers.BatchNormalization())\n",
    "convolution_1d.add(layers.Conv1D(256, 3, strides = 1, activation='relu', padding='same'))\n",
    "convolution_1d.add(layers.BatchNormalization())\n",
    "convolution_1d.add(layers.Conv1D(256, 3, strides = 1, activation='relu', padding='same'))\n",
    "convolution_1d.add(layers.Flatten())\n",
    "convolution_1d.add(layers.BatchNormalization())\n",
    "convolution_1d.add(layers.Dense(units=128))\n",
    "convolution_1d.add(layers.BatchNormalization())\n",
    "convolution_1d.add(layers.Dense(num_classes, activation='softmax'))\n",
    "\n",
    "convolution_1d.compile(\n",
    "    optimizer=Adam(learning_rate = lr_init, epsilon=1e-06),\n",
    "    loss='categorical_crossentropy',\n",
    "    metrics=[tfa.metrics.F1Score(num_classes = num_classes, average='micro', threshold=0.1)]\n",
    "  )\n",
    "\n"
   ]
  },
  {
   "cell_type": "code",
   "execution_count": 30,
   "id": "22b2924f-95ff-40c7-9f3f-f25569fc4267",
   "metadata": {},
   "outputs": [],
   "source": [
    "import tensorflow_addons as tfa\n",
    "\n",
    "def get_1d_conv(fm_one, fm_two, fm_three, fm_four, dense, dropout=0.2, learnRate=0.01):\n",
    "    cnn_1d_conv = models.Sequential()\n",
    "    cnn_1d_conv.add(layers.Conv1D(fm_one, 3, strides=1, activation='relu', padding='same', input_shape=(5, 5, 1)))\n",
    "    cnn_1d_conv.add(layers.BatchNormalization())\n",
    "    cnn_1d_conv.add(layers.Conv1D(fm_two, 3, strides=1, activation='relu', padding='same'))\n",
    "    cnn_1d_conv.add(layers.BatchNormalization())\n",
    "    cnn_1d_conv.add(layers.Conv1D(fm_three, 3, strides=1, activation='relu', padding='same'))\n",
    "    cnn_1d_conv.add(layers.BatchNormalization())\n",
    "    cnn_1d_conv.add(layers.Conv1D(fm_four, 3, strides=1, activation='relu', padding='same'))\n",
    "    cnn_1d_conv.add(layers.Flatten())\n",
    "    cnn_1d_conv.add(layers.BatchNormalization())\n",
    "    cnn_1d_conv.add(layers.Dense(units=dense))\n",
    "    cnn_1d_conv.add(layers.BatchNormalization())\n",
    "    cnn_1d_conv.add(layers.Dense(2, activation='softmax'))\n",
    "\n",
    "    cnn_1d_conv.compile(\n",
    "        optimizer=Adam(learning_rate = learnRate, epsilon=1e-06),\n",
    "        loss='binary_crossentropy',\n",
    "        metrics=[tfa.metrics.F1Score(num_classes = num_classes, average='micro', threshold=0.1)]\n",
    "    )\n",
    "    \n",
    "    return cnn_1d_conv\n",
    "\n",
    "# convolution_1d.compile(\n",
    "#     optimizer=Adam(learning_rate = lr_init, epsilon=1e-06),\n",
    "#     loss='categorical_crossentropy',\n",
    "#     metrics=[tfa.metrics.F1Score(num_classes = num_classes, average='micro', threshold=0.1)]\n",
    "#   )"
   ]
  },
  {
   "cell_type": "markdown",
   "id": "7d8ea062-c0b7-4486-9ebe-94ae66a58b54",
   "metadata": {
    "tags": []
   },
   "source": [
    "## TASP-CNN"
   ]
  },
  {
   "cell_type": "code",
   "execution_count": 31,
   "id": "05497b70-0400-4219-8a07-3a43005066cb",
   "metadata": {},
   "outputs": [],
   "source": [
    "lr_init = 0.0001\n",
    "\n",
    "tasp_cnn = models.Sequential()\n",
    "tasp_cnn.add(layers.Conv2D(128, (3, 3), strides=(1, 1), activation='relu', padding='same', input_shape=(5, 5, 1)))\n",
    "tasp_cnn.add(layers.Dropout(.2,  input_shape=(3, 3, 128)))\n",
    "tasp_cnn.add(layers.BatchNormalization())\n",
    "tasp_cnn.add(layers.Conv2D(1024, (3, 3), strides=(1, 1), activation='relu', padding='same', input_shape=(3, 3, 128)))\n",
    "tasp_cnn.add(layers.Dropout(.2,  input_shape=(3, 3, 128)))\n",
    "tasp_cnn.add(layers.BatchNormalization())\n",
    "tasp_cnn.add(layers.Conv2D(512, (3, 3), strides=(1, 1), activation='relu', padding='same', input_shape=(3, 3, 1024)))\n",
    "tasp_cnn.add(layers.Dropout(.2,  input_shape=(3, 3, 32)))\n",
    "tasp_cnn.add(layers.BatchNormalization())\n",
    "tasp_cnn.add(layers.Conv2D(1024, (3, 3), strides=(1, 1), activation='relu', padding='same', input_shape=(3, 3, 512)))\n",
    "tasp_cnn.add(layers.Dropout(.2,  input_shape=(3, 3, 1024)))\n",
    "tasp_cnn.add(layers.Flatten())\n",
    "tasp_cnn.add(layers.BatchNormalization())\n",
    "tasp_cnn.add(layers.Dense(units=32))\n",
    "tasp_cnn.add(layers.Dropout(.5))\n",
    "tasp_cnn.add(layers.BatchNormalization())\n",
    "tasp_cnn.add(layers.Dense(num_classes, activation='softmax'))\n",
    "\n",
    "tasp_cnn.compile(\n",
    "    optimizer=Adam(learning_rate = lr_init, epsilon=1e-06),\n",
    "    loss='binary_crossentropy',\n",
    "    metrics=[tfa.metrics.F1Score(num_classes = num_classes, average='micro', threshold=0.1)]\n",
    "  )"
   ]
  },
  {
   "cell_type": "code",
   "execution_count": 32,
   "id": "5b0a2871-0939-4799-86b2-237c8c0253c5",
   "metadata": {},
   "outputs": [],
   "source": [
    "# def get_tasp_cnn(fm_one, fm_two, fm_three, fm_four, fm_five, fm_six, dense, dropout=0.2, learnRate=0.01):\n",
    "def get_tasp_cnn_o(max_dimension_x, max_dimension_y, fm_one, fm_two, fm_three, fm_four, dense, learning_rate, dropout=0.2):\n",
    "    tasp_cnn = models.Sequential()\n",
    "    tasp_cnn.add(layers.Conv2D(fm_one, (3, 3), strides=(1, 1), activation='relu', padding='same', input_shape=(max_dimension_x, max_dimension_y, 1)))\n",
    "    tasp_cnn.add(layers.BatchNormalization())\n",
    "    tasp_cnn.add(layers.Conv2D(fm_two, (3, 3), strides=(1, 1), activation='relu', padding='same', input_shape=(3, 3, fm_one)))\n",
    "    tasp_cnn.add(layers.BatchNormalization())\n",
    "    tasp_cnn.add(layers.Conv2D(fm_three, (3, 3), strides=(1, 1), activation='relu', padding='same', input_shape=(3, 3, fm_two)))\n",
    "    tasp_cnn.add(layers.BatchNormalization())\n",
    "    tasp_cnn.add(layers.Conv2D(fm_four, (3, 3), strides=(1, 1), activation='relu', padding='same', input_shape=(3, 3, fm_three)))\n",
    "    tasp_cnn.add(layers.Flatten())\n",
    "    tasp_cnn.add(layers.BatchNormalization())\n",
    "    tasp_cnn.add(layers.Dense(units=dense))\n",
    "    tasp_cnn.add(layers.BatchNormalization())\n",
    "    tasp_cnn.add(layers.Dense(num_classes, activation='softmax'))\n",
    "\n",
    "    tasp_cnn.compile(\n",
    "        optimizer=Adam(learning_rate = learning_rate, epsilon=1e-06),\n",
    "        loss='binary_crossentropy',\n",
    "        metrics=[tfa.metrics.F1Score(num_classes = num_classes, average='micro', threshold=0.1)]\n",
    "      )\n",
    "    \n",
    "    return tasp_cnn"
   ]
  },
  {
   "cell_type": "code",
   "execution_count": 33,
   "id": "7b99ef66-1c52-47f9-851f-2cab1406b114",
   "metadata": {},
   "outputs": [
    {
     "name": "stdout",
     "output_type": "stream",
     "text": [
      "Model: \"sequential_1\"\n",
      "_________________________________________________________________\n",
      " Layer (type)                Output Shape              Param #   \n",
      "=================================================================\n",
      " conv2d (Conv2D)             (None, 5, 5, 128)         1280      \n",
      "                                                                 \n",
      " dropout (Dropout)           (None, 5, 5, 128)         0         \n",
      "                                                                 \n",
      " batch_normalization_5 (Batc  (None, 5, 5, 128)        512       \n",
      " hNormalization)                                                 \n",
      "                                                                 \n",
      " conv2d_1 (Conv2D)           (None, 5, 5, 1024)        1180672   \n",
      "                                                                 \n",
      " dropout_1 (Dropout)         (None, 5, 5, 1024)        0         \n",
      "                                                                 \n",
      " batch_normalization_6 (Batc  (None, 5, 5, 1024)       4096      \n",
      " hNormalization)                                                 \n",
      "                                                                 \n",
      " conv2d_2 (Conv2D)           (None, 5, 5, 512)         4719104   \n",
      "                                                                 \n",
      " dropout_2 (Dropout)         (None, 5, 5, 512)         0         \n",
      "                                                                 \n",
      " batch_normalization_7 (Batc  (None, 5, 5, 512)        2048      \n",
      " hNormalization)                                                 \n",
      "                                                                 \n",
      " conv2d_3 (Conv2D)           (None, 5, 5, 1024)        4719616   \n",
      "                                                                 \n",
      " dropout_3 (Dropout)         (None, 5, 5, 1024)        0         \n",
      "                                                                 \n",
      " flatten_1 (Flatten)         (None, 25600)             0         \n",
      "                                                                 \n",
      " batch_normalization_8 (Batc  (None, 25600)            102400    \n",
      " hNormalization)                                                 \n",
      "                                                                 \n",
      " dense_2 (Dense)             (None, 32)                819232    \n",
      "                                                                 \n",
      " dropout_4 (Dropout)         (None, 32)                0         \n",
      "                                                                 \n",
      " batch_normalization_9 (Batc  (None, 32)               128       \n",
      " hNormalization)                                                 \n",
      "                                                                 \n",
      " dense_3 (Dense)             (None, 2)                 66        \n",
      "                                                                 \n",
      "=================================================================\n",
      "Total params: 11,549,154\n",
      "Trainable params: 11,494,562\n",
      "Non-trainable params: 54,592\n",
      "_________________________________________________________________\n"
     ]
    }
   ],
   "source": [
    "tasp_cnn.summary()"
   ]
  },
  {
   "cell_type": "code",
   "execution_count": 34,
   "id": "41d457bb-2db3-4b69-b0b7-bcf867dbeb09",
   "metadata": {},
   "outputs": [
    {
     "name": "stdout",
     "output_type": "stream",
     "text": [
      "Done!\n"
     ]
    }
   ],
   "source": [
    "print('Done!')"
   ]
  },
  {
   "cell_type": "markdown",
   "id": "58ea9112-c2a3-474d-87a5-ba64c599ab56",
   "metadata": {
    "tags": [],
    "toc-hr-collapsed": true
   },
   "source": [
    "## Results"
   ]
  },
  {
   "cell_type": "markdown",
   "id": "c0a5be32-4a2d-457d-bd39-5ab2da01a809",
   "metadata": {
    "tags": []
   },
   "source": [
    "### F1-Score History"
   ]
  },
  {
   "cell_type": "code",
   "execution_count": 35,
   "id": "6daa83e3-3b42-4e84-ae09-087c65298e52",
   "metadata": {},
   "outputs": [],
   "source": [
    "\n",
    "def plot_f1_score_history(f1_score_path, f1_score_name, history):\n",
    "    plt.rcParams.update({'font.size': 16})\n",
    "\n",
    "    figure_name = plt.figure(figsize=(20, 10))\n",
    "\n",
    "    # history.history['f1_score'].insert(0, 0)\n",
    "    # history.history['val_f1_score'].insert(0, 0)\n",
    "\n",
    "    plt.plot(history.history['f1_score'], label='F1 score (training data)')\n",
    "    plt.plot(history.history['val_f1_score'], label='F1 score (validation data)')\n",
    "    plt.title('F1 score')\n",
    "    plt.ylabel('F1 score value')\n",
    "    plt.xlabel('No. epoch')\n",
    "    plt.legend(loc=\"upper left\")\n",
    "    plt.grid()\n",
    "    plt.xlim([0, 50])\n",
    "\n",
    "    plt.savefig(f1_score_path + f1_score_name)\n",
    "    plt.show()\n",
    "    \n",
    "    print(history)"
   ]
  },
  {
   "cell_type": "markdown",
   "id": "4529e0fc-6e5c-46aa-8029-d053d4df3d88",
   "metadata": {
    "tags": []
   },
   "source": [
    "### Classification Report"
   ]
  },
  {
   "cell_type": "code",
   "execution_count": 36,
   "id": "14bcc399-bc1c-490d-b537-3fd46d4e49cf",
   "metadata": {},
   "outputs": [],
   "source": [
    "from sklearn.metrics import classification_report\n",
    "\n",
    "def plot_classification_report(path, file_name, y_true, y_predicted):\n",
    "    os.makedirs(path, exist_ok = True)\n",
    "\n",
    "    y_true_labels = one_hot_to_casualty(y_true)\n",
    "    y_pred_labels = one_hot_to_casualty(pd.Series(y_predicted))\n",
    "\n",
    "    report = classification_report(y_true_labels,\n",
    "                                   y_pred_labels,\n",
    "                                   # target_names = labels.unique(),\n",
    "                                   output_dict  = True)\n",
    "\n",
    "    report_df = pd.DataFrame(report).transpose().round(3)\n",
    "    report_df.to_csv(path + file_name, index = True)\n",
    "\n",
    "    print(report_df)"
   ]
  },
  {
   "cell_type": "markdown",
   "id": "7cb9703d-abc2-42b0-8dff-31a2a715815e",
   "metadata": {
    "tags": []
   },
   "source": [
    "### Confusion Matrix"
   ]
  },
  {
   "cell_type": "code",
   "execution_count": 37,
   "id": "1d46827f-b218-49c7-9902-4337c1457d87",
   "metadata": {},
   "outputs": [],
   "source": [
    "from sklearn.metrics import confusion_matrix, ConfusionMatrixDisplay\n",
    "\n",
    "def plot_confusion_matrix(path, file_name, y_true, y_predicted):\n",
    "    os.makedirs(path, exist_ok = True)\n",
    "\n",
    "    cm = confusion_matrix(y_true,\n",
    "                          y_predicted,\n",
    "                          labels = y_true.unique())\n",
    "\n",
    "    labels = one_hot_to_casualty(y_true)\n",
    "\n",
    "    disp = ConfusionMatrixDisplay(confusion_matrix = cm,\n",
    "                                  display_labels = labels.unique()).plot()\n",
    "\n",
    "    plt.savefig(path + file_name, dpi = 150)"
   ]
  },
  {
   "cell_type": "code",
   "execution_count": 38,
   "id": "faf262a8-e7db-40c1-9cca-eeb101e191c3",
   "metadata": {},
   "outputs": [],
   "source": [
    "def save_classification_report_and_confussion_matrix(model_name, model_timestamp, y_true, y_predicted, data):\n",
    "    \n",
    "    \n",
    "    report_path = f\"{REPORTS_PATH}{model_name}/{data}/\"\n",
    "    report_name = f\"{city_name}_{MODEL_NAME}_report_{model_timestamp}.csv\"\n",
    "\n",
    "\n",
    "    plot_classification_report(path = report_path,\n",
    "                               file_name = report_name,\n",
    "                               y_true = y_true,\n",
    "                               y_predicted = y_predicted)\n",
    "\n",
    "\n",
    "    confussion_matrix_path = f\"{CONFUSIONS_MATRIX_PATH}{model_name}/{data}/\"\n",
    "    confussion_matrix_name = f\"{city_name}_{MODEL_NAME}_confusion_matrix_{model_timestamp}.svg\"\n",
    "\n",
    "    plot_confusion_matrix(path = confussion_matrix_path,\n",
    "                          file_name = confussion_matrix_name,\n",
    "                          y_true = y_true,\n",
    "                          y_predicted = y_predicted)"
   ]
  },
  {
   "cell_type": "code",
   "execution_count": 39,
   "id": "271fbe6a-965a-48b3-902d-384140c96fcb",
   "metadata": {},
   "outputs": [
    {
     "name": "stdout",
     "output_type": "stream",
     "text": [
      "Done!\n"
     ]
    }
   ],
   "source": [
    "print('Done!')"
   ]
  },
  {
   "cell_type": "markdown",
   "id": "cd751eaa-b271-4134-b1ba-055669e8f154",
   "metadata": {},
   "source": [
    "## Histogram"
   ]
  },
  {
   "cell_type": "code",
   "execution_count": 40,
   "id": "780dd5c5-f99f-4186-b941-5be449d8b068",
   "metadata": {},
   "outputs": [],
   "source": [
    "from src.data_uk import casualty_to_one_hot\n",
    "from src.data_uk import one_hot_to_casualty\n",
    "\n",
    "def save_histogram(city_name, data, data_type):\n",
    "\n",
    "    Y_data = data.copy()\n",
    "\n",
    "    data=one_hot_to_casualty(Y_data)\n",
    "\n",
    "    plt.figure(figsize=(20, 10))\n",
    "\n",
    "    sns.set_theme(style=\"whitegrid\")\n",
    "    ax = sns.countplot(x='Casualty Severity',data=pd.DataFrame(data),order=['Slight', 'Assistance'])\n",
    "    ax.bar_label(ax.containers[0])\n",
    "    plt.savefig(f'histograms_images/{city_name}_{data_type}.svg')\n",
    "    one_hot_to_casualty(Y_data).value_counts()"
   ]
  },
  {
   "cell_type": "markdown",
   "id": "2f59046d-7e20-465c-8651-d168cbbf2a6a",
   "metadata": {
    "tags": []
   },
   "source": [
    "# Victoria"
   ]
  },
  {
   "cell_type": "markdown",
   "id": "31d7783a-df82-4cfc-963c-045667081ece",
   "metadata": {},
   "source": [
    "- first_road_class: ahora es Position Type, que no indica el tipo de carretera sino si el accidente ha sido en cruce, incorporaciones, etc.\n",
    "- Casualty Severity: **Consideración importante**. Se ha considerado que los que necesitan asistencia han sido los que han sido ingresados en hospital o fatales. Aquellos que son tratados en el hospital o por privado son considerados como leves. **Otra opción es considerar la gravedad del accidente, no de la víctima. Este campo puede obtenerse en CSEF Severity**\n",
    "- Drugs Involved: Incluir?\n",
    "\n",
    "CSEF Severity: 1 nada, 2 leve, 3 serios (cogiendo la peor consecuencia de todas las víctimas implicadas en él.). MMIRAR DESPUES DEL JOIN SI el CASUAL SEVERITY COINCIDE CON EL DEL CASUALTY.\n",
    "\n",
    "**La discretización de las features podría ser en orden de mayor a menor? Más gordo < Menos gordo o al revés?** Actualmente no se sigue un orden de menos peligroso a más peligroso el orden ascendente o descendente en cada feature independiente.\n",
    "\n",
    "**CUIDADO con Casualty Class**: no hay pederastian: Driver, Passenger, Rider"
   ]
  },
  {
   "cell_type": "markdown",
   "id": "d2c86b3c-4746-4ff4-bdfc-2b49fc43117f",
   "metadata": {
    "id": "e4tAAMniVQ-O",
    "tags": []
   },
   "source": [
    "## Importación de datos"
   ]
  },
  {
   "cell_type": "code",
   "execution_count": 41,
   "id": "004cbc29-ded9-4be4-b037-4384664d7eb3",
   "metadata": {},
   "outputs": [
    {
     "name": "stderr",
     "output_type": "stream",
     "text": [
      "/tmp/ipykernel_100007/2450735881.py:10: DtypeWarning: Columns (0,13) have mixed types. Specify dtype option on import or set low_memory=False.\n",
      "  people_data = pd.read_csv(f\"{root_path}/PERSON.csv\")\n",
      "/tmp/ipykernel_100007/2450735881.py:11: DtypeWarning: Columns (0) have mixed types. Specify dtype option on import or set low_memory=False.\n",
      "  accident_data = pd.read_csv(f\"{root_path}/ACCIDENT.csv\")\n",
      "/tmp/ipykernel_100007/2450735881.py:14: DtypeWarning: Columns (0,3,11,36) have mixed types. Specify dtype option on import or set low_memory=False.\n",
      "  vehicle_data = pd.read_csv(f\"{root_path}/VEHICLE.csv\")\n",
      "/tmp/ipykernel_100007/2450735881.py:15: DtypeWarning: Columns (0) have mixed types. Specify dtype option on import or set low_memory=False.\n",
      "  accident_event = pd.read_csv(f\"{root_path}/ACCIDENT_EVENT.csv\")\n",
      "/tmp/ipykernel_100007/2450735881.py:16: DtypeWarning: Columns (0) have mixed types. Specify dtype option on import or set low_memory=False.\n",
      "  accident_location = pd.read_csv(f\"{root_path}/ACCIDENT_LOCATION.csv\")\n",
      "/tmp/ipykernel_100007/2450735881.py:17: DtypeWarning: Columns (0) have mixed types. Specify dtype option on import or set low_memory=False.\n",
      "  node_data = pd.read_csv(f\"{root_path}/NODE.csv\")\n"
     ]
    }
   ],
   "source": [
    "import pandas as pd\n",
    "\n",
    "\n",
    "target_class = 'Casualty Severity'\n",
    "# city = AUSTRALIA\n",
    "city_name = 'Victoria'\n",
    "\n",
    "root_path = './Data/Victoria'\n",
    "\n",
    "people_data = pd.read_csv(f\"{root_path}/PERSON.csv\")\n",
    "accident_data = pd.read_csv(f\"{root_path}/ACCIDENT.csv\")\n",
    "road_surf_data = pd.read_csv(f\"{root_path}/ROAD_SURFACE_COND.csv\")\n",
    "atmospheric_data = pd.read_csv(f\"{root_path}/ATMOSPHERIC_COND.csv\")\n",
    "vehicle_data = pd.read_csv(f\"{root_path}/VEHICLE.csv\")\n",
    "accident_event = pd.read_csv(f\"{root_path}/ACCIDENT_EVENT.csv\")\n",
    "accident_location = pd.read_csv(f\"{root_path}/ACCIDENT_LOCATION.csv\")\n",
    "node_data = pd.read_csv(f\"{root_path}/NODE.csv\")\n",
    "\n"
   ]
  },
  {
   "cell_type": "markdown",
   "id": "ea6d4e51-7c06-4dc5-a9d9-e3dc28b28ac1",
   "metadata": {},
   "source": [
    "## Join de datos"
   ]
  },
  {
   "cell_type": "code",
   "execution_count": 42,
   "id": "c774b1de-3959-4c2e-ad29-c642f218d8f3",
   "metadata": {},
   "outputs": [],
   "source": [
    "columns_to_get = ['ACCIDENT_NO', 'ACCIDENTDATE', 'ACCIDENTTIME', 'ACCIDENT_TYPE', 'LIGHT_CONDITION', 'SPEED_ZONE', 'NO_OF_VEHICLES']\n",
    "accident_data = accident_data.loc[:, accident_data.columns.isin(columns_to_get)]\n",
    "\n",
    "columns_to_get = ['ACCIDENT_NO', 'SEX', 'AGE', 'INJ_LEVEL', 'ROAD_USER_TYPE']\n",
    "people_data = people_data.loc[:, people_data.columns.isin(columns_to_get)]\n",
    "data_frame = pd.merge(people_data, accident_data, on='ACCIDENT_NO')\n",
    "\n",
    "\n",
    "columns_to_get = ['ACCIDENT_NO', 'VEHICLE_YEAR_MANUF', 'VEHICLE_TYPE']\n",
    "vehicle_data = vehicle_data.loc[:, vehicle_data.columns.isin(columns_to_get)]\n",
    "\n",
    "data_frame = pd.merge(data_frame, vehicle_data, on='ACCIDENT_NO')\n",
    "# data_frame = pd.merge(data_frame, accident_event, on='ACCIDENT_NO')\n",
    "\n",
    "\n",
    "columns_to_get = ['ACCIDENT_NO', 'AMG_X', 'AMG_Y', 'Lat', 'Long']\n",
    "node_data = node_data.loc[:, node_data.columns.isin(columns_to_get)]\n",
    "data_frame = pd.merge(data_frame, node_data, on='ACCIDENT_NO')\n",
    "\n",
    "########### 5% of dataset ###########\n",
    "columns_to_get = ['ACCIDENT_NO', 'ROAD_TYPE']\n",
    "accident_location = accident_location.loc[:, accident_location.columns.isin(columns_to_get)]\n",
    "data_frame = pd.merge(data_frame, accident_location, on='ACCIDENT_NO')\n",
    "\n",
    "\n",
    "\n",
    "columns_to_get = ['ACCIDENT_NO', 'SURFACE_COND']\n",
    "road_surf_data = road_surf_data.loc[:, road_surf_data.columns.isin(columns_to_get)]\n",
    "data_frame = pd.merge(data_frame, road_surf_data, on='ACCIDENT_NO')\n",
    "\n",
    "\n",
    "columns_to_get = ['ACCIDENT_NO', 'ATMOSPH_COND']\n",
    "atmospheric_data = atmospheric_data.loc[:, atmospheric_data.columns.isin(columns_to_get)]\n",
    "data_frame = pd.merge(data_frame, atmospheric_data, on='ACCIDENT_NO')\n",
    "\n",
    "data_frame['ACCIDENTDATE'] = pd.to_datetime(data_frame['ACCIDENTDATE'], format='%d/%m/%Y')"
   ]
  },
  {
   "cell_type": "markdown",
   "id": "eee7102b-1ea1-4c6f-b844-d2c0ec28fec6",
   "metadata": {
    "id": "3Y9SjctrVXCD",
    "tags": []
   },
   "source": [
    "## Limpieza de datos"
   ]
  },
  {
   "cell_type": "code",
   "execution_count": 43,
   "id": "1c5a392d-8e79-4869-822b-52357af14c5c",
   "metadata": {},
   "outputs": [],
   "source": [
    "from src.data import get_to_iso_calendar\n",
    "\n",
    "data_frame['dia_semana'] = data_frame.apply(lambda row: get_to_iso_calendar(row, 'ACCIDENTDATE').weekday, axis=1)\n",
    "data_frame['semana_en_año'] = data_frame.apply(lambda row: get_to_iso_calendar(row, 'ACCIDENTDATE').week, axis=1)"
   ]
  },
  {
   "cell_type": "code",
   "execution_count": 44,
   "id": "323352d3-0df3-46a0-8765-0ecd354e1d57",
   "metadata": {
    "tags": []
   },
   "outputs": [],
   "source": [
    "from src.data_victoria import remove_features\n",
    "\n",
    "# YES\n",
    "data_frame = remove_features(data_frame)\n",
    "\n",
    "data_frame = data_frame.drop_duplicates()\n",
    "data_frame = data_frame.dropna()\n",
    "data_frame = data_frame.reset_index(drop = True)"
   ]
  },
  {
   "cell_type": "code",
   "execution_count": 45,
   "id": "364432cc-ce13-42b4-b92e-412b2a8e8b94",
   "metadata": {
    "tags": []
   },
   "outputs": [],
   "source": [
    "# print('Before cleaning')\n",
    "# print(f\"First Road Class: {data_frame['1st Road Class'].value_counts()}\")\n",
    "# print(f\"Accident Time: {data_frame['Accident Time'].value_counts()}\")\n",
    "# print(f\"Number of Vehicles: {data_frame['Number of Vehicles'].value_counts()}\")\n",
    "# print(f\"Road Surface: {data_frame['Road Surface'].value_counts()}\")\n",
    "# print(f\"Speed Limit: {data_frame['Speed Limit'].value_counts()}\")\n",
    "# print(f\"Light Conditions: {data_frame['Lighting Conditions'].value_counts()}\")\n",
    "# print(f\"Weather Conditions: {data_frame['Weather Conditions'].value_counts()}\")\n",
    "# print(f\"Type of Vehicle: {data_frame['Type of Vehicle'].value_counts()}\")\n",
    "# print(f\"Age of Vehicle: {data_frame['Age of Vehicle'].value_counts()}\")\n",
    "# print(f\"First Point of Impact: {data_frame['First Point of Impact'].value_counts()}\")\n",
    "# print(f\"Sex of Casualty: {data_frame['Sex of Casualty'].value_counts()}\")\n",
    "# print(f\"Age of Casualty: {data_frame['Age of Casualty'].value_counts()}\")"
   ]
  },
  {
   "cell_type": "markdown",
   "id": "2dc96493-5972-47ac-9bb2-28165344d272",
   "metadata": {},
   "source": [
    "## NOTE\n",
    "Mirar las diferencias entre clean_before_1(data_frame) y clean_before_2. Si se ejecuta la 1 falla la 2. Parece que hacen cosas diferentes en el tratamiento de los datos. No obstante, parece el código más limpio en el v2. Hay que analizar qué hace cada uno, si ambos tratan todas las columnas de alguna manera y si es así, qué diferencia hay entre ambos. "
   ]
  },
  {
   "cell_type": "markdown",
   "id": "6c759e74-5126-426e-8318-00d288190eba",
   "metadata": {},
   "source": [
    "https://ianlondon.github.io/blog/encoding-cyclical-features-24hour-time/"
   ]
  },
  {
   "cell_type": "code",
   "execution_count": 46,
   "id": "dbafd90b-ce61-41ec-a524-83e8a4b2f201",
   "metadata": {},
   "outputs": [
    {
     "data": {
      "text/plain": [
       "Casualty Severity\n",
       "4    5556\n",
       "3    4197\n",
       "2    1751\n",
       "1      76\n",
       "Name: count, dtype: int64"
      ]
     },
     "execution_count": 46,
     "metadata": {},
     "output_type": "execute_result"
    }
   ],
   "source": [
    "data_frame['Casualty Severity'].value_counts()"
   ]
  },
  {
   "cell_type": "code",
   "execution_count": 47,
   "id": "ecef243f-8080-4036-8149-c441c91726d8",
   "metadata": {
    "tags": []
   },
   "outputs": [],
   "source": [
    "from src.data_victoria import clean_before_1\n",
    "\n",
    "data_frame = clean_before_1(data_frame)\n",
    "data_frame = data_frame.loc[:, ~data_frame.columns.isin(['Accident Time'])]"
   ]
  },
  {
   "cell_type": "code",
   "execution_count": 48,
   "id": "8bd96e3f-64fd-4226-86ba-5619a6aaa217",
   "metadata": {
    "tags": []
   },
   "outputs": [],
   "source": [
    "# print('After cleaning')\n",
    "# print(f\"First Road Class: {data_frame['1st Road Class'].value_counts()}\")\n",
    "# print(f\"Accident Time: {data_frame['Accident Time Sin'].value_counts()}\")\n",
    "# print(f\"Accident Time: {data_frame['Accident Time Cos'].value_counts()}\")\n",
    "# print(f\"Number of Vehicles: {data_frame['Number of Vehicles'].value_counts()}\")\n",
    "# print(f\"Road Surface: {data_frame['Road Surface'].value_counts()}\")\n",
    "# print(f\"Speed Limit: {data_frame['Speed Limit'].value_counts()}\")\n",
    "# print(f\"Light Conditions: {data_frame['Lighting Conditions'].value_counts()}\")\n",
    "# print(f\"Weather Conditions: {data_frame['Weather Conditions'].value_counts()}\")\n",
    "# print(f\"Type of Vehicle: {data_frame['Type of Vehicle'].value_counts()}\")\n",
    "# print(f\"Age of Vehicle: {data_frame['Age of Vehicle'].value_counts()}\")\n",
    "# print(f\"First Point of Impact: {data_frame['First Point of Impact'].value_counts()}\")\n",
    "# print(f\"Sex of Casualty: {data_frame['Sex of Casualty'].value_counts()}\")\n",
    "# print(f\"Age of Casualty: {data_frame['Age of Casualty'].value_counts()}\")"
   ]
  },
  {
   "cell_type": "code",
   "execution_count": 49,
   "id": "d4689087-2290-4c65-98d0-9d782cf90c87",
   "metadata": {},
   "outputs": [
    {
     "data": {
      "text/html": [
       "<div>\n",
       "<style scoped>\n",
       "    .dataframe tbody tr th:only-of-type {\n",
       "        vertical-align: middle;\n",
       "    }\n",
       "\n",
       "    .dataframe tbody tr th {\n",
       "        vertical-align: top;\n",
       "    }\n",
       "\n",
       "    .dataframe thead th {\n",
       "        text-align: right;\n",
       "    }\n",
       "</style>\n",
       "<table border=\"1\" class=\"dataframe\">\n",
       "  <thead>\n",
       "    <tr style=\"text-align: right;\">\n",
       "      <th></th>\n",
       "      <th>Easting</th>\n",
       "      <th>Northing</th>\n",
       "      <th>1st Road Class</th>\n",
       "      <th>Number of Vehicles</th>\n",
       "      <th>Road Surface</th>\n",
       "      <th>Speed Limit</th>\n",
       "      <th>Lighting Conditions</th>\n",
       "      <th>Weather Conditions</th>\n",
       "      <th>dia_semana</th>\n",
       "      <th>semana_en_año</th>\n",
       "      <th>...</th>\n",
       "      <th>Age of Vehicle</th>\n",
       "      <th>First Point of Impact</th>\n",
       "      <th>Casualty Class</th>\n",
       "      <th>Sex of Casualty</th>\n",
       "      <th>Age of Casualty</th>\n",
       "      <th>Casualty Severity</th>\n",
       "      <th>latitude</th>\n",
       "      <th>longitude</th>\n",
       "      <th>Accident Time Sin</th>\n",
       "      <th>Accident Time Cos</th>\n",
       "    </tr>\n",
       "  </thead>\n",
       "  <tbody>\n",
       "    <tr>\n",
       "      <th>0</th>\n",
       "      <td>2511861.414</td>\n",
       "      <td>2374246.840</td>\n",
       "      <td>1</td>\n",
       "      <td>2</td>\n",
       "      <td>2</td>\n",
       "      <td>50</td>\n",
       "      <td>1</td>\n",
       "      <td>1</td>\n",
       "      <td>4</td>\n",
       "      <td>28</td>\n",
       "      <td>...</td>\n",
       "      <td>2005</td>\n",
       "      <td>4</td>\n",
       "      <td>2</td>\n",
       "      <td>1</td>\n",
       "      <td>3</td>\n",
       "      <td>Slight</td>\n",
       "      <td>-38.13305</td>\n",
       "      <td>145.13528</td>\n",
       "      <td>6.087614e-01</td>\n",
       "      <td>-0.793353</td>\n",
       "    </tr>\n",
       "    <tr>\n",
       "      <th>1</th>\n",
       "      <td>2511861.414</td>\n",
       "      <td>2374246.840</td>\n",
       "      <td>1</td>\n",
       "      <td>2</td>\n",
       "      <td>2</td>\n",
       "      <td>50</td>\n",
       "      <td>1</td>\n",
       "      <td>1</td>\n",
       "      <td>4</td>\n",
       "      <td>28</td>\n",
       "      <td>...</td>\n",
       "      <td>2003</td>\n",
       "      <td>4</td>\n",
       "      <td>2</td>\n",
       "      <td>1</td>\n",
       "      <td>3</td>\n",
       "      <td>Slight</td>\n",
       "      <td>-38.13305</td>\n",
       "      <td>145.13528</td>\n",
       "      <td>6.087614e-01</td>\n",
       "      <td>-0.793353</td>\n",
       "    </tr>\n",
       "    <tr>\n",
       "      <th>2</th>\n",
       "      <td>2514507.129</td>\n",
       "      <td>2371802.475</td>\n",
       "      <td>0</td>\n",
       "      <td>1</td>\n",
       "      <td>1</td>\n",
       "      <td>80</td>\n",
       "      <td>1</td>\n",
       "      <td>1</td>\n",
       "      <td>6</td>\n",
       "      <td>28</td>\n",
       "      <td>...</td>\n",
       "      <td>1986</td>\n",
       "      <td>2</td>\n",
       "      <td>1</td>\n",
       "      <td>0</td>\n",
       "      <td>4</td>\n",
       "      <td>Assistance</td>\n",
       "      <td>-38.15504</td>\n",
       "      <td>145.16551</td>\n",
       "      <td>-1.305262e-01</td>\n",
       "      <td>-0.991445</td>\n",
       "    </tr>\n",
       "    <tr>\n",
       "      <th>3</th>\n",
       "      <td>2514507.129</td>\n",
       "      <td>2371802.475</td>\n",
       "      <td>0</td>\n",
       "      <td>1</td>\n",
       "      <td>1</td>\n",
       "      <td>80</td>\n",
       "      <td>1</td>\n",
       "      <td>1</td>\n",
       "      <td>6</td>\n",
       "      <td>28</td>\n",
       "      <td>...</td>\n",
       "      <td>1986</td>\n",
       "      <td>2</td>\n",
       "      <td>2</td>\n",
       "      <td>0</td>\n",
       "      <td>3</td>\n",
       "      <td>Slight</td>\n",
       "      <td>-38.15504</td>\n",
       "      <td>145.16551</td>\n",
       "      <td>-1.305262e-01</td>\n",
       "      <td>-0.991445</td>\n",
       "    </tr>\n",
       "    <tr>\n",
       "      <th>4</th>\n",
       "      <td>2505109.018</td>\n",
       "      <td>2364690.677</td>\n",
       "      <td>2</td>\n",
       "      <td>2</td>\n",
       "      <td>1</td>\n",
       "      <td>80</td>\n",
       "      <td>1</td>\n",
       "      <td>1</td>\n",
       "      <td>5</td>\n",
       "      <td>28</td>\n",
       "      <td>...</td>\n",
       "      <td>1998</td>\n",
       "      <td>1</td>\n",
       "      <td>2</td>\n",
       "      <td>1</td>\n",
       "      <td>4</td>\n",
       "      <td>Assistance</td>\n",
       "      <td>-38.21920</td>\n",
       "      <td>145.05834</td>\n",
       "      <td>2.588190e-01</td>\n",
       "      <td>-0.965926</td>\n",
       "    </tr>\n",
       "    <tr>\n",
       "      <th>...</th>\n",
       "      <td>...</td>\n",
       "      <td>...</td>\n",
       "      <td>...</td>\n",
       "      <td>...</td>\n",
       "      <td>...</td>\n",
       "      <td>...</td>\n",
       "      <td>...</td>\n",
       "      <td>...</td>\n",
       "      <td>...</td>\n",
       "      <td>...</td>\n",
       "      <td>...</td>\n",
       "      <td>...</td>\n",
       "      <td>...</td>\n",
       "      <td>...</td>\n",
       "      <td>...</td>\n",
       "      <td>...</td>\n",
       "      <td>...</td>\n",
       "      <td>...</td>\n",
       "      <td>...</td>\n",
       "      <td>...</td>\n",
       "      <td>...</td>\n",
       "    </tr>\n",
       "    <tr>\n",
       "      <th>10461</th>\n",
       "      <td>2534113.832</td>\n",
       "      <td>2382339.797</td>\n",
       "      <td>0</td>\n",
       "      <td>1</td>\n",
       "      <td>1</td>\n",
       "      <td>60</td>\n",
       "      <td>5</td>\n",
       "      <td>1</td>\n",
       "      <td>6</td>\n",
       "      <td>51</td>\n",
       "      <td>...</td>\n",
       "      <td>1995</td>\n",
       "      <td>2</td>\n",
       "      <td>2</td>\n",
       "      <td>0</td>\n",
       "      <td>3</td>\n",
       "      <td>Slight</td>\n",
       "      <td>-38.05959</td>\n",
       "      <td>145.38871</td>\n",
       "      <td>-6.087614e-01</td>\n",
       "      <td>0.793353</td>\n",
       "    </tr>\n",
       "    <tr>\n",
       "      <th>10462</th>\n",
       "      <td>2519070.489</td>\n",
       "      <td>2392145.035</td>\n",
       "      <td>1</td>\n",
       "      <td>2</td>\n",
       "      <td>1</td>\n",
       "      <td>60</td>\n",
       "      <td>1</td>\n",
       "      <td>1</td>\n",
       "      <td>4</td>\n",
       "      <td>37</td>\n",
       "      <td>...</td>\n",
       "      <td>1997</td>\n",
       "      <td>1</td>\n",
       "      <td>3</td>\n",
       "      <td>1</td>\n",
       "      <td>3</td>\n",
       "      <td>Slight</td>\n",
       "      <td>-37.97169</td>\n",
       "      <td>145.21704</td>\n",
       "      <td>-3.216245e-16</td>\n",
       "      <td>-1.000000</td>\n",
       "    </tr>\n",
       "    <tr>\n",
       "      <th>10463</th>\n",
       "      <td>2519070.489</td>\n",
       "      <td>2392145.035</td>\n",
       "      <td>1</td>\n",
       "      <td>2</td>\n",
       "      <td>1</td>\n",
       "      <td>60</td>\n",
       "      <td>1</td>\n",
       "      <td>1</td>\n",
       "      <td>4</td>\n",
       "      <td>37</td>\n",
       "      <td>...</td>\n",
       "      <td>2001</td>\n",
       "      <td>1</td>\n",
       "      <td>3</td>\n",
       "      <td>1</td>\n",
       "      <td>3</td>\n",
       "      <td>Slight</td>\n",
       "      <td>-37.97169</td>\n",
       "      <td>145.21704</td>\n",
       "      <td>-3.216245e-16</td>\n",
       "      <td>-1.000000</td>\n",
       "    </tr>\n",
       "    <tr>\n",
       "      <th>10464</th>\n",
       "      <td>2519070.489</td>\n",
       "      <td>2392145.035</td>\n",
       "      <td>1</td>\n",
       "      <td>2</td>\n",
       "      <td>1</td>\n",
       "      <td>60</td>\n",
       "      <td>1</td>\n",
       "      <td>1</td>\n",
       "      <td>4</td>\n",
       "      <td>37</td>\n",
       "      <td>...</td>\n",
       "      <td>1997</td>\n",
       "      <td>1</td>\n",
       "      <td>2</td>\n",
       "      <td>0</td>\n",
       "      <td>3</td>\n",
       "      <td>Assistance</td>\n",
       "      <td>-37.97169</td>\n",
       "      <td>145.21704</td>\n",
       "      <td>-3.216245e-16</td>\n",
       "      <td>-1.000000</td>\n",
       "    </tr>\n",
       "    <tr>\n",
       "      <th>10465</th>\n",
       "      <td>2519070.489</td>\n",
       "      <td>2392145.035</td>\n",
       "      <td>1</td>\n",
       "      <td>2</td>\n",
       "      <td>1</td>\n",
       "      <td>60</td>\n",
       "      <td>1</td>\n",
       "      <td>1</td>\n",
       "      <td>4</td>\n",
       "      <td>37</td>\n",
       "      <td>...</td>\n",
       "      <td>2001</td>\n",
       "      <td>1</td>\n",
       "      <td>2</td>\n",
       "      <td>0</td>\n",
       "      <td>3</td>\n",
       "      <td>Assistance</td>\n",
       "      <td>-37.97169</td>\n",
       "      <td>145.21704</td>\n",
       "      <td>-3.216245e-16</td>\n",
       "      <td>-1.000000</td>\n",
       "    </tr>\n",
       "  </tbody>\n",
       "</table>\n",
       "<p>10466 rows × 21 columns</p>\n",
       "</div>"
      ],
      "text/plain": [
       "           Easting     Northing  1st Road Class  Number of Vehicles   \n",
       "0      2511861.414  2374246.840               1                   2  \\\n",
       "1      2511861.414  2374246.840               1                   2   \n",
       "2      2514507.129  2371802.475               0                   1   \n",
       "3      2514507.129  2371802.475               0                   1   \n",
       "4      2505109.018  2364690.677               2                   2   \n",
       "...            ...          ...             ...                 ...   \n",
       "10461  2534113.832  2382339.797               0                   1   \n",
       "10462  2519070.489  2392145.035               1                   2   \n",
       "10463  2519070.489  2392145.035               1                   2   \n",
       "10464  2519070.489  2392145.035               1                   2   \n",
       "10465  2519070.489  2392145.035               1                   2   \n",
       "\n",
       "       Road Surface  Speed Limit  Lighting Conditions  Weather Conditions   \n",
       "0                 2           50                    1                   1  \\\n",
       "1                 2           50                    1                   1   \n",
       "2                 1           80                    1                   1   \n",
       "3                 1           80                    1                   1   \n",
       "4                 1           80                    1                   1   \n",
       "...             ...          ...                  ...                 ...   \n",
       "10461             1           60                    5                   1   \n",
       "10462             1           60                    1                   1   \n",
       "10463             1           60                    1                   1   \n",
       "10464             1           60                    1                   1   \n",
       "10465             1           60                    1                   1   \n",
       "\n",
       "       dia_semana  semana_en_año  ...  Age of Vehicle  First Point of Impact   \n",
       "0               4             28  ...            2005                      4  \\\n",
       "1               4             28  ...            2003                      4   \n",
       "2               6             28  ...            1986                      2   \n",
       "3               6             28  ...            1986                      2   \n",
       "4               5             28  ...            1998                      1   \n",
       "...           ...            ...  ...             ...                    ...   \n",
       "10461           6             51  ...            1995                      2   \n",
       "10462           4             37  ...            1997                      1   \n",
       "10463           4             37  ...            2001                      1   \n",
       "10464           4             37  ...            1997                      1   \n",
       "10465           4             37  ...            2001                      1   \n",
       "\n",
       "       Casualty Class  Sex of Casualty  Age of Casualty  Casualty Severity   \n",
       "0                   2                1                3             Slight  \\\n",
       "1                   2                1                3             Slight   \n",
       "2                   1                0                4         Assistance   \n",
       "3                   2                0                3             Slight   \n",
       "4                   2                1                4         Assistance   \n",
       "...               ...              ...              ...                ...   \n",
       "10461               2                0                3             Slight   \n",
       "10462               3                1                3             Slight   \n",
       "10463               3                1                3             Slight   \n",
       "10464               2                0                3         Assistance   \n",
       "10465               2                0                3         Assistance   \n",
       "\n",
       "       latitude  longitude  Accident Time Sin  Accident Time Cos  \n",
       "0     -38.13305  145.13528       6.087614e-01          -0.793353  \n",
       "1     -38.13305  145.13528       6.087614e-01          -0.793353  \n",
       "2     -38.15504  145.16551      -1.305262e-01          -0.991445  \n",
       "3     -38.15504  145.16551      -1.305262e-01          -0.991445  \n",
       "4     -38.21920  145.05834       2.588190e-01          -0.965926  \n",
       "...         ...        ...                ...                ...  \n",
       "10461 -38.05959  145.38871      -6.087614e-01           0.793353  \n",
       "10462 -37.97169  145.21704      -3.216245e-16          -1.000000  \n",
       "10463 -37.97169  145.21704      -3.216245e-16          -1.000000  \n",
       "10464 -37.97169  145.21704      -3.216245e-16          -1.000000  \n",
       "10465 -37.97169  145.21704      -3.216245e-16          -1.000000  \n",
       "\n",
       "[10466 rows x 21 columns]"
      ]
     },
     "execution_count": 49,
     "metadata": {},
     "output_type": "execute_result"
    }
   ],
   "source": [
    "data_frame"
   ]
  },
  {
   "cell_type": "code",
   "execution_count": 50,
   "id": "d1c20d32-03ea-499d-b092-3dcb3169f040",
   "metadata": {
    "tags": []
   },
   "outputs": [],
   "source": [
    "# Quitados:\n",
    "\n",
    "# first_road_class:\n",
    "\n",
    "# road_surface_conditions:\n",
    "# 6 -> oil or diesel\n",
    "# 7 -> Mud -> Lodo\n",
    "# 9 -> Unknown\n",
    "\n",
    "# light_conditions:\n",
    "\n",
    "\n",
    "# weather_conditions:\n",
    "# 9 -> Unknown\n",
    "\n",
    "# light_conditions\n",
    "# 6 -> 2\n",
    "# 4 -> 3\n",
    "# 5 -> 4\n",
    "# 7 -> 5\n",
    "\n",
    "# casualty_type\n",
    "# 8 -> 6\n",
    "# 9 -> 7\n",
    "# 10 -> 8\n",
    "# 11 -> 9\n",
    "# 16 -> 10\n",
    "# 17 -> 11\n",
    "# 18 -> 12\n",
    "# 19 -> 13\n",
    "# 20 -> 14\n",
    "# 21 -> 15\n",
    "# 22 -> 16\n",
    "# 90 -> 17\n",
    "# 97 -> 18\n",
    "\n",
    "# casualty_class\n",
    "\n",
    "# sex_of_casualty\n",
    "# 9 UNKNOWN -> DROP?\n",
    "\n",
    "# age_of_casualty"
   ]
  },
  {
   "cell_type": "markdown",
   "id": "4834b5a8-834b-4b5a-87d1-53d86d520419",
   "metadata": {},
   "source": [
    "## Original Histogram"
   ]
  },
  {
   "cell_type": "code",
   "execution_count": 51,
   "id": "7610e31f-a7fc-4efc-84bb-be467fd8905d",
   "metadata": {},
   "outputs": [
    {
     "data": {
      "image/png": "[encoded data removed]",
      "text/plain": [
       "<Figure size 2000x1000 with 1 Axes>"
      ]
     },
     "metadata": {},
     "output_type": "display_data"
    }
   ],
   "source": [
    "data_type = 'original'\n",
    "save_histogram(city_name, data_frame[target_class], data_type)"
   ]
  },
  {
   "cell_type": "markdown",
   "id": "81f2b9d3-69c5-4d9b-ad47-945cf11250a5",
   "metadata": {},
   "source": [
    "# TEST"
   ]
  },
  {
   "cell_type": "markdown",
   "id": "ff343506-03d3-4ccf-9890-0afadcd95f8f",
   "metadata": {},
   "source": [
    "## Filter areas"
   ]
  },
  {
   "cell_type": "code",
   "execution_count": 52,
   "id": "4a11331e-8359-49a0-a152-dd78d40387b5",
   "metadata": {},
   "outputs": [],
   "source": [
    "x_name = 'Easting'\n",
    "y_name = 'Northing'\n",
    "\n",
    "data_frame[x_name] = data_frame[x_name].astype(int)\n",
    "data_frame[y_name] = data_frame[y_name].astype(int)\n",
    "\n",
    "casualty_name = 'Casualty Severity'\n",
    "casualty_target_names = ['Assistance']"
   ]
  },
  {
   "cell_type": "code",
   "execution_count": 58,
   "id": "918185af-8d0f-4758-868f-6154e7150b2a",
   "metadata": {},
   "outputs": [],
   "source": [
    "# 8\n",
    "from src.data import remove_outliers\n",
    "\n",
    "data_frame = remove_outliers(data_frame, x_name, y_name)"
   ]
  },
  {
   "cell_type": "code",
   "execution_count": 59,
   "id": "1244bd78-d1d5-4f0d-9322-d29cd0422d74",
   "metadata": {
    "tags": []
   },
   "outputs": [
    {
     "name": "stdout",
     "output_type": "stream",
     "text": [
      "X\n",
      "Area units: 1, regions: 714995.0\n",
      "Area units: 5, regions: 142999.0\n",
      "Area units: 29, regions: 24655.0\n",
      "Area units: 145, regions: 4931.0\n",
      "Area units: 4931, regions: 145.0\n",
      "Area units: 24655, regions: 29.0\n",
      "Area units: 142999, regions: 5.0\n",
      "Y\n",
      "Area units: 1, regions: 508377.0\n",
      "Area units: 3, regions: 169459.0\n",
      "Area units: 97, regions: 5241.0\n",
      "Area units: 291, regions: 1747.0\n",
      "Area units: 1747, regions: 291.0\n",
      "Area units: 5241, regions: 97.0\n",
      "Area units: 169459, regions: 3.0\n"
     ]
    }
   ],
   "source": [
    "from src.data import get_intervals\n",
    "from src.data import get_divisible_numbers\n",
    "\n",
    "interval_x, interval_y = get_intervals(data_frame, x_name, y_name)\n",
    "\n",
    "print('X')\n",
    "get_divisible_numbers(interval_x)\n",
    "print('Y')\n",
    "get_divisible_numbers(interval_y)"
   ]
  },
  {
   "cell_type": "code",
   "execution_count": 60,
   "id": "181ab56f-d85e-47b1-8f5c-7ba9a060f223",
   "metadata": {},
   "outputs": [],
   "source": [
    "filename_to_load = f'{city_name}_victoria.csv'"
   ]
  },
  {
   "cell_type": "code",
   "execution_count": 61,
   "id": "464be0f1-10be-4902-b94f-d05c09af8b39",
   "metadata": {},
   "outputs": [
    {
     "name": "stderr",
     "output_type": "stream",
     "text": [
      "100%|████████████████████████████████████████████████████████████| 5241/5241 [13:42<00:00,  6.37it/s]\n"
     ]
    }
   ],
   "source": [
    "from src.data import get_rows_by_removing_areas\n",
    "\n",
    "# Birmingan\n",
    "# x_offset = 211\n",
    "# y_offset = 75\n",
    "\n",
    "# Cornwall (UK)\n",
    "# x_offset = 10\n",
    "# y_offset = 8\n",
    "\n",
    "# Southwark\n",
    "# x_offset = 10 -> regions: 529\n",
    "# y_offset = 20 -> regions: 487\n",
    "\n",
    "# Tower\n",
    "# 6 times remove feaures\n",
    "# x_offset = 19, regions: 307.0\n",
    "# y_offset = 25, regions: 246.0\n",
    "\n",
    "x_offset = 145\n",
    "y_offset = 97\n",
    "new_dataframe = get_rows_by_removing_areas(data_frame,\n",
    "                                           x_name = x_name,\n",
    "                                           y_name = y_name,\n",
    "                                           x_offset = x_offset,\n",
    "                                           y_offset = y_offset,\n",
    "                                           casualty_name = casualty_name,\n",
    "                                           casualty_target_names = casualty_target_names)\n",
    "new_dataframe.to_csv(filename_to_load)"
   ]
  },
  {
   "cell_type": "code",
   "execution_count": 62,
   "id": "316e4ed5-c41a-4714-87d1-fe2d907e5b56",
   "metadata": {},
   "outputs": [
    {
     "data": {
      "text/plain": [
       "'Victoria_victoria.csv'"
      ]
     },
     "execution_count": 62,
     "metadata": {},
     "output_type": "execute_result"
    }
   ],
   "source": [
    "filename_to_load "
   ]
  },
  {
   "cell_type": "code",
   "execution_count": 63,
   "id": "75978b8c-0393-4670-a79b-705f5f6a25a5",
   "metadata": {},
   "outputs": [],
   "source": [
    "filename_to_load = f'{city_name}_victoria.csv'\n",
    "new_dataframe = pd.read_csv(filename_to_load, index_col=0)\n",
    "new_dataframe_2 = new_dataframe\n",
    "data_frame = new_dataframe_2.loc[:, ~new_dataframe_2.columns.isin(['longitude', 'latitude'])]\n",
    "\n",
    "# new_dataframe.to_csv('test_uk.csv')"
   ]
  },
  {
   "cell_type": "markdown",
   "id": "9995025f-6e85-48e8-a2fe-90a66dc4b75a",
   "metadata": {},
   "source": [
    "## Plot accidents"
   ]
  },
  {
   "cell_type": "code",
   "execution_count": 64,
   "id": "29b8e897-3727-471d-ac79-b7f76d24db4f",
   "metadata": {},
   "outputs": [],
   "source": [
    "# # new_dataframe_2 = new_dataframe[new_dataframe['Casualty Severity'] == 'Assistance']\n",
    "# from src.maps import plot_map\n",
    "\n",
    "# latitude_name  = 'latitude'\n",
    "# longitude_name = 'longitude'\n",
    "\n",
    "# new_dataframe_2 = new_dataframe\n",
    "\n",
    "# plot_map(new_dataframe_2,\n",
    "#          latitude_name = latitude_name,\n",
    "#          longitude_name = longitude_name,\n",
    "#          color_by = casualty_name)\n"
   ]
  },
  {
   "cell_type": "markdown",
   "id": "d8226c3d-6af1-4472-8e19-69395c316748",
   "metadata": {},
   "source": [
    "# END TEST"
   ]
  },
  {
   "cell_type": "markdown",
   "id": "5ef3029e-332d-4b62-b06c-522ce971b1dc",
   "metadata": {
    "tags": []
   },
   "source": [
    "## Filtered Histogram"
   ]
  },
  {
   "cell_type": "code",
   "execution_count": 65,
   "id": "93e73324-c061-43fc-84eb-18636a9e319b",
   "metadata": {},
   "outputs": [
    {
     "data": {
      "image/png": "[encoded data removed]",
      "text/plain": [
       "<Figure size 2000x1000 with 1 Axes>"
      ]
     },
     "metadata": {},
     "output_type": "display_data"
    }
   ],
   "source": [
    "data_type = 'filtered'\n",
    "save_histogram(city_name, data_frame[target_class], data_type)"
   ]
  },
  {
   "cell_type": "markdown",
   "id": "7087e544-f742-48e9-aa92-ad8435fe5a22",
   "metadata": {
    "id": "JOSunlOuVeEm",
    "tags": [],
    "toc-hr-collapsed": true
   },
   "source": [
    "## Split de datos"
   ]
  },
  {
   "cell_type": "code",
   "execution_count": 66,
   "id": "fe96b99f-7e78-4318-a49a-5bcdd7dc3be0",
   "metadata": {
    "id": "c921e711"
   },
   "outputs": [],
   "source": [
    "from sklearn.model_selection import train_test_split\n",
    "\n",
    "Y = data_frame[target_class]\n",
    "\n",
    "train, test = train_test_split(data_frame, test_size = 0.3)\n",
    "X_train = X_train_original = train.loc[:, ~train.columns.isin([target_class])]\n",
    "Y_train = Y_train_original = train[target_class]\n",
    "\n",
    "X_test = test.loc[:, ~test.columns.isin([target_class])]\n",
    "Y_test = test[target_class]"
   ]
  },
  {
   "cell_type": "markdown",
   "id": "99f44e13-8abf-4099-91a6-b208513b1b3e",
   "metadata": {},
   "source": [
    "### Downsampling"
   ]
  },
  {
   "cell_type": "code",
   "execution_count": 67,
   "id": "2e9ad1db-ee0d-447b-93e5-91843d7552f4",
   "metadata": {},
   "outputs": [],
   "source": [
    "from sklearn.model_selection import train_test_split\n",
    "from sklearn.utils import resample\n",
    "\n",
    "slight_data  = train[train[target_class] == 'Slight']\n",
    "serious_data = train[train[target_class] == 'Serious']\n",
    "fatal_data   = train[train[target_class] == 'Fatal']\n",
    "\n",
    "X_slight_downsampled  = resample(slight_data,\n",
    "                                 replace = True,\n",
    "                                 n_samples = len(fatal_data))\n",
    "\n",
    "X_serious_downsampled = resample(serious_data,\n",
    "                                 replace = True,\n",
    "                                 n_samples = len(fatal_data))\n",
    "\n",
    "downsampled_dataset = pd.concat([X_slight_downsampled, X_serious_downsampled, fatal_data])\n",
    "\n",
    "# downsampled_train, downsampled_test = train_test_split(downsampled_dataset, test_size=0.2)\n",
    "\n",
    "X_train_downsampled = downsampled_dataset.loc[:, ~downsampled_dataset.columns.isin([target_class])]\n",
    "Y_train_downsampled = downsampled_dataset[target_class]\n",
    "\n",
    "# X_test_downsampled = downsampled_test.loc[:, ~downsampled_test.columns.isin([target_class])]\n",
    "# Y_test_downsampled = downsampled_test[target_class]"
   ]
  },
  {
   "cell_type": "markdown",
   "id": "150a6c59-7cb7-4b8a-8265-50940b8a608b",
   "metadata": {},
   "source": [
    "### Downsampled Histogram"
   ]
  },
  {
   "cell_type": "code",
   "execution_count": 68,
   "id": "14f68c17-2331-4c85-a599-3be87523f72a",
   "metadata": {},
   "outputs": [
    {
     "data": {
      "image/png": "[encoded data removed]",
      "text/plain": [
       "<Figure size 2000x1000 with 1 Axes>"
      ]
     },
     "metadata": {},
     "output_type": "display_data"
    }
   ],
   "source": [
    "data_type = 'downsampled_train'\n",
    "save_histogram(city_name, Y_train, data_type)"
   ]
  },
  {
   "cell_type": "code",
   "execution_count": 69,
   "id": "10215e2a-a88a-4885-95df-550be6b28571",
   "metadata": {},
   "outputs": [],
   "source": [
    "from sklearn.model_selection import train_test_split\n",
    "from sklearn.utils import resample\n",
    "city = True\n",
    "if city:\n",
    "    slight_data  = train[train[target_class] == 'Slight']\n",
    "    assistance_data = train[train[target_class] == 'Assistance']\n",
    "\n",
    "    X_slight_downsampled  = resample(slight_data,\n",
    "                                     replace = True,\n",
    "                                     n_samples = len(assistance_data))\n",
    "\n",
    "\n",
    "    downsampled_dataset = pd.concat([X_slight_downsampled, assistance_data])\n",
    "\n",
    "    # downsampled_train, downsampled_test = train_test_split(downsampled_dataset, test_size=0.2)\n",
    "\n",
    "\n",
    "    X_train_downsampled = downsampled_dataset.loc[:, ~downsampled_dataset.columns.isin([target_class])]\n",
    "    Y_train_downsampled = downsampled_dataset[target_class]\n",
    "\n",
    "    # X_test_downsampled = downsampled_test.loc[:, ~downsampled_test.columns.isin([target_class])]\n",
    "    # Y_test_downsampled = downsampled_test[target_class]"
   ]
  },
  {
   "cell_type": "code",
   "execution_count": 70,
   "id": "bf42e63b-364b-476a-acb1-a0c716e6ca71",
   "metadata": {
    "id": "603c5d0e"
   },
   "outputs": [],
   "source": [
    "# fv2gi(feature_vector)\n",
    "# sorted(feature_vector.items(), key = lambda item: item[0][1])\n",
    "\n",
    "# for item in feature_vector['Accident Features'].items():\n",
    "#     print(item[1])\n",
    "\n",
    "# feature_vector[parent_key].items()\n",
    "\n",
    "# sorted(feature_vector['Accident Features'].items(), key = lambda item: item,\n",
    "#                                reverse = True)\n",
    "\n",
    "# print(feature_vector['Accident Features']['feature_weights'])\n",
    "\n",
    "# fv = np.array(feature_vector['Accident Features']['feature_childs'])\n",
    "# list(fv[indexes])"
   ]
  },
  {
   "cell_type": "markdown",
   "id": "72870887-e16e-499e-9fb2-e739e24f02d2",
   "metadata": {
    "id": "gLtQ4-JMW0Tv",
    "tags": []
   },
   "source": [
    "## Normalización de datos"
   ]
  },
  {
   "cell_type": "code",
   "execution_count": 71,
   "id": "87fdc462-0323-43e2-bfb2-0fdada4ae604",
   "metadata": {},
   "outputs": [],
   "source": [
    "# !conda install -c conda-forge imbalanced-learn"
   ]
  },
  {
   "cell_type": "code",
   "execution_count": 72,
   "id": "35ca5eac-b7ac-461a-ac8b-f1fd259e2c51",
   "metadata": {},
   "outputs": [
    {
     "data": {
      "text/html": [
       "<div>\n",
       "<style scoped>\n",
       "    .dataframe tbody tr th:only-of-type {\n",
       "        vertical-align: middle;\n",
       "    }\n",
       "\n",
       "    .dataframe tbody tr th {\n",
       "        vertical-align: top;\n",
       "    }\n",
       "\n",
       "    .dataframe thead th {\n",
       "        text-align: right;\n",
       "    }\n",
       "</style>\n",
       "<table border=\"1\" class=\"dataframe\">\n",
       "  <thead>\n",
       "    <tr style=\"text-align: right;\">\n",
       "      <th></th>\n",
       "      <th>Easting</th>\n",
       "      <th>Northing</th>\n",
       "      <th>1st Road Class</th>\n",
       "      <th>Number of Vehicles</th>\n",
       "      <th>Road Surface</th>\n",
       "      <th>Speed Limit</th>\n",
       "      <th>Lighting Conditions</th>\n",
       "      <th>Weather Conditions</th>\n",
       "      <th>dia_semana</th>\n",
       "      <th>semana_en_año</th>\n",
       "      <th>Type of Vehicle</th>\n",
       "      <th>Age of Vehicle</th>\n",
       "      <th>First Point of Impact</th>\n",
       "      <th>Casualty Class</th>\n",
       "      <th>Sex of Casualty</th>\n",
       "      <th>Age of Casualty</th>\n",
       "      <th>Casualty Severity</th>\n",
       "      <th>Accident Time Sin</th>\n",
       "      <th>Accident Time Cos</th>\n",
       "    </tr>\n",
       "  </thead>\n",
       "  <tbody>\n",
       "    <tr>\n",
       "      <th>4014</th>\n",
       "      <td>2579282</td>\n",
       "      <td>2302242</td>\n",
       "      <td>0</td>\n",
       "      <td>1</td>\n",
       "      <td>1</td>\n",
       "      <td>100</td>\n",
       "      <td>1</td>\n",
       "      <td>1</td>\n",
       "      <td>2</td>\n",
       "      <td>48</td>\n",
       "      <td>4</td>\n",
       "      <td>2005</td>\n",
       "      <td>6</td>\n",
       "      <td>2</td>\n",
       "      <td>0</td>\n",
       "      <td>3</td>\n",
       "      <td>Assistance</td>\n",
       "      <td>-8.870108e-01</td>\n",
       "      <td>-0.461749</td>\n",
       "    </tr>\n",
       "    <tr>\n",
       "      <th>4041</th>\n",
       "      <td>2593424</td>\n",
       "      <td>2304909</td>\n",
       "      <td>0</td>\n",
       "      <td>2</td>\n",
       "      <td>1</td>\n",
       "      <td>100</td>\n",
       "      <td>1</td>\n",
       "      <td>1</td>\n",
       "      <td>7</td>\n",
       "      <td>47</td>\n",
       "      <td>1</td>\n",
       "      <td>1998</td>\n",
       "      <td>4</td>\n",
       "      <td>3</td>\n",
       "      <td>0</td>\n",
       "      <td>3</td>\n",
       "      <td>Slight</td>\n",
       "      <td>3.826834e-01</td>\n",
       "      <td>-0.923880</td>\n",
       "    </tr>\n",
       "    <tr>\n",
       "      <th>4042</th>\n",
       "      <td>2593424</td>\n",
       "      <td>2304909</td>\n",
       "      <td>0</td>\n",
       "      <td>2</td>\n",
       "      <td>1</td>\n",
       "      <td>100</td>\n",
       "      <td>1</td>\n",
       "      <td>1</td>\n",
       "      <td>7</td>\n",
       "      <td>47</td>\n",
       "      <td>1</td>\n",
       "      <td>1998</td>\n",
       "      <td>4</td>\n",
       "      <td>3</td>\n",
       "      <td>1</td>\n",
       "      <td>2</td>\n",
       "      <td>Assistance</td>\n",
       "      <td>3.826834e-01</td>\n",
       "      <td>-0.923880</td>\n",
       "    </tr>\n",
       "    <tr>\n",
       "      <th>4043</th>\n",
       "      <td>2593424</td>\n",
       "      <td>2304909</td>\n",
       "      <td>0</td>\n",
       "      <td>2</td>\n",
       "      <td>1</td>\n",
       "      <td>100</td>\n",
       "      <td>1</td>\n",
       "      <td>1</td>\n",
       "      <td>7</td>\n",
       "      <td>47</td>\n",
       "      <td>1</td>\n",
       "      <td>1998</td>\n",
       "      <td>4</td>\n",
       "      <td>2</td>\n",
       "      <td>0</td>\n",
       "      <td>2</td>\n",
       "      <td>Slight</td>\n",
       "      <td>3.826834e-01</td>\n",
       "      <td>-0.923880</td>\n",
       "    </tr>\n",
       "    <tr>\n",
       "      <th>5848</th>\n",
       "      <td>2385725</td>\n",
       "      <td>2306720</td>\n",
       "      <td>0</td>\n",
       "      <td>1</td>\n",
       "      <td>1</td>\n",
       "      <td>80</td>\n",
       "      <td>9</td>\n",
       "      <td>1</td>\n",
       "      <td>5</td>\n",
       "      <td>50</td>\n",
       "      <td>2</td>\n",
       "      <td>1995</td>\n",
       "      <td>4</td>\n",
       "      <td>2</td>\n",
       "      <td>0</td>\n",
       "      <td>2</td>\n",
       "      <td>Assistance</td>\n",
       "      <td>-4.361939e-02</td>\n",
       "      <td>0.999048</td>\n",
       "    </tr>\n",
       "    <tr>\n",
       "      <th>...</th>\n",
       "      <td>...</td>\n",
       "      <td>...</td>\n",
       "      <td>...</td>\n",
       "      <td>...</td>\n",
       "      <td>...</td>\n",
       "      <td>...</td>\n",
       "      <td>...</td>\n",
       "      <td>...</td>\n",
       "      <td>...</td>\n",
       "      <td>...</td>\n",
       "      <td>...</td>\n",
       "      <td>...</td>\n",
       "      <td>...</td>\n",
       "      <td>...</td>\n",
       "      <td>...</td>\n",
       "      <td>...</td>\n",
       "      <td>...</td>\n",
       "      <td>...</td>\n",
       "      <td>...</td>\n",
       "    </tr>\n",
       "    <tr>\n",
       "      <th>10434</th>\n",
       "      <td>2236475</td>\n",
       "      <td>2808547</td>\n",
       "      <td>4</td>\n",
       "      <td>3</td>\n",
       "      <td>1</td>\n",
       "      <td>50</td>\n",
       "      <td>3</td>\n",
       "      <td>1</td>\n",
       "      <td>3</td>\n",
       "      <td>46</td>\n",
       "      <td>10</td>\n",
       "      <td>1988</td>\n",
       "      <td>1</td>\n",
       "      <td>2</td>\n",
       "      <td>0</td>\n",
       "      <td>2</td>\n",
       "      <td>Slight</td>\n",
       "      <td>-6.755902e-01</td>\n",
       "      <td>0.737277</td>\n",
       "    </tr>\n",
       "    <tr>\n",
       "      <th>10435</th>\n",
       "      <td>2236475</td>\n",
       "      <td>2808547</td>\n",
       "      <td>4</td>\n",
       "      <td>3</td>\n",
       "      <td>1</td>\n",
       "      <td>50</td>\n",
       "      <td>3</td>\n",
       "      <td>1</td>\n",
       "      <td>3</td>\n",
       "      <td>46</td>\n",
       "      <td>2</td>\n",
       "      <td>1988</td>\n",
       "      <td>1</td>\n",
       "      <td>2</td>\n",
       "      <td>0</td>\n",
       "      <td>2</td>\n",
       "      <td>Slight</td>\n",
       "      <td>-6.755902e-01</td>\n",
       "      <td>0.737277</td>\n",
       "    </tr>\n",
       "    <tr>\n",
       "      <th>5792</th>\n",
       "      <td>2229170</td>\n",
       "      <td>2809734</td>\n",
       "      <td>0</td>\n",
       "      <td>1</td>\n",
       "      <td>1</td>\n",
       "      <td>60</td>\n",
       "      <td>5</td>\n",
       "      <td>1</td>\n",
       "      <td>3</td>\n",
       "      <td>51</td>\n",
       "      <td>1</td>\n",
       "      <td>1991</td>\n",
       "      <td>4</td>\n",
       "      <td>3</td>\n",
       "      <td>0</td>\n",
       "      <td>1</td>\n",
       "      <td>Assistance</td>\n",
       "      <td>9.659258e-01</td>\n",
       "      <td>0.258819</td>\n",
       "    </tr>\n",
       "    <tr>\n",
       "      <th>5793</th>\n",
       "      <td>2229170</td>\n",
       "      <td>2809734</td>\n",
       "      <td>0</td>\n",
       "      <td>1</td>\n",
       "      <td>1</td>\n",
       "      <td>60</td>\n",
       "      <td>5</td>\n",
       "      <td>1</td>\n",
       "      <td>3</td>\n",
       "      <td>51</td>\n",
       "      <td>1</td>\n",
       "      <td>1991</td>\n",
       "      <td>4</td>\n",
       "      <td>2</td>\n",
       "      <td>1</td>\n",
       "      <td>1</td>\n",
       "      <td>Assistance</td>\n",
       "      <td>9.659258e-01</td>\n",
       "      <td>0.258819</td>\n",
       "    </tr>\n",
       "    <tr>\n",
       "      <th>6721</th>\n",
       "      <td>2234958</td>\n",
       "      <td>2810619</td>\n",
       "      <td>1</td>\n",
       "      <td>1</td>\n",
       "      <td>1</td>\n",
       "      <td>999</td>\n",
       "      <td>1</td>\n",
       "      <td>1</td>\n",
       "      <td>6</td>\n",
       "      <td>42</td>\n",
       "      <td>10</td>\n",
       "      <td>2004</td>\n",
       "      <td>5</td>\n",
       "      <td>4</td>\n",
       "      <td>0</td>\n",
       "      <td>2</td>\n",
       "      <td>Assistance</td>\n",
       "      <td>-3.216245e-16</td>\n",
       "      <td>-1.000000</td>\n",
       "    </tr>\n",
       "  </tbody>\n",
       "</table>\n",
       "<p>4714 rows × 19 columns</p>\n",
       "</div>"
      ],
      "text/plain": [
       "       Easting  Northing  1st Road Class  Number of Vehicles  Road Surface   \n",
       "4014   2579282   2302242               0                   1             1  \\\n",
       "4041   2593424   2304909               0                   2             1   \n",
       "4042   2593424   2304909               0                   2             1   \n",
       "4043   2593424   2304909               0                   2             1   \n",
       "5848   2385725   2306720               0                   1             1   \n",
       "...        ...       ...             ...                 ...           ...   \n",
       "10434  2236475   2808547               4                   3             1   \n",
       "10435  2236475   2808547               4                   3             1   \n",
       "5792   2229170   2809734               0                   1             1   \n",
       "5793   2229170   2809734               0                   1             1   \n",
       "6721   2234958   2810619               1                   1             1   \n",
       "\n",
       "       Speed Limit  Lighting Conditions  Weather Conditions  dia_semana   \n",
       "4014           100                    1                   1           2  \\\n",
       "4041           100                    1                   1           7   \n",
       "4042           100                    1                   1           7   \n",
       "4043           100                    1                   1           7   \n",
       "5848            80                    9                   1           5   \n",
       "...            ...                  ...                 ...         ...   \n",
       "10434           50                    3                   1           3   \n",
       "10435           50                    3                   1           3   \n",
       "5792            60                    5                   1           3   \n",
       "5793            60                    5                   1           3   \n",
       "6721           999                    1                   1           6   \n",
       "\n",
       "       semana_en_año  Type of Vehicle  Age of Vehicle  First Point of Impact   \n",
       "4014              48                4            2005                      6  \\\n",
       "4041              47                1            1998                      4   \n",
       "4042              47                1            1998                      4   \n",
       "4043              47                1            1998                      4   \n",
       "5848              50                2            1995                      4   \n",
       "...              ...              ...             ...                    ...   \n",
       "10434             46               10            1988                      1   \n",
       "10435             46                2            1988                      1   \n",
       "5792              51                1            1991                      4   \n",
       "5793              51                1            1991                      4   \n",
       "6721              42               10            2004                      5   \n",
       "\n",
       "       Casualty Class  Sex of Casualty  Age of Casualty Casualty Severity   \n",
       "4014                2                0                3        Assistance  \\\n",
       "4041                3                0                3            Slight   \n",
       "4042                3                1                2        Assistance   \n",
       "4043                2                0                2            Slight   \n",
       "5848                2                0                2        Assistance   \n",
       "...               ...              ...              ...               ...   \n",
       "10434               2                0                2            Slight   \n",
       "10435               2                0                2            Slight   \n",
       "5792                3                0                1        Assistance   \n",
       "5793                2                1                1        Assistance   \n",
       "6721                4                0                2        Assistance   \n",
       "\n",
       "       Accident Time Sin  Accident Time Cos  \n",
       "4014       -8.870108e-01          -0.461749  \n",
       "4041        3.826834e-01          -0.923880  \n",
       "4042        3.826834e-01          -0.923880  \n",
       "4043        3.826834e-01          -0.923880  \n",
       "5848       -4.361939e-02           0.999048  \n",
       "...                  ...                ...  \n",
       "10434      -6.755902e-01           0.737277  \n",
       "10435      -6.755902e-01           0.737277  \n",
       "5792        9.659258e-01           0.258819  \n",
       "5793        9.659258e-01           0.258819  \n",
       "6721       -3.216245e-16          -1.000000  \n",
       "\n",
       "[4714 rows x 19 columns]"
      ]
     },
     "execution_count": 72,
     "metadata": {},
     "output_type": "execute_result"
    }
   ],
   "source": [
    "data_frame"
   ]
  },
  {
   "cell_type": "code",
   "execution_count": 73,
   "id": "72850d47-f349-4c18-8bff-5f3c31ae720e",
   "metadata": {
    "id": "FHb1AMbZjm9m"
   },
   "outputs": [],
   "source": [
    "if city:\n",
    "    X_train = X_train.astype(int)\n",
    "    X_test  = X_test.astype(int)\n",
    "    X_train_downsampled = X_train_downsampled.astype(int)\n",
    "    # X_test_downsampled  = X_test_downsampled.astype(int)\n",
    "\n",
    "    X_train = normalize_data(X_train)\n",
    "    X_test  = normalize_data(X_test)\n",
    "    X_train_downsampled = normalize_data(X_train_downsampled)\n",
    "    # X_test_downsampled  = normalize_data(X_test_downsampled)\n",
    "\n",
    "    X_train_original = X_train_original.astype(int)\n",
    "    X_train_original = normalize_data(X_train_original)"
   ]
  },
  {
   "cell_type": "markdown",
   "id": "b4444ea6-da1c-4057-9565-b7da88831617",
   "metadata": {
    "id": "nDVViKK3XCtE",
    "tags": []
   },
   "source": [
    "## Oversamplig de datos"
   ]
  },
  {
   "cell_type": "code",
   "execution_count": 74,
   "id": "05de267a-ddc9-4d24-a923-b698e15a5f49",
   "metadata": {
    "id": "f5125433-f3ee-4cd3-bc5d-dd3a6acfca54"
   },
   "outputs": [],
   "source": [
    "# print('********** Train Before OverSampling **********')\n",
    "# print('Slight: ', (Y_train == 'Slight').sum())\n",
    "# print('Serious:', (Y_train == 'Serious').sum())\n",
    "# print('Fatal:  ', (Y_train == 'Fatal').sum())\n",
    "# print('\\n Total X:', len(X_train), ' Total Y:', len(Y_train), '\\n')\n",
    "\n",
    "# X_train, Y_train = oversample_data(X_train, Y_train)\n",
    "\n",
    "# print('********** Test **********')\n",
    "# print('Slight: ', (Y_test == 'Slight').sum())\n",
    "# print('Serious:', (Y_test == 'Serious').sum())\n",
    "# print('Fatal:  ', (Y_test == 'Fatal').sum())\n",
    "# print('\\n Total X:', len(Y_test), ' Total Y:', len(Y_test), '\\n')"
   ]
  },
  {
   "cell_type": "code",
   "execution_count": 75,
   "id": "98041bb8-a532-4bb9-ac56-e1e322a70cf7",
   "metadata": {},
   "outputs": [
    {
     "name": "stdout",
     "output_type": "stream",
     "text": [
      "********** Train Before OverSampling **********\n",
      "Slight:  1461\n",
      "Assistance:   1838\n",
      "\n",
      " Total X: 3299  Total Y: 3299 \n",
      "\n",
      "********** After OverSampling **********\n",
      "Slight:  1838\n",
      "Assistance: 1838\n",
      "\n",
      " Total X:  3676  Total Y:  3676 \n",
      "\n",
      "********** Test **********\n",
      "Slight:  604\n",
      "Assistance:   811\n",
      "\n",
      " Total X: 1415  Total Y: 1415 \n",
      "\n"
     ]
    }
   ],
   "source": [
    "if city:\n",
    "    print('********** Train Before OverSampling **********')\n",
    "    print('Slight: ', (Y_train == 'Slight').sum())\n",
    "    print('Assistance:  ', (Y_train == 'Assistance').sum())\n",
    "    print('\\n Total X:', len(X_train), ' Total Y:', len(Y_train), '\\n')\n",
    "\n",
    "    X_train, Y_train = oversample_data(X_train, Y_train)\n",
    "\n",
    "    print('********** Test **********')\n",
    "    print('Slight: ', (Y_test == 'Slight').sum())\n",
    "    print('Assistance:  ', (Y_test == 'Assistance').sum())\n",
    "    print('\\n Total X:', len(Y_test), ' Total Y:', len(Y_test), '\\n')"
   ]
  },
  {
   "cell_type": "markdown",
   "id": "517ee357-348f-4eac-a274-ae4f929b7cee",
   "metadata": {},
   "source": [
    "### OVersampled Histogram"
   ]
  },
  {
   "cell_type": "code",
   "execution_count": 76,
   "id": "7ea232a9-a4eb-46d5-b71b-684443483c8d",
   "metadata": {},
   "outputs": [
    {
     "data": {
      "image/png": "[encoded data removed]",
      "text/plain": [
       "<Figure size 2000x1000 with 1 Axes>"
      ]
     },
     "metadata": {},
     "output_type": "display_data"
    }
   ],
   "source": [
    "data_type = 'oversampled_train'\n",
    "save_histogram(city_name, Y_train, data_type)"
   ]
  },
  {
   "cell_type": "markdown",
   "id": "bcdb36a4-bb4c-4b36-a6c4-ef3a80f6ac41",
   "metadata": {
    "tags": [],
    "toc-hr-collapsed": true
   },
   "source": [
    "## XGBoost"
   ]
  },
  {
   "cell_type": "code",
   "execution_count": 77,
   "id": "df6f4640-aac4-4bcf-953b-e8c70e99ed8b",
   "metadata": {},
   "outputs": [],
   "source": [
    "from xgboost import XGBClassifier\n",
    "from sklearn.metrics import accuracy_score\n",
    "from hyperopt import STATUS_OK, Trials, fmin, hp, tpe"
   ]
  },
  {
   "cell_type": "markdown",
   "id": "e81f0f35-664f-4d4b-b075-98fbc3714d09",
   "metadata": {},
   "source": [
    "### Genético"
   ]
  },
  {
   "cell_type": "code",
   "execution_count": null,
   "id": "3a9885ef-c601-42b5-bd68-1252be794ae6",
   "metadata": {},
   "outputs": [],
   "source": []
  },
  {
   "cell_type": "code",
   "execution_count": 78,
   "id": "3e01c804-e1e5-47e3-ad76-b360148bd9f1",
   "metadata": {},
   "outputs": [
    {
     "data": {
      "text/plain": [
       "4014     Assistance\n",
       "4041         Slight\n",
       "4042     Assistance\n",
       "4043         Slight\n",
       "5848     Assistance\n",
       "            ...    \n",
       "10434        Slight\n",
       "10435        Slight\n",
       "5792     Assistance\n",
       "5793     Assistance\n",
       "6721     Assistance\n",
       "Name: Casualty Severity, Length: 4714, dtype: object"
      ]
     },
     "execution_count": 78,
     "metadata": {},
     "output_type": "execute_result"
    }
   ],
   "source": [
    "data_frame['Casualty Severity']"
   ]
  },
  {
   "cell_type": "code",
   "execution_count": 79,
   "id": "91130260-7ec2-42b6-a82b-ba9f90adb16d",
   "metadata": {},
   "outputs": [],
   "source": [
    "if city:\n",
    "    casualty_to_one_hot(Y_train)\n",
    "    Y_train"
   ]
  },
  {
   "cell_type": "code",
   "execution_count": 80,
   "id": "9547e241-a7a7-4d4a-b208-e25748cfeb23",
   "metadata": {},
   "outputs": [],
   "source": [
    "# SEVERITY_TYPE_REPLACE = {'Slight': 0,\n",
    "#                          'Assistance': 1\n",
    "#                         }\n",
    "\n",
    "# Y_train.replace(SEVERITY_TYPE_REPLACE, inplace = True)\n",
    "# Y_train_downsampled.replace(SEVERITY_TYPE_REPLACE, inplace = True)\n",
    "# Y_test.replace(SEVERITY_TYPE_REPLACE, inplace = True)"
   ]
  },
  {
   "cell_type": "code",
   "execution_count": 81,
   "id": "e1f619bf-c496-4d80-b851-0349fb6b1196",
   "metadata": {
    "tags": []
   },
   "outputs": [
    {
     "name": "stdout",
     "output_type": "stream",
     "text": [
      "This is number 0 generation\n",
      "New population is 0\n",
      "Best F1 score in the this iteration = 0.7399, best solution [ 0.46 22.    1.5 ]\n",
      "This is number 1 generation\n",
      "New population is 19\n",
      "Best F1 score in the this iteration = 0.742, best solution [ 0.28 20.    1.7 ]\n",
      "This is number 2 generation\n",
      "New population is 19\n",
      "Best F1 score in the this iteration = 0.7449, best solution [4.0e-01 1.7e+01 1.0e-02]\n",
      "This is number 3 generation\n",
      "New population is 16\n",
      "Best F1 score in the this iteration = 0.7463, best solution [4.0e-01 1.9e+01 1.0e-02]\n",
      "This is number 4 generation\n",
      "New population is 23\n",
      "Best F1 score in the this iteration = 0.7505, best solution [4.0e-01 2.4e+01 1.0e-02]\n",
      "This is number 5 generation\n",
      "New population is 26\n",
      "Best F1 score in the this iteration = 0.7505, best solution [4.0e-01 2.4e+01 1.0e-02]\n",
      "This is number 6 generation\n",
      "New population is 17\n",
      "Best F1 score in the this iteration = 0.7505, best solution [4.0e-01 2.4e+01 1.0e-02]\n",
      "This is number 7 generation\n",
      "New population is 25\n",
      "Best F1 score in the this iteration = 0.7505, best solution [4.0e-01 2.4e+01 1.0e-02]\n",
      "This is number 8 generation\n",
      "New population is 22\n",
      "Best F1 score in the this iteration = 0.7555, best solution [6.0e-01 2.5e+01 1.0e-02]\n",
      "This is number 9 generation\n",
      "New population is 25\n",
      "Best F1 score in the this iteration = 0.7555, best solution [6.0e-01 2.5e+01 1.0e-02]\n",
      "This is number 10 generation\n",
      "New population is 25\n",
      "Best F1 score in the this iteration = 0.7555, best solution [6.0e-01 2.5e+01 1.0e-02]\n",
      "This is number 11 generation\n",
      "New population is 24\n",
      "Best F1 score in the this iteration = 0.7555, best solution [6.0e-01 2.5e+01 1.0e-02]\n",
      "This is number 12 generation\n",
      "New population is 20\n",
      "Best F1 score in the this iteration = 0.7555, best solution [6.0e-01 2.5e+01 1.0e-02]\n",
      "This is number 13 generation\n",
      "New population is 24\n",
      "Best F1 score in the this iteration = 0.7555, best solution [6.0e-01 2.5e+01 1.0e-02]\n",
      "This is number 14 generation\n",
      "New population is 24\n",
      "Best F1 score in the this iteration = 0.7555, best solution [6.0e-01 2.5e+01 1.0e-02]\n",
      "This is number 15 generation\n",
      "New population is 22\n",
      "Best F1 score in the this iteration = 0.7555, best solution [6.0e-01 2.5e+01 1.0e-02]\n",
      "This is number 16 generation\n",
      "New population is 17\n",
      "Best F1 score in the this iteration = 0.7555, best solution [6.0e-01 2.5e+01 1.0e-02]\n",
      "This is number 17 generation\n",
      "New population is 23\n",
      "Best F1 score in the this iteration = 0.7555, best solution [6.0e-01 2.5e+01 1.0e-02]\n",
      "This is number 18 generation\n",
      "New population is 24\n",
      "Best F1 score in the this iteration = 0.7555, best solution [6.0e-01 2.5e+01 1.0e-02]\n",
      "This is number 19 generation\n",
      "New population is 24\n",
      "Best F1 score in the this iteration = 0.7555, best solution [6.0e-01 2.5e+01 1.0e-02]\n",
      "This is number 20 generation\n",
      "New population is 25\n",
      "Best F1 score in the this iteration = 0.7555, best solution [6.0e-01 2.5e+01 1.0e-02]\n",
      "This is number 21 generation\n",
      "New population is 27\n",
      "Best F1 score in the this iteration = 0.7555, best solution [6.0e-01 2.5e+01 1.0e-02]\n",
      "This is number 22 generation\n",
      "New population is 20\n",
      "Best F1 score in the this iteration = 0.7555, best solution [6.0e-01 2.5e+01 1.0e-02]\n",
      "This is number 23 generation\n",
      "New population is 22\n",
      "Best F1 score in the this iteration = 0.7555, best solution [6.0e-01 2.5e+01 1.0e-02]\n",
      "This is number 24 generation\n",
      "New population is 16\n",
      "Best F1 score in the this iteration = 0.7555, best solution [6.0e-01 2.5e+01 1.0e-02]\n",
      "This is number 25 generation\n",
      "New population is 22\n",
      "Best F1 score in the this iteration = 0.7555, best solution [6.0e-01 2.5e+01 1.0e-02]\n",
      "This is number 26 generation\n",
      "New population is 22\n",
      "Best F1 score in the this iteration = 0.7555, best solution [6.0e-01 2.5e+01 1.0e-02]\n",
      "This is number 27 generation\n",
      "New population is 24\n",
      "Best F1 score in the this iteration = 0.7555, best solution [6.0e-01 2.5e+01 1.0e-02]\n",
      "This is number 28 generation\n",
      "New population is 18\n",
      "Best F1 score in the this iteration = 0.7555, best solution [6.0e-01 2.5e+01 1.0e-02]\n",
      "This is number 29 generation\n",
      "New population is 26\n",
      "Best F1 score in the this iteration = 0.7555, best solution [6.0e-01 2.5e+01 1.0e-02]\n",
      "This is number 30 generation\n",
      "New population is 21\n",
      "Best F1 score in the this iteration = 0.7555, best solution [6.0e-01 2.5e+01 1.0e-02]\n",
      "This is number 31 generation\n",
      "New population is 18\n",
      "Best F1 score in the this iteration = 0.7555, best solution [6.0e-01 2.5e+01 1.0e-02]\n",
      "This is number 32 generation\n",
      "New population is 21\n",
      "Best F1 score in the this iteration = 0.7555, best solution [6.0e-01 2.5e+01 1.0e-02]\n",
      "This is number 33 generation\n",
      "New population is 23\n",
      "Best F1 score in the this iteration = 0.7555, best solution [6.0e-01 2.5e+01 1.0e-02]\n",
      "This is number 34 generation\n",
      "New population is 20\n",
      "Best F1 score in the this iteration = 0.7555, best solution [6.0e-01 2.5e+01 1.0e-02]\n",
      "This is number 35 generation\n",
      "New population is 21\n",
      "Best F1 score in the this iteration = 0.7555, best solution [6.0e-01 2.5e+01 1.0e-02]\n",
      "This is number 36 generation\n",
      "New population is 20\n",
      "Best F1 score in the this iteration = 0.7555, best solution [6.0e-01 2.5e+01 1.0e-02]\n",
      "This is number 37 generation\n",
      "New population is 17\n",
      "Best F1 score in the this iteration = 0.7555, best solution [6.0e-01 2.5e+01 1.0e-02]\n",
      "This is number 38 generation\n",
      "New population is 13\n",
      "Best F1 score in the this iteration = 0.7555, best solution [6.0e-01 2.5e+01 1.0e-02]\n",
      "This is number 39 generation\n",
      "New population is 21\n",
      "Best F1 score in the this iteration = 0.7555, best solution [6.0e-01 2.5e+01 1.0e-02]\n",
      "This is number 40 generation\n",
      "New population is 19\n",
      "Best F1 score in the this iteration = 0.7555, best solution [6.0e-01 2.5e+01 1.0e-02]\n",
      "This is number 41 generation\n",
      "New population is 21\n",
      "Best F1 score in the this iteration = 0.7555, best solution [6.0e-01 2.5e+01 1.0e-02]\n",
      "This is number 42 generation\n",
      "New population is 13\n",
      "Best F1 score in the this iteration = 0.7555, best solution [6.0e-01 2.5e+01 1.0e-02]\n",
      "This is number 43 generation\n",
      "New population is 23\n",
      "Best F1 score in the this iteration = 0.7555, best solution [6.0e-01 2.5e+01 1.0e-02]\n",
      "This is number 44 generation\n",
      "New population is 19\n",
      "Best F1 score in the this iteration = 0.7555, best solution [6.0e-01 2.5e+01 1.0e-02]\n",
      "This is number 45 generation\n",
      "New population is 16\n",
      "Best F1 score in the this iteration = 0.7555, best solution [6.0e-01 2.5e+01 1.0e-02]\n",
      "This is number 46 generation\n",
      "New population is 26\n",
      "Best F1 score in the this iteration = 0.7555, best solution [6.0e-01 2.5e+01 1.0e-02]\n",
      "This is number 47 generation\n",
      "New population is 24\n",
      "Best F1 score in the this iteration = 0.7555, best solution [6.0e-01 2.5e+01 1.0e-02]\n",
      "This is number 48 generation\n",
      "New population is 24\n",
      "Best F1 score in the this iteration = 0.7555, best solution [6.0e-01 2.5e+01 1.0e-02]\n",
      "This is number 49 generation\n",
      "New population is 22\n",
      "Best F1 score in the this iteration = 0.7555, best solution [6.0e-01 2.5e+01 1.0e-02]\n"
     ]
    }
   ],
   "source": [
    "import xgboost as xgb\n",
    "import random\n",
    "\n",
    "if city and calculate_weights:\n",
    "    casualty_to_one_hot(Y_train)\n",
    "    casualty_to_one_hot(Y_train_downsampled)\n",
    "    casualty_to_one_hot(Y_test)\n",
    "\n",
    "    populationSize = (number_of_individuals, number_of_hyperparams)\n",
    "    population = initialize_population(number_of_individuals   = number_of_individuals,\n",
    "                                       hyperparams_to_optimize = HYPERPARAMS_TO_OPTIMIZE)\n",
    "\n",
    "    fitnessHistory = np.empty([number_of_generations+1, number_of_individuals]) # Define an array to store the value of each parameter for each parent and generation\n",
    "    populationHistory = np.empty([(number_of_generations+1)*number_of_individuals, number_of_hyperparams]) # Insert the value of initial parameters in history\n",
    "\n",
    "    best_solution_history = np.empty([(number_of_generations), number_of_hyperparams+1])\n",
    "    populationHistory[0:number_of_individuals,:] = population\n",
    "\n",
    "    dtrain = xgb.DMatrix(data  = X_train_downsampled,\n",
    "                         label = Y_train_downsampled)\n",
    "\n",
    "    dtest  = xgb.DMatrix(data  = X_test, \n",
    "                         label = Y_test)\n",
    "\n",
    "    for generation in range(number_of_generations):\n",
    "\n",
    "        print(\"This is number %s generation\" % (generation))\n",
    "\n",
    "        new_population = []\n",
    "\n",
    "        unique_individuals = np.unique(population, axis=0)\n",
    "\n",
    "        new_individuals_to_create = number_of_individuals - len(unique_individuals)\n",
    "\n",
    "        for i in range(new_individuals_to_create):\n",
    "            new_individual = generate_individual(hyperparams_to_optimize = HYPERPARAMS_TO_OPTIMIZE)\n",
    "            new_population.append(new_individual)\n",
    "\n",
    "        new_population = np.array(new_population)\n",
    "\n",
    "        if (new_individuals_to_create):\n",
    "            population = np.concatenate((unique_individuals, new_population), axis=0)\n",
    "\n",
    "        # print(f'Current population is {population}')\n",
    "        print(f'New population is {len(new_population)}')\n",
    "\n",
    "        # Train the dataset and obtain fitness\n",
    "        fitnessValue = train_population(population = population,\n",
    "                                        hyperparams_to_optimize = HYPERPARAMS_TO_OPTIMIZE,\n",
    "                                        dMatrixTrain = dtrain,\n",
    "                                        dMatrixTest = dtest,\n",
    "                                        Y_test = Y_test)\n",
    "\n",
    "        fitnessHistory[generation,:] = fitnessValue\n",
    "\n",
    "        # Best score in the current iteration\n",
    "        max_score_index = np.argmax(fitnessHistory[generation,:])\n",
    "        max_score_value = np.max(fitnessHistory[generation,:])\n",
    "        max_score_solution = population[max_score_index]\n",
    "\n",
    "        max_solution_with_score = []\n",
    "        max_solution_with_score = np.append(max_score_solution, max_score_value)\n",
    "        best_solution_history[generation] = max_solution_with_score\n",
    "\n",
    "        print(f\"Best F1 score in the this iteration = {max_score_value}, best solution {max_score_solution}\") # Survival of the fittest - take the top parents, based on the fitness value and number of parents needed to be selected\n",
    "\n",
    "        parents = new_parents_selection(population = population,\n",
    "                                        fitness = fitnessValue,\n",
    "                                        numParents = numberOfParentsMating)\n",
    "\n",
    "        # Mate these parents to create children having parameters from these parents (we are using uniform crossover)\n",
    "        children = crossover_uniform(parents = parents,\n",
    "                                     childrenSize = (populationSize[0] - parents.shape[0], number_of_hyperparams))\n",
    "\n",
    "        # Add mutation to create genetic diversity\n",
    "        children_mutated = mutation(children,\n",
    "                                    hyperparams_to_optimize = HYPERPARAMS_TO_OPTIMIZE)\n",
    "\n",
    "        '''\n",
    "        We will create new population, which will contain parents that where selected previously based on the\n",
    "        fitness score and rest of them  will be children\n",
    "        '''\n",
    "        population[0:parents.shape[0], :] = parents # Fittest parents\n",
    "        population[parents.shape[0]:, :]  = children_mutated # Children\n",
    "\n",
    "        populationHistory[(generation+1)*number_of_individuals : (generation+1)*number_of_individuals + number_of_individuals , :] = population # Store parent information\n",
    "\n",
    "    #Best solution from the final iteration\n",
    "\n",
    "    fitness = train_population(population = population,\n",
    "                               hyperparams_to_optimize = HYPERPARAMS_TO_OPTIMIZE,\n",
    "                               dMatrixTrain = dtrain,\n",
    "                               dMatrixTest = dtest,\n",
    "                               Y_test = Y_test)\n",
    "\n",
    "    fitnessHistory[generation+1, :] = fitness # index of the best solution\n",
    "    bestFitnessIndex = np.where(fitness == np.max(fitness))[0][0]\n",
    "\n",
    "\n",
    "    best_hyperparams = {}\n",
    "    for n_param, hyperparam in enumerate(HYPERPARAMS_TO_OPTIMIZE):\n",
    "        best_hyperparams[hyperparam] = population[bestFitnessIndex][n_param]"
   ]
  },
  {
   "cell_type": "code",
   "execution_count": 82,
   "id": "97f6d1d4-9ae7-4bda-88f2-70b3b0edd466",
   "metadata": {
    "tags": []
   },
   "outputs": [
    {
     "data": {
      "image/png": "[encoded data removed]",
      "text/plain": [
       "<Figure size 1500x800 with 1 Axes>"
      ]
     },
     "metadata": {},
     "output_type": "display_data"
    },
    {
     "data": {
      "image/png": "[encoded data removed]",
      "text/plain": [
       "<Figure size 1500x800 with 1 Axes>"
      ]
     },
     "metadata": {},
     "output_type": "display_data"
    }
   ],
   "source": [
    "if calculate_weights and city:\n",
    "    #### PLOT FITNESS EVOLUTION ####\n",
    "    x_fitness = [np.max(fitnessHistory[i]) for i in range(0,fitnessHistory.shape[0])]\n",
    "\n",
    "    FILE_NAME = f\"{city_name}_ga_{MODEL_TIMESTAMP}.svg\"\n",
    "\n",
    "    plt.figure(figsize=(15, 8))\n",
    "    plt.ylabel('F1-Score')\n",
    "    plt.xlabel('Iterations')\n",
    "    plt.plot(np.arange(len(x_fitness)), x_fitness)\n",
    "    plt.savefig(GA_SCORES_PATH + FILE_NAME)\n",
    "\n",
    "    #### PLOT HYPERPARAMS EVOLUTION ####\n",
    "    FILE_NAME = f\"{city_name}_ga_hyperparams_evolution_p{number_of_individuals}_c{numberOfParentsMating}_{MODEL_TIMESTAMP}.svg\"\n",
    "\n",
    "    LEGEND_LABELS = HYPERPARAMS_TO_OPTIMIZE.keys()\n",
    "\n",
    "    plt.figure(figsize=(15, 8))\n",
    "    best_solution_history_aux = best_solution_history\n",
    "    best_solution_history_aux[:,1] = best_solution_history[:,1]/2\n",
    "    best_solution_history_aux[:,3] = best_solution_history[:,3]/100\n",
    "    plt.plot(best_solution_history_aux[:,:3])\n",
    "    plt.ylabel('Factor')\n",
    "    plt.xlabel('Iterations')\n",
    "    plt.legend(LEGEND_LABELS)\n",
    "    plt.savefig(HYPERPARAMS_EVOLUTON_PATH + FILE_NAME, dpi=300)\n",
    "\n",
    "    FILE_NAME = f\"{city_name}_population_p{number_of_individuals}_c{numberOfParentsMating}_{MODEL_TIMESTAMP}.txt\"\n",
    "\n",
    "    np.savetxt(FINAL_POPULATION_PATH + FILE_NAME, population, fmt='%s')"
   ]
  },
  {
   "cell_type": "markdown",
   "id": "e3f97359-b56b-4759-a9ae-6a14b1117318",
   "metadata": {
    "tags": [],
    "toc-hr-collapsed": true
   },
   "source": [
    "### Hiperparámetros"
   ]
  },
  {
   "cell_type": "markdown",
   "id": "e9923bf8-65ac-4013-83a6-d44ec4932952",
   "metadata": {
    "tags": []
   },
   "source": [
    "#### Carga hiperparámetros"
   ]
  },
  {
   "cell_type": "code",
   "execution_count": 83,
   "id": "91f26532-e97b-4e8d-b418-62bc6bae6ad4",
   "metadata": {
    "tags": []
   },
   "outputs": [],
   "source": [
    "if city and not calculate_weights:\n",
    "    FILE_NAME = f\"{city_name}_hyperparams{loaded_timestamp}.json\"\n",
    "\n",
    "    best_hyperparams = load_json(f\"{HYPERPARAMS_PATH}{city_name}/\", FILE_NAME)\n",
    "\n",
    "# # # 0.04 2 6.5 --> 0.778\n",
    "# best_hyperparams = {}\n",
    "# best_hyperparams['eta'] = 0.1\n",
    "# best_hyperparams['max_depth'] = 2\n",
    "# best_hyperparams['min_child_weight'] = 1\n",
    "# best_hyperparams['n_estimators'] = 583\n",
    "\n",
    "# 1.00e-01 2.00e+00 1.00e+00 5.83e+02 --> 0.72"
   ]
  },
  {
   "cell_type": "markdown",
   "id": "177688c2-4b4a-4350-9959-cc9d4a00e7b7",
   "metadata": {
    "tags": []
   },
   "source": [
    "#### Cálculo de Hiperparámetros"
   ]
  },
  {
   "cell_type": "code",
   "execution_count": 84,
   "id": "42bed804-c60e-4375-ac94-0bd1f0905f0a",
   "metadata": {
    "tags": []
   },
   "outputs": [],
   "source": [
    "# Y_train_onehot = casualty_to_one_hot(Y_train)\n",
    "# Y_test_onehot  = casualty_to_one_hot(Y_test)\n",
    "\n",
    "# space={'max_depth': hp.quniform(\"max_depth\", 3, 25, 1),\n",
    "#         'gamma': hp.uniform ('gamma', 1,9),\n",
    "#         'reg_alpha' : hp.quniform('reg_alpha', 40,180,1),\n",
    "#         'reg_lambda' : hp.uniform('reg_lambda', 0,1),\n",
    "#         'colsample_bytree' : hp.uniform('colsample_bytree', 0.5,1),\n",
    "#         'min_child_weight' : hp.quniform('min_child_weight', 0, 15, 1),\n",
    "#         'n_estimators': hp.quniform('n_estimators', 100, 4000, 100),\n",
    "#         'tree_method': 'gpu_hist'\n",
    "#     }\n",
    "\n",
    "# def objective(space):\n",
    "#     clf = XGBClassifier(n_estimators = int(space['n_estimators']),\n",
    "#                         max_depth = int(space['max_depth']),\n",
    "#                         gamma = space['gamma'],\n",
    "#                         reg_alpha = int(space['reg_alpha']),\n",
    "#                         min_child_weight = int(space['min_child_weight']),\n",
    "#                         colsample_bytree = int(space['colsample_bytree']),\n",
    "#                         tree_method = space['tree_method']\n",
    "#                        )\n",
    "    \n",
    "#     evaluation = [(X_train, Y_train), (X_test, Y_test)]\n",
    "    \n",
    "#     clf.fit(X_train, Y_train,\n",
    "#             eval_set = evaluation, eval_metric = \"auc\",\n",
    "#             early_stopping_rounds = 10, verbose = False)\n",
    "            \n",
    "    \n",
    "#     pred = clf.predict(X_test)\n",
    "#     accuracy = accuracy_score(Y_test, pred>0.5)\n",
    "#     print (\"SCORE:\", accuracy)\n",
    "#     return {'loss': -accuracy, 'status': STATUS_OK }\n",
    "\n",
    "\n",
    "# trials = Trials()\n",
    "\n",
    "# best_hyperparams = fmin(fn = objective,\n",
    "#                         space = space,\n",
    "#                         algo = tpe.suggest,\n",
    "#                         max_evals = 100,\n",
    "#                         trials = trials)"
   ]
  },
  {
   "cell_type": "markdown",
   "id": "967c1546-ff4c-44bf-b498-a8768b9841c4",
   "metadata": {
    "tags": []
   },
   "source": [
    "#### Escritura hiperparámetros"
   ]
  },
  {
   "cell_type": "code",
   "execution_count": 85,
   "id": "f1d93dd0-e49f-4277-9912-a8133be04d67",
   "metadata": {},
   "outputs": [
    {
     "name": "stdout",
     "output_type": "stream",
     "text": [
      "{'eta': 0.6000000000000001, 'max_depth': 25.0, 'min_child_weight': 0.01}\n"
     ]
    }
   ],
   "source": [
    "if calculate_weights and city:\n",
    "    os.makedirs(f\"{HYPERPARAMS_PATH}{city_name}\", exist_ok=True)\n",
    "    FILE_NAME = f\"{city_name}_hyperparams{MODEL_TIMESTAMP}.json\"\n",
    "\n",
    "    write_json(best_hyperparams, f\"{HYPERPARAMS_PATH}{city_name}/\", FILE_NAME)\n",
    "\n",
    "    print(best_hyperparams)"
   ]
  },
  {
   "cell_type": "markdown",
   "id": "f9056928-7146-4e6f-a302-36674539b569",
   "metadata": {
    "toc-hr-collapsed": true
   },
   "source": [
    "### Pesos de características"
   ]
  },
  {
   "cell_type": "markdown",
   "id": "9bf68244-2441-40ad-bf56-78c39abee41c",
   "metadata": {
    "tags": []
   },
   "source": [
    "#### Carga definitiva/auxiliar de pesos"
   ]
  },
  {
   "cell_type": "code",
   "execution_count": 86,
   "id": "d7db3c60-aef7-4d34-814e-4470614b16dc",
   "metadata": {},
   "outputs": [],
   "source": [
    "# best_hyperparams['objective'] = 'binary:logistic'\n",
    "# best_hyperparams.pop('objective')\n",
    "best_hyperparams['max_depth'] = int(best_hyperparams['max_depth'])"
   ]
  },
  {
   "cell_type": "code",
   "execution_count": 87,
   "id": "2d96cd19-bb6e-45dc-82ff-da6e9f382b60",
   "metadata": {},
   "outputs": [],
   "source": [
    "# '2022-07-06-10:47:41'"
   ]
  },
  {
   "cell_type": "markdown",
   "id": "6a7a8d6e-9eec-4a28-a919-f2fb7f0a4751",
   "metadata": {
    "tags": []
   },
   "source": [
    "#### Cálculo de pesos de caracetrísticas"
   ]
  },
  {
   "cell_type": "code",
   "execution_count": 88,
   "id": "4cfb6838-2608-49e0-ba11-5de778c4068a",
   "metadata": {},
   "outputs": [],
   "source": [
    "import xgboost as xgb\n",
    "import random\n",
    "\n",
    "if calculate_weights and city:\n",
    "    casualty_to_one_hot(Y_train)\n",
    "    FILE_NAME = f\"Liverpool_weights_paper-iii.json\"\n",
    "    \n",
    "    feature_vector = load_json(WEIGHTS_PATH, FILE_NAME)\n",
    "    xgboost = XGBClassifier(obj = 'binary:logistic',\n",
    "                            **best_hyperparams,\n",
    "                           \n",
    "                            tree_method = tree_method,\n",
    "                            single_precision_histogram =  True)\n",
    "\n",
    "    xgboost.fit(X_train, Y_train)\n",
    "\n",
    "    child_weights  = np.array(xgboost.feature_importances_)\n",
    "    feature_vector = fill_feature_vector(X_train, child_weights)\n"
   ]
  },
  {
   "cell_type": "markdown",
   "id": "9be44b6a-0b98-4b9c-b238-ee137b1f1130",
   "metadata": {
    "tags": []
   },
   "source": [
    "#### Visualización pesos calculados"
   ]
  },
  {
   "cell_type": "code",
   "execution_count": 89,
   "id": "84699101-6e55-4d8b-be7a-5ff93a7d75d3",
   "metadata": {
    "tags": []
   },
   "outputs": [
    {
     "name": "stdout",
     "output_type": "stream",
     "text": [
      "{'Easting': 10882.0, 'Northing': 6546.0, '1st Road Class': 1853.0, 'Number of Vehicles': 1700.0, 'Road Surface': 781.0, 'Speed Limit': 2428.0, 'Lighting Conditions': 895.0, 'Weather Conditions': 385.0, 'dia_semana': 2675.0, 'semana_en_año': 3568.0, 'Type of Vehicle': 2783.0, 'Age of Vehicle': 8759.0, 'First Point of Impact': 439.0, 'Casualty Class': 4062.0, 'Sex of Casualty': 1739.0, 'Age of Casualty': 5941.0, 'Accident Time Sin': 182.0, 'Accident Time Cos': 204.0}\n",
      "Easting 0.03473528\n",
      "Northing 0.04565134\n",
      "1st Road Class 0.048300255\n",
      "Number of Vehicles 0.10400859\n",
      "Road Surface 0.03611606\n",
      "Speed Limit 0.051379777\n",
      "Lighting Conditions 0.042921998\n",
      "Weather Conditions 0.11515399\n",
      "dia_semana 0.050753605\n",
      "semana_en_año 0.051734082\n",
      "Type of Vehicle 0.018803533\n",
      "Age of Vehicle 0.017981868\n",
      "First Point of Impact 0.13529871\n",
      "Casualty Class 0.074424736\n",
      "Sex of Casualty 0.06575213\n",
      "Age of Casualty 0.031818274\n",
      "Accident Time Sin 0.04081644\n",
      "Accident Time Cos 0.034349393\n"
     ]
    },
    {
     "data": {
      "image/png": "[encoded data removed]",
      "text/plain": [
       "<Figure size 1000x500 with 1 Axes>"
      ]
     },
     "metadata": {},
     "output_type": "display_data"
    }
   ],
   "source": [
    "if calculate_weights and city:\n",
    "    FILE_NAME = f\"{city_name}_figure_weights_{MODEL_TIMESTAMP}.svg\"\n",
    "\n",
    "    print(xgboost.get_booster().get_score(importance_type= 'weight'))\n",
    "    plt.figure(figsize=(10, 5))\n",
    "    plt.barh(X_train.columns, xgboost.feature_importances_)\n",
    "    plt.savefig(WEIGHTS_PATH + FILE_NAME)\n",
    "\n",
    "    for column, weight in zip(X_train.columns,xgboost.feature_importances_):\n",
    "      print(column, weight)"
   ]
  },
  {
   "cell_type": "markdown",
   "id": "394e3cb8-ab56-474e-875b-339a253cfb51",
   "metadata": {},
   "source": [
    "#### Escritura de pesos de características"
   ]
  },
  {
   "cell_type": "code",
   "execution_count": 90,
   "id": "4152e1a2-8d33-49c0-88e9-bf2b5e018ac5",
   "metadata": {},
   "outputs": [],
   "source": [
    "if calculate_weights and city:    \n",
    "    matrix_indexes = fv2gi(feature_vector)\n",
    "\n",
    "    FILE_NAME = f\"{city_name}_weights_{MODEL_TIMESTAMP}.json\"\n",
    "    # FILE_NAME = 'leeds_default_weights.json'\n",
    "\n",
    "    write_json(feature_vector, WEIGHTS_PATH, FILE_NAME)\n",
    "else:\n",
    "    FILE_NAME = f\"{city_name}_weights_paper-iii_{MODEL_TIMESTAMP}.json\"\n",
    "    \n",
    "    feature_vector = load_json(WEIGHTS_PATH, FILE_NAME)"
   ]
  },
  {
   "cell_type": "markdown",
   "id": "e2511fef-b8bd-4a45-822f-7511d3f0a492",
   "metadata": {},
   "source": [
    "### Cálculo índices de matriz"
   ]
  },
  {
   "cell_type": "code",
   "execution_count": 91,
   "id": "a5f2c8e6-5f87-4f4d-bd24-32367e18ff09",
   "metadata": {},
   "outputs": [],
   "source": [
    "if city:\n",
    "    c = fv2gi(feature_vector)"
   ]
  },
  {
   "cell_type": "markdown",
   "id": "17c5d682-31dd-4191-a16b-2dd33611734f",
   "metadata": {
    "id": "4b3fnVqjYFXk",
    "tags": []
   },
   "source": [
    "## Construcción de imágenes"
   ]
  },
  {
   "cell_type": "code",
   "execution_count": 92,
   "id": "bc50b9a0-44be-49cc-9ede-543eb879e093",
   "metadata": {
    "id": "21dcf79f"
   },
   "outputs": [
    {
     "name": "stdout",
     "output_type": "stream",
     "text": [
      "3676\n",
      "3299\n",
      "1415\n"
     ]
    }
   ],
   "source": [
    "if city:\n",
    "    max_dimension_x = len(feature_vector.keys())\n",
    "    max_dimension_y = get_max_child_numbers(feature_vector)\n",
    "    train_bgi = build_gray_images(X_train, max_dimension_x, max_dimension_y, matrix_indexes)\n",
    "    train_original_bgi = build_gray_images(X_train_original, max_dimension_x, max_dimension_y, matrix_indexes)\n",
    "\n",
    "    test_bgi  = build_gray_images(X_test, max_dimension_x, max_dimension_y, matrix_indexes)\n",
    "\n",
    "\n",
    "    pd.DataFrame(train_bgi[:,:,1057])"
   ]
  },
  {
   "cell_type": "markdown",
   "id": "41f75330-8326-4ce5-84ef-9b3025de8199",
   "metadata": {
    "id": "_5saNqHWX4C_",
    "tags": []
   },
   "source": [
    "## Reshape de imágenes"
   ]
  },
  {
   "cell_type": "code",
   "execution_count": 93,
   "id": "b5c77947-7f32-4c8c-8296-b357bc1eca28",
   "metadata": {
    "id": "bbdca6dd",
    "scrolled": true
   },
   "outputs": [],
   "source": [
    "if city:\n",
    "    train_images = shape_images(X_data = X_train,\n",
    "                            gray_images = train_bgi)\n",
    "    test_images  = shape_images(X_data = X_test,\n",
    "                                gray_images = test_bgi)\n",
    "\n",
    "\n",
    "    train_original_images = shape_images(X_data = X_train_original,\n",
    "                                         gray_images = train_original_bgi)"
   ]
  },
  {
   "cell_type": "code",
   "execution_count": 94,
   "id": "e7b5f0fe-cf40-449d-9373-20e61555abb7",
   "metadata": {},
   "outputs": [
    {
     "data": {
      "text/plain": [
       "{'Accident Features': {'feature_childs': ['Easting',\n",
       "   'Northing',\n",
       "   '1st Road Class',\n",
       "   'Number of Vehicles'],\n",
       "  'feature_weights': ['0.03473528', '0.04565134', '0.048300255', '0.10400859'],\n",
       "  'wpi': 0.232695465},\n",
       " 'Roadway Features': {'feature_childs': ['Road Surface', 'Speed Limit'],\n",
       "  'feature_weights': ['0.03611606', '0.051379777'],\n",
       "  'wpi': 0.08749583699999999},\n",
       " 'Environmental Features': {'feature_childs': ['Lighting Conditions',\n",
       "   'Weather Conditions'],\n",
       "  'feature_weights': ['0.042921998', '0.11515399'],\n",
       "  'wpi': 0.158075988},\n",
       " 'Vehicle Features': {'feature_childs': ['Type of Vehicle',\n",
       "   'Age of Vehicle',\n",
       "   'First Point of Impact'],\n",
       "  'feature_weights': ['0.018803533', '0.017981868', '0.13529871'],\n",
       "  'wpi': 0.17208411099999998},\n",
       " 'Time Features': {'feature_childs': ['Accident Time Sin',\n",
       "   'Accident Time Cos',\n",
       "   'dia_semana',\n",
       "   'semana_en_año'],\n",
       "  'feature_weights': ['0.04081644',\n",
       "   '0.034349393',\n",
       "   '0.050753605',\n",
       "   '0.051734082'],\n",
       "  'wpi': 0.17765352},\n",
       " 'Casualty Features': {'feature_childs': ['Casualty Class',\n",
       "   'Sex of Casualty',\n",
       "   'Age of Casualty'],\n",
       "  'feature_weights': ['0.074424736', '0.06575213', '0.031818274'],\n",
       "  'wpi': 0.17199514000000002}}"
      ]
     },
     "execution_count": 94,
     "metadata": {},
     "output_type": "execute_result"
    }
   ],
   "source": [
    "feature_vector"
   ]
  },
  {
   "cell_type": "code",
   "execution_count": 95,
   "id": "09524215-51d5-45ed-956f-8157bba7edce",
   "metadata": {
    "id": "15a5e9c9"
   },
   "outputs": [
    {
     "data": {
      "text/plain": [
       "<Figure size 640x480 with 0 Axes>"
      ]
     },
     "metadata": {},
     "output_type": "display_data"
    },
    {
     "data": {
      "image/png": "[encoded data removed]",
      "text/plain": [
       "<Figure size 300x300 with 1 Axes>"
      ]
     },
     "metadata": {},
     "output_type": "display_data"
    },
    {
     "data": {
      "image/png": "[encoded data removed]",
      "text/plain": [
       "<Figure size 300x300 with 1 Axes>"
      ]
     },
     "metadata": {},
     "output_type": "display_data"
    },
    {
     "data": {
      "image/png": "[encoded data removed]",
      "text/plain": [
       "<Figure size 300x300 with 1 Axes>"
      ]
     },
     "metadata": {},
     "output_type": "display_data"
    }
   ],
   "source": [
    "if city:\n",
    "    plt.gray()\n",
    "    for i in range(0,3):\n",
    "        plt.figure(figsize=(3, 3))\n",
    "        plt.imshow(train_bgi[:,:,i])\n",
    "        # plt.savefig(f\"{city_name}_image_example_{i}.svg\",transparent=True)\n",
    "        plt.show()"
   ]
  },
  {
   "cell_type": "code",
   "execution_count": 96,
   "id": "e6a88573-cd63-4861-a385-8a76f2e04735",
   "metadata": {},
   "outputs": [
    {
     "data": {
      "text/plain": [
       "'2023-10-10-00:15:31'"
      ]
     },
     "execution_count": 96,
     "metadata": {},
     "output_type": "execute_result"
    }
   ],
   "source": [
    "MODEL_TIMESTAMP"
   ]
  },
  {
   "cell_type": "code",
   "execution_count": 97,
   "id": "5a6d9c46-7347-4fbc-ab2c-621249bd5e75",
   "metadata": {},
   "outputs": [],
   "source": [
    "# image = train_bgi[:,:,0]\n",
    "# plt.figure(figsize=(6, 6))\n",
    "# plt.imshow([image.flatten()])\n",
    "# plt.savefig(f\"test.svg\",transparent=True, dpi=150)\n"
   ]
  },
  {
   "cell_type": "code",
   "execution_count": 98,
   "id": "6f1da008-5445-4ee8-877c-e785e3b05d41",
   "metadata": {},
   "outputs": [],
   "source": [
    "# !conda install scikit-image"
   ]
  },
  {
   "cell_type": "code",
   "execution_count": 99,
   "id": "77900b7a-0d33-4c96-aa8b-9d7df768a7f5",
   "metadata": {
    "id": "609a9bfb"
   },
   "outputs": [],
   "source": [
    "if city:\n",
    "    # input_shape = (5, 5)\n",
    "\n",
    "    array_train_images = np.asarray(train_images)\n",
    "    array_test_images  = np.asarray(test_images)\n",
    "\n",
    "    array_train_original_images = np.asarray(train_original_images)"
   ]
  },
  {
   "cell_type": "code",
   "execution_count": 100,
   "id": "320be2cf-3aa1-41ff-b62c-7beb48f1cbc4",
   "metadata": {},
   "outputs": [],
   "source": [
    "# !conda install -c conda-forge tensorflow "
   ]
  },
  {
   "cell_type": "code",
   "execution_count": 101,
   "id": "c717ddac-dd60-4476-bfe8-e4cdd95f0122",
   "metadata": {
    "id": "cb121c88"
   },
   "outputs": [],
   "source": [
    "######### EN TERMINAL #########\n",
    "# !pip install tensorflow-addons"
   ]
  },
  {
   "cell_type": "markdown",
   "id": "c205fdd7-d386-4878-a3d7-4ced55289baa",
   "metadata": {
    "id": "V7Azjtl8gRth",
    "tags": [],
    "toc-hr-collapsed": true
   },
   "source": [
    "## Visualización de datos"
   ]
  },
  {
   "cell_type": "code",
   "execution_count": 102,
   "id": "eb25bfbe-d586-4d7a-8d63-1a0282eb5bcc",
   "metadata": {
    "id": "SzhUTtEti5oE"
   },
   "outputs": [],
   "source": [
    "# !conda install seaborn"
   ]
  },
  {
   "cell_type": "markdown",
   "id": "50ba06c5-4c45-4cec-81df-2262ee3f9ca7",
   "metadata": {
    "id": "qKYh5EeThQ_7",
    "tags": []
   },
   "source": [
    "### Matriz de correlación"
   ]
  },
  {
   "cell_type": "code",
   "execution_count": 103,
   "id": "0e25f11b-73ae-41a7-854a-edf7f8217fd0",
   "metadata": {
    "id": "PLcI-nQShVR1"
   },
   "outputs": [],
   "source": [
    "# correlation_matrix(X_test)"
   ]
  },
  {
   "cell_type": "markdown",
   "id": "f254b389-6555-4137-b972-aa2bc075486b",
   "metadata": {
    "id": "kISRP5AQhWTD",
    "tags": []
   },
   "source": [
    "### PCA"
   ]
  },
  {
   "cell_type": "code",
   "execution_count": 104,
   "id": "515acda7-bdc1-4fab-bc54-9b52002abac8",
   "metadata": {
    "id": "f285158d-69c6-4dfc-b728-6d4bd4b7cf1c"
   },
   "outputs": [],
   "source": [
    "# pca(X_train, X_test)"
   ]
  },
  {
   "cell_type": "markdown",
   "id": "c4e77b59-5626-4096-9f86-33dc0bb1cf99",
   "metadata": {
    "tags": []
   },
   "source": [
    "### TSNE"
   ]
  },
  {
   "cell_type": "code",
   "execution_count": 105,
   "id": "7ee02c13-4d09-47f6-849b-ae14c492cd24",
   "metadata": {},
   "outputs": [],
   "source": [
    "if city:\n",
    "    n_samples = 150\n",
    "    index_slight  = Y_train[Y_train == 'Slight'][:n_samples].index\n",
    "    index_serious = Y_train[Y_train == 'Serious'][:n_samples].index\n",
    "    index_fatal   = Y_train[Y_train == 'Fatal'][:n_samples].index"
   ]
  },
  {
   "cell_type": "code",
   "execution_count": 106,
   "id": "e902c65d-23a6-4bd6-b9c6-4bf358703b81",
   "metadata": {},
   "outputs": [],
   "source": [
    "if city:\n",
    "    # Get same number of class samples from SMOTEII\n",
    "    X_slight_train_tsne  = X_train.loc[index_slight]\n",
    "    X_serious_train_tsne = X_train.loc[index_serious]\n",
    "    X_fatal_train_tsne   = X_train.loc[index_fatal]\n",
    "\n",
    "    X_train_tsne = pd.concat([X_slight_train_tsne, X_serious_train_tsne, X_fatal_train_tsne])\n",
    "\n",
    "    Y_slight_train_tsne  = Y_train[index_slight]\n",
    "    Y_serious_train_tsne = Y_train[index_serious]\n",
    "    Y_fatal_train_tsne   = Y_train[index_fatal]\n",
    "\n",
    "    Y_train_tsne = pd.concat([Y_slight_train_tsne, Y_serious_train_tsne, Y_fatal_train_tsne])"
   ]
  },
  {
   "cell_type": "code",
   "execution_count": 107,
   "id": "e29a8469-6e65-4bde-a9a3-9db2551713d2",
   "metadata": {},
   "outputs": [],
   "source": [
    "if city:\n",
    "    n_samples = len(Y_train_original[Y_train_original == 'Fatal'])\n",
    "\n",
    "    index_slight  = Y_train_original[Y_train_original == 'Slight'][:n_samples].index\n",
    "    index_serious = Y_train_original[Y_train_original == 'Serious'][:n_samples].index\n",
    "    index_fatal   = Y_train_original[Y_train_original == 'Fatal'][:n_samples].index"
   ]
  },
  {
   "cell_type": "code",
   "execution_count": 108,
   "id": "97a58a42-6a79-4b5f-b793-b16b3c74bd2e",
   "metadata": {},
   "outputs": [],
   "source": [
    "if city:\n",
    "    # Get same number of class samples from original\n",
    "    X_slight_clean_tsne  = X_train_original.loc[index_slight]\n",
    "    X_serious_clean_tsne = X_train_original.loc[index_serious]\n",
    "    X_fatal_clean_tsne   = X_train_original.loc[index_fatal]\n",
    "\n",
    "    X_clean_tsne = pd.concat([X_slight_clean_tsne, X_serious_clean_tsne, X_fatal_clean_tsne])\n",
    "\n",
    "    Y_slight_clean_tsne  = Y_train_original[index_slight]\n",
    "    Y_serious_clean_tsne = Y_train_original[index_serious]\n",
    "    Y_fatal_clean_tsne   = Y_train_original[index_fatal]\n",
    "\n",
    "    Y_clean_tsne = pd.concat([Y_slight_clean_tsne, Y_serious_clean_tsne, Y_fatal_clean_tsne])"
   ]
  },
  {
   "cell_type": "code",
   "execution_count": 109,
   "id": "b713815e-495d-4618-b977-364979e36a21",
   "metadata": {},
   "outputs": [],
   "source": [
    "if tsne and city:\n",
    "    FILE_NAME = f\"{TSNE_PATH}{city_name}/2d_{MODEL_TIMESTAMP}.svg\"\n",
    "    plot_TSNE(X_clean_tsne, Y_clean_tsne, n_components = 2, output_file_name = FILE_NAME, title = 'Muestras originales 2 Componentes')\n",
    "\n",
    "    FILE_NAME = f\"{TSNE_PATH}{city_name}/3d_tsne_test_{MODEL_TIMESTAMP}.svg\"\n",
    "    plot_TSNE(X_clean_tsne, Y_clean_tsne, n_components = 3, output_file_name = FILE_NAME, title = 'Muestras originales 3 Componentes')\n",
    "\n",
    "    FILE_NAME = f\"{TSNE_PATH}{city_name}/2d_tsne_train_{MODEL_TIMESTAMP}.svg\"\n",
    "    plot_TSNE(X_train_tsne, Y_train_tsne, n_components = 2, output_file_name = FILE_NAME, title = 'Muestras SMOTE-II 2 Componentes')\n",
    "\n",
    "    FILE_NAME = f\"{TSNE_PATH}{city_name}/3d_tsne_train_{MODEL_TIMESTAMP}.svg\"\n",
    "    plot_TSNE(X_train_tsne, Y_train_tsne, n_components = 3, output_file_name = FILE_NAME, title = 'Muestras SMOTE-II 3 Componentes')"
   ]
  },
  {
   "cell_type": "markdown",
   "id": "eb71335b-d79a-4b67-86f7-793d9267720f",
   "metadata": {
    "id": "EkC9ryU4lFwg",
    "tags": [],
    "toc-hr-collapsed": true
   },
   "source": [
    "### Autoencoder"
   ]
  },
  {
   "cell_type": "markdown",
   "id": "df21c476-5ae6-47ee-ad9f-73979641e722",
   "metadata": {
    "id": "cCo2emMclT8h",
    "tags": []
   },
   "source": [
    "#### Entrenamiento"
   ]
  },
  {
   "cell_type": "code",
   "execution_count": 110,
   "id": "19607f2a-c641-443f-a48c-69f767d44219",
   "metadata": {
    "id": "4xBSSjInlHj1",
    "tags": []
   },
   "outputs": [],
   "source": [
    "# X_train = array_train_images\n",
    "# X_test = array_test_images\n",
    "# X_train_original = array_train_original_images\n",
    "\n",
    "# X_train = X_train.reshape(len(array_train_images), 25)\n",
    "# X_train_original = X_train_original.reshape(len(array_train_original_images), 25)\n",
    "# X_test  = X_test.reshape(len(X_test), 25)\n",
    "\n",
    "# autoencoder = autoencoder().fit(X_train, X_train,\n",
    "#                                 epochs = 100,\n",
    "#                                 batch_size = 128,\n",
    "#                                 shuffle = True,\n",
    "#                                 validation_data = (X_test, X_test))"
   ]
  },
  {
   "cell_type": "markdown",
   "id": "0f769a7b-0635-4f2b-9ada-5f8f1cbedd8d",
   "metadata": {
    "id": "gJfbDNO5oB1N",
    "tags": []
   },
   "source": [
    "#### Visualización"
   ]
  },
  {
   "cell_type": "code",
   "execution_count": 111,
   "id": "c227982a-4f8b-4266-ba3d-113e9e058f65",
   "metadata": {
    "id": "2NjR_MDJlXsJ",
    "tags": []
   },
   "outputs": [],
   "source": [
    "# # create encoder model\n",
    "# encoder = Model(inputs=input_img, outputs=encoder2)\n",
    "# encoder.summary()\n",
    "# # create decoder model\n",
    "# encoded_input = Input(shape=(3,))\n",
    "# #lo que hace aqui es quedarse con las capas que corresponden al decodificador\n",
    "# decoder_layer1 = autoencoder.layers[-2]\n",
    "# decoder_layer2 = autoencoder.layers[-1]\n",
    "# decoder = Model(inputs=encoded_input, outputs=decoder_layer2(decoder_layer1(encoded_input)))\n",
    "# decoder.summary()\n",
    "# # si miramos la salida, son simetricos el uno respecto al otro\n",
    "# # encoder va de input a 3 y decoder de 3 a input\n",
    "\n",
    "# # get latent vector for visualization\n",
    "# latent_vector = encoder.predict(X_test)\n",
    "# # # get decoder output to visualize reconstructed image\n",
    "# # reconstructed_imgs = decoder.predict(latent_vector)\n",
    "\n",
    "\n",
    "# # visualize in 3D plot\n",
    "# from pylab import rcParams\n",
    "# from mpl_toolkits.mplot3d import Axes3D\n",
    "\n",
    "# rcParams['figure.figsize'] = 10, 8\n",
    "\n",
    "# fig = plt.figure(1)\n",
    "# ax = Axes3D(fig)\n",
    "\n",
    "# xs = latent_vector[:, 0]\n",
    "# ys = latent_vector[:, 1]\n",
    "# zs = latent_vector[:, 2]\n",
    "\n",
    "# color=['red','green','blue']\n",
    "\n",
    "# for x, y, z, label in zip(xs, ys, zs, Y_test):\n",
    "#     c = color[int(label)]\n",
    "#     ax.text(x, y, z, label, backgroundcolor=c)\n",
    "    \n",
    "# ax.set_xlim(xs.min(), xs.max())\n",
    "# ax.set_ylim(ys.min(), ys.max())\n",
    "# ax.set_zlim(zs.min(), zs.max())\n",
    "\n",
    "# plt.show()\n",
    "\n",
    "# # X_test_encoded = encoder.predict(X_test, batch_size=32)\n",
    "# # plt.figure(figsize=(6, 6))\n",
    "# # plt.scatter(X_test_encoded[:, 0], X_test_encoded[:, 1], c=Y_test)\n",
    "# # plt.colorbar()\n",
    "# # plt.show()"
   ]
  },
  {
   "cell_type": "markdown",
   "id": "7d4260e1-a6c0-4d86-b222-9971eba6f9fd",
   "metadata": {
    "id": "fm72aQrpYW7V",
    "tags": []
   },
   "source": [
    "## One-Hot"
   ]
  },
  {
   "cell_type": "code",
   "execution_count": 112,
   "id": "0dc7f5f2-9ffd-4450-a544-42e1d3ab50ab",
   "metadata": {
    "id": "01afbb97",
    "tags": []
   },
   "outputs": [],
   "source": [
    "if city:\n",
    "    Y_train_onehot = casualty_to_one_hot(Y_train)\n",
    "    Y_train_original_onehot = casualty_to_one_hot(Y_train_original)\n",
    "    Y_test_onehot  = casualty_to_one_hot(Y_test)"
   ]
  },
  {
   "cell_type": "markdown",
   "id": "2ba84b15-bf79-419a-a84f-281245aee790",
   "metadata": {
    "tags": []
   },
   "source": [
    "## Models"
   ]
  },
  {
   "cell_type": "code",
   "execution_count": 113,
   "id": "f7a9d8ee-21bf-4496-9b33-e70bc01da2ac",
   "metadata": {},
   "outputs": [
    {
     "name": "stdout",
     "output_type": "stream",
     "text": [
      "\n",
      "Pesos calculados: [1.12902122 0.89744287] \n",
      "\n",
      "\n"
     ]
    }
   ],
   "source": [
    "if city:\n",
    "    array_train_images = np.asarray(train_images)\n",
    "    # array_val_images   = np.asarray(val_images)\n",
    "    array_test_images  = np.asarray(test_images)\n",
    "\n",
    "    input_train_shape = (len(array_train_images), max_dimension_x, max_dimension_y, 1)\n",
    "    # input_val_shape = (len(array_val_images), 5, 5, 1)\n",
    "    input_test_shape  = (len(array_test_images), max_dimension_x, max_dimension_y, 1)\n",
    "\n",
    "    array_train_images = array_train_images.reshape(input_train_shape)\n",
    "    # array_val_images   = array_val_images.reshape(input_val_shape)\n",
    "    array_test_images  = array_test_images.reshape(input_test_shape)\n",
    "\n",
    "    Y_test_labels = one_hot_to_casualty(Y_test)\n",
    "\n",
    "    from sklearn.utils import class_weight\n",
    "\n",
    "    pesos = class_weight.compute_class_weight('balanced',\n",
    "                                              classes = np.unique(Y_train_original),\n",
    "                                              y = Y_train_original)\n",
    "\n",
    "\n",
    "    print('\\nPesos calculados:', pesos, '\\n\\n')\n",
    "\n",
    "\n",
    "    # Keras espera un diccionario donde la clave sea el número de clase \n",
    "    # y el valor sea el peso calculado. \n",
    "    pesos = dict(enumerate(pesos))  "
   ]
  },
  {
   "cell_type": "code",
   "execution_count": 114,
   "id": "0329122a-6dad-489b-a714-acc15dd59df6",
   "metadata": {},
   "outputs": [],
   "source": [
    "import pickle\n",
    "from joblib import dump, load\n",
    "\n",
    "if city:\n",
    "    times = pd.DataFrame()"
   ]
  },
  {
   "cell_type": "markdown",
   "id": "565e4c4f-de31-4fc1-9fa3-1edcc6b34232",
   "metadata": {
    "tags": [],
    "toc-hr-collapsed": true
   },
   "source": [
    "### NB"
   ]
  },
  {
   "cell_type": "code",
   "execution_count": 115,
   "id": "43e038c3-3060-4e49-b691-b2b7f3fe4da4",
   "metadata": {},
   "outputs": [],
   "source": [
    "MODEL_NAME = MODELS_NAME[0]\n",
    "\n",
    "MODEL_PATH = f\"{MODELS_PATH}{MODEL_NAME}/\"\n",
    "MODEL_FILE_NAME = f\"{city_name}_{MODEL_NAME}_{MODEL_TIMESTAMP}.joblib\"\n",
    "\n",
    "sns.reset_defaults()"
   ]
  },
  {
   "cell_type": "markdown",
   "id": "a0ee9577-fd1c-4847-8065-5eed7c4e8acd",
   "metadata": {},
   "source": [
    "#### Entrenamiento"
   ]
  },
  {
   "cell_type": "code",
   "execution_count": 116,
   "id": "540e881d-3a76-4745-92d6-b48dbede5b46",
   "metadata": {},
   "outputs": [
    {
     "name": "stdout",
     "output_type": "stream",
     "text": [
      "Done! nb in 0.0 (s)\n"
     ]
    }
   ],
   "source": [
    "from sklearn.naive_bayes import GaussianNB\n",
    "\n",
    "if city and train_nn and other_models:\n",
    "    start = time.time()\n",
    "\n",
    "    gnb = GaussianNB()\n",
    "    gnb = gnb.fit(X_train, Y_train)\n",
    "\n",
    "    end = time.time()\n",
    "\n",
    "    ellapsed_time = round(end - start, 2)\n",
    "\n",
    "    model_time = pd.DataFrame({'city': [city_name], 'model': [MODEL_NAME], 'time': [ellapsed_time]})\n",
    "    times = pd.concat([times, model_time])\n",
    "\n",
    "\n",
    "    print(f\"Done! {MODEL_NAME} in {ellapsed_time} (s)\")"
   ]
  },
  {
   "cell_type": "markdown",
   "id": "37011ef1-597c-4025-a0ea-e229fcd45e00",
   "metadata": {
    "tags": []
   },
   "source": [
    "#### Escritura del modelo"
   ]
  },
  {
   "cell_type": "code",
   "execution_count": 117,
   "id": "5edadf2a-94d2-4341-81a3-80c5d16e7d19",
   "metadata": {},
   "outputs": [],
   "source": [
    "if city and train_nn and other_models:\n",
    "    os.makedirs(MODEL_PATH, exist_ok = True)\n",
    "\n",
    "    dump(gnb, MODEL_PATH + MODEL_FILE_NAME) "
   ]
  },
  {
   "cell_type": "markdown",
   "id": "15279045-c6c0-4ed4-82f6-81ab6c6bce2d",
   "metadata": {},
   "source": [
    "#### Carga de modelo pre-entrenado"
   ]
  },
  {
   "cell_type": "code",
   "execution_count": 118,
   "id": "e51c60b2-106c-429f-b468-29ed8de8e751",
   "metadata": {},
   "outputs": [],
   "source": [
    "if city and not train_nn and other_models:\n",
    "\n",
    "    gnb = load(MODEL_PATH + MODEL_FILE_NAME)"
   ]
  },
  {
   "cell_type": "markdown",
   "id": "6794d1a8-7da5-455b-9d87-49c7c0007737",
   "metadata": {},
   "source": [
    "#### Resultados"
   ]
  },
  {
   "cell_type": "code",
   "execution_count": 119,
   "id": "b227ed79-82fc-4d1f-8c82-b292debfc272",
   "metadata": {},
   "outputs": [
    {
     "name": "stdout",
     "output_type": "stream",
     "text": [
      "[INFO] evaluating model...\n",
      "              precision  recall  f1-score   support\n",
      "Assistance        0.694   0.340     0.457  1838.000\n",
      "Slight            0.563   0.850     0.678  1838.000\n",
      "accuracy          0.595   0.595     0.595     0.595\n",
      "macro avg         0.629   0.595     0.567  3676.000\n",
      "weighted avg      0.629   0.595     0.567  3676.000\n",
      "              precision  recall  f1-score  support\n",
      "Assistance        0.787   0.342     0.476   811.00\n",
      "Slight            0.498   0.876     0.635   604.00\n",
      "accuracy          0.570   0.570     0.570     0.57\n",
      "macro avg         0.642   0.609     0.556  1415.00\n",
      "weighted avg      0.663   0.570     0.544  1415.00\n"
     ]
    }
   ],
   "source": [
    "if city and other_models:\n",
    "    print(\"[INFO] evaluating model...\")\n",
    "    if train_nn:\n",
    "        Y_train_predicted = gnb.predict(X_train)\n",
    "        save_classification_report_and_confussion_matrix(model_name = MODEL_NAME,\n",
    "                                                         model_timestamp = MODEL_TIMESTAMP,\n",
    "                                                         y_true = Y_train,\n",
    "                                                         y_predicted = Y_train_predicted,\n",
    "                                                         data = 'train')\n",
    "    Y_predicted = gnb.predict(X_test)\n",
    "\n",
    "    save_classification_report_and_confussion_matrix(model_name = MODEL_NAME,\n",
    "                                                     model_timestamp = MODEL_TIMESTAMP,\n",
    "                                                     y_true = Y_test,\n",
    "                                                     y_predicted = Y_predicted,\n",
    "                                                     data = 'test')"
   ]
  },
  {
   "cell_type": "markdown",
   "id": "31dabb65-8ca1-46bc-9331-063820296a7e",
   "metadata": {
    "tags": [],
    "toc-hr-collapsed": true
   },
   "source": [
    "### SVC"
   ]
  },
  {
   "cell_type": "code",
   "execution_count": 120,
   "id": "d22bd3a6-2fe7-4262-bdad-e74860d17347",
   "metadata": {},
   "outputs": [],
   "source": [
    "from sklearn.pipeline import make_pipeline\n",
    "from sklearn.preprocessing import StandardScaler\n",
    "from sklearn.svm import SVC\n",
    "\n",
    "MODEL_NAME = MODELS_NAME[1]\n",
    "\n",
    "MODEL_PATH = f\"{MODELS_PATH}{MODEL_NAME}/\"\n",
    "MODEL_FILE_NAME = f\"{city_name}_{MODEL_NAME}_{MODEL_TIMESTAMP}.h5\""
   ]
  },
  {
   "cell_type": "code",
   "execution_count": 121,
   "id": "839d06ea-f104-4a33-b169-6851ef548115",
   "metadata": {},
   "outputs": [
    {
     "name": "stdout",
     "output_type": "stream",
     "text": [
      "Done! svc in 0.22 (s)\n"
     ]
    }
   ],
   "source": [
    "if city and train_nn and other_models:\n",
    "    start = time.time()\n",
    "\n",
    "    clf = SVC(gamma='auto')\n",
    "    clf.fit(X_train, Y_train)\n",
    "\n",
    "    end = time.time()\n",
    "\n",
    "    ellapsed_time = round(end - start, 2)\n",
    "\n",
    "\n",
    "    model_time = pd.DataFrame({'city': [city_name], 'model': [MODEL_NAME], 'time': [ellapsed_time]})\n",
    "    times = pd.concat([times, model_time])\n",
    "\n",
    "    print(f\"Done! {MODEL_NAME} in {ellapsed_time} (s)\")"
   ]
  },
  {
   "cell_type": "markdown",
   "id": "5b74ce3b-7a8c-422e-9bbc-38f529df0056",
   "metadata": {
    "tags": []
   },
   "source": [
    "#### Escritura del modelo"
   ]
  },
  {
   "cell_type": "code",
   "execution_count": 122,
   "id": "3af6f1a8-68bc-4759-bb36-55e4bb0f3fce",
   "metadata": {},
   "outputs": [],
   "source": [
    "if city and train_nn and other_models:\n",
    "    os.makedirs(MODEL_PATH, exist_ok = True)\n",
    "\n",
    "    dump(clf, MODEL_PATH + MODEL_FILE_NAME) "
   ]
  },
  {
   "cell_type": "markdown",
   "id": "a3ee7a7a-4381-42fb-b451-6cf84682904d",
   "metadata": {},
   "source": [
    "#### Carga de modelo pre-entrenado"
   ]
  },
  {
   "cell_type": "code",
   "execution_count": 123,
   "id": "e04bf82c-42d0-4e09-b669-5f8df5ac456b",
   "metadata": {},
   "outputs": [],
   "source": [
    "if city and not train_nn and other_models:\n",
    "    MODEL_FILE_NAME = f\"{city_name}_{MODEL_NAME}_{timestamp_load}.joblib\"\n",
    "\n",
    "    clf = load(MODEL_PATH + MODEL_FILE_NAME)"
   ]
  },
  {
   "cell_type": "markdown",
   "id": "6b6f3b16-cf30-41f2-b1bd-55b552fa7cab",
   "metadata": {},
   "source": [
    "#### Resultados"
   ]
  },
  {
   "cell_type": "code",
   "execution_count": 124,
   "id": "8c110f1c-1f5f-45e4-b6bd-6796f9980ecb",
   "metadata": {},
   "outputs": [
    {
     "name": "stdout",
     "output_type": "stream",
     "text": [
      "[INFO] evaluating model...\n",
      "              precision  recall  f1-score  support\n",
      "Assistance        0.737   0.622     0.675   1838.0\n",
      "Slight            0.673   0.778     0.722   1838.0\n",
      "accuracy          0.700   0.700     0.700      0.7\n",
      "macro avg         0.705   0.700     0.698   3676.0\n",
      "weighted avg      0.705   0.700     0.698   3676.0\n",
      "              precision  recall  f1-score   support\n",
      "Assistance        0.769   0.608     0.679   811.000\n",
      "Slight            0.589   0.755     0.662   604.000\n",
      "accuracy          0.671   0.671     0.671     0.671\n",
      "macro avg         0.679   0.681     0.670  1415.000\n",
      "weighted avg      0.692   0.671     0.672  1415.000\n"
     ]
    }
   ],
   "source": [
    "if city and train_nn and other_models:\n",
    "    print(\"[INFO] evaluating model...\")\n",
    "\n",
    "    if train_nn:\n",
    "        Y_train_predicted = clf.predict(X_train)\n",
    "        save_classification_report_and_confussion_matrix(model_name = MODEL_NAME,\n",
    "                                                         model_timestamp = MODEL_TIMESTAMP,\n",
    "                                                         y_true = Y_train,\n",
    "                                                         y_predicted = Y_train_predicted,\n",
    "                                                         data = 'train')\n",
    "\n",
    "    Y_predicted = clf.predict(X_test)\n",
    "\n",
    "    save_classification_report_and_confussion_matrix(model_name = MODEL_NAME,\n",
    "                                                     model_timestamp = MODEL_TIMESTAMP,\n",
    "                                                     y_true = Y_test,\n",
    "                                                     y_predicted = Y_predicted,\n",
    "                                                     data = 'test')"
   ]
  },
  {
   "cell_type": "markdown",
   "id": "ad7d7848-3c3d-4ec3-a453-5319d3aa8063",
   "metadata": {
    "toc-hr-collapsed": true
   },
   "source": [
    "### KNN"
   ]
  },
  {
   "cell_type": "code",
   "execution_count": 125,
   "id": "19c36937-f06d-476a-b975-621b0a5a618b",
   "metadata": {},
   "outputs": [],
   "source": [
    "from sklearn.neighbors import KNeighborsClassifier\n",
    "from sklearn.model_selection import GridSearchCV\n",
    "\n",
    "MODEL_NAME = MODELS_NAME[2]\n",
    "\n",
    "MODEL_PATH = f\"{MODELS_PATH}{MODEL_NAME}/\"\n",
    "MODEL_FILE_NAME = f\"{city_name}_{MODEL_NAME}_{MODEL_TIMESTAMP}.joblib\""
   ]
  },
  {
   "cell_type": "markdown",
   "id": "115ecbd1-13aa-4adc-9b7a-747b2d3a0a7d",
   "metadata": {},
   "source": [
    "#### Entrenamiento"
   ]
  },
  {
   "cell_type": "code",
   "execution_count": 126,
   "id": "f2249bb3-398f-48a9-aa14-6309509610c2",
   "metadata": {},
   "outputs": [],
   "source": [
    "if city and train_nn and other_models:\n",
    "    knn = KNeighborsClassifier(leaf_size = 7, n_neighbors = 91)\n",
    "\n",
    "    start = time.time()\n",
    "\n",
    "    knn.fit(X_train, Y_train)\n",
    "\n",
    "    end = time.time()\n",
    "\n",
    "    ellapsed_time = round(end - start, 2)\n",
    "\n",
    "    model_time = pd.DataFrame({'city': [city_name], 'model': [MODEL_NAME], 'time': [ellapsed_time]})\n",
    "    times = pd.concat([times, model_time])\n",
    "\n",
    "# leaf_size = list(range(1,10, 2))\n",
    "# n_neighbors = list(range(1,100, 10))\n",
    "# p = [1, 2]\n",
    "\n",
    "# if city and train_nn and other_models:\n",
    "\n",
    "#     start = time.time()\n",
    "\n",
    "#     # Create new KNN object\n",
    "#     hyperparameters = dict(leaf_size = leaf_size,\n",
    "#                            n_neighbors = n_neighbors)\n",
    "\n",
    "#     # Use GridSearch\n",
    "#     knn_2 = KNeighborsClassifier(leaf_size = 7, n_neighbors = 91)\n",
    "\n",
    "#     # Fit the model\n",
    "#     clf = GridSearchCV(knn_2,\n",
    "#                        hyperparameters,\n",
    "#                        cv = 4)\n",
    "\n",
    "#     knn = clf.fit(X_train, Y_train)\n",
    "\n",
    "#     end = time.time()\n",
    "\n",
    "#     ellapsed_time = round(end - start, 2)\n",
    "\n",
    "\n",
    "#     model_time = pd.DataFrame({'city': [city_name], 'model': [MODEL_NAME], 'time': [ellapsed_time]})\n",
    "#     times = times.append(model_time)\n",
    "\n",
    "#     # Print The value of best Hyperparameters\n",
    "\n",
    "#     best_leaf_size  = knn.best_estimator_.get_params()['leaf_size']\n",
    "#     best_n_neighbors = knn.best_estimator_.get_params()['n_neighbors']\n",
    "\n",
    "#     print('Best leaf_size:', best_leaf_size)\n",
    "#     print('Best n_neighbors:', best_n_neighbors)\n",
    "\n",
    "#     df = pd.DataFrame({'best_leaf_size':[best_leaf_size], 'n_neighbors':[best_n_neighbors]})\n",
    "\n",
    "#     FILE_NAME = f\"{MODEL_NAME}/madrid_{MODEL_TIMESTAMP}.csv\"\n",
    "\n",
    "#     df.to_csv(HYPERPARAMS_PATH + FILE_NAME, index = True)"
   ]
  },
  {
   "cell_type": "markdown",
   "id": "deeda175-b912-4fd0-89a6-86b01fb0d5ab",
   "metadata": {},
   "source": [
    "#### Escritura del modelo"
   ]
  },
  {
   "cell_type": "code",
   "execution_count": 127,
   "id": "a7498adf-cc86-4a9c-a96a-3049d6672a75",
   "metadata": {},
   "outputs": [],
   "source": [
    "if city and train_nn and other_models:\n",
    "\n",
    "    MODEL_PATH = f\"{MODELS_PATH}{MODEL_NAME}/\"\n",
    "    MODEL_FILE_NAME = f\"{city_name}_{MODEL_NAME}_{MODEL_TIMESTAMP}.joblib\"\n",
    "\n",
    "    os.makedirs(MODEL_PATH, exist_ok = True)\n",
    "\n",
    "    dump(knn, MODEL_PATH + MODEL_FILE_NAME) "
   ]
  },
  {
   "cell_type": "markdown",
   "id": "50c1fd37-4815-45ab-baaf-e3633719aa78",
   "metadata": {
    "tags": []
   },
   "source": [
    "#### Carga de modelo pre-entrenado"
   ]
  },
  {
   "cell_type": "code",
   "execution_count": 128,
   "id": "0a490a7c-b624-4cd2-a999-15c3f90404bb",
   "metadata": {},
   "outputs": [],
   "source": [
    "# if city and not train_nn and other_models:\n",
    "\n",
    "#     version = 'X'\n",
    "#     MODEL_PATH = f\"{MODELS_PATH}{MODEL_NAME}/\"\n",
    "#     MODEL_FILE_NAME = f\"{city_name}_{MODEL_NAME}_{model_version}.joblib\"\n",
    "\n",
    "#     knn = load(MODEL_PATH + MODEL_FILE_NAME)"
   ]
  },
  {
   "cell_type": "markdown",
   "id": "94cf6f0e-5f62-41df-a163-4fc28b71ea2c",
   "metadata": {
    "tags": []
   },
   "source": [
    "#### Resultados"
   ]
  },
  {
   "cell_type": "code",
   "execution_count": 129,
   "id": "645026c8-3544-4e9b-9b33-fdc686b3aa00",
   "metadata": {},
   "outputs": [
    {
     "name": "stdout",
     "output_type": "stream",
     "text": [
      "[INFO] evaluating model...\n"
     ]
    },
    {
     "name": "stderr",
     "output_type": "stream",
     "text": [
      "/home/luis/anaconda3/lib/python3.9/site-packages/sklearn/neighbors/_classification.py:228: FutureWarning: Unlike other reduction functions (e.g. `skew`, `kurtosis`), the default behavior of `mode` typically preserves the axis it acts along. In SciPy 1.11.0, this behavior will change: the default value of `keepdims` will become False, the `axis` over which the statistic is taken will be eliminated, and the value None will no longer be accepted. Set `keepdims` to True or False to avoid this warning.\n",
      "  mode, _ = stats.mode(_y[neigh_ind, k], axis=1)\n",
      "/home/luis/anaconda3/lib/python3.9/site-packages/sklearn/neighbors/_classification.py:228: FutureWarning: Unlike other reduction functions (e.g. `skew`, `kurtosis`), the default behavior of `mode` typically preserves the axis it acts along. In SciPy 1.11.0, this behavior will change: the default value of `keepdims` will become False, the `axis` over which the statistic is taken will be eliminated, and the value None will no longer be accepted. Set `keepdims` to True or False to avoid this warning.\n",
      "  mode, _ = stats.mode(_y[neigh_ind, k], axis=1)\n"
     ]
    },
    {
     "name": "stdout",
     "output_type": "stream",
     "text": [
      "              precision  recall  f1-score   support\n",
      "Assistance        0.670   0.490     0.566  1838.000\n",
      "Slight            0.598   0.758     0.669  1838.000\n",
      "accuracy          0.624   0.624     0.624     0.624\n",
      "macro avg         0.634   0.624     0.617  3676.000\n",
      "weighted avg      0.634   0.624     0.617  3676.000\n",
      "              precision  recall  f1-score   support\n",
      "Assistance        0.779   0.509     0.616   811.000\n",
      "Slight            0.550   0.806     0.654   604.000\n",
      "accuracy          0.636   0.636     0.636     0.636\n",
      "macro avg         0.665   0.658     0.635  1415.000\n",
      "weighted avg      0.682   0.636     0.632  1415.000\n"
     ]
    }
   ],
   "source": [
    "if city and train_nn and other_models:\n",
    "    print(\"[INFO] evaluating model...\")\n",
    "\n",
    "    if train_nn:\n",
    "        Y_train_predicted = knn.predict(X_train)\n",
    "        save_classification_report_and_confussion_matrix(model_name = MODEL_NAME,\n",
    "                                                         model_timestamp = MODEL_TIMESTAMP,\n",
    "                                                         y_true = Y_train,\n",
    "                                                         y_predicted = Y_train_predicted,\n",
    "                                                         data = 'train')\n",
    "    Y_predicted = knn.predict(X_test)\n",
    "\n",
    "    save_classification_report_and_confussion_matrix(model_name = MODEL_NAME,\n",
    "                                                     model_timestamp = MODEL_TIMESTAMP,\n",
    "                                                     y_true = Y_test,\n",
    "                                                     y_predicted = Y_predicted,\n",
    "                                                     data = 'test')"
   ]
  },
  {
   "cell_type": "markdown",
   "id": "169da79f-5223-411f-806f-34e0c2a77d91",
   "metadata": {
    "tags": [],
    "toc-hr-collapsed": true
   },
   "source": [
    "### Logistic Regression"
   ]
  },
  {
   "cell_type": "code",
   "execution_count": 130,
   "id": "1fc13243-7ca1-429c-a2c4-94d794dddae9",
   "metadata": {},
   "outputs": [],
   "source": [
    "from sklearn.linear_model import LogisticRegression\n",
    "\n",
    "MODEL_NAME = MODELS_NAME[3]\n",
    "\n",
    "MODEL_PATH = f\"{MODELS_PATH}{MODEL_NAME}/\"\n",
    "MODEL_FILE_NAME = f\"{city_name}_{MODEL_NAME}_{MODEL_TIMESTAMP}.h5\""
   ]
  },
  {
   "cell_type": "code",
   "execution_count": 131,
   "id": "fe2c3332-950c-4f1e-9f61-d15fcb39cd0d",
   "metadata": {},
   "outputs": [],
   "source": [
    "# train_nn = True"
   ]
  },
  {
   "cell_type": "code",
   "execution_count": 132,
   "id": "074ef6be-1233-4bb5-b779-0f7d1ddb2bf0",
   "metadata": {},
   "outputs": [
    {
     "name": "stdout",
     "output_type": "stream",
     "text": [
      "Done! logistic_regression in 0.0 (s)\n"
     ]
    }
   ],
   "source": [
    "if city and train_nn and other_models:\n",
    "    start = time.time()\n",
    "\n",
    "    logistic_regression = LogisticRegression()  \n",
    "    logistic_regression = logistic_regression.fit(X_train, Y_train)\n",
    "\n",
    "    end = time.time()\n",
    "\n",
    "    ellapsed_time = round(end - start, 2)\n",
    "\n",
    "\n",
    "    model_time = pd.DataFrame({'city': [city_name], 'model': [MODEL_NAME], 'time': [ellapsed_time]})\n",
    "    times = pd.concat([times, model_time])\n",
    "\n",
    "    print(f\"Done! {MODEL_NAME} in {ellapsed_time} (s)\")"
   ]
  },
  {
   "cell_type": "markdown",
   "id": "afcd1179-843f-4110-9003-1682c78a2a3f",
   "metadata": {
    "tags": []
   },
   "source": [
    "#### Escritura del modelo"
   ]
  },
  {
   "cell_type": "code",
   "execution_count": 133,
   "id": "736fe127-077c-4988-b302-01af4c9a5325",
   "metadata": {},
   "outputs": [],
   "source": [
    "if city and train_nn and other_models:\n",
    "\n",
    "    os.makedirs(MODEL_PATH, exist_ok = True)\n",
    "    dump(clf, MODEL_PATH + MODEL_FILE_NAME) "
   ]
  },
  {
   "cell_type": "markdown",
   "id": "e6983970-fa51-4885-81bb-cba644862874",
   "metadata": {},
   "source": [
    "#### Carga de modelo pre-entrenado"
   ]
  },
  {
   "cell_type": "code",
   "execution_count": 134,
   "id": "298504ef-ec45-466c-8390-5658ffe74320",
   "metadata": {},
   "outputs": [],
   "source": [
    "if city and not train_nn and other_models:\n",
    "    MODEL_FILE_NAME = f\"{city_name}_{MODEL_NAME}_{timestamp_load}.joblib\"\n",
    "\n",
    "    logistic_regression = load(MODEL_PATH + MODEL_FILE_NAME)"
   ]
  },
  {
   "cell_type": "markdown",
   "id": "be2b24e2-f323-4c2c-bc90-9c4462ba2aad",
   "metadata": {},
   "source": [
    "#### Resultados"
   ]
  },
  {
   "cell_type": "code",
   "execution_count": 135,
   "id": "b471fad0-532d-4e8e-9777-a85d6cbdafe9",
   "metadata": {},
   "outputs": [
    {
     "name": "stdout",
     "output_type": "stream",
     "text": [
      "[INFO] evaluating model...\n",
      "              precision  recall  f1-score   support\n",
      "Assistance        0.603   0.548     0.575  1838.000\n",
      "Slight            0.586   0.639     0.612  1838.000\n",
      "accuracy          0.594   0.594     0.594     0.594\n",
      "macro avg         0.595   0.594     0.593  3676.000\n",
      "weighted avg      0.595   0.594     0.593  3676.000\n",
      "              precision  recall  f1-score   support\n",
      "Assistance        0.715   0.564     0.630   811.000\n",
      "Slight            0.544   0.699     0.612   604.000\n",
      "accuracy          0.621   0.621     0.621     0.621\n",
      "macro avg         0.629   0.631     0.621  1415.000\n",
      "weighted avg      0.642   0.621     0.622  1415.000\n"
     ]
    }
   ],
   "source": [
    "if city and train_nn and other_models:\n",
    "    print(\"[INFO] evaluating model...\")\n",
    "\n",
    "    if train_nn:\n",
    "\n",
    "        Y_train_predicted = logistic_regression.predict(X_train)\n",
    "\n",
    "        save_classification_report_and_confussion_matrix(model_name = MODEL_NAME,\n",
    "                                                         model_timestamp = MODEL_TIMESTAMP,\n",
    "                                                         y_true = Y_train,\n",
    "                                                         y_predicted = Y_train_predicted,\n",
    "                                                         data = 'train')\n",
    "\n",
    "    Y_predicted = logistic_regression.predict(X_test)\n",
    "\n",
    "    save_classification_report_and_confussion_matrix(model_name = MODEL_NAME,\n",
    "                                                     model_timestamp = MODEL_TIMESTAMP,\n",
    "                                                     y_true = Y_test,\n",
    "                                                     y_predicted = Y_predicted,\n",
    "                                                     data = 'test')"
   ]
  },
  {
   "cell_type": "markdown",
   "id": "cb227f73-af15-4c41-bbd0-f89c80517c81",
   "metadata": {
    "tags": [],
    "toc-hr-collapsed": true
   },
   "source": [
    "### Random Forest"
   ]
  },
  {
   "cell_type": "code",
   "execution_count": 136,
   "id": "b8030bc1-13af-4755-8a73-6885d0646cb8",
   "metadata": {},
   "outputs": [],
   "source": [
    "from sklearn.linear_model import LogisticRegression\n",
    "\n",
    "MODEL_NAME = MODELS_NAME[4]\n",
    "\n",
    "MODEL_PATH = f\"{MODELS_PATH}{MODEL_NAME}/\"\n",
    "MODEL_FILE_NAME = f\"{city_name}_{MODEL_NAME}_{MODEL_TIMESTAMP}.h5\""
   ]
  },
  {
   "cell_type": "code",
   "execution_count": 137,
   "id": "c791e453-053d-47d3-8724-fd1a0bcd01f1",
   "metadata": {},
   "outputs": [
    {
     "name": "stdout",
     "output_type": "stream",
     "text": [
      "Done! random_forest in 0.08 (s)\n"
     ]
    }
   ],
   "source": [
    "if city and train_nn and other_models:\n",
    "    start = time.time()\n",
    "\n",
    "    xgboost = XGBClassifier()\n",
    "    xgboost = XGBClassifier(n_estimators=2, max_depth=2, eta=0.01, min_child_weight= 6.8)\n",
    "# \"eta\": 0.01, \"max_depth\": 2.0, \"min_child_weight\": 6.8}\n",
    "    xgboost.fit(X_train, Y_train)\n",
    "\n",
    "    end = time.time()\n",
    "\n",
    "    ellapsed_time = round(end - start, 2)\n",
    "\n",
    "\n",
    "    model_time = pd.DataFrame({'city': [city_name], 'model': [MODEL_NAME], 'time': [ellapsed_time]})\n",
    "    times = pd.concat([times, model_time])\n",
    "\n",
    "    print(f\"Done! {MODEL_NAME} in {ellapsed_time} (s)\")"
   ]
  },
  {
   "cell_type": "markdown",
   "id": "b5b9d97a-1e91-44d7-b0a9-30490e2be8af",
   "metadata": {
    "tags": []
   },
   "source": [
    "#### Escritura del modelo"
   ]
  },
  {
   "cell_type": "code",
   "execution_count": 138,
   "id": "6a9aa022-9930-4980-ab75-cb3fd8ccf998",
   "metadata": {},
   "outputs": [],
   "source": [
    "if city and train_nn and other_models:\n",
    "    os.makedirs(MODEL_PATH, exist_ok = True)\n",
    "\n",
    "    dump(clf, MODEL_PATH + MODEL_FILE_NAME) "
   ]
  },
  {
   "cell_type": "markdown",
   "id": "763f0151-3f32-4958-a550-b843cded92a6",
   "metadata": {},
   "source": [
    "#### Carga de modelo pre-entrenado"
   ]
  },
  {
   "cell_type": "code",
   "execution_count": 139,
   "id": "c026d31e-3faf-4518-b3a7-0b95236825f8",
   "metadata": {},
   "outputs": [],
   "source": [
    "if city and not train_nn and other_models:\n",
    "    MODEL_FILE_NAME = f\"{city_name}_{MODEL_NAME}_{timestamp_load}.joblib\"\n",
    "\n",
    "    logistic_regression = load(MODEL_PATH + MODEL_FILE_NAME)"
   ]
  },
  {
   "cell_type": "markdown",
   "id": "795e3548-84c8-499d-9992-8e11ed041410",
   "metadata": {},
   "source": [
    "#### Resultados"
   ]
  },
  {
   "cell_type": "code",
   "execution_count": 140,
   "id": "d6e0b5cd-8d48-4acc-be29-25c0a5226540",
   "metadata": {},
   "outputs": [
    {
     "name": "stdout",
     "output_type": "stream",
     "text": [
      "[INFO] evaluating model...\n",
      "              precision  recall  f1-score   support\n",
      "Assistance        0.867   0.238     0.373  1838.000\n",
      "Slight            0.558   0.964     0.707  1838.000\n",
      "accuracy          0.601   0.601     0.601     0.601\n",
      "macro avg         0.713   0.601     0.540  3676.000\n",
      "weighted avg      0.713   0.601     0.540  3676.000\n",
      "              precision  recall  f1-score   support\n",
      "Assistance        0.920   0.227     0.364   811.000\n",
      "Slight            0.484   0.974     0.647   604.000\n",
      "accuracy          0.546   0.546     0.546     0.546\n",
      "macro avg         0.702   0.600     0.505  1415.000\n",
      "weighted avg      0.734   0.546     0.485  1415.000\n"
     ]
    }
   ],
   "source": [
    "if city and train_nn and other_models:\n",
    "    print(\"[INFO] evaluating model...\")\n",
    "\n",
    "    if train_nn:\n",
    "\n",
    "        Y_train_predicted = xgboost.predict(X_train)\n",
    "\n",
    "        save_classification_report_and_confussion_matrix(model_name = MODEL_NAME,\n",
    "                                                         model_timestamp = MODEL_TIMESTAMP,\n",
    "                                                         y_true = Y_train,\n",
    "                                                         y_predicted = Y_train_predicted,\n",
    "                                                         data = 'train')\n",
    "\n",
    "    Y_predicted = xgboost.predict(X_test)\n",
    "\n",
    "    save_classification_report_and_confussion_matrix(model_name = MODEL_NAME,\n",
    "                                                     model_timestamp = MODEL_TIMESTAMP,\n",
    "                                                     y_true = Y_test,\n",
    "                                                     y_predicted = Y_predicted,\n",
    "                                                     data = 'test')"
   ]
  },
  {
   "cell_type": "markdown",
   "id": "5a7e33d9-36d0-4cfb-935b-59063d05062b",
   "metadata": {
    "tags": [],
    "toc-hr-collapsed": true
   },
   "source": [
    "### MLP"
   ]
  },
  {
   "cell_type": "code",
   "execution_count": 141,
   "id": "b0c6fa59-c052-49ea-9f5f-5b7e51b03981",
   "metadata": {},
   "outputs": [],
   "source": [
    "from sklearn.neural_network import MLPClassifier\n",
    "\n",
    "MODEL_NAME = MODELS_NAME[5]\n",
    "\n",
    "MODEL_PATH = f\"{MODELS_PATH}{MODEL_NAME}/\"\n",
    "MODEL_FILE_NAME = f\"{city_name}_{MODEL_NAME}_{MODEL_TIMESTAMP}.h5\""
   ]
  },
  {
   "cell_type": "code",
   "execution_count": 142,
   "id": "5f47e19d-41e8-4a36-98c5-2732656f1e56",
   "metadata": {},
   "outputs": [
    {
     "name": "stdout",
     "output_type": "stream",
     "text": [
      "Done! mlp in 1.83 (s)\n"
     ]
    },
    {
     "name": "stderr",
     "output_type": "stream",
     "text": [
      "/home/luis/anaconda3/lib/python3.9/site-packages/sklearn/neural_network/_multilayer_perceptron.py:692: ConvergenceWarning: Stochastic Optimizer: Maximum iterations (200) reached and the optimization hasn't converged yet.\n",
      "  warnings.warn(\n"
     ]
    }
   ],
   "source": [
    "if city and train_nn and other_models:\n",
    "    start = time.time()\n",
    "\n",
    "    clf = MLPClassifier()\n",
    "\n",
    "    clf.fit(X_train, Y_train)\n",
    "\n",
    "    end = time.time()\n",
    "\n",
    "    ellapsed_time = round(end - start, 2)\n",
    "\n",
    "\n",
    "    model_time = pd.DataFrame({'city': [city_name], 'model': [MODEL_NAME], 'time': [ellapsed_time]})\n",
    "    times = pd.concat([times, model_time])\n",
    "\n",
    "    print(f\"Done! {MODEL_NAME} in {ellapsed_time} (s)\")"
   ]
  },
  {
   "cell_type": "markdown",
   "id": "15339245-2b93-4f93-b2fb-470b0f94a771",
   "metadata": {
    "tags": []
   },
   "source": [
    "#### Escritura del modelo"
   ]
  },
  {
   "cell_type": "code",
   "execution_count": 143,
   "id": "1e07d6e2-f967-49ed-ac9d-3c52c7f8efe5",
   "metadata": {},
   "outputs": [],
   "source": [
    "if city and train_nn and other_models:\n",
    "    os.makedirs(MODEL_PATH, exist_ok = True)\n",
    "\n",
    "    dump(clf, MODEL_PATH + MODEL_FILE_NAME) "
   ]
  },
  {
   "cell_type": "markdown",
   "id": "fa22d6bb-2fd5-4d64-8539-dc3ea1fd5f0d",
   "metadata": {},
   "source": [
    "#### Carga de modelo pre-entrenado"
   ]
  },
  {
   "cell_type": "code",
   "execution_count": 144,
   "id": "8d837884-6630-4f70-abd4-11498ac0a588",
   "metadata": {},
   "outputs": [],
   "source": [
    "if city and not train_nn and other_models:\n",
    "    MODEL_FILE_NAME = f\"{city_name}_{MODEL_NAME}_{timestamp_load}.joblib\"\n",
    "\n",
    "    clf = load(MODEL_PATH + MODEL_FILE_NAME)"
   ]
  },
  {
   "cell_type": "markdown",
   "id": "282114f3-a22a-4d4c-8365-51203e91a8b1",
   "metadata": {},
   "source": [
    "#### Resultados"
   ]
  },
  {
   "cell_type": "code",
   "execution_count": 145,
   "id": "bcd9ceb1-162f-457c-9734-bbfd6785ca18",
   "metadata": {},
   "outputs": [
    {
     "name": "stdout",
     "output_type": "stream",
     "text": [
      "[INFO] evaluating model...\n",
      "              precision  recall  f1-score   support\n",
      "Assistance        0.808   0.743     0.774  1838.000\n",
      "Slight            0.762   0.824     0.792  1838.000\n",
      "accuracy          0.783   0.783     0.783     0.783\n",
      "macro avg         0.785   0.783     0.783  3676.000\n",
      "weighted avg      0.785   0.783     0.783  3676.000\n",
      "              precision  recall  f1-score   support\n",
      "Assistance        0.733   0.660     0.694   811.000\n",
      "Slight            0.597   0.677     0.635   604.000\n",
      "accuracy          0.667   0.667     0.667     0.667\n",
      "macro avg         0.665   0.668     0.664  1415.000\n",
      "weighted avg      0.675   0.667     0.669  1415.000\n"
     ]
    }
   ],
   "source": [
    "if city and train_nn and other_models:\n",
    "    print(\"[INFO] evaluating model...\")\n",
    "\n",
    "    if train_nn:\n",
    "\n",
    "        Y_predicted = clf.predict(X_train)\n",
    "\n",
    "        save_classification_report_and_confussion_matrix(model_name = MODEL_NAME,\n",
    "                                                         model_timestamp = MODEL_TIMESTAMP,\n",
    "                                                         y_true = Y_train,\n",
    "                                                         y_predicted = Y_predicted,\n",
    "                                                         data = 'train')\n",
    "    Y_predicted = clf.predict(X_test)\n",
    "\n",
    "    save_classification_report_and_confussion_matrix(model_name = MODEL_NAME,\n",
    "                                                     model_timestamp = MODEL_TIMESTAMP,\n",
    "                                                     y_true = Y_test,\n",
    "                                                     y_predicted = Y_predicted,\n",
    "                                                     data = 'test')"
   ]
  },
  {
   "cell_type": "markdown",
   "id": "c38dedb3-5dbf-48f4-9e83-7e33e25c4fb1",
   "metadata": {
    "tags": [],
    "toc-hr-collapsed": true
   },
   "source": [
    "### Convolution 1D"
   ]
  },
  {
   "cell_type": "code",
   "execution_count": 146,
   "id": "136a6fea-f33d-494c-9e91-294a6e6baedd",
   "metadata": {},
   "outputs": [],
   "source": [
    "from keras.callbacks import ReduceLROnPlateau\n",
    "from keras.callbacks import TensorBoard\n",
    "\n",
    "reduce_lr = ReduceLROnPlateau(monitor='val_loss', factor=0.2, patience=5, min_lr=0.001)"
   ]
  },
  {
   "cell_type": "code",
   "execution_count": 147,
   "id": "d66a7c1a-cef0-4df8-ae42-56e60ef9ca2f",
   "metadata": {},
   "outputs": [],
   "source": [
    "MODEL_NAME = MODELS_NAME[6]\n",
    "\n",
    "MODEL_PATH = f\"{MODELS_PATH}{MODEL_NAME}/\"\n",
    "MODEL_FILE_NAME = f\"{city_name}_{MODEL_NAME}_{MODEL_TIMESTAMP}.h5\""
   ]
  },
  {
   "cell_type": "markdown",
   "id": "4050b8c8-dad1-460e-9aa6-129558933a45",
   "metadata": {
    "tags": []
   },
   "source": [
    "#### Entrenamiento"
   ]
  },
  {
   "cell_type": "code",
   "execution_count": 147,
   "id": "02a22900-df53-4d44-8ae9-d5b5548eb89e",
   "metadata": {},
   "outputs": [],
   "source": [
    "import datetime\n",
    "\n",
    "log_dir = \"logs/fit/\" + datetime.datetime.now().strftime(\"%Y%m%d-%H%M%S\")\n",
    "tensorboard_callback = tf.keras.callbacks.TensorBoard(log_dir=log_dir, histogram_freq=1)\n"
   ]
  },
  {
   "cell_type": "code",
   "execution_count": 148,
   "id": "73ca0e20-7528-4cd6-96df-6ff7a64205bd",
   "metadata": {
    "tags": []
   },
   "outputs": [
    {
     "name": "stdout",
     "output_type": "stream",
     "text": [
      "Epoch 1/50\n"
     ]
    },
    {
     "ename": "ValueError",
     "evalue": "in user code:\n\n    File \"/home/luis/anaconda3/lib/python3.9/site-packages/keras/engine/training.py\", line 1249, in train_function  *\n        return step_function(self, iterator)\n    File \"/home/luis/anaconda3/lib/python3.9/site-packages/keras/engine/training.py\", line 1233, in step_function  **\n        outputs = model.distribute_strategy.run(run_step, args=(data,))\n    File \"/home/luis/anaconda3/lib/python3.9/site-packages/keras/engine/training.py\", line 1222, in run_step  **\n        outputs = model.train_step(data)\n    File \"/home/luis/anaconda3/lib/python3.9/site-packages/keras/engine/training.py\", line 1023, in train_step\n        y_pred = self(x, training=True)\n    File \"/home/luis/anaconda3/lib/python3.9/site-packages/keras/utils/traceback_utils.py\", line 70, in error_handler\n        raise e.with_traceback(filtered_tb) from None\n    File \"/home/luis/anaconda3/lib/python3.9/site-packages/keras/engine/input_spec.py\", line 295, in assert_input_compatibility\n        raise ValueError(\n\n    ValueError: Input 0 of layer \"sequential_2\" is incompatible with the layer: expected shape=(None, 5, 5, 1), found shape=(None, 6, 4, 1)\n",
     "output_type": "error",
     "traceback": [
      "\u001b[0;31m---------------------------------------------------------------------------\u001b[0m",
      "\u001b[0;31mValueError\u001b[0m                                Traceback (most recent call last)",
      "Input \u001b[0;32mIn [148]\u001b[0m, in \u001b[0;36m<cell line: 1>\u001b[0;34m()\u001b[0m\n\u001b[1;32m     12\u001b[0m start \u001b[38;5;241m=\u001b[39m time\u001b[38;5;241m.\u001b[39mtime()\n\u001b[1;32m     14\u001b[0m convolution_1d \u001b[38;5;241m=\u001b[39m  get_1d_conv(fm_one \u001b[38;5;241m=\u001b[39m fm_one,\n\u001b[1;32m     15\u001b[0m                        fm_two \u001b[38;5;241m=\u001b[39m fm_two,\n\u001b[1;32m     16\u001b[0m                        fm_three \u001b[38;5;241m=\u001b[39m fm_three,\n\u001b[0;32m   (...)\u001b[0m\n\u001b[1;32m     19\u001b[0m                        dropout \u001b[38;5;241m=\u001b[39m \u001b[38;5;241m0.2\u001b[39m,\n\u001b[1;32m     20\u001b[0m                        learnRate \u001b[38;5;241m=\u001b[39m learnRate)\n\u001b[0;32m---> 22\u001b[0m history \u001b[38;5;241m=\u001b[39m \u001b[43mconvolution_1d\u001b[49m\u001b[38;5;241;43m.\u001b[39;49m\u001b[43mfit\u001b[49m\u001b[43m(\u001b[49m\u001b[43marray_train_images\u001b[49m\u001b[43m,\u001b[49m\u001b[43m \u001b[49m\u001b[43mY_train_onehot\u001b[49m\u001b[43m,\u001b[49m\n\u001b[1;32m     23\u001b[0m \u001b[43m                               \u001b[49m\u001b[38;5;66;43;03m# class_weight = pesos,\u001b[39;49;00m\n\u001b[1;32m     24\u001b[0m \u001b[43m                               \u001b[49m\u001b[43mbatch_size\u001b[49m\u001b[43m \u001b[49m\u001b[38;5;241;43m=\u001b[39;49m\u001b[43m \u001b[49m\u001b[43mbatchSize\u001b[49m\u001b[43m,\u001b[49m\n\u001b[1;32m     25\u001b[0m \u001b[43m                               \u001b[49m\u001b[43mepochs\u001b[49m\u001b[43m \u001b[49m\u001b[38;5;241;43m=\u001b[39;49m\u001b[43m \u001b[49m\u001b[38;5;241;43m50\u001b[39;49m\u001b[43m,\u001b[49m\n\u001b[1;32m     26\u001b[0m \u001b[43m                               \u001b[49m\u001b[43mshuffle\u001b[49m\u001b[43m \u001b[49m\u001b[38;5;241;43m=\u001b[39;49m\u001b[43m \u001b[49m\u001b[38;5;28;43;01mTrue\u001b[39;49;00m\u001b[43m,\u001b[49m\n\u001b[1;32m     27\u001b[0m \u001b[43m                               \u001b[49m\u001b[43mvalidation_data\u001b[49m\u001b[43m \u001b[49m\u001b[38;5;241;43m=\u001b[39;49m\u001b[43m \u001b[49m\u001b[43m(\u001b[49m\u001b[43marray_test_images\u001b[49m\u001b[43m,\u001b[49m\u001b[43m \u001b[49m\u001b[43mY_test_onehot\u001b[49m\u001b[43m)\u001b[49m\u001b[43m,\u001b[49m\n\u001b[1;32m     28\u001b[0m \u001b[43m                               \u001b[49m\u001b[43mcallbacks\u001b[49m\u001b[38;5;241;43m=\u001b[39;49m\u001b[43m[\u001b[49m\u001b[43mtensorboard_callback\u001b[49m\u001b[43m]\u001b[49m\u001b[43m)\u001b[49m\n\u001b[1;32m     30\u001b[0m end \u001b[38;5;241m=\u001b[39m time\u001b[38;5;241m.\u001b[39mtime()\n\u001b[1;32m     32\u001b[0m ellapsed_time \u001b[38;5;241m=\u001b[39m \u001b[38;5;28mround\u001b[39m(end \u001b[38;5;241m-\u001b[39m start, \u001b[38;5;241m2\u001b[39m)\n",
      "File \u001b[0;32m~/anaconda3/lib/python3.9/site-packages/keras/utils/traceback_utils.py:70\u001b[0m, in \u001b[0;36mfilter_traceback.<locals>.error_handler\u001b[0;34m(*args, **kwargs)\u001b[0m\n\u001b[1;32m     67\u001b[0m     filtered_tb \u001b[38;5;241m=\u001b[39m _process_traceback_frames(e\u001b[38;5;241m.\u001b[39m__traceback__)\n\u001b[1;32m     68\u001b[0m     \u001b[38;5;66;03m# To get the full stack trace, call:\u001b[39;00m\n\u001b[1;32m     69\u001b[0m     \u001b[38;5;66;03m# `tf.debugging.disable_traceback_filtering()`\u001b[39;00m\n\u001b[0;32m---> 70\u001b[0m     \u001b[38;5;28;01mraise\u001b[39;00m e\u001b[38;5;241m.\u001b[39mwith_traceback(filtered_tb) \u001b[38;5;28;01mfrom\u001b[39;00m \u001b[38;5;28mNone\u001b[39m\n\u001b[1;32m     71\u001b[0m \u001b[38;5;28;01mfinally\u001b[39;00m:\n\u001b[1;32m     72\u001b[0m     \u001b[38;5;28;01mdel\u001b[39;00m filtered_tb\n",
      "File \u001b[0;32m/tmp/__autograph_generated_fileker8uu7q.py:15\u001b[0m, in \u001b[0;36mouter_factory.<locals>.inner_factory.<locals>.tf__train_function\u001b[0;34m(iterator)\u001b[0m\n\u001b[1;32m     13\u001b[0m \u001b[38;5;28;01mtry\u001b[39;00m:\n\u001b[1;32m     14\u001b[0m     do_return \u001b[38;5;241m=\u001b[39m \u001b[38;5;28;01mTrue\u001b[39;00m\n\u001b[0;32m---> 15\u001b[0m     retval_ \u001b[38;5;241m=\u001b[39m ag__\u001b[38;5;241m.\u001b[39mconverted_call(ag__\u001b[38;5;241m.\u001b[39mld(step_function), (ag__\u001b[38;5;241m.\u001b[39mld(\u001b[38;5;28mself\u001b[39m), ag__\u001b[38;5;241m.\u001b[39mld(iterator)), \u001b[38;5;28;01mNone\u001b[39;00m, fscope)\n\u001b[1;32m     16\u001b[0m \u001b[38;5;28;01mexcept\u001b[39;00m:\n\u001b[1;32m     17\u001b[0m     do_return \u001b[38;5;241m=\u001b[39m \u001b[38;5;28;01mFalse\u001b[39;00m\n",
      "\u001b[0;31mValueError\u001b[0m: in user code:\n\n    File \"/home/luis/anaconda3/lib/python3.9/site-packages/keras/engine/training.py\", line 1249, in train_function  *\n        return step_function(self, iterator)\n    File \"/home/luis/anaconda3/lib/python3.9/site-packages/keras/engine/training.py\", line 1233, in step_function  **\n        outputs = model.distribute_strategy.run(run_step, args=(data,))\n    File \"/home/luis/anaconda3/lib/python3.9/site-packages/keras/engine/training.py\", line 1222, in run_step  **\n        outputs = model.train_step(data)\n    File \"/home/luis/anaconda3/lib/python3.9/site-packages/keras/engine/training.py\", line 1023, in train_step\n        y_pred = self(x, training=True)\n    File \"/home/luis/anaconda3/lib/python3.9/site-packages/keras/utils/traceback_utils.py\", line 70, in error_handler\n        raise e.with_traceback(filtered_tb) from None\n    File \"/home/luis/anaconda3/lib/python3.9/site-packages/keras/engine/input_spec.py\", line 295, in assert_input_compatibility\n        raise ValueError(\n\n    ValueError: Input 0 of layer \"sequential_2\" is incompatible with the layer: expected shape=(None, 5, 5, 1), found shape=(None, 6, 4, 1)\n"
     ]
    }
   ],
   "source": [
    "if city and train_nn and cnn1d and not calculate_cnn_hyperparams:\n",
    "    \n",
    "    fm_one, fm_two, fm_three, fm_four = (64, 512, 128, 256)\n",
    "    n_classes = Y_train.unique()\n",
    "\n",
    "    dense  = 256\n",
    "\n",
    "    learnRate = 0.001\n",
    "\n",
    "    batchSize = 64\n",
    "\n",
    "    start = time.time()\n",
    "\n",
    "    convolution_1d =  get_1d_conv(fm_one = fm_one,\n",
    "                           fm_two = fm_two,\n",
    "                           fm_three = fm_three,\n",
    "                           fm_four = fm_four,\n",
    "                           dense = dense,\n",
    "                           dropout = 0.2,\n",
    "                           learnRate = learnRate)\n",
    "\n",
    "    history = convolution_1d.fit(array_train_images, Y_train_onehot,\n",
    "                                   # class_weight = pesos,\n",
    "                                   batch_size = batchSize,\n",
    "                                   epochs = 50,\n",
    "                                   shuffle = True,\n",
    "                                   validation_data = (array_test_images, Y_test_onehot),\n",
    "                                   callbacks=[tensorboard_callback])\n",
    "\n",
    "    end = time.time()\n",
    "\n",
    "    ellapsed_time = round(end - start, 2)\n",
    "\n",
    "    model_time = pd.DataFrame({'city': [city_name],\n",
    "                               'model': [MODEL_NAME],\n",
    "                               'time': [ellapsed_time]})\n",
    "\n",
    "    times = pd.concat([times, model_time])\n",
    "\n",
    "    history"
   ]
  },
  {
   "cell_type": "code",
   "execution_count": null,
   "id": "5a88d4e3-6162-4a5a-94f9-33f4bed83872",
   "metadata": {},
   "outputs": [],
   "source": [
    "# if city and train_nn and cnn1d and not calculate_cnn_hyperparams:\n",
    "#     start = time.time()\n",
    "\n",
    "#     fold_no = 1\n",
    "#     # for train, test in kfold.split(inputs, targets):\n",
    "#     history = convolution_1d.fit(array_train_images, Y_train_onehot,\n",
    "#                                  # class_weight = pesos,\n",
    "#                                  batch_size = 64,\n",
    "#                                  epochs = 100,\n",
    "#                                  shuffle = True,\n",
    "#                                  validation_data = (array_test_images, Y_test_onehot))\n",
    "#     end = time.time()\n",
    "\n",
    "#     ellapsed_time = round(end - start, 2)\n",
    "\n",
    "#     model_time = pd.DataFrame({'city': [city_name],\n",
    "#                                'model': [MODEL_NAME],\n",
    "#                                'time': [ellapsed_time]})\n",
    "\n",
    "#     times = times.append(model_time)\n",
    "\n",
    "#     history"
   ]
  },
  {
   "cell_type": "code",
   "execution_count": null,
   "id": "7b1178bc-b437-40a5-aa41-7ddfaf6c045c",
   "metadata": {},
   "outputs": [],
   "source": [
    "# if city and train_nn and not calculate_cnn_hyperparams:\n",
    "    \n",
    "#     fm_one, fm_two, fm_three, fm_four = (64, 512, 1024, 512)\n",
    "#     n_classes = Y_train.unique()\n",
    "\n",
    "#     dense  = 32\n",
    "\n",
    "#     learnRate = 0.001\n",
    "\n",
    "#     batchSize = 32\n",
    "\n",
    "#     start = time.time()\n",
    "\n",
    "#     convolution_1d = get_1d_conv(fm_one = fm_one,\n",
    "#                            fm_two = fm_two,\n",
    "#                            fm_three = fm_three,\n",
    "#                            fm_four = fm_four,\n",
    "#                            dense = dense,\n",
    "#                            dropout = 0.2,\n",
    "#                            learnRate = learnRate)\n",
    "\n",
    "#     history = convolution_1d.fit(array_train_images, Y_train_onehot,\n",
    "#                            # class_weight = pesos,\n",
    "#                            batch_size = batchSize,\n",
    "#                            epochs = 1,\n",
    "#                            shuffle = True,\n",
    "#                            validation_data = (array_test_images, Y_test_onehot))\n",
    "\n",
    "#     end = time.time()\n",
    "\n",
    "#     ellapsed_time = round(end - start, 2)\n",
    "\n",
    "#     model_time = pd.DataFrame({'city': [city_name],\n",
    "#                                'model': [MODEL_NAME],\n",
    "#                                'time': [ellapsed_time]})\n",
    "#     times = times.append(model_time)    \n",
    "\n",
    "#     history"
   ]
  },
  {
   "cell_type": "code",
   "execution_count": null,
   "id": "762c3e47-3441-4d13-88b8-87d720d8a094",
   "metadata": {
    "tags": []
   },
   "outputs": [],
   "source": [
    "from tensorflow.keras.wrappers.scikit_learn import KerasClassifier\n",
    "from sklearn.model_selection import RandomizedSearchCV\n",
    "calculate_cnn_hyperparams=True\n",
    "if city and train_nn and cnn1d and calculate_cnn_hyperparams:\n",
    "\n",
    "    model_time = pd.DataFrame({'city': [city_name],\n",
    "                               'model': [MODEL_NAME],\n",
    "                               'time': 0})\n",
    "    times = times.append(model_time)\n",
    "    # wrap our model into a scikit-learn compatible classifier\n",
    "    print(\"[INFO] initializing model...\")\n",
    "    model = KerasClassifier(build_fn=get_1d_conv, verbose=10)\n",
    "\n",
    "    # define a grid of the hyperparameter search space\n",
    "\n",
    "    # fm_one = fm_two = fm_three = fm_four = fm_five = fm_six = [32, 64, 128, 256, 512]\n",
    "    fm_one = fm_two = fm_three = fm_four = [32, 64, 128, 256, 512, 1024]\n",
    "\n",
    "    dense  = [32, 64, 128, 256]\n",
    "\n",
    "    learnRate = [0.1, 1e-2, 1e-3, 1e-4]\n",
    "\n",
    "    batchSize = [32, 64, 128]\n",
    "\n",
    "    epochs = [60]\n",
    "\n",
    "    # create a dictionary from the hyperparameter grid\n",
    "    grid = dict(\n",
    "        fm_one = fm_one,\n",
    "        fm_two = fm_two,\n",
    "        fm_three = fm_three,\n",
    "        fm_four = fm_four,\n",
    "        dense = dense,\n",
    "        learnRate=learnRate,\n",
    "        batch_size=batchSize,\n",
    "        epochs=epochs\n",
    "    )\n",
    "\n",
    "    # initialize a random search with a 3-fold cross-validation and then\n",
    "    # start the hyperparameter search process\n",
    "    print(\"[INFO] performing random search...\")\n",
    "    searcher = RandomizedSearchCV(estimator = model,\n",
    "                                  n_iter = 50,\n",
    "                                  cv = 3,\n",
    "                                  param_distributions = grid,\n",
    "                                  scoring = 'f1_micro')\n",
    "\n",
    "    searchResults = searcher.fit(array_train_images, Y_train)\n",
    "\n",
    "    # summarize grid search information\n",
    "    bestScore = searchResults.best_score_\n",
    "    bestParams = searchResults.best_params_\n",
    "\n",
    "    print(\"[INFO] best score is {:.2f} using {}\".format(bestScore,\tbestParams))\n",
    "\n",
    "    print(\"[INFO] evaluating the best model...\")\n",
    "    convolution1d = bestModel = searchResults.best_estimator_\n",
    "    # accuracy = bestModel.score(array_test_images, Y_test)\n",
    "    # print(\"accuracy: {:.2f}%\".format(accuracy * 100))\n",
    "\n",
    "    text_file = open(f\"./CNN1D-{MODEL_TIMESTAMP}.txt\", \"w\")\n",
    "    n = text_file.write(str(searchResults.cv_results_))\n",
    "    text_file.close()"
   ]
  },
  {
   "cell_type": "markdown",
   "id": "92c5ba6f-348d-4b03-ac0f-10041b17ea46",
   "metadata": {},
   "source": [
    "#### Escritura del modelo"
   ]
  },
  {
   "cell_type": "code",
   "execution_count": null,
   "id": "010e41f5-3de9-4eee-86b5-27c63c9ce67c",
   "metadata": {},
   "outputs": [],
   "source": [
    "if city and train_nn and cnn1d:\n",
    "    os.makedirs(MODEL_PATH, exist_ok = True)\n",
    "\n",
    "    convolution_1d.save(MODEL_PATH + MODEL_FILE_NAME)"
   ]
  },
  {
   "cell_type": "markdown",
   "id": "9c6d490d-cc05-40c5-8dae-80a82c51581f",
   "metadata": {},
   "source": [
    "#### Carga de modelo pre-entrenado"
   ]
  },
  {
   "cell_type": "code",
   "execution_count": null,
   "id": "8acd74c7-cacc-485c-8960-7b4157d3c445",
   "metadata": {},
   "outputs": [],
   "source": [
    "if city and not train_nn and not laptop and cnn1d:\n",
    "    # MODEL_FILE_NAME = f\"{city_name}_{MODEL_NAME}_{loaded_timestamp}.h5\"\n",
    "    MODEL_FILE_NAME = f\"{city_name}_{MODEL_NAME}_2022-07-19-08:49:34.h5\"\n",
    "    # MODEL_FILE_NAME = 'madrid_convolution_1d_2022-05-19-06:33:55.h5'\n",
    "\n",
    "    convolution_1d = tf.keras.models.load_model(MODEL_PATH + MODEL_FILE_NAME)"
   ]
  },
  {
   "cell_type": "markdown",
   "id": "405450df-6396-4e2d-8592-9d85349830ab",
   "metadata": {},
   "source": [
    "#### Resultados"
   ]
  },
  {
   "cell_type": "code",
   "execution_count": null,
   "id": "921fa803-9106-43d8-90d0-bcd386cb9e23",
   "metadata": {
    "tags": []
   },
   "outputs": [],
   "source": [
    "if city and cnn1d:\n",
    "\n",
    "    print(\"[INFO] evaluating network...\")\n",
    "\n",
    "    Y_predicted = convolution_1d.predict(x = array_test_images).argmax(axis = 1)\n",
    "\n",
    "    if train_nn:\n",
    "        F1_SCORE_PATH = f\"{F1_SCORES_PATH}{MODEL_NAME}/\"\n",
    "        F1_SCORE_NAME = f\"{city_name}_{MODEL_NAME}_f1_score_{MODEL_TIMESTAMP}.svg\"\n",
    "\n",
    "        plot_f1_score_history(f1_score_path = F1_SCORE_PATH,\n",
    "                              f1_score_name = F1_SCORE_NAME,\n",
    "                              history = history)\n",
    "\n",
    "        Y_train_predicted = convolution_1d.predict(x = array_train_images).argmax(axis = 1)\n",
    "\n",
    "        save_classification_report_and_confussion_matrix(model_name = MODEL_NAME,\n",
    "                                                         model_timestamp = MODEL_TIMESTAMP,\n",
    "                                                         y_true = Y_train,\n",
    "                                                         y_predicted = Y_train_predicted,\n",
    "                                                         data = 'train')\n",
    "\n",
    "    save_classification_report_and_confussion_matrix(model_name = MODEL_NAME,\n",
    "                                                     model_timestamp = MODEL_TIMESTAMP,\n",
    "                                                     y_true = Y_test,\n",
    "                                                     y_predicted = Y_predicted,\n",
    "                                                     data = 'test')"
   ]
  },
  {
   "cell_type": "markdown",
   "id": "66b03324-d7ea-42ce-a5cb-b42c49177505",
   "metadata": {
    "id": "PohCQRSm67P0",
    "tags": [],
    "toc-hr-collapsed": true
   },
   "source": [
    "### Convolution 2D"
   ]
  },
  {
   "cell_type": "code",
   "execution_count": 148,
   "id": "b31f6fd8-1293-4dce-b269-ac7841814ee8",
   "metadata": {},
   "outputs": [],
   "source": [
    "MODEL_NAME = MODELS_NAME[7]\n",
    "\n",
    "MODEL_PATH = f\"{MODELS_PATH}{MODEL_NAME}/\"\n",
    "MODEL_FILE_NAME = f\"{city_name}_{MODEL_NAME}_{MODEL_TIMESTAMP}.h5\""
   ]
  },
  {
   "cell_type": "markdown",
   "id": "b0aafab8-230a-4510-a692-44ebce2b529a",
   "metadata": {
    "id": "vPh1ixx-67P2"
   },
   "source": [
    "#### Entrenamiento"
   ]
  },
  {
   "cell_type": "code",
   "execution_count": 149,
   "id": "a8c338c5-4939-40b6-8b37-1a7e91be56df",
   "metadata": {
    "id": "b-rJTSQC67P2",
    "tags": []
   },
   "outputs": [
    {
     "name": "stdout",
     "output_type": "stream",
     "text": [
      "Epoch 1/50\n"
     ]
    },
    {
     "name": "stderr",
     "output_type": "stream",
     "text": [
      "2023-10-10 00:36:29.250611: I tensorflow/stream_executor/cuda/cuda_dnn.cc:384] Loaded cuDNN version 8600\n"
     ]
    },
    {
     "name": "stdout",
     "output_type": "stream",
     "text": [
      "  1/115 [..............................] - ETA: 3:15 - loss: 0.7607 - f1_score: 0.6667"
     ]
    },
    {
     "name": "stderr",
     "output_type": "stream",
     "text": [
      "2023-10-10 00:36:29.619401: W tensorflow/stream_executor/gpu/asm_compiler.cc:111] *** WARNING *** You are using ptxas 10.1.243, which is older than 11.1. ptxas before 11.1 is known to miscompile XLA code, leading to incorrect results or invalid-address errors.\n",
      "\n",
      "You may not need to update to CUDA 11.1; cherry-picking the ptxas binary is often sufficient.\n",
      "2023-10-10 00:36:29.620333: W tensorflow/stream_executor/gpu/asm_compiler.cc:230] Falling back to the CUDA driver for PTX compilation; ptxas does not support CC 8.6\n",
      "2023-10-10 00:36:29.620337: W tensorflow/stream_executor/gpu/asm_compiler.cc:233] Used ptxas at ptxas\n",
      "2023-10-10 00:36:29.620364: W tensorflow/stream_executor/gpu/redzone_allocator.cc:314] UNIMPLEMENTED: ptxas ptxas too old. Falling back to the driver to compile.\n",
      "Relying on driver to perform ptx compilation. \n",
      "Modify $PATH to customize ptxas location.\n",
      "This message will be only logged once.\n",
      "2023-10-10 00:36:29.691605: I tensorflow/stream_executor/cuda/cuda_blas.cc:1614] TensorFloat-32 will be used for the matrix multiplication. This will only be logged once.\n"
     ]
    },
    {
     "name": "stdout",
     "output_type": "stream",
     "text": [
      "115/115 [==============================] - 3s 9ms/step - loss: 0.7314 - f1_score: 0.6684 - val_loss: 0.6977 - val_f1_score: 0.6667\n",
      "Epoch 2/50\n",
      "115/115 [==============================] - 1s 5ms/step - loss: 0.6140 - f1_score: 0.6992 - val_loss: 0.7053 - val_f1_score: 0.6667\n",
      "Epoch 3/50\n",
      "115/115 [==============================] - 1s 5ms/step - loss: 0.5603 - f1_score: 0.7176 - val_loss: 0.6983 - val_f1_score: 0.6668\n",
      "Epoch 4/50\n",
      "115/115 [==============================] - 1s 5ms/step - loss: 0.5287 - f1_score: 0.7302 - val_loss: 0.6698 - val_f1_score: 0.6708\n",
      "Epoch 5/50\n",
      "115/115 [==============================] - 1s 7ms/step - loss: 0.4901 - f1_score: 0.7474 - val_loss: 0.6222 - val_f1_score: 0.6934\n",
      "Epoch 6/50\n",
      "115/115 [==============================] - 1s 9ms/step - loss: 0.4670 - f1_score: 0.7574 - val_loss: 0.6028 - val_f1_score: 0.7047\n",
      "Epoch 7/50\n",
      "115/115 [==============================] - 1s 6ms/step - loss: 0.4399 - f1_score: 0.7716 - val_loss: 0.5944 - val_f1_score: 0.7135\n",
      "Epoch 8/50\n",
      "115/115 [==============================] - 1s 6ms/step - loss: 0.4219 - f1_score: 0.7859 - val_loss: 0.5840 - val_f1_score: 0.7231\n",
      "Epoch 9/50\n",
      "115/115 [==============================] - 1s 7ms/step - loss: 0.4075 - f1_score: 0.7907 - val_loss: 0.5865 - val_f1_score: 0.7242\n",
      "Epoch 10/50\n",
      "115/115 [==============================] - 1s 7ms/step - loss: 0.3816 - f1_score: 0.8040 - val_loss: 0.5808 - val_f1_score: 0.7342\n",
      "Epoch 11/50\n",
      "115/115 [==============================] - 1s 7ms/step - loss: 0.3697 - f1_score: 0.8144 - val_loss: 0.5735 - val_f1_score: 0.7342\n",
      "Epoch 12/50\n",
      "115/115 [==============================] - 1s 8ms/step - loss: 0.3467 - f1_score: 0.8235 - val_loss: 0.5783 - val_f1_score: 0.7319\n",
      "Epoch 13/50\n",
      "115/115 [==============================] - 1s 7ms/step - loss: 0.3403 - f1_score: 0.8296 - val_loss: 0.5715 - val_f1_score: 0.7367\n",
      "Epoch 14/50\n",
      "115/115 [==============================] - 1s 8ms/step - loss: 0.3245 - f1_score: 0.8385 - val_loss: 0.5862 - val_f1_score: 0.7406\n",
      "Epoch 15/50\n",
      "115/115 [==============================] - 1s 7ms/step - loss: 0.3123 - f1_score: 0.8454 - val_loss: 0.5740 - val_f1_score: 0.7462\n",
      "Epoch 16/50\n",
      "115/115 [==============================] - 1s 9ms/step - loss: 0.3181 - f1_score: 0.8437 - val_loss: 0.5883 - val_f1_score: 0.7391\n",
      "Epoch 17/50\n",
      "115/115 [==============================] - 1s 6ms/step - loss: 0.2941 - f1_score: 0.8552 - val_loss: 0.5898 - val_f1_score: 0.7465\n",
      "Epoch 18/50\n",
      "115/115 [==============================] - 1s 10ms/step - loss: 0.2925 - f1_score: 0.8576 - val_loss: 0.5657 - val_f1_score: 0.7535\n",
      "Epoch 19/50\n",
      "115/115 [==============================] - 1s 10ms/step - loss: 0.2813 - f1_score: 0.8622 - val_loss: 0.5634 - val_f1_score: 0.7559\n",
      "Epoch 20/50\n",
      "115/115 [==============================] - 1s 10ms/step - loss: 0.2721 - f1_score: 0.8705 - val_loss: 0.5827 - val_f1_score: 0.7499\n",
      "Epoch 21/50\n",
      "115/115 [==============================] - 1s 10ms/step - loss: 0.2638 - f1_score: 0.8704 - val_loss: 0.5832 - val_f1_score: 0.7558\n",
      "Epoch 22/50\n",
      "115/115 [==============================] - 1s 9ms/step - loss: 0.2742 - f1_score: 0.8688 - val_loss: 0.5843 - val_f1_score: 0.7627\n",
      "Epoch 23/50\n",
      "115/115 [==============================] - 1s 6ms/step - loss: 0.2585 - f1_score: 0.8800 - val_loss: 0.5923 - val_f1_score: 0.7610\n",
      "Epoch 24/50\n",
      "115/115 [==============================] - 1s 8ms/step - loss: 0.2630 - f1_score: 0.8756 - val_loss: 0.5920 - val_f1_score: 0.7610\n",
      "Epoch 25/50\n",
      "115/115 [==============================] - 1s 8ms/step - loss: 0.2398 - f1_score: 0.8827 - val_loss: 0.5761 - val_f1_score: 0.7678\n",
      "Epoch 26/50\n",
      "115/115 [==============================] - 1s 10ms/step - loss: 0.2357 - f1_score: 0.8840 - val_loss: 0.5969 - val_f1_score: 0.7601\n",
      "Epoch 27/50\n",
      "115/115 [==============================] - 1s 8ms/step - loss: 0.2485 - f1_score: 0.8838 - val_loss: 0.5819 - val_f1_score: 0.7647\n",
      "Epoch 28/50\n",
      "115/115 [==============================] - 1s 9ms/step - loss: 0.2259 - f1_score: 0.8902 - val_loss: 0.5780 - val_f1_score: 0.7647\n",
      "Epoch 29/50\n",
      "115/115 [==============================] - 1s 9ms/step - loss: 0.2311 - f1_score: 0.8911 - val_loss: 0.5883 - val_f1_score: 0.7723\n",
      "Epoch 30/50\n",
      "115/115 [==============================] - 1s 9ms/step - loss: 0.2235 - f1_score: 0.8931 - val_loss: 0.5961 - val_f1_score: 0.7650\n",
      "Epoch 31/50\n",
      "115/115 [==============================] - 1s 9ms/step - loss: 0.2277 - f1_score: 0.8917 - val_loss: 0.6003 - val_f1_score: 0.7683\n",
      "Epoch 32/50\n",
      "115/115 [==============================] - 1s 11ms/step - loss: 0.2257 - f1_score: 0.8947 - val_loss: 0.5849 - val_f1_score: 0.7639\n",
      "Epoch 33/50\n",
      "115/115 [==============================] - 1s 9ms/step - loss: 0.2223 - f1_score: 0.8974 - val_loss: 0.5859 - val_f1_score: 0.7681\n",
      "Epoch 34/50\n",
      "115/115 [==============================] - 1s 8ms/step - loss: 0.2185 - f1_score: 0.8971 - val_loss: 0.6116 - val_f1_score: 0.7679\n",
      "Epoch 35/50\n",
      "115/115 [==============================] - 1s 7ms/step - loss: 0.2153 - f1_score: 0.9003 - val_loss: 0.5998 - val_f1_score: 0.7663\n",
      "Epoch 36/50\n",
      "115/115 [==============================] - 1s 6ms/step - loss: 0.2209 - f1_score: 0.8967 - val_loss: 0.6106 - val_f1_score: 0.7660\n",
      "Epoch 37/50\n",
      "115/115 [==============================] - 1s 5ms/step - loss: 0.2245 - f1_score: 0.8939 - val_loss: 0.5930 - val_f1_score: 0.7657\n",
      "Epoch 38/50\n",
      "115/115 [==============================] - 1s 6ms/step - loss: 0.2057 - f1_score: 0.9040 - val_loss: 0.5699 - val_f1_score: 0.7729\n",
      "Epoch 39/50\n",
      "115/115 [==============================] - 1s 6ms/step - loss: 0.2044 - f1_score: 0.9057 - val_loss: 0.5801 - val_f1_score: 0.7764\n",
      "Epoch 40/50\n",
      "115/115 [==============================] - 1s 5ms/step - loss: 0.2036 - f1_score: 0.9013 - val_loss: 0.6070 - val_f1_score: 0.7700\n",
      "Epoch 41/50\n",
      "115/115 [==============================] - 1s 6ms/step - loss: 0.1941 - f1_score: 0.9071 - val_loss: 0.6089 - val_f1_score: 0.7686\n",
      "Epoch 42/50\n",
      "115/115 [==============================] - 1s 9ms/step - loss: 0.2001 - f1_score: 0.9039 - val_loss: 0.6194 - val_f1_score: 0.7676\n",
      "Epoch 43/50\n",
      "115/115 [==============================] - 1s 5ms/step - loss: 0.2009 - f1_score: 0.9070 - val_loss: 0.6254 - val_f1_score: 0.7686\n",
      "Epoch 44/50\n",
      "115/115 [==============================] - 1s 7ms/step - loss: 0.2087 - f1_score: 0.9041 - val_loss: 0.6420 - val_f1_score: 0.7677\n",
      "Epoch 45/50\n",
      "115/115 [==============================] - 1s 9ms/step - loss: 0.2062 - f1_score: 0.9039 - val_loss: 0.6209 - val_f1_score: 0.7719\n",
      "Epoch 46/50\n",
      "115/115 [==============================] - 1s 9ms/step - loss: 0.1957 - f1_score: 0.9073 - val_loss: 0.6276 - val_f1_score: 0.7718\n",
      "Epoch 47/50\n",
      "115/115 [==============================] - 1s 8ms/step - loss: 0.1888 - f1_score: 0.9119 - val_loss: 0.6377 - val_f1_score: 0.7728\n",
      "Epoch 48/50\n",
      "115/115 [==============================] - 1s 8ms/step - loss: 0.2051 - f1_score: 0.9051 - val_loss: 0.6302 - val_f1_score: 0.7691\n",
      "Epoch 49/50\n",
      "115/115 [==============================] - 1s 8ms/step - loss: 0.1866 - f1_score: 0.9142 - val_loss: 0.6243 - val_f1_score: 0.7688\n",
      "Epoch 50/50\n",
      "115/115 [==============================] - 1s 9ms/step - loss: 0.1997 - f1_score: 0.9065 - val_loss: 0.6281 - val_f1_score: 0.7719\n"
     ]
    }
   ],
   "source": [
    "\n",
    "if city and cnn2d and not False:\n",
    "    \n",
    "    fm_one, fm_two, fm_three, fm_four = (256, 512, 256, 32)\n",
    "    n_classes = Y_train.unique()\n",
    "\n",
    "    dense  = 512\n",
    "\n",
    "    learning_rate = 1e-05\n",
    "\n",
    "    batchSize = 32\n",
    "\n",
    "    start = time.time()\n",
    "\n",
    "    tasp_cnn = get_tasp_cnn_o(max_dimension_x,\n",
    "                              max_dimension_y,\n",
    "                              fm_one = fm_one,\n",
    "                              fm_two = fm_two,\n",
    "                              fm_three = fm_three,\n",
    "                              fm_four = fm_four,\n",
    "                              dense = dense,\n",
    "                              dropout = 0.2,\n",
    "                              learning_rate = learning_rate)\n",
    "\n",
    "    history = tasp_cnn.fit(array_train_images, Y_train_onehot,\n",
    "                           # class_weight = pesos,\n",
    "                           batch_size = batchSize,\n",
    "                           epochs = 50,\n",
    "                           shuffle = True,\n",
    "                           validation_data = (array_test_images, Y_test_onehot))\n",
    "\n",
    "    end = time.time()\n",
    "\n",
    "    ellapsed_time = round(end - start, 2)\n",
    "\n",
    "    model_time = pd.DataFrame({'city': [city_name],\n",
    "                               'model': [MODEL_NAME],\n",
    "                               'time': [ellapsed_time]})\n",
    "    times = pd.concat([times, model_time])\n",
    "\n",
    "    history"
   ]
  },
  {
   "cell_type": "code",
   "execution_count": 150,
   "id": "1f42023b-9465-4e2f-b8d1-b71acac0642c",
   "metadata": {},
   "outputs": [],
   "source": [
    "with open(f'CNN2D_{MODEL_TIMESTAMP}.txt', 'wb') as file_pi:\n",
    "    pickle.dump(history.history, file_pi)"
   ]
  },
  {
   "cell_type": "code",
   "execution_count": 151,
   "id": "e548f46b-91b2-4eae-b69d-a651f17ebdef",
   "metadata": {},
   "outputs": [],
   "source": [
    "# from kerastuner import RandomSearch\n",
    "# #creating randomsearch object\n",
    "# tuner = RandomSearch(build_model,\n",
    "#                      objective='val_accuracy',\n",
    "#                      max_trials = 5)\n",
    "# # search best parameter\n",
    "# tuner.search(train_df,train_labl,epochs=3,validation_data=(train_df,train_labl))"
   ]
  },
  {
   "cell_type": "code",
   "execution_count": 152,
   "id": "0d0c2341-8813-4135-b6f0-1f1216c4ca8a",
   "metadata": {},
   "outputs": [
    {
     "data": {
      "text/plain": [
       "array([[ 0.00000000e+00, -8.79035180e-01, -5.25891229e-01, ...,\n",
       "        -2.62849325e-01,  1.10748677e-01,  0.00000000e+00],\n",
       "       [ 0.00000000e+00,  1.13761090e+00, -5.25891229e-01, ...,\n",
       "        -2.62849325e-01, -3.15712422e-01,  0.00000000e+00],\n",
       "       [ 0.00000000e+00,  1.13761090e+00,  7.19561150e-01, ...,\n",
       "        -2.62849325e-01,  4.13340213e-03,  0.00000000e+00],\n",
       "       ...,\n",
       "       [ 0.00000000e+00,  9.91111684e-01, -5.25891229e-01, ...,\n",
       "        -2.62849325e-01, -1.25717066e-01,  0.00000000e+00],\n",
       "       [ 0.00000000e+00, -8.79035180e-01,  2.82394830e-01, ...,\n",
       "        -2.62849325e-01, -2.09097147e-01,  0.00000000e+00],\n",
       "       [ 0.00000000e+00, -3.07248913e-01, -5.25891229e-01, ...,\n",
       "        -3.74936673e-02,  6.93334712e+00,  0.00000000e+00]])"
      ]
     },
     "execution_count": 152,
     "metadata": {},
     "output_type": "execute_result"
    }
   ],
   "source": [
    "X_train_singled = array_train_images.reshape((len(array_train_images), -1))\n",
    "X_train_singled"
   ]
  },
  {
   "cell_type": "markdown",
   "id": "9b8ac97a-8d54-4bfb-9f70-33e79e1f82c9",
   "metadata": {},
   "source": [
    "https://www.google.com/search?channel=fs&client=ubuntu&q=gridsearch+sklearn+custom+validation\n",
    "\n",
    "\n",
    "https://stackoverflow.com/questions/31948879/using-explicit-predefined-validation-set-for-grid-search-with-sklearn\n",
    "\n",
    "\n",
    "https://scikit-learn.org/stable/modules/cross_validation.html#predefined-fold-splits-validation-sets\n",
    "\n",
    "\n",
    "https://scikit-learn.org/stable/modules/generated/sklearn.model_selection.PredefinedSplit.html#sklearn.model_selection.PredefinedSplit"
   ]
  },
  {
   "cell_type": "code",
   "execution_count": 153,
   "id": "0470842a-2917-40fe-96a1-b29ac8d27edc",
   "metadata": {},
   "outputs": [],
   "source": [
    "from sklearn.preprocessing import OneHotEncoder\n",
    "\n",
    "Y_train_array = np.asarray(Y_train)\n",
    "onehot_encoder = OneHotEncoder(sparse=False)\n",
    "integer_encoded = Y_train_array.reshape(len(Y_train_array), 1)\n",
    "onehot_encoded = onehot_encoder.fit_transform(integer_encoded)\n",
    "train_onehot_encoded = onehot_encoded.astype(int)\n",
    "\n",
    "Y_test_array = np.asarray(Y_test)\n",
    "integer_encoded = Y_test_array.reshape(len(Y_test_array), 1)\n",
    "onehot_encoded = onehot_encoder.fit_transform(integer_encoded)\n",
    "test_onehot_encoded = onehot_encoded.astype(int)"
   ]
  },
  {
   "cell_type": "code",
   "execution_count": 154,
   "id": "08ad30eb-355b-4365-af76-450b78cd5204",
   "metadata": {},
   "outputs": [
    {
     "name": "stdout",
     "output_type": "stream",
     "text": [
      "Fold 0:\n",
      "  Train: index=[   0    1    2 ... 3673 3674 3675]\n",
      "  Test:  index=[3676 3677 3678 ... 5088 5089 5090]\n"
     ]
    }
   ],
   "source": [
    "from sklearn.model_selection import PredefinedSplit\n",
    "\n",
    "# -1 para train\n",
    "# 0 para test\n",
    "train_indexes = [-1] * array_train_images.shape[0]\n",
    "test_indexes  = [0] * array_test_images.shape[0]\n",
    "\n",
    "predefined_splitted_y_indexes = np.array(train_indexes + test_indexes)\n",
    "predefined_splitted_x = np.concatenate((array_train_images, array_test_images), axis=0)\n",
    "predefined_splitted_onehot = np.concatenate((train_onehot_encoded, test_onehot_encoded), axis=0)\n",
    "\n",
    "ps = PredefinedSplit(predefined_splitted_y_indexes)\n",
    "\n",
    "for i, (train_index, test_index) in enumerate(ps.split()):\n",
    "    print(f\"Fold {i}:\")\n",
    "    print(f\"  Train: index={train_index}\")\n",
    "    print(f\"  Test:  index={test_index}\")"
   ]
  },
  {
   "cell_type": "code",
   "execution_count": 155,
   "id": "341723bc-0ccf-4722-9c7a-29f23fd0a5f1",
   "metadata": {
    "tags": []
   },
   "outputs": [],
   "source": [
    "from scikeras.wrappers import KerasClassifier\n",
    "from sklearn.model_selection import RandomizedSearchCV\n",
    "\n",
    "calculate_cnn_hyperparams=False\n",
    "if city and cnn2d and calculate_cnn_hyperparams:\n",
    "\n",
    "    model_time = pd.DataFrame({'city': [city_name],\n",
    "                               'model': [MODEL_NAME],\n",
    "                               'time': 0})\n",
    "\n",
    "    times = pd.concat([times, model_time])\n",
    "    # wrap our model into a scikit-learn compatible classifier\n",
    "    print(\"[INFO] initializing model...\")\n",
    "\n",
    "    model = KerasClassifier(model=get_tasp_cnn_o, fm_one=1, fm_two=2, fm_three=3, fm_four=4,learning_rate=1, dense=1,epochs=10, batch_size=512, verbose=0)\n",
    "\n",
    "    # define a grid of the hyperparameter search space\n",
    "\n",
    "    # fm_one = fm_two = fm_three = fm_four = fm_five = fm_six = [32, 64, 128, 256, 512]\n",
    "    fm_one = fm_two = fm_three = fm_four = [32, 64, 128, 256, 512, 1024]\n",
    "\n",
    "    dense  = [32, 64, 128, 256, 512]\n",
    "\n",
    "    learning_rate = [0.1, 1e-2, 1e-3, 1e-4, 1e-5]\n",
    "\n",
    "    batchSize = [32, 64, 128, 256]\n",
    "\n",
    "    epochs = [50]\n",
    "\n",
    "    # create a dictionary from the hyperparameter grid\n",
    "    grid = dict(\n",
    "        fm_one = fm_one,\n",
    "        fm_two = fm_two,\n",
    "        fm_three = fm_three,\n",
    "        fm_four = fm_four,\n",
    "        dense = dense,\n",
    "        learning_rate=learning_rate,\n",
    "        batch_size=batchSize,\n",
    "        epochs=epochs\n",
    "    )\n",
    "\n",
    "    number_of_configs = 150\n",
    "\n",
    "    # initialize a random search with a 3-fold cross-validation and then\n",
    "    # start the hyperparameter search process\n",
    "    print(\"[INFO] performing random search...\")\n",
    "    searcher = RandomizedSearchCV(estimator = model,\n",
    "                                  n_iter = number_of_configs,\n",
    "                                  cv = ps,\n",
    "                                  param_distributions = grid,\n",
    "                                  scoring = 'f1_micro')\n",
    "\n",
    "    searchResults = searcher.fit(predefined_splitted_x, predefined_splitted_onehot)\n",
    "\n",
    "    # summarize grid search information\n",
    "    bestScore = searchResults.best_score_\n",
    "    bestParams = searchResults.best_params_\n",
    "\n",
    "    print(\"[INFO] best score is {:.2f} using {}\".format(bestScore,\tbestParams))\n",
    "\n",
    "    print(\"[INFO] evaluating the best model...\")\n",
    "    taspcnn = bestModel = searchResults.best_estimator_\n",
    "    # accuracy = bestModel.score(array_test_images, Y_test)\n",
    "    # print(\"accuracy: {:.2f}%\".format(accuracy * 100))\n",
    "\n",
    "    text_file = open(f\"./CNN2D-{MODEL_TIMESTAMP}.txt\", \"w\")\n",
    "    n = text_file.write(str(searchResults.cv_results_))\n",
    "    text_file.close()\n",
    "    \n",
    "    searchResults.best_estimator_.epochs"
   ]
  },
  {
   "cell_type": "markdown",
   "id": "5618785f-fc48-4179-bff0-1c68632ab523",
   "metadata": {
    "tags": []
   },
   "source": [
    "#### Escritura del modelo"
   ]
  },
  {
   "cell_type": "code",
   "execution_count": 156,
   "id": "1f71da2b-bc0f-4749-b35f-204868366751",
   "metadata": {},
   "outputs": [],
   "source": [
    "if city and cnn2d:\n",
    "    MODEL_PATH = f\"{MODELS_PATH}{MODEL_NAME}/\"\n",
    "    MODEL_FILE_NAME = f\"{city_name}_{MODEL_NAME}_{MODEL_TIMESTAMP}.h5\"\n",
    "\n",
    "    os.makedirs(MODEL_PATH, exist_ok = True)\n",
    "\n",
    "    tasp_cnn.save(MODEL_PATH + MODEL_FILE_NAME)"
   ]
  },
  {
   "cell_type": "markdown",
   "id": "58e1cd2b-d07b-4baf-a3a2-2c74006dae20",
   "metadata": {
    "id": "aT8XDceKGSdi",
    "tags": []
   },
   "source": [
    "#### Carga de modelo pre-entrenado"
   ]
  },
  {
   "cell_type": "code",
   "execution_count": 157,
   "id": "a7d75d53-c1d8-4d42-be65-dc6840c370df",
   "metadata": {
    "id": "dRaqg9SXGRwb"
   },
   "outputs": [],
   "source": [
    "if city and not train_nn and cnn2d:\n",
    "    # MODEL_FILE_NAME = f\"{city_name}_{MODEL_NAME}_{timestamp_load}.joblib\"\n",
    "    MODEL_FILE_NAME = f\"{city_name}_{MODEL_NAME}_2022-07-19-08:49:34.h5\"\n",
    "    # MODEL_FILE_NAME = 'madrid_convolution_2d_2022-05-18-19:50:16.h5'\n",
    "\n",
    "    tasp_cnn = tf.keras.models.load_model(MODEL_PATH + MODEL_FILE_NAME)"
   ]
  },
  {
   "cell_type": "code",
   "execution_count": 158,
   "id": "69325604-0114-4777-b7f1-595a6035e24a",
   "metadata": {
    "tags": []
   },
   "outputs": [],
   "source": [
    "# ## Exportar los kernels\n",
    "\n",
    "# n_samples = 3\n",
    "# layers = [0, 2, 4, 6]\n",
    "\n",
    "# for layer_number in layers:\n",
    "#     filters, biases = tasp_cnn.layers[layer_number].get_weights()\n",
    "    \n",
    "#     layer_name = layer_number//2 + 1\n",
    "\n",
    "#     for i in range(n_samples):\n",
    "#         # X,Y, channel, filter_number\n",
    "#         current_filter = filters[:,:,0, i]\n",
    "\n",
    "#         plt.figure(figsize=(3, 3))\n",
    "#         plt.grid(b = None)\n",
    "#         plt.imshow(current_filter, cmap='gray')\n",
    "\n",
    "#         # plt.savefig(f\"filters/{city_name}_filter_layer_{layer_name}_{i}.svg\", transparent=True)\n",
    "#         plt.show()"
   ]
  },
  {
   "cell_type": "code",
   "execution_count": 159,
   "id": "7b6ec656-3e4f-4e82-95f2-f65ce173f379",
   "metadata": {},
   "outputs": [],
   "source": [
    "# # import tf.keras.mo.Model\n",
    "# tasp_cnn_feature_maps = tf.keras.models.Model(inputs = tasp_cnn.inputs, outputs=tasp_cnn.layers[0].output)\n",
    "\n",
    "# tasp_cnn_feature_maps.predict(array_train_images[:3]).shape"
   ]
  },
  {
   "cell_type": "code",
   "execution_count": 160,
   "id": "54d3fbfc-7921-45be-8580-c71f45e44ec5",
   "metadata": {},
   "outputs": [],
   "source": [
    "# feature_maps = tasp_cnn.predict(array_train_images)\n",
    "# # plot all 64 maps in an 8x8 squares\n",
    "# square = 5\n",
    "# ix = 1\n",
    "# for _ in range(square):\n",
    "#     for _ in range(square):\n",
    "#         # specify subplot and turn of axis\n",
    "\n",
    "#         # plot filter channel in grayscale\n",
    "#         plt.imshow(tasp_cnn_feature_maps[ix-1,:,:,:], cmap='gray')\n",
    "#         ix += 1\n",
    "# # show the figure\n",
    "# plt.show()"
   ]
  },
  {
   "cell_type": "markdown",
   "id": "33260354-df56-434a-ba5a-89d927c2f394",
   "metadata": {
    "id": "wD_BOwcwGb4W"
   },
   "source": [
    "#### Resultados"
   ]
  },
  {
   "cell_type": "code",
   "execution_count": 161,
   "id": "ef63bcc2-739d-4a26-b069-6e39ac68952d",
   "metadata": {
    "id": "nHVVq0khGato",
    "tags": []
   },
   "outputs": [
    {
     "name": "stdout",
     "output_type": "stream",
     "text": [
      "[INFO] evaluating network...\n",
      "45/45 [==============================] - 0s 750us/step\n"
     ]
    },
    {
     "data": {
      "image/png": "[encoded data removed]",
      "text/plain": [
       "<Figure size 640x480 with 2 Axes>"
      ]
     },
     "metadata": {},
     "output_type": "display_data"
    },
    {
     "data": {
      "image/png": "[encoded data removed]",
      "text/plain": [
       "<Figure size 640x480 with 2 Axes>"
      ]
     },
     "metadata": {},
     "output_type": "display_data"
    },
    {
     "data": {
      "image/png": "[encoded data removed]",
      "text/plain": [
       "<Figure size 640x480 with 2 Axes>"
      ]
     },
     "metadata": {},
     "output_type": "display_data"
    },
    {
     "data": {
      "image/png": "[encoded data removed]",
      "text/plain": [
       "<Figure size 640x480 with 2 Axes>"
      ]
     },
     "metadata": {},
     "output_type": "display_data"
    },
    {
     "data": {
      "image/png": "[encoded data removed]",
      "text/plain": [
       "<Figure size 640x480 with 2 Axes>"
      ]
     },
     "metadata": {},
     "output_type": "display_data"
    },
    {
     "data": {
      "image/png": "[encoded data removed]",
      "text/plain": [
       "<Figure size 640x480 with 2 Axes>"
      ]
     },
     "metadata": {},
     "output_type": "display_data"
    },
    {
     "data": {
      "image/png": "[encoded data removed]",
      "text/plain": [
       "<Figure size 640x480 with 2 Axes>"
      ]
     },
     "metadata": {},
     "output_type": "display_data"
    },
    {
     "data": {
      "image/png": "[encoded data removed]",
      "text/plain": [
       "<Figure size 640x480 with 2 Axes>"
      ]
     },
     "metadata": {},
     "output_type": "display_data"
    },
    {
     "data": {
      "image/png": "[encoded data removed]",
      "text/plain": [
       "<Figure size 640x480 with 2 Axes>"
      ]
     },
     "metadata": {},
     "output_type": "display_data"
    },
    {
     "data": {
      "image/png": "[encoded data removed]",
      "text/plain": [
       "<Figure size 640x480 with 2 Axes>"
      ]
     },
     "metadata": {},
     "output_type": "display_data"
    },
    {
     "data": {
      "image/png": "[encoded data removed]",
      "text/plain": [
       "<Figure size 640x480 with 2 Axes>"
      ]
     },
     "metadata": {},
     "output_type": "display_data"
    },
    {
     "data": {
      "image/png": "[encoded data removed]",
      "text/plain": [
       "<Figure size 640x480 with 2 Axes>"
      ]
     },
     "metadata": {},
     "output_type": "display_data"
    },
    {
     "data": {
      "image/png": "[encoded data removed]",
      "text/plain": [
       "<Figure size 2000x1000 with 1 Axes>"
      ]
     },
     "metadata": {},
     "output_type": "display_data"
    },
    {
     "name": "stdout",
     "output_type": "stream",
     "text": [
      "<keras.callbacks.History object at 0x7f63da275850>\n",
      "115/115 [==============================] - 0s 822us/step\n",
      "              precision  recall  f1-score   support\n",
      "Assistance        0.954   0.921     0.937  1838.000\n",
      "Slight            0.924   0.956     0.940  1838.000\n",
      "accuracy          0.939   0.939     0.939     0.939\n",
      "macro avg         0.939   0.939     0.939  3676.000\n",
      "weighted avg      0.939   0.939     0.939  3676.000\n",
      "              precision  recall  f1-score   support\n",
      "Assistance        0.805   0.764     0.784   811.000\n",
      "Slight            0.704   0.752     0.727   604.000\n",
      "accuracy          0.759   0.759     0.759     0.759\n",
      "macro avg         0.755   0.758     0.756  1415.000\n",
      "weighted avg      0.762   0.759     0.760  1415.000\n"
     ]
    }
   ],
   "source": [
    "if city and cnn2d:\n",
    "\n",
    "    print(\"[INFO] evaluating network...\")\n",
    "\n",
    "    Y_predicted = tasp_cnn.predict(x = array_test_images).argmax(axis = 1)\n",
    "\n",
    "    if train_nn:\n",
    "        F1_SCORE_PATH = f\"{F1_SCORES_PATH}{MODEL_NAME}/\"\n",
    "        F1_SCORE_NAME = f\"{city_name}_{MODEL_NAME}_f1_score_paper.svg\"\n",
    "\n",
    "        plot_f1_score_history(f1_score_path = F1_SCORE_PATH,\n",
    "                              f1_score_name = F1_SCORE_NAME,\n",
    "                              history = history)\n",
    "\n",
    "        Y_train_predicted = tasp_cnn.predict(x = array_train_images).argmax(axis = 1)\n",
    "\n",
    "        save_classification_report_and_confussion_matrix(model_name = MODEL_NAME,\n",
    "                                                         model_timestamp = MODEL_TIMESTAMP,\n",
    "                                                         y_true = Y_train,\n",
    "                                                         y_predicted = Y_train_predicted,\n",
    "                                                         data = 'train')\n",
    "\n",
    "    save_classification_report_and_confussion_matrix(model_name = MODEL_NAME,\n",
    "                                                     model_timestamp = MODEL_TIMESTAMP,\n",
    "                                                     y_true = Y_test,\n",
    "                                                     y_predicted = Y_predicted,\n",
    "                                                     data = 'test')\n"
   ]
  },
  {
   "cell_type": "markdown",
   "id": "3cfe2ca4-bce3-4c90-9bc8-19752de1b923",
   "metadata": {},
   "source": [
    "## AutoML"
   ]
  },
  {
   "cell_type": "code",
   "execution_count": 159,
   "id": "fe7c64a5-5595-47b6-ad01-45a01ff98eeb",
   "metadata": {},
   "outputs": [
    {
     "data": {
      "text/plain": [
       "'Southwark'"
      ]
     },
     "execution_count": 159,
     "metadata": {},
     "output_type": "execute_result"
    }
   ],
   "source": [
    "city_name"
   ]
  },
  {
   "cell_type": "code",
   "execution_count": 160,
   "id": "02492821-6fb2-497f-a9c0-f4a2ea2764c6",
   "metadata": {},
   "outputs": [],
   "source": [
    "MODEL_NAME = MODELS_NAME[3]"
   ]
  },
  {
   "cell_type": "markdown",
   "id": "179c44a9-dfca-4de5-a9c3-413d7ef4ab51",
   "metadata": {
    "tags": [],
    "toc-hr-collapsed": true
   },
   "source": [
    "# Data Summary"
   ]
  },
  {
   "cell_type": "markdown",
   "id": "d28db0f9-8fdd-4900-9e53-af0f0bb12f0a",
   "metadata": {},
   "source": [
    "## Models times plot"
   ]
  },
  {
   "cell_type": "markdown",
   "id": "c3c0299b-0261-43d6-9227-89be76889b77",
   "metadata": {},
   "source": [
    "### Sort"
   ]
  },
  {
   "cell_type": "code",
   "execution_count": 162,
   "id": "6fa79304-4111-4c44-8578-ecbd30daef2c",
   "metadata": {
    "tags": []
   },
   "outputs": [],
   "source": [
    "times = times.sort_values('time')"
   ]
  },
  {
   "cell_type": "markdown",
   "id": "e3ecd0c3-4678-46e6-a7c5-669ded20e4a3",
   "metadata": {},
   "source": [
    "### Save csv"
   ]
  },
  {
   "cell_type": "code",
   "execution_count": 163,
   "id": "bbd871a3-23bc-4efb-a3fa-8f87d9129f7c",
   "metadata": {},
   "outputs": [],
   "source": [
    "SAVE_PATH = f\"{REPORTS_TIMES_PATH}{MODEL_TIMESTAMP}.csv\"\n",
    "times.to_csv(SAVE_PATH, index= True)"
   ]
  },
  {
   "cell_type": "markdown",
   "id": "d8660de1-1623-450b-9179-6cfc87fab725",
   "metadata": {},
   "source": [
    "### Save fig"
   ]
  },
  {
   "cell_type": "code",
   "execution_count": 164,
   "id": "72551f93-ced6-4c0f-bedf-73d1205fd17e",
   "metadata": {},
   "outputs": [],
   "source": [
    "# LOAD_PATH = f\"{REPORTS_TIMES_PATH}2022-05-23-15:28:04.csv\"\n",
    "# times = pd.read_csv(LOAD_PATH)\n",
    "\n",
    "# ax = sns.barplot(x = 'time',\n",
    "#                  y = 'model',\n",
    "#                  palette='deep',\n",
    "#                  data = times).set(title = f\"Models Fitting Time (s)\")\n",
    "# plt.xlabel(\"Time (s)\")\n",
    "\n",
    "# SAVE_PATH = f\"{REPORTS_TIMES_PATH}{MODEL_TIMESTAMP}.png\"\n",
    "# plt.savefig(SAVE_PATH)"
   ]
  },
  {
   "cell_type": "markdown",
   "id": "21d5612e-df65-4d90-bf1d-b34f624c4c98",
   "metadata": {},
   "source": [
    "## Models metrics file"
   ]
  },
  {
   "cell_type": "code",
   "execution_count": 165,
   "id": "60314a42-8590-48e1-9d87-9f41859c01d2",
   "metadata": {},
   "outputs": [
    {
     "name": "stdout",
     "output_type": "stream",
     "text": [
      "Found: nb for train\n",
      "Found: knn for train\n",
      "Found: logistic_regression for train\n",
      "Found: random_forest for train\n",
      "Found: svc for train\n",
      "Found: mlp for train\n",
      "Found: convolution_2d for train\n",
      "Found: nb for test\n",
      "Found: knn for test\n",
      "Found: logistic_regression for test\n",
      "Found: random_forest for test\n",
      "Found: svc for test\n",
      "Found: mlp for test\n",
      "Found: convolution_2d for test\n"
     ]
    }
   ],
   "source": [
    "from os.path import exists\n",
    "\n",
    "reports_summary = pd.DataFrame()\n",
    "\n",
    "cities = []\n",
    "# MODEL_TIMESTAMP = '2022-08-02-10:10:19'\n",
    "\n",
    "cities.append('leeds')  if leeds else None\n",
    "cities.append('madrid') if madrid else None\n",
    "cities.append(f'{city_name}') if UK else None\n",
    "\n",
    "models_renaming = {'knn': 'KNN',\n",
    "                   'convolution_1d': '1D-convolution',\n",
    "                   'convolution_2d': '2D-convolution',\n",
    "                   'nb': 'NB',\n",
    "                   'svc': 'SVC',\n",
    "                   'logistic_regression': 'Logistic-Regression',\n",
    "                   'random_forest': 'Random-Forest',\n",
    "                   'mlp': 'ML-Perceptron',                   \n",
    "                  }\n",
    "                   # 'auto_ml': 'AutoML'}\n",
    "\n",
    "splits = ['train', 'test']\n",
    "sorted_by_time_models_name = times.model\n",
    "\n",
    "for split in splits:\n",
    "    reports_summary = pd.DataFrame()\n",
    "\n",
    "    for model_name in sorted_by_time_models_name:\n",
    "\n",
    "        REPORT_PATH = f\"{REPORTS_PATH}{model_name}/{split}/\"\n",
    "\n",
    "        for city_name in cities:\n",
    "\n",
    "            REPORT_NAME  = f\"{city_name}_{model_name}_report_{MODEL_TIMESTAMP}.csv\"\n",
    "\n",
    "            if exists(REPORT_PATH + REPORT_NAME):\n",
    "                print(f\"Found: {model_name} for {split}\")\n",
    "                report = pd.read_csv(REPORT_PATH + REPORT_NAME, index_col=[0])\n",
    "                report.insert(0, 'split', split)\n",
    "                report.insert(1, 'city', city_name)\n",
    "                report.insert(2, 'model', models_renaming[model_name])\n",
    "\n",
    "                reports_summary = pd.concat([reports_summary, report])\n",
    "\n",
    "                reports_summary = reports_summary.sort_values(['city', 'model'], ascending = [True, True])\n",
    "\n",
    "    if not reports_summary.empty:\n",
    "        c_m = reports_summary['city'] + '_' + reports_summary['model']\n",
    "        reports_summary.insert(0, 'c_m', c_m)\n",
    "\n",
    "        SAVE_PATH =  f\"{REPORTS_SUMMARY_PATH}/{split}/{MODEL_TIMESTAMP}.csv\"\n",
    "\n",
    "        reports_summary.insert(0, 'accident_type', reports_summary.index)\n",
    "        reports_summary.to_csv(SAVE_PATH, index= True)"
   ]
  },
  {
   "cell_type": "markdown",
   "id": "08ee8508-988e-41c1-b1fa-53c45e6fea55",
   "metadata": {},
   "source": [
    "## Models scores plot"
   ]
  },
  {
   "cell_type": "code",
   "execution_count": 166,
   "id": "dc9b4a72-5ba5-490c-972d-a901e3c823d0",
   "metadata": {},
   "outputs": [
    {
     "data": {
      "text/plain": [
       "'Reports/convolution_2d/test/'"
      ]
     },
     "execution_count": 166,
     "metadata": {},
     "output_type": "execute_result"
    }
   ],
   "source": [
    "REPORT_PATH"
   ]
  },
  {
   "cell_type": "code",
   "execution_count": 167,
   "id": "7a5de0ef-2c61-42fb-886d-cabe6c9bb79a",
   "metadata": {},
   "outputs": [
    {
     "name": "stdout",
     "output_type": "stream",
     "text": [
      "Found: Reports/summary/train/2023-10-10-00:15:31.csv\n",
      "Found: Reports/summary/test/2023-10-10-00:15:31.csv\n"
     ]
    }
   ],
   "source": [
    "import seaborn as sns\n",
    "\n",
    "MEASURE_TYPES  = ['precision', 'recall', 'f1-score']\n",
    "# ACCIDENT_TYPES = ['Slight', 'Serious', 'Fatal']\n",
    "\n",
    "ACCIDENT_TYPES = ['Slight', 'Assistance']\n",
    "\n",
    "\n",
    "if leeds:\n",
    "    leeds_reports_summary  = reports_summary[reports_summary['city'] == 'leeds']\n",
    "if False: #madrid:\n",
    "    madrid_reports_summary = reports_summary[reports_summary['city'] == 'madrid']\n",
    "if UK:\n",
    "    UK_reports_summary = reports_summary[reports_summary['city'] == city_name]\n",
    "\n",
    "# print(leeds_reports_summary.loc[ACCIDENT_TYPES])\n",
    "\n",
    "for split in splits:\n",
    "    \n",
    "    REPORT_PATH = f\"{REPORTS_SUMMARY_PATH}{split}/{MODEL_TIMESTAMP}.csv\"\n",
    "\n",
    "    if exists(REPORT_PATH):\n",
    "        fig, axs = plt.subplots(len(MEASURE_TYPES), len(cities), figsize=(15,20))\n",
    "\n",
    "        print(f\"Found: {REPORT_PATH}\")\n",
    "\n",
    "        report = pd.read_csv(REPORT_PATH, index_col=[0])\n",
    "\n",
    "        if leeds:\n",
    "            leeds_reports_summary  = report[report['city'] == 'leeds']\n",
    "        if madrid:\n",
    "            madrid_reports_summary = report[report['city'] == 'madrid']\n",
    "        if UK:\n",
    "            UK_reports_summary = report[report['city'] == city_name]\n",
    "\n",
    "        for index, measure_type in enumerate(MEASURE_TYPES):\n",
    "\n",
    "            # Si son dos ciudades el plot es bidimensional.\n",
    "            if len(cities) > 1:\n",
    "                axis_leeds = axs[index, 0]\n",
    "                axis_madrid = axs[index, 1]\n",
    "            else:\n",
    "                axis_leeds = axis_madrid = axis_UK = axs[index]\n",
    "\n",
    "            if leeds:\n",
    "                ax = sns.barplot(x = 'accident_type',\n",
    "                                 y = measure_type,\n",
    "                                 hue = 'model',\n",
    "                                 palette = 'deep',\n",
    "                                 data = leeds_reports_summary.loc[ACCIDENT_TYPES],\n",
    "                                 ax = axis_leeds).set(title = f\"{measure_type} Leeds\")\n",
    "\n",
    "\n",
    "            if madrid:\n",
    "                ax = sns.barplot(x = 'accident_type',\n",
    "                                 y = measure_type,\n",
    "                                 hue = 'model',\n",
    "                                 palette = 'deep',\n",
    "                                 data = madrid_reports_summary.loc[ACCIDENT_TYPES],\n",
    "                                 ax = axis_madrid).set(title = f\"{measure_type} Madrid\")\n",
    "            \n",
    "            if UK:\n",
    "                ax = sns.barplot(x = 'accident_type',\n",
    "                                 y = measure_type,\n",
    "                                 hue = 'model',\n",
    "                                 palette = 'deep',\n",
    "                                 data = UK_reports_summary.loc[ACCIDENT_TYPES],\n",
    "                                 ax = axis_UK).set(title = f\"{measure_type} {city_name}\")                \n",
    "\n",
    "        SAVE_PATH = f\"{REPORTS_SUMMARY_PATH}{split}/{MODEL_TIMESTAMP}.png\"\n",
    "\n",
    "        fig = fig.get_figure()\n",
    "        fig.savefig(SAVE_PATH)"
   ]
  },
  {
   "cell_type": "code",
   "execution_count": null,
   "id": "45eaaa7d-7dae-4d17-a40e-4999f00a3467",
   "metadata": {},
   "outputs": [],
   "source": []
  },
  {
   "cell_type": "code",
   "execution_count": 168,
   "id": "e8dcf355-400f-4e89-ab7a-a33c9598322d",
   "metadata": {},
   "outputs": [
    {
     "data": {
      "text/plain": [
       "'Victoria'"
      ]
     },
     "execution_count": 168,
     "metadata": {},
     "output_type": "execute_result"
    }
   ],
   "source": [
    "city_name"
   ]
  },
  {
   "cell_type": "code",
   "execution_count": 169,
   "id": "00e1aa5b-ef8a-4244-955c-4bb46436a21c",
   "metadata": {},
   "outputs": [
    {
     "data": {
      "text/plain": [
       "'2023-10-10-00:15:31'"
      ]
     },
     "execution_count": 169,
     "metadata": {},
     "output_type": "execute_result"
    }
   ],
   "source": [
    "MODEL_TIMESTAMP"
   ]
  },
  {
   "cell_type": "code",
   "execution_count": 170,
   "id": "6a845b22-8115-4c34-98a4-63b21d26d948",
   "metadata": {},
   "outputs": [],
   "source": [
    "import pandas as pd\n",
    "import matplotlib.pyplot as plt\n",
    "\n",
    "root_path = 'Reports/summary/test/'\n",
    "\n",
    "all_cities_summaries = pd.DataFrame()\n",
    "\n",
    "best_results_mapper = {'Birmingham': '2023-08-18-15:47:06',\n",
    "                       'Sheffield':  '2023-08-18-17:08:06',\n",
    "                       'Liverpool':  '2023-08-18-15:25:24',\n",
    "                       'Southwark':  '2023-08-18-18:08:44',\n",
    "                       'Manchester': '2023-08-18-17:44:54',\n",
    "                       'Cornwall':   '2023-07-15-15:49:36'\n",
    "                     }\n",
    "\n",
    "for city_name, city_timestamp in best_results_mapper.items():\n",
    "    city_summary = pd.read_csv(f\"{root_path}/{city_timestamp}.csv\", index_col=0)\n",
    "    all_cities_summaries = pd.concat([all_cities_summaries, city_summary])\n",
    "\n",
    "all_cities_summaries = all_cities_summaries.drop_duplicates()\n",
    "\n",
    "casualty_types = ['Slight']\n",
    "\n",
    "all_cities_summaries = all_cities_summaries[all_cities_summaries['model'] != '1D-convolution']\n",
    "all_cities_summaries.index = all_cities_summaries.city\n",
    "\n",
    "for casualty_type in casualty_types:\n",
    "    current_casualty_type_all_cities_summaries = all_cities_summaries[all_cities_summaries['accident_type'] == casualty_type]\n",
    "\n",
    "\n",
    "    current_casualty_type_all_cities_summaries.groupby('model')['f1-score'].plot(x='city', legend=True, figsize=(20, 10), title=f'Models F1-scores by city ({casualty_type} Accidents)', grid=True)\n",
    "    plt.ylabel('F1-Score')\n",
    "    plt.savefig(f\"{casualty_type}_a.svg\")"
   ]
  },
  {
   "cell_type": "code",
   "execution_count": 171,
   "id": "01702254-50c9-48be-894c-61083c5bfd83",
   "metadata": {},
   "outputs": [
    {
     "data": {
      "text/html": [
       "<div>\n",
       "<style scoped>\n",
       "    .dataframe tbody tr th:only-of-type {\n",
       "        vertical-align: middle;\n",
       "    }\n",
       "\n",
       "    .dataframe tbody tr th {\n",
       "        vertical-align: top;\n",
       "    }\n",
       "\n",
       "    .dataframe thead th {\n",
       "        text-align: right;\n",
       "    }\n",
       "</style>\n",
       "<table border=\"1\" class=\"dataframe\">\n",
       "  <thead>\n",
       "    <tr style=\"text-align: right;\">\n",
       "      <th></th>\n",
       "      <th>accident_type</th>\n",
       "      <th>c_m</th>\n",
       "      <th>split</th>\n",
       "      <th>city</th>\n",
       "      <th>model</th>\n",
       "      <th>precision</th>\n",
       "      <th>recall</th>\n",
       "      <th>f1-score</th>\n",
       "      <th>support</th>\n",
       "    </tr>\n",
       "    <tr>\n",
       "      <th>city</th>\n",
       "      <th></th>\n",
       "      <th></th>\n",
       "      <th></th>\n",
       "      <th></th>\n",
       "      <th></th>\n",
       "      <th></th>\n",
       "      <th></th>\n",
       "      <th></th>\n",
       "      <th></th>\n",
       "    </tr>\n",
       "  </thead>\n",
       "  <tbody>\n",
       "    <tr>\n",
       "      <th>Birmingham</th>\n",
       "      <td>Assistance</td>\n",
       "      <td>Birmingham_2D-convolution</td>\n",
       "      <td>test</td>\n",
       "      <td>Birmingham</td>\n",
       "      <td>2D-convolution</td>\n",
       "      <td>0.729</td>\n",
       "      <td>0.693</td>\n",
       "      <td>0.711</td>\n",
       "      <td>688.000</td>\n",
       "    </tr>\n",
       "    <tr>\n",
       "      <th>Birmingham</th>\n",
       "      <td>Slight</td>\n",
       "      <td>Birmingham_2D-convolution</td>\n",
       "      <td>test</td>\n",
       "      <td>Birmingham</td>\n",
       "      <td>2D-convolution</td>\n",
       "      <td>0.848</td>\n",
       "      <td>0.869</td>\n",
       "      <td>0.858</td>\n",
       "      <td>1350.000</td>\n",
       "    </tr>\n",
       "    <tr>\n",
       "      <th>Birmingham</th>\n",
       "      <td>accuracy</td>\n",
       "      <td>Birmingham_2D-convolution</td>\n",
       "      <td>test</td>\n",
       "      <td>Birmingham</td>\n",
       "      <td>2D-convolution</td>\n",
       "      <td>0.810</td>\n",
       "      <td>0.810</td>\n",
       "      <td>0.810</td>\n",
       "      <td>0.810</td>\n",
       "    </tr>\n",
       "    <tr>\n",
       "      <th>Birmingham</th>\n",
       "      <td>macro avg</td>\n",
       "      <td>Birmingham_2D-convolution</td>\n",
       "      <td>test</td>\n",
       "      <td>Birmingham</td>\n",
       "      <td>2D-convolution</td>\n",
       "      <td>0.788</td>\n",
       "      <td>0.781</td>\n",
       "      <td>0.784</td>\n",
       "      <td>2038.000</td>\n",
       "    </tr>\n",
       "    <tr>\n",
       "      <th>Birmingham</th>\n",
       "      <td>weighted avg</td>\n",
       "      <td>Birmingham_2D-convolution</td>\n",
       "      <td>test</td>\n",
       "      <td>Birmingham</td>\n",
       "      <td>2D-convolution</td>\n",
       "      <td>0.808</td>\n",
       "      <td>0.810</td>\n",
       "      <td>0.808</td>\n",
       "      <td>2038.000</td>\n",
       "    </tr>\n",
       "    <tr>\n",
       "      <th>...</th>\n",
       "      <td>...</td>\n",
       "      <td>...</td>\n",
       "      <td>...</td>\n",
       "      <td>...</td>\n",
       "      <td>...</td>\n",
       "      <td>...</td>\n",
       "      <td>...</td>\n",
       "      <td>...</td>\n",
       "      <td>...</td>\n",
       "    </tr>\n",
       "    <tr>\n",
       "      <th>Cornwall</th>\n",
       "      <td>Assistance</td>\n",
       "      <td>Cornwall_SVC</td>\n",
       "      <td>test</td>\n",
       "      <td>Cornwall</td>\n",
       "      <td>SVC</td>\n",
       "      <td>0.709</td>\n",
       "      <td>0.625</td>\n",
       "      <td>0.664</td>\n",
       "      <td>855.000</td>\n",
       "    </tr>\n",
       "    <tr>\n",
       "      <th>Cornwall</th>\n",
       "      <td>Slight</td>\n",
       "      <td>Cornwall_SVC</td>\n",
       "      <td>test</td>\n",
       "      <td>Cornwall</td>\n",
       "      <td>SVC</td>\n",
       "      <td>0.695</td>\n",
       "      <td>0.769</td>\n",
       "      <td>0.730</td>\n",
       "      <td>950.000</td>\n",
       "    </tr>\n",
       "    <tr>\n",
       "      <th>Cornwall</th>\n",
       "      <td>accuracy</td>\n",
       "      <td>Cornwall_SVC</td>\n",
       "      <td>test</td>\n",
       "      <td>Cornwall</td>\n",
       "      <td>SVC</td>\n",
       "      <td>0.701</td>\n",
       "      <td>0.701</td>\n",
       "      <td>0.701</td>\n",
       "      <td>0.701</td>\n",
       "    </tr>\n",
       "    <tr>\n",
       "      <th>Cornwall</th>\n",
       "      <td>macro avg</td>\n",
       "      <td>Cornwall_SVC</td>\n",
       "      <td>test</td>\n",
       "      <td>Cornwall</td>\n",
       "      <td>SVC</td>\n",
       "      <td>0.702</td>\n",
       "      <td>0.697</td>\n",
       "      <td>0.697</td>\n",
       "      <td>1805.000</td>\n",
       "    </tr>\n",
       "    <tr>\n",
       "      <th>Cornwall</th>\n",
       "      <td>weighted avg</td>\n",
       "      <td>Cornwall_SVC</td>\n",
       "      <td>test</td>\n",
       "      <td>Cornwall</td>\n",
       "      <td>SVC</td>\n",
       "      <td>0.702</td>\n",
       "      <td>0.701</td>\n",
       "      <td>0.699</td>\n",
       "      <td>1805.000</td>\n",
       "    </tr>\n",
       "  </tbody>\n",
       "</table>\n",
       "<p>210 rows × 9 columns</p>\n",
       "</div>"
      ],
      "text/plain": [
       "           accident_type                        c_m split        city   \n",
       "city                                                                    \n",
       "Birmingham    Assistance  Birmingham_2D-convolution  test  Birmingham  \\\n",
       "Birmingham        Slight  Birmingham_2D-convolution  test  Birmingham   \n",
       "Birmingham      accuracy  Birmingham_2D-convolution  test  Birmingham   \n",
       "Birmingham     macro avg  Birmingham_2D-convolution  test  Birmingham   \n",
       "Birmingham  weighted avg  Birmingham_2D-convolution  test  Birmingham   \n",
       "...                  ...                        ...   ...         ...   \n",
       "Cornwall      Assistance               Cornwall_SVC  test    Cornwall   \n",
       "Cornwall          Slight               Cornwall_SVC  test    Cornwall   \n",
       "Cornwall        accuracy               Cornwall_SVC  test    Cornwall   \n",
       "Cornwall       macro avg               Cornwall_SVC  test    Cornwall   \n",
       "Cornwall    weighted avg               Cornwall_SVC  test    Cornwall   \n",
       "\n",
       "                     model  precision  recall  f1-score   support  \n",
       "city                                                               \n",
       "Birmingham  2D-convolution      0.729   0.693     0.711   688.000  \n",
       "Birmingham  2D-convolution      0.848   0.869     0.858  1350.000  \n",
       "Birmingham  2D-convolution      0.810   0.810     0.810     0.810  \n",
       "Birmingham  2D-convolution      0.788   0.781     0.784  2038.000  \n",
       "Birmingham  2D-convolution      0.808   0.810     0.808  2038.000  \n",
       "...                    ...        ...     ...       ...       ...  \n",
       "Cornwall               SVC      0.709   0.625     0.664   855.000  \n",
       "Cornwall               SVC      0.695   0.769     0.730   950.000  \n",
       "Cornwall               SVC      0.701   0.701     0.701     0.701  \n",
       "Cornwall               SVC      0.702   0.697     0.697  1805.000  \n",
       "Cornwall               SVC      0.702   0.701     0.699  1805.000  \n",
       "\n",
       "[210 rows x 9 columns]"
      ]
     },
     "execution_count": 171,
     "metadata": {},
     "output_type": "execute_result"
    }
   ],
   "source": [
    "all_cities_summaries"
   ]
  },
  {
   "cell_type": "code",
   "execution_count": null,
   "id": "efb6c196-384e-47a2-b427-8ed84255ee38",
   "metadata": {},
   "outputs": [],
   "source": []
  },
  {
   "cell_type": "code",
   "execution_count": null,
   "id": "f1cd9741-6214-4632-b479-c40839045288",
   "metadata": {},
   "outputs": [],
   "source": []
  },
  {
   "cell_type": "code",
   "execution_count": null,
   "id": "63fa955d-d291-49e8-8782-af2b706f7836",
   "metadata": {},
   "outputs": [],
   "source": []
  }
 ],
 "metadata": {
  "accelerator": "GPU",
  "colab": {
   "collapsed_sections": [
    "V7Azjtl8gRth",
    "qKYh5EeThQ_7",
    "kISRP5AQhWTD",
    "cCo2emMclT8h",
    "gJfbDNO5oB1N",
    "7a4EsWwQhe_i",
    "ycdOBuHSjhSk",
    "5PmJpoCCcxMJ",
    "ybjvOI7x0PKz",
    "pVPFGQ0AoNRD",
    "_Z4nz3ioxtXb",
    "dg0d7-k15L3H",
    "d5fAIUUg5L3J"
   ],
   "name": "TFM_final.ipynb",
   "provenance": [],
   "toc_visible": true
  },
  "kernelspec": {
   "display_name": "Python 3 (ipykernel)",
   "language": "python",
   "name": "python3"
  },
  "language_info": {
   "codemirror_mode": {
    "name": "ipython",
    "version": 3
   },
   "file_extension": ".py",
   "mimetype": "text/x-python",
   "name": "python",
   "nbconvert_exporter": "python",
   "pygments_lexer": "ipython3",
   "version": "3.9.13"
  },
  "toc-autonumbering": true,
  "toc-showcode": false,
  "toc-showmarkdowntxt": false,
  "toc-showtags": false
 },
 "nbformat": 4,
 "nbformat_minor": 5
}
