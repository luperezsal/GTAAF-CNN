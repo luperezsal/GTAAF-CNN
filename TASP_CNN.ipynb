{
 "cells": [
  {
   "cell_type": "markdown",
   "id": "1b81b395-65de-4b67-be82-412dc360daeb",
   "metadata": {
    "tags": [],
    "toc-hr-collapsed": true
   },
   "source": [
    "# Métodos"
   ]
  },
  {
   "cell_type": "markdown",
   "id": "yabWKtrCSTTp",
   "metadata": {
    "id": "yabWKtrCSTTp",
    "jp-MarkdownHeadingCollapsed": true,
    "tags": []
   },
   "source": [
    "## Carga Google Drive"
   ]
  },
  {
   "cell_type": "code",
   "execution_count": 67,
   "id": "9kRlrtLcSWSU",
   "metadata": {
    "id": "9kRlrtLcSWSU",
    "tags": []
   },
   "outputs": [],
   "source": [
    "# from google.colab import drive\n",
    "# drive.mount('/content/drive')"
   ]
  },
  {
   "cell_type": "markdown",
   "id": "1ccb628e-a7f4-40e8-a62d-576f7a78c2fd",
   "metadata": {
    "jp-MarkdownHeadingCollapsed": true,
    "tags": []
   },
   "source": [
    "## Importar Tensorflow"
   ]
  },
  {
   "cell_type": "code",
   "execution_count": 68,
   "id": "5bb40e62-06ae-46b9-a711-a5d5667c4dbb",
   "metadata": {},
   "outputs": [],
   "source": [
    "# !pip install tensorflow-addons"
   ]
  },
  {
   "cell_type": "code",
   "execution_count": 69,
   "id": "32053d4d-f4d8-4b07-9cd8-bb5bf4ac8d44",
   "metadata": {},
   "outputs": [],
   "source": [
    "import tensorflow as tf\n",
    "from tensorflow.keras import backend as K\n",
    "from tensorflow.keras import layers, models\n",
    "from tensorflow.keras.regularizers import l2\n",
    "from tensorflow.keras.optimizers import Adam\n",
    "from tensorflow.keras import applications, optimizers\n",
    "from tensorflow.keras.applications.vgg16 import VGG16, preprocess_input\n",
    "from tensorflow.keras.preprocessing.image import ImageDataGenerator, load_img, img_to_array\n",
    "from tensorflow.keras.utils import model_to_dot, plot_model\n",
    "from tensorflow.keras.layers import Input, Lambda, Activation, Conv2D, MaxPooling2D, BatchNormalization, Add, concatenate, Conv2DTranspose, Flatten"
   ]
  },
  {
   "cell_type": "code",
   "execution_count": 70,
   "id": "e5732f07-8398-47a1-9d62-53cf7dd45556",
   "metadata": {},
   "outputs": [
    {
     "name": "stdout",
     "output_type": "stream",
     "text": [
      "Found GPU at: /device:GPU:0\n",
      "Mon Apr  4 12:11:55 2022       \n",
      "+-----------------------------------------------------------------------------+\n",
      "| NVIDIA-SMI 510.47.03    Driver Version: 510.47.03    CUDA Version: 11.6     |\n",
      "|-------------------------------+----------------------+----------------------+\n",
      "| GPU  Name        Persistence-M| Bus-Id        Disp.A | Volatile Uncorr. ECC |\n",
      "| Fan  Temp  Perf  Pwr:Usage/Cap|         Memory-Usage | GPU-Util  Compute M. |\n",
      "|                               |                      |               MIG M. |\n",
      "|===============================+======================+======================|\n",
      "|   0  NVIDIA GeForce ...  On   | 00000000:01:00.0 Off |                  N/A |\n",
      "| N/A   45C    P8    N/A /  N/A |   3784MiB /  4096MiB |      0%      Default |\n",
      "|                               |                      |                  N/A |\n",
      "+-------------------------------+----------------------+----------------------+\n",
      "                                                                               \n",
      "+-----------------------------------------------------------------------------+\n",
      "| Processes:                                                                  |\n",
      "|  GPU   GI   CI        PID   Type   Process name                  GPU Memory |\n",
      "|        ID   ID                                                   Usage      |\n",
      "|=============================================================================|\n",
      "|    0   N/A  N/A      1163      G   /usr/lib/xorg/Xorg                  4MiB |\n",
      "|    0   N/A  N/A      1978      G   /usr/lib/xorg/Xorg                  4MiB |\n",
      "|    0   N/A  N/A     18380      C   ...onda3/envs/TFM/bin/python     3773MiB |\n",
      "+-----------------------------------------------------------------------------+\n"
     ]
    },
    {
     "name": "stderr",
     "output_type": "stream",
     "text": [
      "2022-04-04 12:11:55.657319: I tensorflow/stream_executor/cuda/cuda_gpu_executor.cc:937] successful NUMA node read from SysFS had negative value (-1), but there must be at least one NUMA node, so returning NUMA node zero\n",
      "2022-04-04 12:11:55.657711: I tensorflow/core/common_runtime/gpu/gpu_device.cc:1733] Found device 0 with properties: \n",
      "pciBusID: 0000:01:00.0 name: NVIDIA GeForce GTX 1050 computeCapability: 6.1\n",
      "coreClock: 1.493GHz coreCount: 5 deviceMemorySize: 3.95GiB deviceMemoryBandwidth: 104.43GiB/s\n",
      "2022-04-04 12:11:55.657879: I tensorflow/stream_executor/cuda/cuda_gpu_executor.cc:937] successful NUMA node read from SysFS had negative value (-1), but there must be at least one NUMA node, so returning NUMA node zero\n",
      "2022-04-04 12:11:55.658283: I tensorflow/stream_executor/cuda/cuda_gpu_executor.cc:937] successful NUMA node read from SysFS had negative value (-1), but there must be at least one NUMA node, so returning NUMA node zero\n",
      "2022-04-04 12:11:55.658586: I tensorflow/core/common_runtime/gpu/gpu_device.cc:1871] Adding visible gpu devices: 0\n",
      "2022-04-04 12:11:55.658641: I tensorflow/core/common_runtime/gpu/gpu_device.cc:1258] Device interconnect StreamExecutor with strength 1 edge matrix:\n",
      "2022-04-04 12:11:55.658658: I tensorflow/core/common_runtime/gpu/gpu_device.cc:1264]      0 \n",
      "2022-04-04 12:11:55.658671: I tensorflow/core/common_runtime/gpu/gpu_device.cc:1277] 0:   N \n",
      "2022-04-04 12:11:55.658858: I tensorflow/stream_executor/cuda/cuda_gpu_executor.cc:937] successful NUMA node read from SysFS had negative value (-1), but there must be at least one NUMA node, so returning NUMA node zero\n",
      "2022-04-04 12:11:55.659266: I tensorflow/stream_executor/cuda/cuda_gpu_executor.cc:937] successful NUMA node read from SysFS had negative value (-1), but there must be at least one NUMA node, so returning NUMA node zero\n",
      "2022-04-04 12:11:55.659594: I tensorflow/core/common_runtime/gpu/gpu_device.cc:1418] Created TensorFlow device (/device:GPU:0 with 3370 MB memory) -> physical GPU (device: 0, name: NVIDIA GeForce GTX 1050, pci bus id: 0000:01:00.0, compute capability: 6.1)\n"
     ]
    }
   ],
   "source": [
    "device_name = tf.test.gpu_device_name()\n",
    "if device_name != '/device:GPU:0':\n",
    "  raise SystemError('GPU device not found')\n",
    "print('Found GPU at: {}'.format(device_name))\n",
    "!nvidia-smi"
   ]
  },
  {
   "cell_type": "markdown",
   "id": "213b591c-8916-415a-a23c-8309f52f56e8",
   "metadata": {
    "jp-MarkdownHeadingCollapsed": true,
    "tags": []
   },
   "source": [
    "## Importador/Exportador Feature Weights"
   ]
  },
  {
   "cell_type": "code",
   "execution_count": 71,
   "id": "75269bf0-27f7-4b71-b311-256035370133",
   "metadata": {
    "tags": []
   },
   "outputs": [],
   "source": [
    "import json\n",
    "\n",
    "def write_weights(feature_vector, root_path, file_name):\n",
    "    with open(root_path + file_name, 'w') as outfile:\n",
    "        json.dump(feature_vector, outfile)\n",
    "\n",
    "def load_weights(root_path, file_name):\n",
    "    with open(root_path + file_name) as json_file:\n",
    "        data = json.load(json_file)\n",
    "\n",
    "    return data"
   ]
  },
  {
   "cell_type": "markdown",
   "id": "f4388716-87a9-4e2d-ab4a-e3959fa1958f",
   "metadata": {
    "jp-MarkdownHeadingCollapsed": true,
    "tags": []
   },
   "source": [
    "## Construcción de imágenes"
   ]
  },
  {
   "cell_type": "code",
   "execution_count": 72,
   "id": "75b5661a-a9ac-4686-9611-6d43711d1528",
   "metadata": {},
   "outputs": [],
   "source": [
    "import numpy as np\n",
    "import math\n",
    "from matplotlib import pyplot as plt\n",
    "\n",
    "def get_feature_matrix_indexes(sorted_feature_vector,matrix):  \n",
    "\n",
    "    half_row = round((matrix.shape[0] - 1) / 2)\n",
    "    half_column = round((matrix.shape[1] - 1) / 2)\n",
    "\n",
    "    matrix_indexes = {}\n",
    "    \n",
    "    index = 0\n",
    "\n",
    "    for parent_key in sorted_feature_vector:\n",
    "        normalized_index = math.ceil(index/2)\n",
    "\n",
    "        if (index % 2 != 0): # Impar\n",
    "            current_row = half_row - normalized_index\n",
    "        else: # Par\n",
    "            current_row = half_row + normalized_index\n",
    "\n",
    "        sorted_child_indexes = np.argsort(feature_vector[parent_key]['feature_weights'])[::-1]\n",
    "\n",
    "        child_names   = np.array(feature_vector[parent_key]['feature_childs'])\n",
    "        child_weights = np.array(feature_vector[parent_key]['feature_weights'])\n",
    "\n",
    "        sorted_child_names   = child_names[sorted_child_indexes]\n",
    "        sorted_child_weights = child_weights[sorted_child_indexes]\n",
    "\n",
    "        position = 0\n",
    "        for sorted_child_index in sorted_child_indexes:\n",
    "            normalized_position = math.ceil(position/2)\n",
    "\n",
    "            if (position % 2 != 0): # Impar\n",
    "                current_column = half_column - normalized_position\n",
    "            else: # Par\n",
    "                current_column = half_column + normalized_position\n",
    "\n",
    "            matrix_indexes[child_names[sorted_child_index]] = [current_row, current_column]\n",
    "            position = position + 1 \n",
    "\n",
    "        index = index + 1\n",
    "\n",
    "    return matrix_indexes\n",
    "    \n",
    "def fv2gi(feature_vector):\n",
    "\n",
    "    max_dimension = 0\n",
    "    for key in feature_vector:\n",
    "        childs_number = len(feature_vector[key]['feature_childs'])\n",
    "        max_dimension = max(childs_number, max_dimension)\n",
    "                \n",
    "    matrix = np.zeros((max_dimension, max_dimension))\n",
    "\n",
    "    weights_vector = []\n",
    "    for parent_key in feature_vector:\n",
    "        wpi = sum([float(child_weight) for child_weight in feature_vector[parent_key]['feature_weights']])\n",
    "        feature_vector[parent_key]['wpi'] = wpi\n",
    "        weights_vector.append(wpi)\n",
    "\n",
    "   \n",
    "    sorted_feature_vector = sorted(feature_vector.items(),\n",
    "                                   key = lambda item: item[1]['wpi'],\n",
    "                                   reverse = True)\n",
    "     \n",
    "    sorted_feature_vector = dict(sorted_feature_vector)\n",
    "\n",
    "    \n",
    "    matrix_indexes = get_feature_matrix_indexes(sorted_feature_vector, matrix)\n",
    "\n",
    "    return matrix_indexes\n",
    "\n",
    "# matrix_indexes = fv2gi(feature_vector)"
   ]
  },
  {
   "cell_type": "markdown",
   "id": "fbdb0004-1f9b-493a-9c83-91d943b5309d",
   "metadata": {
    "jp-MarkdownHeadingCollapsed": true,
    "tags": []
   },
   "source": [
    "## Construcción Feature Vector"
   ]
  },
  {
   "cell_type": "code",
   "execution_count": 73,
   "id": "077b732a-ca4a-440e-8ae2-dbb3d15ba01e",
   "metadata": {},
   "outputs": [],
   "source": [
    "def fill_feature_vector(X_dataset,child_weights):\n",
    "  # Obtenemos el set de columnas del dataset\n",
    "  train_columns_set  = set(X_dataset.columns)\n",
    "\n",
    "  for parent_feature in feature_vector.keys():\n",
    "    # Obtiene el set de características hijas del padre actual\n",
    "    # dict.fromleys para mantener el orden, un set desordena los valores\n",
    "    feature_childs_set = dict.fromkeys(feature_vector[parent_feature]['feature_childs'])\n",
    "\n",
    "    # Obtener el índice de las columnas del actual padre para acceder a los pesos del XGBoost\n",
    "    index_feature_childs = X_dataset.columns.get_indexer(feature_childs_set)\n",
    "\n",
    "    feature_vector[parent_feature]['feature_weights'] = list([str(child_weight) for child_weight in child_weights[index_feature_childs]])\n",
    "\n",
    "  return feature_vector"
   ]
  },
  {
   "cell_type": "markdown",
   "id": "150c95ea-ae18-4406-b116-5ce6674b7f6e",
   "metadata": {
    "jp-MarkdownHeadingCollapsed": true,
    "tags": []
   },
   "source": [
    "## Normalización de datos"
   ]
  },
  {
   "cell_type": "code",
   "execution_count": 74,
   "id": "017e1821-71be-48d9-85cb-07808165a1cb",
   "metadata": {},
   "outputs": [],
   "source": [
    "from scipy.stats import zscore\n",
    "import pandas as pd\n",
    "\n",
    "def normalize_data(X_data):\n",
    "\n",
    "    # Create a sample df\n",
    "    normalized_df = X_data\n",
    "\n",
    "    # Calculate the zscores and drop zscores into new column\n",
    "    for column in normalized_df.columns:\n",
    "        normalized_df[column] = zscore(normalized_df[column])\n",
    "    \n",
    "    return normalized_df"
   ]
  },
  {
   "cell_type": "markdown",
   "id": "8358c9a0-6423-4aa8-92a3-e01a8ac72bb0",
   "metadata": {
    "jp-MarkdownHeadingCollapsed": true,
    "tags": []
   },
   "source": [
    "## Oversampling de datos"
   ]
  },
  {
   "cell_type": "code",
   "execution_count": 75,
   "id": "efac95c3-8dc1-4acf-b4e0-78d24fa64131",
   "metadata": {
    "tags": []
   },
   "outputs": [],
   "source": [
    "from imblearn.over_sampling import BorderlineSMOTE\n",
    "\n",
    "def oversample_data(X_data, Y_labels):\n",
    "\n",
    "    oversample = BorderlineSMOTE(kind='borderline-2')\n",
    "    X_oversampled, Y_oversampled = oversample.fit_resample(X_data, Y_labels)\n",
    "\n",
    "    print('********** After OverSampling **********')\n",
    "    print('Slight: ', (Y_oversampled == 'Slight').sum())\n",
    "    print('Serious:', (Y_oversampled == 'Serious').sum())\n",
    "    print('Fatal:  ', (Y_oversampled == 'Fatal').sum())\n",
    "    print('\\n Total X: ', len(X_oversampled), ' Total Y: ', len(Y_oversampled))\n",
    "\n",
    "    return X_oversampled, Y_oversampled"
   ]
  },
  {
   "cell_type": "markdown",
   "id": "31e306be-543d-4ba7-b9a4-2cb1cb938f0b",
   "metadata": {
    "jp-MarkdownHeadingCollapsed": true,
    "tags": []
   },
   "source": [
    "## Construcción de imágenes"
   ]
  },
  {
   "cell_type": "code",
   "execution_count": 76,
   "id": "7b61998b-bd46-4dad-a0e8-8363f92f7741",
   "metadata": {},
   "outputs": [],
   "source": [
    "def build_gray_images(dataset, max_dimension, matrix_indexes):\n",
    "\n",
    "    matrix_3d = np.zeros((max_dimension, max_dimension, len(dataset.index)))\n",
    "    print(len(dataset.index))\n",
    "    for feature, value in matrix_indexes.items():\n",
    "        matrix_3d[value[0], value[1],] = dataset[feature]\n",
    "        \n",
    "    return matrix_3d"
   ]
  },
  {
   "cell_type": "markdown",
   "id": "d37d6d9f-8ae4-4740-9983-e51d39cdeac6",
   "metadata": {
    "jp-MarkdownHeadingCollapsed": true,
    "tags": []
   },
   "source": [
    "## Reshape de imágenes"
   ]
  },
  {
   "cell_type": "code",
   "execution_count": 77,
   "id": "5ded491b-6d05-44f5-9ee9-44064babfd00",
   "metadata": {},
   "outputs": [],
   "source": [
    "# Add one channel\n",
    "# https://machinelearningmastery.com/a-gentle-introduction-to-channels-first-and-channels-last-image-formats-for-deep-learning/\n",
    "\n",
    "# Add one channel to gray images depending of the number of the data\n",
    "def shape_images(X_data, gray_images):\n",
    "  images = []\n",
    "\n",
    "  for i in range(0,len(X_data)):\n",
    "      original_matrix = gray_images[:,:,i]\n",
    "      # print(original_matrix.shape)\n",
    "      shaped_image = np.expand_dims(original_matrix, axis=2)\n",
    "      # print(shaped_image.shape)\n",
    "      images.append(shaped_image)\n",
    "      # plt.matshow(shaped_image)\n",
    "\n",
    "  return images"
   ]
  },
  {
   "cell_type": "markdown",
   "id": "3a71fa80-2c77-46a3-819c-bb7a0ff9a5a1",
   "metadata": {
    "jp-MarkdownHeadingCollapsed": true,
    "tags": []
   },
   "source": [
    "## One-Hot Encoder/Decoder"
   ]
  },
  {
   "cell_type": "code",
   "execution_count": 78,
   "id": "81a2db8a-49a5-4a06-bf66-025a0d472001",
   "metadata": {},
   "outputs": [],
   "source": [
    "def casualty_to_one_hot(Y_labels):\n",
    "\n",
    "    transf = {\n",
    "        'Slight': 0,\n",
    "        'Serious': 1,\n",
    "        'Fatal': 2\n",
    "    }\n",
    "\n",
    "    Y_labels.replace(transf, inplace = True)\n",
    "\n",
    "    return tf.one_hot(Y_labels, 3)\n",
    "\n",
    "def one_hot_to_casualty(Y_labels):\n",
    "\n",
    "    transf = {\n",
    "        0: 'Slight',\n",
    "        1: 'Serious',\n",
    "        2: 'Fatal'\n",
    "    }   \n",
    "\n",
    "    return Y_labels.replace(transf)"
   ]
  },
  {
   "cell_type": "markdown",
   "id": "021df180-f056-4e21-ac6e-39d41369831b",
   "metadata": {
    "tags": []
   },
   "source": [
    "## Visualización de datos"
   ]
  },
  {
   "cell_type": "markdown",
   "id": "5d7a4a49-64d8-4a32-abf7-e626f39d0938",
   "metadata": {
    "jp-MarkdownHeadingCollapsed": true,
    "tags": []
   },
   "source": [
    "### Matriz de correlación"
   ]
  },
  {
   "cell_type": "code",
   "execution_count": 79,
   "id": "29dfa69d-7135-476f-9c1d-4ebf5d30bf53",
   "metadata": {},
   "outputs": [],
   "source": [
    "import seaborn as sns\n",
    "\n",
    "def correlation_matrix(X_data):\n",
    "    corrMatrix = X_data.corr()\n",
    "    fig,ax  = plt.subplots(1,1,figsize=(15,10))\n",
    "    sns.heatmap(corrMatrix, annot=True)\n",
    "    plt.show()"
   ]
  },
  {
   "cell_type": "markdown",
   "id": "78eaa5de-34f0-4724-ba36-0fdcf19c64e7",
   "metadata": {
    "tags": []
   },
   "source": [
    "### PCA"
   ]
  },
  {
   "cell_type": "code",
   "execution_count": 80,
   "id": "7d011694-26fe-41e3-9a39-85722f128f6f",
   "metadata": {},
   "outputs": [],
   "source": [
    "from sklearn.decomposition import PCA\n",
    "\n",
    "def pca(X_train_data, X_test_data):\n",
    "    pca = PCA()\n",
    "    X_train_pca = pca.fit_transform(X_train_data)\n",
    "    X_test_pca  = pca.transform(X_test_data)\n",
    "    explained_variance = pca.explained_variance_ratio_\n",
    "\n",
    "    figure_name = plt.figure(figsize=(15, 10))\n",
    "    plt.plot(np.cumsum(pca.explained_variance_ratio_))\n",
    "    plt.xlabel('number of components')\n",
    "    plt.ylabel('cumulative explained variance')\n",
    "    plt.show()"
   ]
  },
  {
   "cell_type": "markdown",
   "id": "401456b5-b7b9-421c-83db-709796ee1d8e",
   "metadata": {},
   "source": [
    "### TSNE"
   ]
  },
  {
   "cell_type": "code",
   "execution_count": 81,
   "id": "74c55dca-09c1-4831-a64c-bc04a9cdf73e",
   "metadata": {},
   "outputs": [],
   "source": [
    "from sklearn.manifold import TSNE\n",
    "from sklearn.preprocessing import StandardScaler\n",
    "\n",
    "def plot_TSNE(X_data, Y_data, n_components, output_file_name = None):\n",
    "\n",
    "    X_data_scaled = StandardScaler().fit_transform(X_data)\n",
    "    z_data = TSNE(n_components = n_components).fit_transform(X_data_scaled)\n",
    "\n",
    "    # X_test_scaled = StandardScaler().fit_transform(X_test),\n",
    "    # z_test = TSNE(n_components=2).fit_transform(X_test_scaled),\n",
    "\n",
    "    palette = sns.color_palette('husl', 3)\n",
    "    fig,ax  = plt.subplots(1,1,figsize=(15,10))\n",
    "    sns.scatterplot(x = z_data[:,0],\n",
    "                    y = z_data[:,1],\n",
    "                    hue = Y_data,\n",
    "                    palette = palette,\n",
    "                    legend = 'full')\n",
    "\n",
    "    if (output_file_name): plt.savefig('./Out/' + output_file_name)"
   ]
  },
  {
   "cell_type": "markdown",
   "id": "f80b4c26-5100-4723-9342-b7b9aa187d79",
   "metadata": {
    "tags": []
   },
   "source": [
    "### Autoencoder"
   ]
  },
  {
   "cell_type": "code",
   "execution_count": 82,
   "id": "0f4072a7-e2e5-4e45-9456-4bea3270a25a",
   "metadata": {},
   "outputs": [],
   "source": [
    "def autoencoder ():\n",
    "    input_img = Input(shape=(25,))\n",
    "\n",
    "    # definimos el encoder, que tendra una entrada de Input_img y una segunda capa con entrada de encoder1 y salida 3\n",
    "    encoder1 = layers.Dense(15, activation='sigmoid')(input_img)\n",
    "    encoder2 = layers.Dense(3, activation='sigmoid')(encoder1)\n",
    "\n",
    "    # definimos el  decoder que tendra una entrada inicial de encoder3 y una salida de 128 y finalmete una capa de salida con los mismos que Input_img\n",
    "    decoder1 = layers.Dense(15, activation='sigmoid')(encoder2)\n",
    "    decoder2 = layers.Dense(25, activation='sigmoid')(decoder1)\n",
    "\n",
    "    # this model maps an input to its reconstruction\n",
    "    autoencoder = tf.keras.Model(inputs=input_img, outputs=decoder2)\n",
    "    autoencoder.summary()\n",
    "\n",
    "    autoencoder.compile(optimizer='adam', loss='binary_crossentropy') #se usan estos dos en estas arquitecturas\n",
    "    \n",
    "    return autoencoder"
   ]
  },
  {
   "cell_type": "markdown",
   "id": "7d8ea062-c0b7-4486-9ebe-94ae66a58b54",
   "metadata": {
    "tags": []
   },
   "source": [
    "## TASP-CNN"
   ]
  },
  {
   "cell_type": "code",
   "execution_count": 83,
   "id": "05497b70-0400-4219-8a07-3a43005066cb",
   "metadata": {},
   "outputs": [],
   "source": [
    "import tensorflow_addons as tfa\n",
    "\n",
    "lr_init = 0.1\n",
    "num_classes = 3\n",
    "\n",
    "tasp_cnn = models.Sequential()\n",
    "tasp_cnn.add(layers.Conv2D(256, (3, 3),strides=(1, 1), activation='relu', padding='same', input_shape=(5, 5, 1)))\n",
    "tasp_cnn.add(layers.BatchNormalization())\n",
    "tasp_cnn.add(layers.Conv2D(256, (3, 3), strides=(1, 1), activation='relu', padding='same', input_shape=(3, 3, 256)))\n",
    "tasp_cnn.add(layers.BatchNormalization())\n",
    "tasp_cnn.add(layers.Conv2D(256, (3, 3), strides=(1, 1), activation='relu', padding='same', input_shape=(3, 3, 256)))\n",
    "tasp_cnn.add(layers.BatchNormalization())\n",
    "tasp_cnn.add(layers.Conv2D(256, (3, 3), strides=(1, 1), activation='relu', padding='same', input_shape=(3, 3, 256)))\n",
    "tasp_cnn.add(layers.BatchNormalization())  \n",
    "tasp_cnn.add(layers.Flatten())\n",
    "tasp_cnn.add(layers.Dense(units=128))\n",
    "tasp_cnn.add(layers.Dense(3, activation='softmax'))\n",
    "\n",
    "tasp_cnn.compile(\n",
    "    optimizer=Adam(learning_rate = lr_init, epsilon=1e-06),\n",
    "    loss='categorical_crossentropy',\n",
    "    metrics=[tfa.metrics.F1Score(num_classes = num_classes, average='micro', threshold=0.1)]\n",
    "  )"
   ]
  },
  {
   "cell_type": "code",
   "execution_count": 84,
   "id": "41d457bb-2db3-4b69-b0b7-bcf867dbeb09",
   "metadata": {},
   "outputs": [
    {
     "name": "stdout",
     "output_type": "stream",
     "text": [
      "Done!\n"
     ]
    }
   ],
   "source": [
    "print('Done!')"
   ]
  },
  {
   "cell_type": "markdown",
   "id": "pcQtLPSUVwgf",
   "metadata": {
    "id": "pcQtLPSUVwgf",
    "tags": [],
    "toc-hr-collapsed": true
   },
   "source": [
    "# Leeds Data"
   ]
  },
  {
   "cell_type": "markdown",
   "id": "e4tAAMniVQ-O",
   "metadata": {
    "id": "e4tAAMniVQ-O",
    "jp-MarkdownHeadingCollapsed": true,
    "tags": []
   },
   "source": [
    "## Importación de datos"
   ]
  },
  {
   "cell_type": "code",
   "execution_count": null,
   "id": "8d027c46-8e31-4698-86f1-38547595abce",
   "metadata": {},
   "outputs": [],
   "source": [
    "# !conda install pandas --y"
   ]
  },
  {
   "cell_type": "code",
   "execution_count": null,
   "id": "e6951ab4",
   "metadata": {
    "id": "e6951ab4"
   },
   "outputs": [],
   "source": [
    "import pandas as pd\n",
    "# https://datamillnorth.org/dataset/road-traffic-accidents\n",
    "# root_path = '/content/drive/Othercomputers/Mi portátil/Drive/Master UA/TFM/TFM_DATA/'\n",
    "\n",
    "root_path = './Data/Leeds/'\n",
    "\n",
    "file_path_2009 = './2009.csv'\n",
    "file_path_2010 = './2010.csv'\n",
    "file_path_2011 = './2011.csv'\n",
    "file_path_2012 = './2012.csv'\n",
    "file_path_2013 = './2013.csv'\n",
    "file_path_2014 = './2014.csv'\n",
    "file_path_2015 = './2015.csv'\n",
    "file_path_2016 = './2016.csv'\n",
    "\n",
    "file_2009 = pd.read_csv(root_path + file_path_2009, encoding = 'cp1252')\n",
    "file_2010 = pd.read_csv(root_path + file_path_2010, encoding = 'cp1252')\n",
    "file_2011 = pd.read_csv(root_path + file_path_2011, encoding = 'cp1252')\n",
    "file_2012 = pd.read_csv(root_path + file_path_2012, encoding = 'cp1252')\n",
    "file_2013 = pd.read_csv(root_path + file_path_2013, encoding = 'cp1252')\n",
    "file_2014 = pd.read_csv(root_path + file_path_2014, encoding = 'cp1252')\n",
    "file_2015 = pd.read_csv(root_path + file_path_2015, encoding = 'cp1252')\n",
    "file_2016 = pd.read_csv(root_path + file_path_2016, encoding = 'cp1252')\n",
    "\n",
    "###################### UNIÓN DE ARCHIVOS ######################\n",
    "\n",
    "a = pd.concat([file_2009,file_2010])\n",
    "\n",
    "file_2013 = clean_df = file_2013.loc[:, ~file_2013.columns.isin(['Casualty Class'])]\n",
    "file_2013.set_axis(a.columns, axis=1, inplace=True)\n",
    "                                             \n",
    "file_2014 = clean_df = file_2014.loc[:, ~file_2014.columns.isin(['Casualty Class'])]\n",
    "file_2014.set_axis(a.columns, axis=1, inplace=True)\n",
    "\n",
    "# file_2015 = clean_df = file_2015.loc[:, ~file_2015.columns.isin(['Casualty Class'])]\n",
    "file_2015.set_axis(a.columns, axis=1, inplace=True)\n",
    "file_2016 = clean_df = file_2016.loc[:, ~file_2016.columns.isin(['Expr1'])]\n",
    "file_2016.set_axis(a.columns, axis=1, inplace=True)\n",
    "\n",
    "a = pd.concat([a, file_2011])\n",
    "a = pd.concat([a, file_2012])\n",
    "a = pd.concat([a, file_2013])\n",
    "a = pd.concat([a, file_2014])\n",
    "a = pd.concat([a, file_2015])\n",
    "a = pd.concat([a, file_2016])\n",
    "\n",
    "# a['1st Road Class'].value_counts()"
   ]
  },
  {
   "cell_type": "markdown",
   "id": "3Y9SjctrVXCD",
   "metadata": {
    "id": "3Y9SjctrVXCD",
    "tags": []
   },
   "source": [
    "## Limpieza de datos"
   ]
  },
  {
   "cell_type": "code",
   "execution_count": null,
   "id": "b726f75b",
   "metadata": {
    "id": "b726f75b"
   },
   "outputs": [],
   "source": [
    "###################### DICCIONARIOS DE REEMPLAZO ######################\n",
    "# Unclassified: Carreteras locales sin destino definido. Sin embargo, los destinos locales pueden estar señalizados a lo largo de ellos.\n",
    "# A, A(M) y Motorway lo mismo?\n",
    "# B:            De carácter regional y utilizado para conectar zonas de menor importancia.\n",
    "#               Por lo general, se muestran de color marrón o amarillo en los mapas y tienen las mismas señales blancas que las rutas de clase A que no son primarias.\n",
    "#               Si la ruta es primaria, como la B6261, se mostrará igual que una ruta Clase A primaria.\n",
    "#               ¿Carretera como tal?\n",
    "\n",
    "# C:            Designaciones de autoridades locales para rutas dentro de su área con fines administrativos.\n",
    "#               Estas rutas no se muestran en mapas de carreteras a pequeña escala, pero se sabe que ocasionalmente aparecen en las señales de tráfico.\n",
    "road_class_replace = {\n",
    "    'Motorway': 1,\n",
    "    'A(M)': 2,\n",
    "    'A': 3,\n",
    "    'B': 4,\n",
    "    'C': 5,\n",
    "    'Unclassified': 6\n",
    "}\n",
    "\n",
    "##################################\n",
    "accident_date_replace = {\n",
    "    'Dry': 1,\n",
    "    'Wet / Damp': 2,\n",
    "    'Snow': 3,\n",
    "    'Frost / Ice': 4,\n",
    "    'Flood': 5,\n",
    "}\n",
    "##################################\n",
    "\n",
    "road_surface_replace = {\n",
    "    'Dry': 1,\n",
    "    'Wet / Damp': 2,\n",
    "    'Snow': 3,\n",
    "    'Frost/ Ice': 4,\n",
    "    'Frost / Ice': 4,\n",
    "    'Flood': 5,\n",
    "    'Flood (surface water over 3cm deep)': 5,\n",
    "    '5': 5\n",
    "}\n",
    "\n",
    "# La 5: \"Darkness: street lighting unknown\" no está presente en el paper, le hemos puesto un 5 porque sí #\n",
    "lighting_conditions_replace = {\n",
    "    'Daylight: street lights present': 1,\n",
    "    'Darkness: no street lighting': 2,\n",
    "    'Darkness: street lights present and lit': 3,\n",
    "    'Darkness: street lights present but unlit': 4,\n",
    "    'Darkness: street lighting unknown': 5,\n",
    "    '5': 5\n",
    "}\n",
    "\n",
    "# La 8.2: \"Unknown\" no está presente en el paper, le hemos puesto un 8 porque sí (Other) #\n",
    "weather_conditions_replace = {\n",
    "    'Fine without high winds': 1,\n",
    "    'Raining without high winds': 2,\n",
    "    'Snowing without high winds': 3,\n",
    "    'Fine with high winds': 4,\n",
    "    'Raining with high winds': 5,\n",
    "    'Snowing with high winds': 6,\n",
    "    'Fog or mist – if hazard': 7,\n",
    "    'Other': 8,\n",
    "    'Unknown': 8\n",
    "}\n",
    "\n",
    "type_of_vehicle_replace = {\n",
    "    'Pedal cycle': 1,\n",
    "    'M/cycle 50cc and under': 2,\n",
    "    'Motorcycle over 50cc and up to 125cc': 3,\n",
    "    'Motorcycle over 125cc and up to 500cc': 4,\n",
    "    'Motorcycle over 500cc': 5,\n",
    "    'Taxi/Private hire car': 6,\n",
    "    'Car': 7,\n",
    "    'Minibus (8 – 16 passenger seats)': 8,\n",
    "    'Bus or coach (17 or more passenger seats)': 9,\n",
    "    'Ridden horse': 10,\n",
    "    'Agricultural vehicle (includes diggers etc.)': 11,\n",
    "    'Tram / Light rail': 12,\n",
    "    'Goods vehicle 3.5 tonnes mgw and under': 13,\n",
    "    'Goods vehicle over 3.5 tonnes and under 7.5 tonnes mgw': 14,\n",
    "    'Goods vehicle 7.5 tonnes mgw and over': 15,\n",
    "    'Mobility Scooter': 16,\n",
    "    'Other Vehicle ': 17,\n",
    "    'Motorcycle - Unknown CC': 18\n",
    "}\n",
    "\n",
    "casualty_class_replace = {\n",
    "    'Driver': 1,\n",
    "    'Driver/Rider': 1,\n",
    "    'Driver or rider': 1,\n",
    "    'Passenger': 2,\n",
    "    'Vehicle or pillion passenger': 2,\n",
    "    'Pedestrian': 3\n",
    "}\n",
    "\n",
    "\n",
    "sex_of_casualty_replace = {\n",
    "    'Male': 1,\n",
    "    'Female': 2\n",
    "}\n",
    "\n",
    "###################### REEMPLAZOS ######################\n",
    "clean_df = clean_df.dropna()\n",
    "\n",
    "a['1st Road Class'].replace(road_class_replace, inplace = True)\n",
    "# print('1st Road Class:', a['1st Road Class'].unique())\n",
    "\n",
    "##################################\n",
    "# a['Accident Date'].replace(accident_date_replace, inplace = True)\n",
    "# print('Accident Date:', a['Accident Date'].unique())\n",
    "##################################\n",
    "a['Road Surface'].replace(road_surface_replace, inplace = True)\n",
    "a.dropna(inplace = True)\n",
    "\n",
    "a['Road Surface'] = a['Road Surface'].astype('int')\n",
    "# print('Road Surface:', a['Road Surface'].unique())\n",
    "\n",
    "a['Lighting Conditions'].replace(lighting_conditions_replace, inplace = True)\n",
    "# print('Lighting Conditions:', a['Lighting Conditions'].unique())\n",
    "\n",
    "a['Weather Conditions'].replace(weather_conditions_replace, inplace = True)\n",
    "a = a[a['Weather Conditions'] != 'Darkness: street lighting unknown']\n",
    "# print('Weather Conditions:', a['Weather Conditions'].unique())\n",
    "\n",
    "a['Type of Vehicle'].replace(type_of_vehicle_replace, inplace = True)\n",
    "# print('Type of Vehicle:', a['Type of Vehicle'].unique())\n",
    "\n",
    "a['Casualty Class'].replace(casualty_class_replace, inplace = True)\n",
    "# print('Casualty Class:', a['Casualty Class'].unique())\n",
    "\n",
    "a['Sex of Casualty'].replace(sex_of_casualty_replace, inplace = True)\n",
    "# print('Sex of Casualty:', a['Sex of Casualty'].unique())\n",
    "\n",
    "a['Age of Casualty'] = a['Age of Casualty'].mask(a['Age of Casualty'] < 18, 1)\n",
    "a['Age of Casualty'] = a['Age of Casualty'].mask(a['Age of Casualty'].between(18, 25), 2)\n",
    "a['Age of Casualty'] = a['Age of Casualty'].mask(a['Age of Casualty'].between(25, 65), 3)\n",
    "a['Age of Casualty'] = a['Age of Casualty'].mask(a['Age of Casualty'] > 65, 4)\n",
    "# print('Age of Casualty:', a['Age of Casualty'].unique())\n",
    "\n",
    "a['Time (24hr)'] = a['Time (24hr)'].mask(a['Time (24hr)'] < 600, 2)\n",
    "a['Time (24hr)'] = a['Time (24hr)'].mask(a['Time (24hr)'] > 1800, 2)\n",
    "a['Time (24hr)'] = a['Time (24hr)'].mask(a['Time (24hr)'].between(600, 1800), 1)\n",
    "# print('Time (24hr):', a['Time (24hr)'].unique())\n",
    "a.rename(columns={\"Time (24hr)\": \"Accident Time\"}, inplace = True)\n",
    "\n",
    "###################### LIMPIEZA DE VALORES NULOS/DUPLICADOS ######################\n",
    "\n",
    "clean_df = a.loc[:, ~a.columns.isin(['Accident Date', 'Reference Number'])]\n",
    "\n",
    "clean_df['Weather Conditions'] = clean_df['Weather Conditions'].astype('int')\n",
    "clean_df['Casualty Class']     = clean_df['Casualty Class'].astype('int')\n",
    "\n",
    "clean_df = clean_df.drop_duplicates()\n",
    "clean_df = clean_df.dropna()\n",
    "clean_df = clean_df.reset_index(drop=True)\n",
    "\n",
    "clean_df"
   ]
  },
  {
   "cell_type": "markdown",
   "id": "JOSunlOuVeEm",
   "metadata": {
    "id": "JOSunlOuVeEm",
    "tags": []
   },
   "source": [
    "## Split de datos"
   ]
  },
  {
   "cell_type": "code",
   "execution_count": null,
   "id": "a506548e-6b11-4b46-abfb-bc7672c3f756",
   "metadata": {},
   "outputs": [],
   "source": [
    "# !conda install scikit-learn --y"
   ]
  },
  {
   "cell_type": "code",
   "execution_count": null,
   "id": "c921e711",
   "metadata": {
    "id": "c921e711"
   },
   "outputs": [],
   "source": [
    "from sklearn.model_selection import train_test_split\n",
    "\n",
    "Y = clean_df['Casualty Severity']\n",
    "\n",
    "train, test = train_test_split(clean_df, test_size=0.2)\n",
    "X_train = train.loc[:, ~train.columns.isin(['Casualty Severity'])]\n",
    "Y_train = train['Casualty Severity']\n",
    "\n",
    "X_test = test.loc[:, ~test.columns.isin(['Casualty Severity'])]\n",
    "Y_test = test['Casualty Severity']"
   ]
  },
  {
   "cell_type": "code",
   "execution_count": null,
   "id": "603c5d0e",
   "metadata": {
    "id": "603c5d0e"
   },
   "outputs": [],
   "source": [
    "# fv2gi(feature_vector)\n",
    "# sorted(feature_vector.items(), key = lambda item: item[0][1])\n",
    "\n",
    "# for item in feature_vector['Accident Features'].items():\n",
    "#     print(item[1])\n",
    "\n",
    "# feature_vector[parent_key].items()\n",
    "\n",
    "# sorted(feature_vector['Accident Features'].items(), key = lambda item: item,\n",
    "#                                reverse = True)\n",
    "\n",
    "# print(feature_vector['Accident Features']['feature_weights'])\n",
    "\n",
    "# fv = np.array(feature_vector['Accident Features']['feature_childs'])\n",
    "# list(fv[indexes])"
   ]
  },
  {
   "cell_type": "markdown",
   "id": "gLtQ4-JMW0Tv",
   "metadata": {
    "id": "gLtQ4-JMW0Tv",
    "tags": []
   },
   "source": [
    "## Normalización de datos"
   ]
  },
  {
   "cell_type": "code",
   "execution_count": null,
   "id": "9f97d173-a0ff-4b31-97e1-fd9d787069ae",
   "metadata": {},
   "outputs": [],
   "source": [
    "# !conda install -c conda-forge imbalanced-learn"
   ]
  },
  {
   "cell_type": "code",
   "execution_count": null,
   "id": "FHb1AMbZjm9m",
   "metadata": {
    "id": "FHb1AMbZjm9m"
   },
   "outputs": [],
   "source": [
    "X_train = X_train.astype(int)\n",
    "X_test  = X_test.astype(int)\n",
    "\n",
    "X_train = normalize_data(X_train)\n",
    "X_test  = normalize_data(X_test)"
   ]
  },
  {
   "cell_type": "markdown",
   "id": "nDVViKK3XCtE",
   "metadata": {
    "id": "nDVViKK3XCtE",
    "tags": []
   },
   "source": [
    "## Oversamplig de datos"
   ]
  },
  {
   "cell_type": "code",
   "execution_count": null,
   "id": "f5125433-f3ee-4cd3-bc5d-dd3a6acfca54",
   "metadata": {
    "id": "f5125433-f3ee-4cd3-bc5d-dd3a6acfca54"
   },
   "outputs": [],
   "source": [
    "print('********** Before OverSampling **********')\n",
    "print('Slight: ', (Y_train == 'Slight').sum())\n",
    "print('Serious:', (Y_train == 'Serious').sum())\n",
    "print('Fatal:  ', (Y_train == 'Fatal').sum())\n",
    "print('\\n Total X:', len(X_train), ' Total Y:', len(Y_train), '\\n')\n",
    "\n",
    "X_train, Y_train = oversample_data(X_train, Y_train)"
   ]
  },
  {
   "cell_type": "markdown",
   "id": "199a4a83-3e38-4848-be3f-8ae4861230b8",
   "metadata": {
    "tags": [],
    "toc-hr-collapsed": true
   },
   "source": [
    "## Pesos XGBoost"
   ]
  },
  {
   "cell_type": "markdown",
   "id": "a4634264-34da-4355-af3f-99650d45068d",
   "metadata": {
    "jp-MarkdownHeadingCollapsed": true,
    "tags": []
   },
   "source": [
    "### Carga de pesos"
   ]
  },
  {
   "cell_type": "code",
   "execution_count": null,
   "id": "ebc51d38-c18a-46e7-968d-4a8e40b91d79",
   "metadata": {},
   "outputs": [],
   "source": [
    "FILE_PATH = './XGBoost_Weights/'\n",
    "# FILE_NAME = 'leeds_calculated_weights.json'\n",
    "FILE_NAME = 'leeds_default_weights.json'\n",
    "\n",
    "feature_vector = load_weights(FILE_PATH, FILE_NAME)\n",
    "display(feature_vector)"
   ]
  },
  {
   "cell_type": "markdown",
   "id": "a11e7364-7e4b-4ecf-9af2-559deb20df63",
   "metadata": {
    "tags": []
   },
   "source": [
    "### Cálculo"
   ]
  },
  {
   "cell_type": "code",
   "execution_count": null,
   "id": "bf8e4a99-5e84-4c6e-af5c-7451e342ccb1",
   "metadata": {},
   "outputs": [],
   "source": [
    "# from numpy import loadtxt\n",
    "# from xgboost import XGBClassifier,XGBRanker\n",
    "# from matplotlib import pyplot\n",
    "# from xgboost import plot_importance\n",
    "\n",
    "# X_data = pd.concat([X_train,X_test])\n",
    "# Y_data = pd.concat([Y_train,Y_test])\n",
    "\n",
    "# n_trees = 1000\n",
    "# booster = 'gbtree'\n",
    "# importance_type = 'weight'\n",
    "\n",
    "# xgboost = XGBClassifier(n_estimators = n_trees,\n",
    "#                         booster = booster,\n",
    "#                         importance_type = importance_type)\n",
    "\n",
    "# xgboost.fit(X_train, Y_train)\n",
    "\n",
    "# child_weights  = np.array(xgboost.feature_importances_)\n",
    "# feature_vector = fill_feature_vector(X_train, child_weights)"
   ]
  },
  {
   "cell_type": "markdown",
   "id": "96e34dce-2ff6-474c-b5cc-09362f4d64e8",
   "metadata": {
    "jp-MarkdownHeadingCollapsed": true,
    "tags": []
   },
   "source": [
    "### Visualización pesos calculados"
   ]
  },
  {
   "cell_type": "code",
   "execution_count": null,
   "id": "8fb50b3c-235c-4c50-b8ab-ff4c199e8a2e",
   "metadata": {
    "tags": []
   },
   "outputs": [],
   "source": [
    "# print(xgboost.get_booster().get_score(importance_type= 'weight'))\n",
    "# plt.figure(figsize=(10, 5))\n",
    "# plt.barh(X_train.columns, xgboost.feature_importances_)\n",
    "# print(xgboost.feature_importances_)\n",
    "\n",
    "# for column, weight in zip(X_train.columns,xgboost.feature_importances_):\n",
    "#   print(column, weight)"
   ]
  },
  {
   "cell_type": "markdown",
   "id": "07cbff6d-cf54-4af1-991e-cd74b22825ab",
   "metadata": {
    "jp-MarkdownHeadingCollapsed": true,
    "tags": []
   },
   "source": [
    "### Escritura"
   ]
  },
  {
   "cell_type": "code",
   "execution_count": null,
   "id": "9fVPOWg1da-5",
   "metadata": {
    "id": "9fVPOWg1da-5",
    "tags": []
   },
   "outputs": [],
   "source": [
    "# FILE_PATH = './XGBoost_Weights/'\n",
    "# FILE_NAME = 'leeds_calculated_weights.json'\n",
    "# # FILE_NAME = 'leeds_default_weights.json'\n",
    "\n",
    "# write_weights(feature_vector, FILE_PATH, FILE_NAME)"
   ]
  },
  {
   "cell_type": "markdown",
   "id": "b008a451-aff5-4ddc-92c6-a4e78ac60031",
   "metadata": {
    "jp-MarkdownHeadingCollapsed": true,
    "tags": []
   },
   "source": [
    "### Cálculo índices de matriz"
   ]
  },
  {
   "cell_type": "code",
   "execution_count": null,
   "id": "8b245iBDsUof",
   "metadata": {
    "id": "8b245iBDsUof"
   },
   "outputs": [],
   "source": [
    "matrix_indexes = fv2gi(feature_vector)"
   ]
  },
  {
   "cell_type": "markdown",
   "id": "4b3fnVqjYFXk",
   "metadata": {
    "id": "4b3fnVqjYFXk",
    "tags": []
   },
   "source": [
    "## Construcción de imágenes"
   ]
  },
  {
   "cell_type": "code",
   "execution_count": null,
   "id": "21dcf79f",
   "metadata": {
    "id": "21dcf79f"
   },
   "outputs": [],
   "source": [
    "train_bgi = build_gray_images(X_train, 5, matrix_indexes)\n",
    "test_bgi  = build_gray_images(X_test, 5, matrix_indexes)\n",
    "\n",
    "pd.DataFrame(train_bgi[:,:,1057])"
   ]
  },
  {
   "cell_type": "markdown",
   "id": "_5saNqHWX4C_",
   "metadata": {
    "id": "_5saNqHWX4C_"
   },
   "source": [
    "## Reshape de imágenes"
   ]
  },
  {
   "cell_type": "code",
   "execution_count": null,
   "id": "bbdca6dd",
   "metadata": {
    "id": "bbdca6dd",
    "scrolled": true
   },
   "outputs": [],
   "source": [
    "train_images = shape_images(X_data = X_train,\n",
    "                            gray_images = train_bgi)\n",
    "test_images  = shape_images(X_data = X_test,\n",
    "                            gray_images = test_bgi)"
   ]
  },
  {
   "cell_type": "code",
   "execution_count": null,
   "id": "15a5e9c9",
   "metadata": {
    "id": "15a5e9c9"
   },
   "outputs": [],
   "source": [
    "plt.gray()\n",
    "for i in range(0,3):\n",
    "    plt.figure(figsize=(3, 3))\n",
    "    plt.imshow(train_bgi[:,:,i])\n",
    "    plt.show()"
   ]
  },
  {
   "cell_type": "code",
   "execution_count": null,
   "id": "ad520774-b249-4575-855a-4a4fee307bd5",
   "metadata": {},
   "outputs": [],
   "source": [
    "# !conda install scikit-image"
   ]
  },
  {
   "cell_type": "code",
   "execution_count": null,
   "id": "iu2JxxiUGkS3",
   "metadata": {
    "id": "iu2JxxiUGkS3"
   },
   "outputs": [],
   "source": [
    "from skimage.feature import hog\n",
    "resized_img = train_bgi[:,:,1]\n",
    "\n",
    "for i in range(0,3):\n",
    "  fd, hog_image = hog(train_bgi[:,:,i], orientations=9, pixels_per_cell=(2, 2),\n",
    "                    cells_per_block=(2, 2), visualize=True)\n",
    "  plt.figure(figsize=(3, 3))\n",
    "  plt.imshow(hog_image)\n",
    "  plt.show()"
   ]
  },
  {
   "cell_type": "code",
   "execution_count": null,
   "id": "609a9bfb",
   "metadata": {
    "id": "609a9bfb"
   },
   "outputs": [],
   "source": [
    "# input_shape = (5, 5)\n",
    "\n",
    "array_train_images = np.asarray(train_images)\n",
    "array_test_images  = np.asarray(test_images)"
   ]
  },
  {
   "cell_type": "markdown",
   "id": "3450b32b-4167-487f-b295-3d841ebfda70",
   "metadata": {},
   "source": []
  },
  {
   "cell_type": "code",
   "execution_count": null,
   "id": "ab443960-cace-48c5-ad61-2209386324f4",
   "metadata": {},
   "outputs": [],
   "source": [
    "# !conda install -c conda-forge tensorflow "
   ]
  },
  {
   "cell_type": "code",
   "execution_count": null,
   "id": "86d25939",
   "metadata": {
    "id": "86d25939"
   },
   "outputs": [],
   "source": []
  },
  {
   "cell_type": "code",
   "execution_count": null,
   "id": "cb121c88",
   "metadata": {
    "id": "cb121c88"
   },
   "outputs": [],
   "source": [
    "######### EN TERMINAL #########\n",
    "# !pip install tensorflow-addons"
   ]
  },
  {
   "cell_type": "markdown",
   "id": "fm72aQrpYW7V",
   "metadata": {
    "id": "fm72aQrpYW7V"
   },
   "source": [
    "## One-Hot"
   ]
  },
  {
   "cell_type": "code",
   "execution_count": null,
   "id": "01afbb97",
   "metadata": {
    "id": "01afbb97"
   },
   "outputs": [],
   "source": [
    "Y_train_onehot = casualty_to_one_hot(Y_train)\n",
    "Y_test_onehot  = casualty_to_one_hot(Y_test)"
   ]
  },
  {
   "cell_type": "markdown",
   "id": "V7Azjtl8gRth",
   "metadata": {
    "id": "V7Azjtl8gRth",
    "tags": [],
    "toc-hr-collapsed": true
   },
   "source": [
    "## Visualización de datos"
   ]
  },
  {
   "cell_type": "code",
   "execution_count": null,
   "id": "SzhUTtEti5oE",
   "metadata": {
    "id": "SzhUTtEti5oE"
   },
   "outputs": [],
   "source": [
    "# !conda install seaborn"
   ]
  },
  {
   "cell_type": "markdown",
   "id": "qKYh5EeThQ_7",
   "metadata": {
    "id": "qKYh5EeThQ_7",
    "tags": []
   },
   "source": [
    "### Matriz de correlación"
   ]
  },
  {
   "cell_type": "code",
   "execution_count": null,
   "id": "PLcI-nQShVR1",
   "metadata": {
    "id": "PLcI-nQShVR1"
   },
   "outputs": [],
   "source": [
    "# correlation_matrix(X_test)"
   ]
  },
  {
   "cell_type": "markdown",
   "id": "kISRP5AQhWTD",
   "metadata": {
    "id": "kISRP5AQhWTD",
    "tags": []
   },
   "source": [
    "### PCA"
   ]
  },
  {
   "cell_type": "code",
   "execution_count": null,
   "id": "f285158d-69c6-4dfc-b728-6d4bd4b7cf1c",
   "metadata": {
    "id": "f285158d-69c6-4dfc-b728-6d4bd4b7cf1c"
   },
   "outputs": [],
   "source": [
    "# pca(X_train, X_test)"
   ]
  },
  {
   "cell_type": "markdown",
   "id": "70370ce9-acc4-4fe7-bea0-c592909a305d",
   "metadata": {},
   "source": [
    "### TSNE"
   ]
  },
  {
   "cell_type": "code",
   "execution_count": null,
   "id": "58ec350b-8032-4ecc-a38e-9db86efb2bc2",
   "metadata": {},
   "outputs": [],
   "source": [
    "# output_file_name = './2d_test_tsne.jpg'\n",
    "# plot_TSNE(X_test, Y_test, n_components=2)\n",
    "\n",
    "# output_file_name = './2d_train_tsne.jpg'\n",
    "# plot_TSNE(X_train, Y_train, n_components=2)\n",
    "\n",
    "# output_file_name = './3d_test_tsne.jpg'\n",
    "# plot_TSNE(X_test, Y_test, n_components=3)\n",
    "\n",
    "# output_file_name = './3d_train_tsne.jpg'\n",
    "# plot_TSNE(X_train, Y_train, n_components=3)"
   ]
  },
  {
   "cell_type": "markdown",
   "id": "EkC9ryU4lFwg",
   "metadata": {
    "id": "EkC9ryU4lFwg",
    "toc-hr-collapsed": true
   },
   "source": [
    "### Autoencoder"
   ]
  },
  {
   "cell_type": "markdown",
   "id": "cCo2emMclT8h",
   "metadata": {
    "id": "cCo2emMclT8h",
    "tags": []
   },
   "source": [
    "#### Entrenamiento"
   ]
  },
  {
   "cell_type": "code",
   "execution_count": null,
   "id": "4xBSSjInlHj1",
   "metadata": {
    "id": "4xBSSjInlHj1"
   },
   "outputs": [],
   "source": [
    "X_train = array_train_images\n",
    "X_test = array_test_images\n",
    "\n",
    "X_train = X_train.reshape(len(array_train_images), 25)\n",
    "X_test  = X_test.reshape(len(X_test), 25)\n",
    "\n",
    "# autoencoder().fit(X_train, X_train,\n",
    "#                 epochs=15,\n",
    "#                 batch_size=32,\n",
    "#                 shuffle=True,\n",
    "#                 validation_data=(X_test, X_test))"
   ]
  },
  {
   "cell_type": "markdown",
   "id": "gJfbDNO5oB1N",
   "metadata": {
    "id": "gJfbDNO5oB1N"
   },
   "source": [
    "#### Visualización"
   ]
  },
  {
   "cell_type": "code",
   "execution_count": null,
   "id": "2NjR_MDJlXsJ",
   "metadata": {
    "id": "2NjR_MDJlXsJ"
   },
   "outputs": [],
   "source": [
    "# # create encoder model\n",
    "# encoder = Model(inputs=input_img, outputs=encoder2)\n",
    "# encoder.summary()\n",
    "# # create decoder model\n",
    "# encoded_input = Input(shape=(3,))\n",
    "# #lo que hace aqui es quedarse con las capas que corresponden al decodificador\n",
    "# decoder_layer1 = autoencoder.layers[-2]\n",
    "# decoder_layer2 = autoencoder.layers[-1]\n",
    "# decoder = Model(inputs=encoded_input, outputs=decoder_layer2(decoder_layer1(encoded_input)))\n",
    "# decoder.summary()\n",
    "# # si miramos la salida, son simetricos el uno respecto al otro\n",
    "# # encoder va de input a 3 y decoder de 3 a input\n",
    "\n",
    "# # get latent vector for visualization\n",
    "# latent_vector = encoder.predict(X_test)\n",
    "# # get decoder output to visualize reconstructed image\n",
    "# reconstructed_imgs = decoder.predict(latent_vector)\n",
    "\n",
    "\n",
    "# # visualize in 3D plot\n",
    "# from pylab import rcParams\n",
    "# from mpl_toolkits.mplot3d import Axes3D\n",
    "\n",
    "# rcParams['figure.figsize'] = 10, 8\n",
    "\n",
    "# fig = plt.figure(1)\n",
    "# ax = Axes3D(fig)\n",
    "\n",
    "# xs = latent_vector[:, 0]\n",
    "# ys = latent_vector[:, 1]\n",
    "# zs = latent_vector[:, 2]\n",
    "\n",
    "# color=['red','green','blue']\n",
    "\n",
    "# for x, y, z, label in zip(xs, ys, zs, Y_test):\n",
    "#     c = color[int(label)]\n",
    "#     ax.text(x, y, z, label, backgroundcolor=c)\n",
    "    \n",
    "# ax.set_xlim(xs.min(), xs.max())\n",
    "# ax.set_ylim(ys.min(), ys.max())\n",
    "# ax.set_zlim(zs.min(), zs.max())\n",
    "\n",
    "# # plt.show()\n",
    "\n",
    "# # X_test_encoded = encoder.predict(X_test, batch_size=32)\n",
    "# # plt.figure(figsize=(6, 6))\n",
    "# # plt.scatter(X_test_encoded[:, 0], X_test_encoded[:, 1], c=Y_test)\n",
    "# # plt.colorbar()\n",
    "# # plt.show()"
   ]
  },
  {
   "cell_type": "markdown",
   "id": "7a4EsWwQhe_i",
   "metadata": {
    "id": "7a4EsWwQhe_i",
    "jp-MarkdownHeadingCollapsed": true,
    "tags": []
   },
   "source": []
  },
  {
   "cell_type": "code",
   "execution_count": null,
   "id": "07b3666f-f387-4ce1-b0f7-f1e12e3a61e7",
   "metadata": {
    "id": "07b3666f-f387-4ce1-b0f7-f1e12e3a61e7",
    "tags": []
   },
   "outputs": [],
   "source": [
    "from sklearn.manifold import TSNE\n",
    "from sklearn.preprocessing import StandardScaler\n",
    "\n",
    "def plot_TSNE(X_data, Y_data, n_components, output_file_name=None):\n",
    "    X_data_scaled = StandardScaler().fit_transform(X_data)\n",
    "    z_data = TSNE(n_components=n_components).fit_transform(X_data_scaled)\n",
    "    # X_test_scaled = StandardScaler().fit_transform(X_test)\n",
    "    # z_test = TSNE(n_components=2).fit_transform(X_test_scaled)\n",
    "\n",
    "    palette = sns.color_palette(\"hls\", 3)\n",
    "    fig,ax  = plt.subplots(1,1,figsize=(15,10))\n",
    "    sns.scatterplot(x = z_data[:,0],\n",
    "                    y = z_data[:,1],\n",
    "                    hue = Y_data,\n",
    "                    palette = palette,\n",
    "                    legend = 'full')\n",
    "\n",
    "    if (output_file_name): plt.savefig('./Out/' + output_file_name)\n",
    "\n",
    "# output_file_name = './2d_test_tsne.jpg'\n",
    "# plot_TSNE(X_test, Y_test, n_components=2)\n",
    "\n",
    "# output_file_name = './2d_train_tsne.jpg'\n",
    "# plot_TSNE(X_train, Y_train, n_components=2)\n",
    "\n",
    "# output_file_name = './3d_test_tsne.jpg'\n",
    "# plot_TSNE(X_test, Y_test, n_components=3)\n",
    "\n",
    "# output_file_name = './3d_train_tsne.jpg'\n",
    "# plot_TSNE(X_train, Y_train, n_components=3)"
   ]
  },
  {
   "cell_type": "markdown",
   "id": "qWl5nEFhfoLX",
   "metadata": {
    "id": "qWl5nEFhfoLX",
    "toc-hr-collapsed": true
   },
   "source": [
    "## TASP-CNN"
   ]
  },
  {
   "cell_type": "markdown",
   "id": "81ilUM9ijCge",
   "metadata": {
    "id": "81ilUM9ijCge",
    "tags": []
   },
   "source": [
    "### Entrenamiento"
   ]
  },
  {
   "cell_type": "code",
   "execution_count": null,
   "id": "xQuI-4TFjBEV",
   "metadata": {
    "id": "xQuI-4TFjBEV"
   },
   "outputs": [],
   "source": [
    "input_train_shape = (len(array_train_images), 5, 5, 1)\n",
    "input_test_shape = (len(array_test_images), 5, 5, 1)\n",
    "\n",
    "array_train_images.reshape(input_train_shape)\n",
    "array_test_images.reshape(input_test_shape)\n",
    "\n",
    "# history = tasp_cnn.fit(array_train_images, Y_train_onehot,\n",
    "#                     batch_size = 128, epochs = 100, shuffle = True,\n",
    "#                     validation_data = (array_test_images, Y_test_onehot))\n",
    "\n",
    "# tasp_cnn.save(root_path + 'model.h5')\n",
    "\n",
    "# history"
   ]
  },
  {
   "cell_type": "markdown",
   "id": "aczocEwOkHlA",
   "metadata": {
    "id": "aczocEwOkHlA"
   },
   "source": [
    "### Carga de modelo pre-entrenado"
   ]
  },
  {
   "cell_type": "code",
   "execution_count": null,
   "id": "v6rxkwFlkNz7",
   "metadata": {
    "id": "v6rxkwFlkNz7"
   },
   "outputs": [],
   "source": [
    "# tasp_cnn = tf.keras.models.load_model(root_path + 'model.h5')"
   ]
  },
  {
   "cell_type": "markdown",
   "id": "O548TVkJjpp5",
   "metadata": {
    "id": "O548TVkJjpp5"
   },
   "source": [
    "### Resultados"
   ]
  },
  {
   "cell_type": "code",
   "execution_count": null,
   "id": "8NivdSBoMFZE",
   "metadata": {
    "id": "8NivdSBoMFZE"
   },
   "outputs": [],
   "source": [
    "# from sklearn.metrics import classification_report\n",
    "\n",
    "# Y_labels = one_hot_to_casualty(Y_test)\n",
    "\n",
    "# ########################################################################\n",
    "\n",
    "# # Plot history: F1 SCORE\n",
    "# # figure_name = plt.figure(figsize=(20, 10))\n",
    "# # plt.plot(history.history['f1_score'], label='F1 score (training data)')\n",
    "# # plt.plot(history.history['val_f1_score'], label='F1 score (validation data)')\n",
    "# # plt.title('F1 score')\n",
    "# # plt.ylabel('F1 score value')\n",
    "# # plt.xlabel('No. epoch')\n",
    "# # plt.legend(loc=\"upper left\")\n",
    "# # plt.savefig('./conv-conv.jpg')\n",
    "# # plt.show()\n",
    "\n",
    "# # print(history)\n",
    "\n",
    "# ########################################################################\n",
    "\n",
    "# # evaluate the network\n",
    "# print(\"[INFO] evaluating network...\")\n",
    "# predictions = tasp_cnn.predict(x=array_test_images, batch_size=128)\n",
    "# print(classification_report(tf.argmax(Y_test_onehot, axis=1),\n",
    "# \t                          predictions.argmax(axis=1),\n",
    "#                             target_names = Y_labels.unique()))"
   ]
  },
  {
   "cell_type": "code",
   "execution_count": null,
   "id": "MN7Z-wpijxcE",
   "metadata": {
    "id": "MN7Z-wpijxcE"
   },
   "outputs": [],
   "source": [
    "# import tensorflow as tf\n",
    "# from sklearn.metrics import classification_report\n",
    "\n",
    "# predictions = xgboost.predict(X_test)\n",
    "# predictions"
   ]
  },
  {
   "cell_type": "code",
   "execution_count": null,
   "id": "2aa9e577-d044-4f75-9682-619dcd7dabb7",
   "metadata": {
    "id": "2aa9e577-d044-4f75-9682-619dcd7dabb7"
   },
   "outputs": [],
   "source": [
    "# prediction_string = [str(prediction) for prediction in predictions]\n",
    "# pd.DataFrame(prediction_string).value_counts()"
   ]
  },
  {
   "cell_type": "markdown",
   "id": "oMQbX1j_zVOO",
   "metadata": {
    "id": "oMQbX1j_zVOO",
    "tags": []
   },
   "source": [
    "# Madrid Data"
   ]
  },
  {
   "cell_type": "markdown",
   "id": "pG-PDMY6zdqE",
   "metadata": {
    "id": "pG-PDMY6zdqE",
    "tags": [],
    "toc-hr-collapsed": true
   },
   "source": [
    "## Importación de datos"
   ]
  },
  {
   "cell_type": "markdown",
   "id": "wlkJKFfzBd8g",
   "metadata": {
    "id": "wlkJKFfzBd8g"
   },
   "source": [
    "- [Web Dataset](https://datos.madrid.es/portal/site/egob/menuitem.c05c1f754a33a9fbe4b2e4b284f1a5a0/?vgnextoid=7c2843010d9c3610VgnVCM2000001f4a900aRCRD&vgnextchannel=374512b9ace9f310VgnVCM100000171f5a0aRCRD&vgnextfmt=default)\n",
    "\n",
    "- [Web documentación](https://datos.madrid.es/FWProjects/egob/Catalogo/Seguridad/Ficheros/Estructura_DS_Accidentes_trafico_desde_2019.pdf)\n",
    "\n"
   ]
  },
  {
   "cell_type": "code",
   "execution_count": 85,
   "id": "Ic0tgQy47zEr",
   "metadata": {
    "id": "Ic0tgQy47zEr"
   },
   "outputs": [],
   "source": [
    "import pandas as pd\n",
    "\n",
    "MODEL_VERSION = '_v6'\n",
    "\n",
    "# root_path = '/content/drive/Othercomputers/Mi portátil/Drive/Master UA/TFM/Incidentes de Trafico/Datasets/Madrid/'\n",
    "\n",
    "root_path = './Data/Madrid/'\n",
    "\n",
    "file_name_2019 = '2019_Accidentalidad.csv'\n",
    "file_name_2020 = '2020_Accidentalidad.csv'\n",
    "file_name_2021 = '2021_Accidentalidad.csv'\n",
    "file_name_2022 = '2022_Accidentalidad.csv'\n",
    "\n",
    "file_2019 = pd.read_csv(root_path + file_name_2019, sep=';')\n",
    "file_2020 = pd.read_csv(root_path + file_name_2020, sep=';')\n",
    "file_2021 = pd.read_csv(root_path + file_name_2021, sep=';')\n",
    "file_2022 = pd.read_csv(root_path + file_name_2022, sep=';')\n",
    "\n",
    "# print(len(file_2019[file_2019.cod_lesividad == 4]))\n",
    "# print(len(file_2020[file_2020.cod_lesividad == 4]))\n",
    "# print(len(file_2021[file_2021.lesividad == '4']))\n",
    "# print(len(file_2022[file_2022.lesividad == '4']))\n",
    "\n",
    "COLUMNS_TO_REMOVE = ['cod_distrito',\n",
    "                     'tipo_lesividad'\n",
    "                    ]\n",
    "\n",
    "data_frame = file_2019\n",
    "data_frame = pd.concat([data_frame, file_2020])\n",
    "\n",
    "data_frame.rename(columns={\"cod_lesividad\": \"lesividad\"}, inplace = True)\n",
    "data_frame.rename(columns={\"tipo_vehículo\": \"tipo_vehiculo\"}, inplace = True)\n",
    "data_frame = data_frame.drop(COLUMNS_TO_REMOVE, axis=1)\n",
    "\n",
    "data_frame = pd.concat([data_frame, file_2021])\n",
    "\n",
    "data_frame.dropna(subset=['lesividad'], inplace = True)\n",
    "data_frame.lesividad = data_frame.lesividad.replace(' ', 14).astype(int)\n",
    "data_frame = data_frame.reset_index(drop=True)"
   ]
  },
  {
   "cell_type": "markdown",
   "id": "5PmJpoCCcxMJ",
   "metadata": {
    "id": "5PmJpoCCcxMJ"
   },
   "source": [
    "### Calcular Vehículos implicados"
   ]
  },
  {
   "cell_type": "markdown",
   "id": "utgDSVryALnm",
   "metadata": {
    "id": "utgDSVryALnm"
   },
   "source": [
    "A partir del número de expediente (un mismo expediente en varias filas quiere decir que se trata del mismo accidente) se hace un `groupby` a partir de él. Como el atributo `positiva_alcohol` no tiene valores nulos en ninguna de las filas, hacemos un conteo a partir de él y se asigna a una nueva columna `positiva_alcohol_rename` que posteriormente será renombrada como `vehiculos_implicados`"
   ]
  },
  {
   "cell_type": "code",
   "execution_count": 86,
   "id": "qy9UBWGFan1j",
   "metadata": {
    "id": "qy9UBWGFan1j"
   },
   "outputs": [],
   "source": [
    "data_frame = data_frame.join(data_frame.groupby('num_expediente')['positiva_alcohol'].count(), on='num_expediente', rsuffix='_rename')\n",
    "data_frame.rename(columns={\"positiva_alcohol_rename\": \"vehiculos_implicados\"}, errors=\"raise\", inplace=True)"
   ]
  },
  {
   "cell_type": "markdown",
   "id": "e3lX-EnJ1aby",
   "metadata": {
    "id": "e3lX-EnJ1aby",
    "tags": [],
    "toc-hr-collapsed": true
   },
   "source": [
    "## Limpieza de datos"
   ]
  },
  {
   "cell_type": "markdown",
   "id": "ybjvOI7x0PKz",
   "metadata": {
    "id": "ybjvOI7x0PKz"
   },
   "source": [
    "### Clasificación de carreteras"
   ]
  },
  {
   "cell_type": "code",
   "execution_count": 87,
   "id": "7da252aZ0N3n",
   "metadata": {
    "id": "7da252aZ0N3n"
   },
   "outputs": [],
   "source": [
    "######################### SIGUIENTE CELDA #########################\n",
    "\n",
    "# Unclassified: Carreteras locales sin destino definido. Sin embargo, los destinos locales pueden estar señalizados a lo largo de ellos.\n",
    "# A, A(M) y Motorway lo mismo?\n",
    "# B:            De carácter regional y utilizado para conectar zonas de menor importancia.\n",
    "#               Por lo general, se muestran de color marrón o amarillo en los mapas y tienen las mismas señales blancas que las rutas de clase A que no son primarias.\n",
    "#               Si la ruta es primaria, como la B6261, se mostrará igual que una ruta Clase A primaria.\n",
    "#               ¿Carretera como tal?\n",
    "\n",
    "# C:            Designaciones de autoridades locales para rutas dentro de su área con fines administrativos.\n",
    "#               Estas rutas no se muestran en mapas de carreteras a pequeña escala, pero se sabe que ocasionalmente aparecen en las señales de tráfico.\n",
    "\n",
    "# Unclassified\n",
    "street_regex  = ('CALL.|Calle|CALLE|c/|C/|C.|calle|'\n",
    "                 'AVDA|AV|AVENIDA|AVDA|avenida|Avda.|'\n",
    "                 'PASEO|paseo|'\n",
    "                 'PARQUE|PQUE|'\n",
    "                 'RONDA|'\n",
    "                 'PUERTA|PTA|Puerta|'\n",
    "                 'PNTE|PUENTE|'\n",
    "                 'PLAZA|PZA|'\n",
    "                 'CMNO|CAMINO|'\n",
    "                 'BULE|'\n",
    "                 'TRVA|'\n",
    "                 'CUSTA|CUESTA|'\n",
    "                 'GTA|gta|GLORIETA|glorieta|ROTONDA|'\n",
    "                 'AEROPUERTO|AEROP'\n",
    ")\n",
    "\n",
    "highway_regex = 'AUTOV.|autovia|A-|M-|M 30|m 30|A\\\\d|M 23|M23' # A,A(M),Motorway\n",
    "road_regex = 'CTRA.|CARRETERA|carretera|CRA.|CALZADA|POLIGONO' # B\n",
    "\n",
    "street_indexes  = data_frame[data_frame.localizacion.str.contains(street_regex,  case = True, regex=True)].index\n",
    "highway_indexes = data_frame[data_frame.localizacion.str.contains(highway_regex, case = True, regex=True)].index\n",
    "road_indexes    = data_frame[data_frame.localizacion.str.contains(road_regex, case = True, regex=True)].index\n",
    "# avenue_indexes  = data_frame[data_frame.localizacion.str.contains(avenue_regex,  case = True, regex=True)].index\n",
    "# ride_indexes    = data_frame[data_frame.localizacion.str.contains(ride_regex, case = True, regex=True)].index\n",
    "\n",
    "data_frame['tipo_via'] = 'N/A'\n",
    "\n",
    "data_frame.iloc[street_indexes,  data_frame.columns.get_loc('tipo_via')] = 'Unclassified'\n",
    "data_frame.iloc[highway_indexes, data_frame.columns.get_loc('tipo_via')] = 'A'\n",
    "data_frame.iloc[road_indexes, data_frame.columns.get_loc('tipo_via')] = 'B'\n",
    "# data_frame.iloc[ride_indexes, data_frame.columns.get_loc('tipo_via')] = 'AVENIDA'\n",
    "# data_frame.iloc[avenue_indexes,  data_frame.columns.get_loc('tipo_via')] = 'AVENIDA'\n",
    "\n",
    "\n",
    "data_frame.iloc[highway_indexes, data_frame.columns.get_loc('localizacion')] = 1\n",
    "data_frame.iloc[road_indexes, data_frame.columns.get_loc('localizacion')] = 2\n",
    "data_frame.iloc[street_indexes,  data_frame.columns.get_loc('localizacion')] = 3\n",
    "# data_frame.iloc[avenue_indexes,  data_frame.columns.get_loc('localizacion')] = '3'\n",
    "# data_frame.iloc[ride_indexes, data_frame.columns.get_loc('localizacion')] = '5'\n",
    "\n",
    "positive_drug_indexes = data_frame[data_frame.positiva_droga == 1].index\n",
    "data_frame.iloc[positive_drug_indexes, data_frame.columns.get_loc('positiva_alcohol')] = 'S'\n",
    "\n",
    "data_frame = data_frame[~(data_frame.tipo_via == 'N/A')]\n",
    "# print(data_frame.localizacion.unique())"
   ]
  },
  {
   "cell_type": "markdown",
   "id": "bc350245-b09e-4de1-9ecb-3d2f8d60ba7e",
   "metadata": {
    "tags": []
   },
   "source": [
    "Consideraciones:\n",
    "\n",
    "- Los patinetes se han considerado como ciclomotres de menos de 50cc.\n",
    "- Las furgonetas se consideran como vehículos de menos de 3.5 toneladas.\n",
    "- Maquinaria de obras se considera la misma tipología que maquinaria agrícola.\n",
    "- Cuadriciclos ligeros y no ligeros se consideran como `Motorcycle-Unknown CC`.\n",
    "- Patinetes y Vehículos de Mobilidad Urbana se consideran como `Mobility Scooters`.\n",
    "- `Vehículo articulado` se considera como un vehículo de más de 7.5 toneladas."
   ]
  },
  {
   "cell_type": "code",
   "execution_count": 88,
   "id": "RwdUhUHc1Up4",
   "metadata": {
    "id": "RwdUhUHc1Up4",
    "tags": []
   },
   "outputs": [
    {
     "name": "stdout",
     "output_type": "stream",
     "text": [
      "Estado meteorológico: \n",
      " 1.0    50782\n",
      "3.0     3939\n",
      "2.0     2932\n",
      "7.0      915\n",
      "4.0      800\n",
      "6.0       81\n",
      "5.0       18\n",
      "Name: estado_meteorológico, dtype: int64\n",
      "Tipo vehículo: \n",
      " 5.0     38947\n",
      "3.0      5645\n",
      "4.0      4866\n",
      "9.0      3554\n",
      "1.0      2144\n",
      "6.0      1909\n",
      "2.0      1420\n",
      "12.0     1188\n",
      "13.0      509\n",
      "15.0      394\n",
      "8.0       112\n",
      "14.0       42\n",
      "11.0        9\n",
      "10.0        2\n",
      "7.0         1\n",
      "Name: tipo_vehiculo, dtype: int64\n",
      "Tipo de persona: \n",
      " 1.0    45898\n",
      "2.0    11382\n",
      "3.0     3517\n",
      "Name: tipo_persona, dtype: int64\n",
      "Sexo: \n",
      " 1    40267\n",
      "2    20293\n",
      "3      242\n",
      "Name: sexo, dtype: int64\n",
      "Positivo Alcohol: \n",
      " 2    59274\n",
      "1     1528\n",
      "Name: positiva_alcohol, dtype: int64\n",
      "Gravedad: \n",
      " Slight     59436\n",
      "Serious     1278\n",
      "Fatal         83\n",
      "77             5\n",
      "Name: lesividad, dtype: int64\n",
      "Edad: \n",
      " 3    47007\n",
      "2     6832\n",
      "4     3949\n",
      "1     2698\n",
      "5      316\n",
      "Name: rango_edad, dtype: int64\n",
      "hora: 1    36966\n",
      "2    23836\n",
      "Name: hora, dtype: int64\n",
      "Distrito: \n",
      " 4.0     5167\n",
      "7.0     4426\n",
      "19.0    4311\n",
      "2.0     3925\n",
      "12.0    3699\n",
      "14.0    3412\n",
      "15.0    3330\n",
      "0.0     3197\n",
      "20.0    3188\n",
      "6.0     3181\n",
      "10.0    3027\n",
      "9.0     2963\n",
      "1.0     2788\n",
      "17.0    2697\n",
      "8.0     2471\n",
      "16.0    2150\n",
      "11.0    1776\n",
      "3.0     1647\n",
      "5.0     1595\n",
      "13.0     967\n",
      "18.0     880\n",
      "Name: distrito, dtype: int64\n",
      "Tipo Accidente: \n",
      " 2     17014\n",
      "4     15035\n",
      "6      6701\n",
      "0      6449\n",
      "3      6110\n",
      "8      4050\n",
      "1      3049\n",
      "5      1499\n",
      "11      440\n",
      "7       207\n",
      "10      175\n",
      "9        69\n",
      "12        4\n",
      "Name: tipo_accidente, dtype: int64\n"
     ]
    }
   ],
   "source": [
    "weather_conditions_replace = {\n",
    "    'Despejado': 1,\n",
    "    'Nublado': 2,\n",
    "    'Lluvia débil': 3,\n",
    "    'LLuvia intensa': 4,\n",
    "    'Granizando':  5,\n",
    "    'Nevando': 6,\n",
    "    'Se desconoce': 7 \n",
    "}\n",
    "\n",
    "## CUIDADO CON Motocicleta hasta 125cc!!! HEMOS SUPUESTO QUE LOS CICLOMOTORES SON HASTA 50CC!!\n",
    "type_of_vehicle_replace = {\n",
    "    'Bicicleta': 1,\n",
    "    'Ciclo': 1,\n",
    "    'Bicicleta EPAC (pedaleo asistido)': 1,\n",
    "    'Ciclomotor': 2,\n",
    "    'Ciclomotor de dos ruedas L1e-B': 2,\n",
    "    'Ciclomotor de tres ruedas': 2,\n",
    "    'Motocicleta hasta 125cc': 3,\n",
    "    'Moto de tres ruedas hasta 125cc': 3,\n",
    "    'Motocicleta > 125cc': 4,\n",
    "    'Moto de tres ruedas > 125cc': 4,\n",
    "    'Turismo': 5,\n",
    "    'Todo terreno': 5,\n",
    "    'Microbús <= 17 plazas': 5,\n",
    "    'Autobús': 6,\n",
    "    'Autobus EMT': 6,\n",
    "    'Autobús articulado': 6,\n",
    "    'Autobús articulado EMT': 6,\n",
    "    'Maquinaria agrícola': 7,\n",
    "    'Maquinaria de obras': 8,\n",
    "    'Furgoneta': 9,        # Menos de 3.5 toneladas.\n",
    "    'Ambulancia SAMUR': 10,\n",
    "    'Autocaravana': 11,     # Entre 3.5 y 7.5 toneladas.\n",
    "    'Camión rígido': 12,    # Mayor que 7.5 toneladas.\n",
    "    'Tractocamión': 12,\n",
    "    'Vehículo articulado': 12,\n",
    "    'Camión de bomberos': 12,\n",
    "    'VMU eléctrico': 13,\n",
    "    'Patinete': 13,\n",
    "    'Sin especificar': 14,\n",
    "    'Otros vehículos sin motor': 14,\n",
    "    'Remolque': 14,\n",
    "    'Semiremolque': 14,\n",
    "    'Otros vehículos con motor': 15,\n",
    "    'Cuadriciclo ligero': 15,\n",
    "    'Cuadriciclo no ligero': 15,\n",
    "    'Motorcycle - Unknown CC': 15\n",
    "}\n",
    "\n",
    "# type_of_vehicle_replace = {}\n",
    "# for index,tipo_vehiculo in enumerate(data_frame.tipo_vehiculo.unique()):\n",
    "#     if not pd.isna(tipo_vehiculo): type_of_vehicle_replace[tipo_vehiculo] = index\n",
    "\n",
    "casualty_class_replace = {\n",
    "    'Conductor': 1,\n",
    "    'Pasajero': 2,\n",
    "    'Peatón': 3\n",
    "}\n",
    "\n",
    "### CUIDADO CON DESCONOCIDO!!! MEJOR HACER IMPUTACIÓN PARA RELLENENAR LOS DESCONOCIDOS?\n",
    "sex_of_casualty_replace = {\n",
    "    'Hombre': 1,\n",
    "    'Mujer': 2,\n",
    "    'Desconocido': 3\n",
    "}\n",
    "\n",
    "accident_type_replace = {\n",
    "    'Colisión fronto-lateral': 1,\n",
    "    'Alcance': 2,\n",
    "    'Colisión lateral': 3,\n",
    "    'Choque contra obstáculo fijo': 4,\n",
    "    'Colisión múltiple': 5,\n",
    "    'Caída': 5,\n",
    "    'Atropello a persona': 6,\n",
    "    'Colisión frontal': 7,\n",
    "    'Otro': 8,\n",
    "    'Solo salida de la vía': 9,\n",
    "    'Vuelco': 10,\n",
    "    'Atropello a animal': 11,\n",
    "    'Despeñamiento': 12\n",
    "}\n",
    "\n",
    "alcohol_replace = {\n",
    "    'S': 1,\n",
    "    'N': 2,\n",
    "}\n",
    "\n",
    "accident_class_replace = {\n",
    "    1:  'Slight',  # Atención en urgencias sin posterior ingreso. - LEVE\n",
    "    2:  'Slight',  # Ingreso inferior o igual a 24 horas - LEVE\n",
    "    5:  'Slight',  # Asistencia sanitaria ambulatoria con posterioridad - LEVE\n",
    "    6:  'Slight',  # Asistencia sanitaria inmediata en centro de salud o mutua - LEVE\n",
    "    7:  'Slight',  # Asistencia sanitaria sólo en el lugar del accidente - LEVE\n",
    "    14: 'Slight',  # Sin asistencia sanitaria - LEVE O NADA\n",
    "    3:  'Serious', # Ingreso superior a 24 horas. - GRAVE\n",
    "    4:  'Fatal'    # Fallecido 24 horas - FALLECIDO \n",
    "}\n",
    "###################### REEMPLAZOS ######################\n",
    "\n",
    "# ### OJO QUE ESTAMOS REPLICANDO LA ESTRUCTURA DEL DATASET DE LEEDS\n",
    "age_replace = {\n",
    "    'Menor de 5 años': 1,\n",
    "    'De 6 a 9 años': 1,\n",
    "    'De 6  a  9 años': 1,\n",
    "    'De 10 a 14 años': 1,\n",
    "    'De 15 a 17 años': 1,\n",
    "    'De 18 a 20 años': 2,\n",
    "    'De 21 a 24 años': 2,\n",
    "    'De 25 a 29 años': 3,\n",
    "    'De 30 a 34 años': 3,\n",
    "    'De 35 a 39 años': 3,\n",
    "    'De 40 a 44 años': 3,\n",
    "    'De 45 a 49 años': 3,\n",
    "    'De 50 a 54 años': 3,\n",
    "    'De 55 a 59 años': 3,\n",
    "    'De 60 a 64 años': 3,\n",
    "    'De 65 a 69 años': 4,\n",
    "    'De 70 a 74 años': 4,\n",
    "    'Más de 74 años': 4,\n",
    "    'Desconocido': 5,\n",
    "}\n",
    "\n",
    "### OJO QUE ESTAMOS REPLICANDO LA ESTRUCTURA DEL DATASET DE LEEDS\n",
    "# age_replace = {\n",
    "#     'Menor de 5 años': 1,\n",
    "#     'De 6 a 9 años': 2,\n",
    "#     'De 6  a  9 años': 3,\n",
    "#     'De 10 a 14 años': 4,\n",
    "#     'De 15 a 17 años': 5,\n",
    "#     'De 18 a 20 años': 6,\n",
    "#     'De 21 a 24 años': 7,\n",
    "#     'De 25 a 29 años': 8,\n",
    "#     'De 30 a 34 años': 9,\n",
    "#     'De 35 a 39 años': 10,\n",
    "#     'De 40 a 44 años': 11,\n",
    "#     'De 45 a 49 años': 12,\n",
    "#     'De 50 a 54 años': 13,\n",
    "#     'De 55 a 59 años': 14,\n",
    "#     'De 60 a 64 años': 15,\n",
    "#     'De 65 a 69 años': 16,\n",
    "#     'De 70 a 74 años': 17,\n",
    "#     'Más de 74 años': 18,\n",
    "#     'Desconocido': 19,\n",
    "# }\n",
    "\n",
    "data_frame['estado_meteorológico'].replace(weather_conditions_replace, inplace = True)\n",
    "print('Estado meteorológico: \\n', data_frame['estado_meteorológico'].value_counts())\n",
    "\n",
    "data_frame['tipo_vehiculo'].replace(type_of_vehicle_replace, inplace = True)\n",
    "print('Tipo vehículo: \\n', data_frame['tipo_vehiculo'].value_counts())\n",
    "\n",
    "data_frame['tipo_persona'].replace(casualty_class_replace, inplace = True)\n",
    "print('Tipo de persona: \\n', data_frame['tipo_persona'].value_counts())\n",
    "\n",
    "data_frame['sexo'].replace(sex_of_casualty_replace, inplace = True)\n",
    "print('Sexo: \\n', data_frame['sexo'].value_counts())\n",
    "\n",
    "data_frame['positiva_alcohol'].replace(alcohol_replace, inplace = True)\n",
    "print('Positivo Alcohol: \\n', data_frame['positiva_alcohol'].value_counts())\n",
    "\n",
    "data_frame['lesividad'].replace(accident_class_replace, inplace = True)\n",
    "print('Gravedad: \\n', data_frame['lesividad'].value_counts())\n",
    "\n",
    "data_frame['rango_edad'].replace(age_replace, inplace = True)\n",
    "print('Edad: \\n', data_frame['rango_edad'].value_counts())\n",
    "\n",
    "data_frame.hora = data_frame.hora.mask(pd.to_datetime(data_frame.hora) < '06:00:00', 2)\n",
    "data_frame.hora = data_frame.hora.mask(pd.to_datetime(data_frame.hora) > '18:00:00', 2)\n",
    "data_frame.hora = data_frame.hora.mask(pd.to_datetime(data_frame.hora).between('06:00:00', '18:00:00'), 1)\n",
    "print('hora:', data_frame['hora'].value_counts())\n",
    "\n",
    "district_replace = {}\n",
    "for index,distrito in enumerate(data_frame.distrito.unique()):\n",
    "  if not pd.isna(distrito): district_replace[distrito] = int(index)\n",
    "\n",
    "accident_type_replace = {}\n",
    "for index,accident_type in enumerate(data_frame.tipo_accidente.unique()):\n",
    "    if not pd.isna(accident_type): accident_type_replace[accident_type] = int(index)\n",
    "\n",
    "data_frame['distrito'].replace(district_replace, inplace = True)\n",
    "print('Distrito: \\n', data_frame['distrito'].value_counts())\n",
    "\n",
    "data_frame['tipo_accidente'].replace(accident_type_replace, inplace = True)\n",
    "print('Tipo Accidente: \\n', data_frame['tipo_accidente'].value_counts())\n",
    "\n",
    "# Eliminamos aquellas lesividades desconocidas i.e. 77.\n",
    "data_frame = data_frame[data_frame.lesividad != 77]"
   ]
  },
  {
   "cell_type": "markdown",
   "id": "pVPFGQ0AoNRD",
   "metadata": {
    "id": "pVPFGQ0AoNRD"
   },
   "source": [
    "### Coordenadas UTM a números enteros"
   ]
  },
  {
   "cell_type": "markdown",
   "id": "nabg28LMAHhW",
   "metadata": {
    "id": "nabg28LMAHhW"
   },
   "source": [
    "Las coordenadas UTM son coordenads que están expresadas en término de X e Y partiendo de la base de que parten desde una determinada localización. Estas coordenadas constan de una parte entera y una decimal.\n",
    "\n",
    "En este dataset el formato que presentan estas coordenadas pueden ser de tres tipos:\n",
    "\n",
    "- **XXX.XXX.XXX**: en este caso los seis primeros dígitos forman la parte entera y los tres útlimos la parte decimal.\n",
    "- **XXXXXX,XX**: los seis primeros dígitos indican la parte entera, mientras que tras la coma aparecen dos dígitos de la parte decimal que habrá que completar añadiendo uno más.\n",
    "- **XXXXXX**: indican la parte entera, sin contar con la parte decimal.\n",
    "\n",
    "Por lo que el objetivo es estandarizar todos los formatos convirtiendo cada una de las coordenadas a un número entero, siendo necesario tratar con cada una de las casuísticas para añadir ceros a la derecha en caso de que falten para que cada una de las coordenadas tenga la misma longitud."
   ]
  },
  {
   "cell_type": "code",
   "execution_count": 89,
   "id": "sgVHBwC0Fd1N",
   "metadata": {
    "id": "sgVHBwC0Fd1N",
    "tags": []
   },
   "outputs": [
    {
     "name": "stderr",
     "output_type": "stream",
     "text": [
      "/tmp/ipykernel_18380/1802693479.py:38: FutureWarning: The default value of regex will change from True to False in a future version. In addition, single character regular expressions will *not* be treated as literal strings when regex=True.\n",
      "  selected_rows_x1.Integer = selected_rows_x1.Integer.str.replace('.','')\n",
      "/tmp/ipykernel_18380/1802693479.py:38: SettingWithCopyWarning: \n",
      "A value is trying to be set on a copy of a slice from a DataFrame.\n",
      "Try using .loc[row_indexer,col_indexer] = value instead\n",
      "\n",
      "See the caveats in the documentation: https://pandas.pydata.org/pandas-docs/stable/user_guide/indexing.html#returning-a-view-versus-a-copy\n",
      "  selected_rows_x1.Integer = selected_rows_x1.Integer.str.replace('.','')\n",
      "/tmp/ipykernel_18380/1802693479.py:39: SettingWithCopyWarning: \n",
      "A value is trying to be set on a copy of a slice from a DataFrame.\n",
      "Try using .loc[row_indexer,col_indexer] = value instead\n",
      "\n",
      "See the caveats in the documentation: https://pandas.pydata.org/pandas-docs/stable/user_guide/indexing.html#returning-a-view-versus-a-copy\n",
      "  selected_rows_x2.Number  = selected_rows_x2.Number.str.replace(',','.')\n",
      "/tmp/ipykernel_18380/1802693479.py:41: FutureWarning: The default value of regex will change from True to False in a future version. In addition, single character regular expressions will *not* be treated as literal strings when regex=True.\n",
      "  selected_rows_y1.Integer = selected_rows_y1.Integer.str.replace('.','')\n",
      "/tmp/ipykernel_18380/1802693479.py:41: SettingWithCopyWarning: \n",
      "A value is trying to be set on a copy of a slice from a DataFrame.\n",
      "Try using .loc[row_indexer,col_indexer] = value instead\n",
      "\n",
      "See the caveats in the documentation: https://pandas.pydata.org/pandas-docs/stable/user_guide/indexing.html#returning-a-view-versus-a-copy\n",
      "  selected_rows_y1.Integer = selected_rows_y1.Integer.str.replace('.','')\n",
      "/tmp/ipykernel_18380/1802693479.py:42: SettingWithCopyWarning: \n",
      "A value is trying to be set on a copy of a slice from a DataFrame.\n",
      "Try using .loc[row_indexer,col_indexer] = value instead\n",
      "\n",
      "See the caveats in the documentation: https://pandas.pydata.org/pandas-docs/stable/user_guide/indexing.html#returning-a-view-versus-a-copy\n",
      "  selected_rows_y2.Number  = selected_rows_y2.Number.str.replace(',','.')\n",
      "/tmp/ipykernel_18380/1802693479.py:46: SettingWithCopyWarning: \n",
      "A value is trying to be set on a copy of a slice from a DataFrame.\n",
      "Try using .loc[row_indexer,col_indexer] = value instead\n",
      "\n",
      "See the caveats in the documentation: https://pandas.pydata.org/pandas-docs/stable/user_guide/indexing.html#returning-a-view-versus-a-copy\n",
      "  selected_rows_x1['processed_x_utm'] = selected_rows_x1.Integer + selected_rows_x1.Float\n",
      "/tmp/ipykernel_18380/1802693479.py:47: SettingWithCopyWarning: \n",
      "A value is trying to be set on a copy of a slice from a DataFrame.\n",
      "Try using .loc[row_indexer,col_indexer] = value instead\n",
      "\n",
      "See the caveats in the documentation: https://pandas.pydata.org/pandas-docs/stable/user_guide/indexing.html#returning-a-view-versus-a-copy\n",
      "  selected_rows_x2['processed_x_utm'] = selected_rows_x2.Number\n",
      "/tmp/ipykernel_18380/1802693479.py:48: SettingWithCopyWarning: \n",
      "A value is trying to be set on a copy of a slice from a DataFrame.\n",
      "Try using .loc[row_indexer,col_indexer] = value instead\n",
      "\n",
      "See the caveats in the documentation: https://pandas.pydata.org/pandas-docs/stable/user_guide/indexing.html#returning-a-view-versus-a-copy\n",
      "  selected_rows_x3['processed_x_utm'] = selected_rows_x3.Number\n",
      "/tmp/ipykernel_18380/1802693479.py:50: SettingWithCopyWarning: \n",
      "A value is trying to be set on a copy of a slice from a DataFrame.\n",
      "Try using .loc[row_indexer,col_indexer] = value instead\n",
      "\n",
      "See the caveats in the documentation: https://pandas.pydata.org/pandas-docs/stable/user_guide/indexing.html#returning-a-view-versus-a-copy\n",
      "  selected_rows_y1['processed_y_utm'] = selected_rows_y1.Integer + selected_rows_y1.Float\n",
      "/tmp/ipykernel_18380/1802693479.py:51: SettingWithCopyWarning: \n",
      "A value is trying to be set on a copy of a slice from a DataFrame.\n",
      "Try using .loc[row_indexer,col_indexer] = value instead\n",
      "\n",
      "See the caveats in the documentation: https://pandas.pydata.org/pandas-docs/stable/user_guide/indexing.html#returning-a-view-versus-a-copy\n",
      "  selected_rows_y2['processed_y_utm'] = selected_rows_y2.Number\n",
      "/tmp/ipykernel_18380/1802693479.py:52: SettingWithCopyWarning: \n",
      "A value is trying to be set on a copy of a slice from a DataFrame.\n",
      "Try using .loc[row_indexer,col_indexer] = value instead\n",
      "\n",
      "See the caveats in the documentation: https://pandas.pydata.org/pandas-docs/stable/user_guide/indexing.html#returning-a-view-versus-a-copy\n",
      "  selected_rows_y3['processed_y_utm'] = selected_rows_y3.Number\n",
      "/tmp/ipykernel_18380/1802693479.py:59: SettingWithCopyWarning: \n",
      "A value is trying to be set on a copy of a slice from a DataFrame.\n",
      "Try using .loc[row_indexer,col_indexer] = value instead\n",
      "\n",
      "See the caveats in the documentation: https://pandas.pydata.org/pandas-docs/stable/user_guide/indexing.html#returning-a-view-versus-a-copy\n",
      "  selected_rows_x2.processed_x_utm = selected_rows_x2.processed_x_utm.transform(lambda x: x + '0'*(10-len(x)))\n",
      "/tmp/ipykernel_18380/1802693479.py:60: SettingWithCopyWarning: \n",
      "A value is trying to be set on a copy of a slice from a DataFrame.\n",
      "Try using .loc[row_indexer,col_indexer] = value instead\n",
      "\n",
      "See the caveats in the documentation: https://pandas.pydata.org/pandas-docs/stable/user_guide/indexing.html#returning-a-view-versus-a-copy\n",
      "  selected_rows_x3.processed_x_utm = selected_rows_x3.processed_x_utm.transform(lambda x: x + '.000')\n",
      "/tmp/ipykernel_18380/1802693479.py:62: SettingWithCopyWarning: \n",
      "A value is trying to be set on a copy of a slice from a DataFrame.\n",
      "Try using .loc[row_indexer,col_indexer] = value instead\n",
      "\n",
      "See the caveats in the documentation: https://pandas.pydata.org/pandas-docs/stable/user_guide/indexing.html#returning-a-view-versus-a-copy\n",
      "  selected_rows_y2.processed_y_utm = selected_rows_y2.processed_y_utm.transform(lambda x: x + '0'*(11-len(x)))\n",
      "/tmp/ipykernel_18380/1802693479.py:63: SettingWithCopyWarning: \n",
      "A value is trying to be set on a copy of a slice from a DataFrame.\n",
      "Try using .loc[row_indexer,col_indexer] = value instead\n",
      "\n",
      "See the caveats in the documentation: https://pandas.pydata.org/pandas-docs/stable/user_guide/indexing.html#returning-a-view-versus-a-copy\n",
      "  selected_rows_y3.processed_y_utm = selected_rows_y3.processed_y_utm.transform(lambda x: x + '.000')\n",
      "/tmp/ipykernel_18380/1802693479.py:65: SettingWithCopyWarning: \n",
      "A value is trying to be set on a copy of a slice from a DataFrame\n",
      "\n",
      "See the caveats in the documentation: https://pandas.pydata.org/pandas-docs/stable/user_guide/indexing.html#returning-a-view-versus-a-copy\n",
      "  data_frame['processed_x_utm'][selected_rows_x1.index] = selected_rows_x1['processed_x_utm']\n",
      "/tmp/ipykernel_18380/1802693479.py:66: SettingWithCopyWarning: \n",
      "A value is trying to be set on a copy of a slice from a DataFrame\n",
      "\n",
      "See the caveats in the documentation: https://pandas.pydata.org/pandas-docs/stable/user_guide/indexing.html#returning-a-view-versus-a-copy\n",
      "  data_frame['processed_x_utm'][selected_rows_x2.index] = selected_rows_x2['processed_x_utm']\n",
      "/tmp/ipykernel_18380/1802693479.py:67: SettingWithCopyWarning: \n",
      "A value is trying to be set on a copy of a slice from a DataFrame\n",
      "\n",
      "See the caveats in the documentation: https://pandas.pydata.org/pandas-docs/stable/user_guide/indexing.html#returning-a-view-versus-a-copy\n",
      "  data_frame['processed_x_utm'][selected_rows_x3.index] = selected_rows_x3['processed_x_utm']\n",
      "/tmp/ipykernel_18380/1802693479.py:69: SettingWithCopyWarning: \n",
      "A value is trying to be set on a copy of a slice from a DataFrame\n",
      "\n",
      "See the caveats in the documentation: https://pandas.pydata.org/pandas-docs/stable/user_guide/indexing.html#returning-a-view-versus-a-copy\n",
      "  data_frame['processed_y_utm'][selected_rows_y1.index] = selected_rows_y1['processed_y_utm']\n",
      "/tmp/ipykernel_18380/1802693479.py:70: SettingWithCopyWarning: \n",
      "A value is trying to be set on a copy of a slice from a DataFrame\n",
      "\n",
      "See the caveats in the documentation: https://pandas.pydata.org/pandas-docs/stable/user_guide/indexing.html#returning-a-view-versus-a-copy\n",
      "  data_frame['processed_y_utm'][selected_rows_y2.index] = selected_rows_y2['processed_y_utm']\n",
      "/tmp/ipykernel_18380/1802693479.py:71: SettingWithCopyWarning: \n",
      "A value is trying to be set on a copy of a slice from a DataFrame\n",
      "\n",
      "See the caveats in the documentation: https://pandas.pydata.org/pandas-docs/stable/user_guide/indexing.html#returning-a-view-versus-a-copy\n",
      "  data_frame['processed_y_utm'][selected_rows_y3.index] = selected_rows_y3['processed_y_utm']\n",
      "/tmp/ipykernel_18380/1802693479.py:77: FutureWarning: The default value of regex will change from True to False in a future version. In addition, single character regular expressions will *not* be treated as literal strings when regex=True.\n",
      "  data_frame.processed_x_utm = data_frame.processed_x_utm.str.replace('.','')\n",
      "/tmp/ipykernel_18380/1802693479.py:77: SettingWithCopyWarning: \n",
      "A value is trying to be set on a copy of a slice from a DataFrame.\n",
      "Try using .loc[row_indexer,col_indexer] = value instead\n",
      "\n",
      "See the caveats in the documentation: https://pandas.pydata.org/pandas-docs/stable/user_guide/indexing.html#returning-a-view-versus-a-copy\n",
      "  data_frame.processed_x_utm = data_frame.processed_x_utm.str.replace('.','')\n",
      "/tmp/ipykernel_18380/1802693479.py:78: FutureWarning: The default value of regex will change from True to False in a future version. In addition, single character regular expressions will *not* be treated as literal strings when regex=True.\n",
      "  data_frame.processed_y_utm = data_frame.processed_y_utm.str.replace('.','')\n",
      "/tmp/ipykernel_18380/1802693479.py:78: SettingWithCopyWarning: \n",
      "A value is trying to be set on a copy of a slice from a DataFrame.\n",
      "Try using .loc[row_indexer,col_indexer] = value instead\n",
      "\n",
      "See the caveats in the documentation: https://pandas.pydata.org/pandas-docs/stable/user_guide/indexing.html#returning-a-view-versus-a-copy\n",
      "  data_frame.processed_y_utm = data_frame.processed_y_utm.str.replace('.','')\n",
      "/tmp/ipykernel_18380/1802693479.py:81: SettingWithCopyWarning: \n",
      "A value is trying to be set on a copy of a slice from a DataFrame.\n",
      "Try using .loc[row_indexer,col_indexer] = value instead\n",
      "\n",
      "See the caveats in the documentation: https://pandas.pydata.org/pandas-docs/stable/user_guide/indexing.html#returning-a-view-versus-a-copy\n",
      "  data_frame.processed_x_utm = data_frame.processed_x_utm.astype(int)\n",
      "/tmp/ipykernel_18380/1802693479.py:82: SettingWithCopyWarning: \n",
      "A value is trying to be set on a copy of a slice from a DataFrame.\n",
      "Try using .loc[row_indexer,col_indexer] = value instead\n",
      "\n",
      "See the caveats in the documentation: https://pandas.pydata.org/pandas-docs/stable/user_guide/indexing.html#returning-a-view-versus-a-copy\n",
      "  data_frame.processed_y_utm = data_frame.processed_y_utm.astype(int)\n"
     ]
    }
   ],
   "source": [
    "# Todos las comas a puntos\n",
    "\n",
    "import re\n",
    "\n",
    "s = data_frame.coordenada_x_utm.str\n",
    "s_y = data_frame.coordenada_y_utm.str\n",
    "\n",
    "# Regex que hace match para dos grupos, la parte entera y la parte decimal.\n",
    "group_integer_and_float_pattern = '(?P<Integer>\\d{3}\\.\\d{3})(?P<Float>\\.\\d{2,3})'\n",
    "all_float_pattern   = '(?P<Number>\\d{6},\\d+)'\n",
    "all_integer_pattern = '(?P<Number>\\d{6}$)'\n",
    "\n",
    "group_integer_and_float_pattern_y = '(?P<Integer>\\d\\.\\d{3}\\.\\d{3})(?P<Float>\\.\\d{2,3})'\n",
    "all_float_pattern_y   = '(?P<Number>\\d{7},\\d+)'\n",
    "all_integer_pattern_y = '(?P<Number>\\d{7}$)'\n",
    "\n",
    "# Se extraen en un dataframe independiente ambas partes, la entera y la decimal\n",
    "index_and_extracted_x1 = s.extract(group_integer_and_float_pattern)\n",
    "index_and_extracted_x2 = s.extract(all_float_pattern)\n",
    "index_and_extracted_x3 = s.extract(all_integer_pattern)\n",
    "\n",
    "index_and_extracted_y1 = s_y.extract(group_integer_and_float_pattern_y)\n",
    "index_and_extracted_y2 = s_y.extract(all_float_pattern_y)\n",
    "index_and_extracted_y3 = s_y.extract(all_integer_pattern_y)\n",
    "\n",
    "# Se seleccionan aquellas que no continenen valores nulos el Float.\n",
    "# Es decir, aquellos con los que el match ha tenido éxito (los que llevan punto)\n",
    "# en lugar de comas.\n",
    "selected_rows_x1 = index_and_extracted_x1[~index_and_extracted_x1['Float'].isnull()]\n",
    "selected_rows_x2 = index_and_extracted_x2[~index_and_extracted_x2['Number'].isnull()]\n",
    "selected_rows_x3 = index_and_extracted_x3[~index_and_extracted_x3['Number'].isnull()]\n",
    "\n",
    "selected_rows_y1 = index_and_extracted_y1[~index_and_extracted_y1['Float'].isnull()]\n",
    "selected_rows_y2 = index_and_extracted_y2[~index_and_extracted_y2['Number'].isnull()]\n",
    "selected_rows_y3 = index_and_extracted_y3[~index_and_extracted_y3['Number'].isnull()]\n",
    "\n",
    "# Se cambia el string de la parte entera a un string sin puntos.\n",
    "selected_rows_x1.Integer = selected_rows_x1.Integer.str.replace('.','')\n",
    "selected_rows_x2.Number  = selected_rows_x2.Number.str.replace(',','.')\n",
    "\n",
    "selected_rows_y1.Integer = selected_rows_y1.Integer.str.replace('.','')\n",
    "selected_rows_y2.Number  = selected_rows_y2.Number.str.replace(',','.')\n",
    "\n",
    "# Se crea una nueva columna en el nuevo dataframe con la unión de la parte\n",
    "# entera y la parte decimal.\n",
    "selected_rows_x1['processed_x_utm'] = selected_rows_x1.Integer + selected_rows_x1.Float\n",
    "selected_rows_x2['processed_x_utm'] = selected_rows_x2.Number\n",
    "selected_rows_x3['processed_x_utm'] = selected_rows_x3.Number\n",
    "\n",
    "selected_rows_y1['processed_y_utm'] = selected_rows_y1.Integer + selected_rows_y1.Float\n",
    "selected_rows_y2['processed_y_utm'] = selected_rows_y2.Number\n",
    "selected_rows_y3['processed_y_utm'] = selected_rows_y3.Number\n",
    "\n",
    "data_frame['processed_x_utm'] = 'N/A'\n",
    "data_frame['processed_y_utm'] = 'N/A'\n",
    "\n",
    "# Si la longitud de alguno de los números es menor a diez, hay que añadirle x 0s\n",
    "# de diferencia\n",
    "selected_rows_x2.processed_x_utm = selected_rows_x2.processed_x_utm.transform(lambda x: x + '0'*(10-len(x)))\n",
    "selected_rows_x3.processed_x_utm = selected_rows_x3.processed_x_utm.transform(lambda x: x + '.000')\n",
    "\n",
    "selected_rows_y2.processed_y_utm = selected_rows_y2.processed_y_utm.transform(lambda x: x + '0'*(11-len(x)))\n",
    "selected_rows_y3.processed_y_utm = selected_rows_y3.processed_y_utm.transform(lambda x: x + '.000')\n",
    "\n",
    "data_frame['processed_x_utm'][selected_rows_x1.index] = selected_rows_x1['processed_x_utm']\n",
    "data_frame['processed_x_utm'][selected_rows_x2.index] = selected_rows_x2['processed_x_utm']\n",
    "data_frame['processed_x_utm'][selected_rows_x3.index] = selected_rows_x3['processed_x_utm']\n",
    "\n",
    "data_frame['processed_y_utm'][selected_rows_y1.index] = selected_rows_y1['processed_y_utm']\n",
    "data_frame['processed_y_utm'][selected_rows_y2.index] = selected_rows_y2['processed_y_utm']\n",
    "data_frame['processed_y_utm'][selected_rows_y3.index] = selected_rows_y3['processed_y_utm']\n",
    "\n",
    "# Eliminamos aquellas filas que no tienen coordenadas\n",
    "data_frame = data_frame[data_frame['coordenada_y_utm'] != '0.000']\n",
    "\n",
    "# Eliminamos el punto de la parte decimal para convertirlo a entero\n",
    "data_frame.processed_x_utm = data_frame.processed_x_utm.str.replace('.','')\n",
    "data_frame.processed_y_utm = data_frame.processed_y_utm.str.replace('.','')\n",
    "\n",
    "# Lo convertimos en entero\n",
    "data_frame.processed_x_utm = data_frame.processed_x_utm.astype(int)\n",
    "data_frame.processed_y_utm = data_frame.processed_y_utm.astype(int)"
   ]
  },
  {
   "cell_type": "markdown",
   "id": "_Z4nz3ioxtXb",
   "metadata": {
    "id": "_Z4nz3ioxtXb"
   },
   "source": [
    "### Renombrado y eliminación de columnas"
   ]
  },
  {
   "cell_type": "code",
   "execution_count": 90,
   "id": "tqnlSOcN71Ah",
   "metadata": {
    "id": "tqnlSOcN71Ah"
   },
   "outputs": [],
   "source": [
    "COLUMNS_TO_REMOVE = ['num_expediente', 'fecha', 'tipo_via', 'numero', 'positiva_droga', 'coordenada_x_utm', 'coordenada_y_utm', 'positiva_droga']\n",
    "data_frame = data_frame.loc[:, ~data_frame.columns.isin(COLUMNS_TO_REMOVE)]\n",
    "\n",
    "data_frame.rename(columns={\"localizacion\": \"tipo_carretera\"}, errors=\"raise\", inplace=True)\n",
    "data_frame.rename(columns={\"processed_x_utm\": \"coordenada_x_utm\"}, errors=\"raise\", inplace=True)\n",
    "data_frame.rename(columns={\"processed_y_utm\": \"coordenada_y_utm\"}, errors=\"raise\", inplace=True)\n",
    "data_frame.rename(columns={\"positiva_alcohol\": \"drogas_alcohol_positivo\"}, errors=\"raise\", inplace=True)\n",
    "\n",
    "data_frame = data_frame.drop_duplicates()\n",
    "data_frame = data_frame.dropna()\n",
    "data_frame = data_frame.reset_index(drop=True)"
   ]
  },
  {
   "cell_type": "markdown",
   "id": "qKuGQ1I8078E",
   "metadata": {
    "id": "qKuGQ1I8078E"
   },
   "source": [
    "## Split de datos"
   ]
  },
  {
   "cell_type": "code",
   "execution_count": 91,
   "id": "NCcJF3i8s3dD",
   "metadata": {
    "id": "NCcJF3i8s3dD"
   },
   "outputs": [],
   "source": [
    "from sklearn.model_selection import train_test_split\n",
    "\n",
    "train, test = train_test_split(data_frame, test_size=0.2)\n",
    "X_train = train.loc[:, ~train.columns.isin(['lesividad'])]\n",
    "Y_train = train['lesividad']\n",
    "\n",
    "X_test = test.loc[:, ~test.columns.isin(['lesividad'])]\n",
    "Y_test = test['lesividad']"
   ]
  },
  {
   "cell_type": "code",
   "execution_count": 92,
   "id": "x2PcFjlBmTlC",
   "metadata": {
    "id": "x2PcFjlBmTlC"
   },
   "outputs": [],
   "source": [
    "# feature_vector = {}\n",
    "\n",
    "# feature_vector['Accident Features'] = {\n",
    "#     'feature_childs': ['coordenada_x_utm', 'coordenada_y_utm', 'tipo_carretera', 'hora', 'vehiculos_implicados'],\n",
    "#     'feature_weights': [0.043706235, 0.04066877, 0.04932402, 0.037829854,  0.037388127]\n",
    "# } \n",
    "\n",
    "# feature_vector['Roadway Features'] = {\n",
    "#     'feature_childs': ['tipo_accidente', 'distrito'], # Road Surface \n",
    "#     'feature_weights': [0.07036541, 0]\n",
    "# } \n",
    "\n",
    "# feature_vector['Environmental Features'] = {\n",
    "#     'feature_childs': ['estado_meteorológico'],\n",
    "#     'feature_weights': [0.04621587]\n",
    "# } \n",
    "# feature_vector['Vehicle Features'] = {\n",
    "#     'feature_childs': ['tipo_vehiculo'],\n",
    "#     'feature_weights': [0.1835905]\n",
    "# }\n",
    "\n",
    "# feature_vector['Casualty Features'] = {\n",
    "#     'feature_childs': ['tipo_persona', 'sexo', 'rango_edad', 'drogas_alcohol_positivo'],\n",
    "#     'feature_weights': [0.29104254, 0.03937937, 0.054408602, 0.059951354]\n",
    "# } \n",
    "# matrix_indexes = fv2gi(feature_vector)"
   ]
  },
  {
   "cell_type": "markdown",
   "id": "5W4MXdIis6vn",
   "metadata": {
    "id": "5W4MXdIis6vn"
   },
   "source": [
    "## Normalización de datos"
   ]
  },
  {
   "cell_type": "code",
   "execution_count": 93,
   "id": "tHUfNlw8sdxS",
   "metadata": {
    "id": "tHUfNlw8sdxS"
   },
   "outputs": [],
   "source": [
    "X_train = X_train.astype(int)\n",
    "X_test  = X_test.astype(int)\n",
    "\n",
    "X_train = normalize_data(X_train)\n",
    "X_test  = normalize_data(X_test)"
   ]
  },
  {
   "cell_type": "markdown",
   "id": "kr_UChBJ21Cu",
   "metadata": {
    "id": "kr_UChBJ21Cu"
   },
   "source": [
    "## Oversampling de datos"
   ]
  },
  {
   "cell_type": "code",
   "execution_count": 94,
   "id": "rXwHLi842zLs",
   "metadata": {
    "id": "rXwHLi842zLs"
   },
   "outputs": [
    {
     "name": "stdout",
     "output_type": "stream",
     "text": [
      "********** Before OverSampling **********\n",
      "Slight:  42409\n",
      "Serious: 1023\n",
      "Fatal:   64\n",
      "\n",
      " Total X: 43496  Total Y: 43496 \n",
      "\n",
      "********** After OverSampling **********\n",
      "Slight:  42409\n",
      "Serious: 42409\n",
      "Fatal:   42408\n",
      "\n",
      " Total X:  127226  Total Y:  127226\n"
     ]
    }
   ],
   "source": [
    "print('********** Before OverSampling **********')\n",
    "print('Slight: ', (Y_train == 'Slight').sum())\n",
    "print('Serious:', (Y_train == 'Serious').sum())\n",
    "print('Fatal:  ', (Y_train == 'Fatal').sum())\n",
    "print('\\n Total X:', len(X_train), ' Total Y:', len(Y_train), '\\n')\n",
    "\n",
    "X_train, Y_train = oversample_data(X_train, Y_train)"
   ]
  },
  {
   "cell_type": "markdown",
   "id": "cf5eb99c-7ac9-425b-af2e-735ae2155e03",
   "metadata": {
    "tags": [],
    "toc-hr-collapsed": true
   },
   "source": [
    "## Pesos XGBoost"
   ]
  },
  {
   "cell_type": "code",
   "execution_count": 95,
   "id": "d525349f-2832-457b-833f-e4f2d549ea35",
   "metadata": {},
   "outputs": [],
   "source": [
    "from xgboost import XGBClassifier\n",
    "from sklearn.metrics import accuracy_score"
   ]
  },
  {
   "cell_type": "markdown",
   "id": "7e290436-2027-4bac-99c1-78870fd94419",
   "metadata": {
    "tags": []
   },
   "source": [
    "### Carga de pesos"
   ]
  },
  {
   "cell_type": "code",
   "execution_count": 96,
   "id": "d43c1255-7468-477c-b54e-6a21e5c15326",
   "metadata": {},
   "outputs": [
    {
     "data": {
      "text/plain": [
       "{'Accident Features': {'feature_childs': ['coordenada_x_utm',\n",
       "   'coordenada_y_utm',\n",
       "   'tipo_carretera',\n",
       "   'hora',\n",
       "   'vehiculos_implicados'],\n",
       "  'feature_weights': ['0.29132786',\n",
       "   '0.27564067',\n",
       "   '0.011243201',\n",
       "   '0.03353334',\n",
       "   '0.054295406'],\n",
       "  'wpi': 0.666040477},\n",
       " 'Roadway Features': {'feature_childs': ['tipo_accidente', 'distrito'],\n",
       "  'feature_weights': ['0.06907138', '0.07700611'],\n",
       "  'wpi': 0.14607749},\n",
       " 'Environmental Features': {'feature_childs': ['estado_meteorológico'],\n",
       "  'feature_weights': ['0.020958336'],\n",
       "  'wpi': 0.020958336},\n",
       " 'Vehicle Features': {'feature_childs': ['tipo_vehiculo'],\n",
       "  'feature_weights': ['0.069085404'],\n",
       "  'wpi': 0.069085404},\n",
       " 'Casualty Features': {'feature_childs': ['tipo_persona',\n",
       "   'sexo',\n",
       "   'rango_edad',\n",
       "   'drogas_alcohol_positivo'],\n",
       "  'feature_weights': ['0.029117366',\n",
       "   '0.028991196',\n",
       "   '0.036140863',\n",
       "   '0.0035888522'],\n",
       "  'wpi': 0.0978382772}}"
      ]
     },
     "metadata": {},
     "output_type": "display_data"
    }
   ],
   "source": [
    "FILE_PATH = './XGBoost_Weights/'\n",
    "# FILE_NAME = 'madrid_calculated_weights.json'\n",
    "FILE_NAME = 'madrid_weights' + MODEL_VERSION + '.json'\n",
    "\n",
    "feature_vector = load_weights(FILE_PATH, FILE_NAME)\n",
    "display(feature_vector)"
   ]
  },
  {
   "cell_type": "markdown",
   "id": "287f6756-5ec1-4546-95fd-5b0427cf656f",
   "metadata": {
    "tags": []
   },
   "source": [
    "### Cálculo con Hiperparámetros"
   ]
  },
  {
   "cell_type": "markdown",
   "id": "81ad3458-f608-41d8-a70b-47c969919722",
   "metadata": {},
   "source": [
    "- [Bayesian Optimization with HYPEROPT](https://www.kaggle.com/code/prashant111/a-guide-on-xgboost-hyperparameters-tuning/notebook)"
   ]
  },
  {
   "cell_type": "code",
   "execution_count": 97,
   "id": "d2a592df-0afb-4c18-a78e-2815d5af0dd1",
   "metadata": {},
   "outputs": [],
   "source": [
    "# Y_train_onehot = casualty_to_one_hot(Y_train)\n",
    "# Y_test_onehot  = casualty_to_one_hot(Y_test)"
   ]
  },
  {
   "cell_type": "code",
   "execution_count": 98,
   "id": "e42b75db-4d0f-4d38-b397-3a05d4685a6d",
   "metadata": {},
   "outputs": [],
   "source": [
    "# def objective(space):\n",
    "#     clf = XGBClassifier(n_estimators =space['n_estimators'],\n",
    "#                         max_depth = int(space['max_depth']),\n",
    "#                         gamma = space['gamma'],\n",
    "#                         reg_alpha = int(space['reg_alpha']),\n",
    "#                         min_child_weight = int(space['min_child_weight']),\n",
    "#                         colsample_bytree = int(space['colsample_bytree']))\n",
    "    \n",
    "#     evaluation = [(X_train, Y_train), (X_test, Y_test)]\n",
    "    \n",
    "#     clf.fit(X_train, Y_train,\n",
    "#             eval_set = evaluation, eval_metric = \"auc\",\n",
    "#             early_stopping_rounds = 10, verbose = False)\n",
    "    \n",
    "#     pred = clf.predict(X_test)\n",
    "#     accuracy = accuracy_score(Y_test, pred>0.5)\n",
    "#     print (\"SCORE:\", accuracy)\n",
    "#     return {'loss': -accuracy, 'status': STATUS_OK }\n",
    "\n",
    "\n",
    "# trials = Trials()\n",
    "\n",
    "# best_hyperparams = fmin(fn = objective,\n",
    "#                         space = space,\n",
    "#                         algo = tpe.suggest,\n",
    "#                         max_evals = 100,\n",
    "#                         trials = trials)"
   ]
  },
  {
   "cell_type": "code",
   "execution_count": 99,
   "id": "9da5c91e-949d-4ea0-84c3-20a3f480fdc1",
   "metadata": {},
   "outputs": [],
   "source": [
    "# from numpy import loadtxt\n",
    "# from xgboost import XGBClassifier,XGBRanker\n",
    "# from matplotlib import pyplot\n",
    "# from xgboost import plot_importance\n",
    "\n",
    "# n_trees = 1000\n",
    "# booster = 'gbtree'\n",
    "# importance_type = 'weight'\n",
    "\n",
    "# xgboost = XGBClassifier(n_estimators = n_trees,\n",
    "#                         booster = booster,\n",
    "#                         importance_type = importance_type)\n",
    "\n",
    "# xgboost.fit(X_train, Y_train)\n",
    "\n",
    "# child_weights  = np.array(xgboost.feature_importances_)\n",
    "# feature_vector = fill_feature_vector(X_train, child_weights)"
   ]
  },
  {
   "cell_type": "markdown",
   "id": "3f0f6472-a98c-4801-b5cc-31d0f46c13a4",
   "metadata": {
    "tags": []
   },
   "source": [
    "### Visualización pesos calculados"
   ]
  },
  {
   "cell_type": "code",
   "execution_count": 100,
   "id": "72fc1536-1b5a-4d6a-922d-5f27f58e7396",
   "metadata": {},
   "outputs": [],
   "source": [
    "# print(xgboost.get_booster().get_score(importance_type= 'weight'))\n",
    "# plt.figure(figsize=(10, 5))\n",
    "# plt.barh(X_train.columns, xgboost.feature_importances_)\n",
    "# plt.savefig('./madrid_v6.jpg')\n",
    "\n",
    "# print(xgboost.feature_importances_)\n",
    "\n",
    "# for column, weight in zip(X_train.columns,xgboost.feature_importances_):\n",
    "#   print(column, weight)"
   ]
  },
  {
   "cell_type": "markdown",
   "id": "40bc80de-39c3-4818-b7eb-8a406aeed4e2",
   "metadata": {},
   "source": [
    "### Cálculo índices de matriz"
   ]
  },
  {
   "cell_type": "code",
   "execution_count": 101,
   "id": "bd560eed-aa5b-47ad-a8fd-fb142a5d123e",
   "metadata": {},
   "outputs": [],
   "source": [
    "matrix_indexes = fv2gi(feature_vector)"
   ]
  },
  {
   "cell_type": "markdown",
   "id": "016d5cdd-688c-4ae6-8824-b70a52df26aa",
   "metadata": {
    "tags": []
   },
   "source": [
    "### Escritura"
   ]
  },
  {
   "cell_type": "markdown",
   "id": "59d21bd9-a892-47be-8603-2768470481ae",
   "metadata": {},
   "source": [
    "- v5: Pesos calculados con hiperparámetros. En el dataset están tipificados los vehículos como en el artículo, las edades no están en rango.\n",
    "- v6: Pesos calculados con hiperparámetros. En el dataset están tipificados los vehículos como en el artículo, las edades están en rango."
   ]
  },
  {
   "cell_type": "code",
   "execution_count": 102,
   "id": "5fa50dba-1804-4002-9ebb-a3c62f5e090d",
   "metadata": {
    "id": "9fVPOWg1da-5",
    "tags": []
   },
   "outputs": [],
   "source": [
    "# FILE_PATH = './XGBoost_Weights/'\n",
    "# FILE_NAME = 'madrid_weights' + MODEL_VERSION + '.json'\n",
    "# # FILE_NAME = 'default_calculated_weights.json'\n",
    "\n",
    "# write_weights(feature_vector, FILE_PATH, FILE_NAME)"
   ]
  },
  {
   "cell_type": "code",
   "execution_count": 103,
   "id": "084a5ff3-568c-499c-8011-809169f0809a",
   "metadata": {
    "id": "8b245iBDsUof"
   },
   "outputs": [],
   "source": [
    "matrix_indexes = fv2gi(feature_vector)"
   ]
  },
  {
   "cell_type": "markdown",
   "id": "dR3Ah2X24fbw",
   "metadata": {
    "id": "dR3Ah2X24fbw"
   },
   "source": [
    "## Construcción de imágenes"
   ]
  },
  {
   "cell_type": "code",
   "execution_count": 104,
   "id": "cWGYQ82UI4RM",
   "metadata": {
    "id": "cWGYQ82UI4RM"
   },
   "outputs": [
    {
     "name": "stdout",
     "output_type": "stream",
     "text": [
      "127226\n",
      "10874\n"
     ]
    },
    {
     "data": {
      "text/html": [
       "<div>\n",
       "<style scoped>\n",
       "    .dataframe tbody tr th:only-of-type {\n",
       "        vertical-align: middle;\n",
       "    }\n",
       "\n",
       "    .dataframe tbody tr th {\n",
       "        vertical-align: top;\n",
       "    }\n",
       "\n",
       "    .dataframe thead th {\n",
       "        text-align: right;\n",
       "    }\n",
       "</style>\n",
       "<table border=\"1\" class=\"dataframe\">\n",
       "  <thead>\n",
       "    <tr style=\"text-align: right;\">\n",
       "      <th></th>\n",
       "      <th>0</th>\n",
       "      <th>1</th>\n",
       "      <th>2</th>\n",
       "      <th>3</th>\n",
       "      <th>4</th>\n",
       "    </tr>\n",
       "  </thead>\n",
       "  <tbody>\n",
       "    <tr>\n",
       "      <th>0</th>\n",
       "      <td>0.000000</td>\n",
       "      <td>0.000000</td>\n",
       "      <td>1.823313</td>\n",
       "      <td>0.000000</td>\n",
       "      <td>0.00000</td>\n",
       "    </tr>\n",
       "    <tr>\n",
       "      <th>1</th>\n",
       "      <td>0.000000</td>\n",
       "      <td>-0.601046</td>\n",
       "      <td>-0.090276</td>\n",
       "      <td>0.000000</td>\n",
       "      <td>0.00000</td>\n",
       "    </tr>\n",
       "    <tr>\n",
       "      <th>2</th>\n",
       "      <td>-0.801467</td>\n",
       "      <td>0.834299</td>\n",
       "      <td>-2.523654</td>\n",
       "      <td>-0.495890</td>\n",
       "      <td>0.23509</td>\n",
       "    </tr>\n",
       "    <tr>\n",
       "      <th>3</th>\n",
       "      <td>0.166844</td>\n",
       "      <td>-0.522001</td>\n",
       "      <td>0.206221</td>\n",
       "      <td>1.369114</td>\n",
       "      <td>0.00000</td>\n",
       "    </tr>\n",
       "    <tr>\n",
       "      <th>4</th>\n",
       "      <td>0.000000</td>\n",
       "      <td>0.000000</td>\n",
       "      <td>-0.336850</td>\n",
       "      <td>0.000000</td>\n",
       "      <td>0.00000</td>\n",
       "    </tr>\n",
       "  </tbody>\n",
       "</table>\n",
       "</div>"
      ],
      "text/plain": [
       "          0         1         2         3        4\n",
       "0  0.000000  0.000000  1.823313  0.000000  0.00000\n",
       "1  0.000000 -0.601046 -0.090276  0.000000  0.00000\n",
       "2 -0.801467  0.834299 -2.523654 -0.495890  0.23509\n",
       "3  0.166844 -0.522001  0.206221  1.369114  0.00000\n",
       "4  0.000000  0.000000 -0.336850  0.000000  0.00000"
      ]
     },
     "execution_count": 104,
     "metadata": {},
     "output_type": "execute_result"
    }
   ],
   "source": [
    "train_bgi = build_gray_images(X_train, 5, matrix_indexes)\n",
    "test_bgi  = build_gray_images(X_test, 5, matrix_indexes)\n",
    "\n",
    "pd.DataFrame(train_bgi[:,:,1057])"
   ]
  },
  {
   "cell_type": "markdown",
   "id": "yQTCws554zZL",
   "metadata": {
    "id": "yQTCws554zZL"
   },
   "source": [
    "## Reshape de imágenes"
   ]
  },
  {
   "cell_type": "code",
   "execution_count": 105,
   "id": "mRrOKk3a43ZI",
   "metadata": {
    "id": "mRrOKk3a43ZI"
   },
   "outputs": [
    {
     "data": {
      "text/plain": [
       "<Figure size 432x288 with 0 Axes>"
      ]
     },
     "metadata": {},
     "output_type": "display_data"
    },
    {
     "data": {
      "image/png": "[encoded data removed]",
      "text/plain": [
       "<Figure size 216x216 with 1 Axes>"
      ]
     },
     "metadata": {
      "needs_background": "light"
     },
     "output_type": "display_data"
    },
    {
     "data": {
      "image/png": "[encoded data removed]",
      "text/plain": [
       "<Figure size 216x216 with 1 Axes>"
      ]
     },
     "metadata": {
      "needs_background": "light"
     },
     "output_type": "display_data"
    },
    {
     "data": {
      "image/png": "[encoded data removed]",
      "text/plain": [
       "<Figure size 216x216 with 1 Axes>"
      ]
     },
     "metadata": {
      "needs_background": "light"
     },
     "output_type": "display_data"
    }
   ],
   "source": [
    "train_images = shape_images(X_data = X_train,\n",
    "                            gray_images = train_bgi)\n",
    "test_images  = shape_images(X_data = X_test,\n",
    "                            gray_images = test_bgi)\n",
    "\n",
    "plt.gray()\n",
    "for i in range(0,3):\n",
    "    plt.figure(figsize=(3, 3))\n",
    "    plt.imshow(train_bgi[:,:,i])\n",
    "    plt.show()"
   ]
  },
  {
   "cell_type": "code",
   "execution_count": 106,
   "id": "deb2d341-a847-437b-a1fb-0e40e01cced2",
   "metadata": {},
   "outputs": [],
   "source": [
    "# train_images = shape_images(X_data = X_train,\n",
    "#                             gray_images = train_bgi)\n",
    "# test_images  = shape_images(X_data = X_test,\n",
    "#                             gray_images = test_bgi)"
   ]
  },
  {
   "cell_type": "markdown",
   "id": "1PdwhQuQ9o_P",
   "metadata": {
    "id": "1PdwhQuQ9o_P"
   },
   "source": [
    "## One-Hot"
   ]
  },
  {
   "cell_type": "code",
   "execution_count": 107,
   "id": "6hTctKZSI3re",
   "metadata": {
    "id": "6hTctKZSI3re"
   },
   "outputs": [],
   "source": [
    "Y_train_onehot = casualty_to_one_hot(Y_train)\n",
    "Y_test_onehot  = casualty_to_one_hot(Y_test)\n",
    "\n",
    "array_train_images = np.asarray(train_images)\n",
    "array_test_images  = np.asarray(test_images)"
   ]
  },
  {
   "cell_type": "markdown",
   "id": "IStgg--F5L3F",
   "metadata": {
    "id": "IStgg--F5L3F",
    "tags": [],
    "toc-hr-collapsed": true
   },
   "source": [
    "## Visualización de datos"
   ]
  },
  {
   "cell_type": "code",
   "execution_count": 108,
   "id": "rvyfvMPy5L3G",
   "metadata": {
    "id": "rvyfvMPy5L3G"
   },
   "outputs": [],
   "source": [
    "# !conda install -c anaconda seaborn --y"
   ]
  },
  {
   "cell_type": "markdown",
   "id": "dg0d7-k15L3H",
   "metadata": {
    "id": "dg0d7-k15L3H"
   },
   "source": [
    "### Matriz de correlación"
   ]
  },
  {
   "cell_type": "code",
   "execution_count": 109,
   "id": "SN7gwKNO5L3H",
   "metadata": {
    "id": "SN7gwKNO5L3H"
   },
   "outputs": [],
   "source": [
    "# correlation_matrix(X_test)"
   ]
  },
  {
   "cell_type": "markdown",
   "id": "d5fAIUUg5L3J",
   "metadata": {
    "id": "d5fAIUUg5L3J"
   },
   "source": [
    "### PCA"
   ]
  },
  {
   "cell_type": "code",
   "execution_count": 110,
   "id": "lhQElB3I5L3J",
   "metadata": {
    "id": "lhQElB3I5L3J"
   },
   "outputs": [],
   "source": [
    "# pca(X_train, X_test)"
   ]
  },
  {
   "cell_type": "markdown",
   "id": "52ffbfe4-9fce-4e68-81b9-766d485b87ff",
   "metadata": {},
   "source": [
    "### TSNE"
   ]
  },
  {
   "cell_type": "code",
   "execution_count": null,
   "id": "c669feae-6b17-4f05-b43b-6d3aa87a1c97",
   "metadata": {},
   "outputs": [
    {
     "name": "stderr",
     "output_type": "stream",
     "text": [
      "/home/luis/anaconda3/envs/TFM/lib/python3.9/site-packages/sklearn/manifold/_t_sne.py:780: FutureWarning: The default initialization in TSNE will change from 'random' to 'pca' in 1.2.\n",
      "  warnings.warn(\n",
      "/home/luis/anaconda3/envs/TFM/lib/python3.9/site-packages/sklearn/manifold/_t_sne.py:790: FutureWarning: The default learning rate in TSNE will change from 200.0 to 'auto' in 1.2.\n",
      "  warnings.warn(\n",
      "/home/luis/anaconda3/envs/TFM/lib/python3.9/site-packages/sklearn/manifold/_t_sne.py:780: FutureWarning: The default initialization in TSNE will change from 'random' to 'pca' in 1.2.\n",
      "  warnings.warn(\n",
      "/home/luis/anaconda3/envs/TFM/lib/python3.9/site-packages/sklearn/manifold/_t_sne.py:790: FutureWarning: The default learning rate in TSNE will change from 200.0 to 'auto' in 1.2.\n",
      "  warnings.warn(\n"
     ]
    }
   ],
   "source": [
    "# output_file_name = './2d_test_tsne.jpg'\n",
    "plot_TSNE(X_test, Y_test, n_components=2)\n",
    "\n",
    "# output_file_name = './2d_train_tsne.jpg'\n",
    "# plot_TSNE(X_train, Y_train, n_components=2)\n",
    "\n",
    "# output_file_name = './3d_test_tsne.jpg'\n",
    "plot_TSNE(X_test, Y_test, n_components=3)\n",
    "\n",
    "# output_file_name = './3d_train_tsne.jpg'\n",
    "# plot_TSNE(X_train, Y_train, n_components=3)"
   ]
  },
  {
   "cell_type": "markdown",
   "id": "XBbgOcIz5L3J",
   "metadata": {
    "id": "XBbgOcIz5L3J",
    "tags": [],
    "toc-hr-collapsed": true
   },
   "source": [
    "### Autoencoder"
   ]
  },
  {
   "cell_type": "markdown",
   "id": "U84H7J695L3J",
   "metadata": {
    "id": "U84H7J695L3J"
   },
   "source": [
    "#### Entrenamiento"
   ]
  },
  {
   "cell_type": "code",
   "execution_count": null,
   "id": "A2mJaZVn5L3L",
   "metadata": {
    "id": "A2mJaZVn5L3L"
   },
   "outputs": [],
   "source": [
    "# input_img = Input(shape=(25,))\n",
    "\n",
    "# # definimos el encoder, que tendra una entrada de Input_img y una segunda capa con entrada de encoder1 y salida 3\n",
    "# encoder1 = layers.Dense(15, activation='sigmoid')(input_img)\n",
    "# encoder2 = layers.Dense(3, activation='sigmoid')(encoder1)\n",
    "\n",
    "# # definimos el  decoder que tendra una entrada inicial de encoder3 y una salida de 128 y finalmete una capa de salida con los mismos que Input_img\n",
    "# decoder1 = layers.Dense(15, activation='sigmoid')(encoder2)\n",
    "# decoder2 = layers.Dense(25, activation='sigmoid')(decoder1)\n",
    "\n",
    "# # this model maps an input to its reconstruction\n",
    "# autoencoder = tf.keras.Model(inputs=input_img, outputs=decoder2)\n",
    "# autoencoder.summary()\n",
    "\n",
    "# autoencoder.compile(optimizer='adam', loss='binary_crossentropy') #se usan estos dos en estas arquitecturas\n",
    "\n",
    "X_train = array_train_images\n",
    "X_test = array_test_images\n",
    "\n",
    "X_train = X_train.reshape(len(array_train_images), 25)\n",
    "X_test  = X_test.reshape(len(X_test), 25)\n",
    "\n",
    "# autoencoder.fit(X_train, X_train,\n",
    "#                 epochs=15,\n",
    "#                 batch_size=32,\n",
    "#                 shuffle=True,\n",
    "#                 validation_data=(X_test, X_test))"
   ]
  },
  {
   "cell_type": "markdown",
   "id": "gIiKplwP5L3L",
   "metadata": {
    "id": "gIiKplwP5L3L"
   },
   "source": [
    "#### Visualización"
   ]
  },
  {
   "cell_type": "code",
   "execution_count": null,
   "id": "opBOyrIx5L3M",
   "metadata": {
    "id": "opBOyrIx5L3M"
   },
   "outputs": [],
   "source": [
    "# # create encoder model\n",
    "# encoder = tf.keras.Model(inputs=input_img, outputs=encoder2)\n",
    "# encoder.summary()\n",
    "# # create decoder model\n",
    "# encoded_input = Input(shape=(3,))\n",
    "# #lo que hace aqui es quedarse con las capas que corresponden al decodificador\n",
    "# decoder_layer1 = autoencoder.layers[-2]\n",
    "# decoder_layer2 = autoencoder.layers[-1]\n",
    "# decoder = tf.keras.Model(inputs=encoded_input, outputs=decoder_layer2(decoder_layer1(encoded_input)))\n",
    "# decoder.summary()\n",
    "# # si miramos la salida, son simetricos el uno respecto al otro\n",
    "# # encoder va de input a 3 y decoder de 3 a input\n",
    "\n",
    "# # get latent vector for visualization\n",
    "# latent_vector = encoder.predict(X_test)\n",
    "# # get decoder output to visualize reconstructed image\n",
    "# reconstructed_imgs = decoder.predict(latent_vector)\n",
    "\n",
    "\n",
    "# # visualize in 3D plot\n",
    "# from pylab import rcParams\n",
    "# from mpl_toolkits.mplot3d import Axes3D\n",
    "\n",
    "# rcParams['figure.figsize'] = 10, 8\n",
    "\n",
    "# fig = plt.figure(1)\n",
    "# ax = Axes3D(fig)\n",
    "\n",
    "# xs = latent_vector[:, 0]\n",
    "# ys = latent_vector[:, 1]\n",
    "# zs = latent_vector[:, 2]\n",
    "\n",
    "# # color=['red','green','blue']\n",
    "\n",
    "# # for x, y, z, label in zip(xs, ys, zs, Y_test):\n",
    "# #     c = color[int(label)]\n",
    "# #     ax.text(x, y, z, label, backgroundcolor=c)\n",
    "    \n",
    "# # ax.set_xlim(xs.min(), xs.max())\n",
    "# # ax.set_ylim(ys.min(), ys.max())\n",
    "# # ax.set_zlim(zs.min(), zs.max())\n",
    "\n",
    "# # plt.show()\n",
    "\n",
    "# # X_test_encoded = encoder.predict(X_test, batch_size=32)\n",
    "# # plt.figure(figsize=(6, 6))\n",
    "# # plt.scatter(X_test_encoded[:, 0], X_test_encoded[:, 1], c=Y_test)\n",
    "# # plt.colorbar()\n",
    "# # plt.show()"
   ]
  },
  {
   "cell_type": "markdown",
   "id": "PohCQRSm67P0",
   "metadata": {
    "id": "PohCQRSm67P0",
    "toc-hr-collapsed": true
   },
   "source": [
    "## TASP-CNN"
   ]
  },
  {
   "cell_type": "markdown",
   "id": "vPh1ixx-67P2",
   "metadata": {
    "id": "vPh1ixx-67P2"
   },
   "source": [
    "### Entrenamiento"
   ]
  },
  {
   "cell_type": "code",
   "execution_count": null,
   "id": "b-rJTSQC67P2",
   "metadata": {
    "id": "b-rJTSQC67P2",
    "tags": []
   },
   "outputs": [],
   "source": [
    "array_train_images = np.asarray(train_images)\n",
    "array_test_images  = np.asarray(test_images)\n",
    "\n",
    "display(array_train_images.shape)\n",
    "display(Y_train_onehot.shape)\n",
    "\n",
    "display(array_test_images.shape)\n",
    "display(Y_test_onehot.shape)\n",
    "\n",
    "input_train_shape = (len(array_train_images), 5, 5, 1)\n",
    "input_test_shape  = (len(array_test_images), 5, 5, 1)\n",
    "\n",
    "array_train_images = array_train_images.reshape(input_train_shape)\n",
    "array_test_images  = array_test_images.reshape(input_test_shape)\n",
    "\n",
    "\n",
    "# history = tasp_cnn.fit(array_train_images, Y_train_onehot, verbose=2,\n",
    "#                     batch_size = 128, epochs = 100, shuffle = True,\n",
    "#                     validation_data = (array_test_images, Y_test_onehot))\n"
   ]
  },
  {
   "cell_type": "markdown",
   "id": "16dca0f9-336a-4113-b58c-1fb300c89608",
   "metadata": {},
   "source": [
    "### Escritura del modelo"
   ]
  },
  {
   "cell_type": "code",
   "execution_count": null,
   "id": "1aac281b-8364-4710-b6e1-d75ae4a401d5",
   "metadata": {},
   "outputs": [],
   "source": [
    "# tasp_cnn.save(root_path + 'madrid_model_bayesian' + MODEL_VERSION + '.h5')"
   ]
  },
  {
   "cell_type": "markdown",
   "id": "aT8XDceKGSdi",
   "metadata": {
    "id": "aT8XDceKGSdi"
   },
   "source": [
    "### Carga de modelo pre-entrenado"
   ]
  },
  {
   "cell_type": "code",
   "execution_count": null,
   "id": "dRaqg9SXGRwb",
   "metadata": {
    "id": "dRaqg9SXGRwb"
   },
   "outputs": [],
   "source": [
    "tasp_cnn = tf.keras.models.load_model(root_path + 'madrid_model_bayesian' + MODEL_VERSION + '.h5')"
   ]
  },
  {
   "cell_type": "markdown",
   "id": "wD_BOwcwGb4W",
   "metadata": {
    "id": "wD_BOwcwGb4W"
   },
   "source": [
    "### Resultados"
   ]
  },
  {
   "cell_type": "code",
   "execution_count": null,
   "id": "nHVVq0khGato",
   "metadata": {
    "id": "nHVVq0khGato"
   },
   "outputs": [],
   "source": [
    "from sklearn.metrics import classification_report\n",
    "\n",
    "Y_test_labels = one_hot_to_casualty(Y_test)\n",
    "\n",
    "########################################################################\n",
    "\n",
    "F1_SCORE_PATH = 'F1scores/'\n",
    "F1_SCORE_NAME = 'score' + MODEL_VERSION\n",
    "\n",
    "# Plot history: F1 SCORE\n",
    "figure_name = plt.figure(figsize=(20, 10))\n",
    "plt.plot(history.history['f1_score'], label='F1 score (training data)')\n",
    "plt.plot(history.history['val_f1_score'], label='F1 score (validation data)')\n",
    "plt.title('F1 score')\n",
    "plt.ylabel('F1 score value')\n",
    "plt.xlabel('No. epoch')\n",
    "plt.legend(loc=\"upper left\")\n",
    "plt.savefig(F1_SCORE_PATH + F1_SCORE_NAME + '.jpg')\n",
    "plt.show()\n",
    "\n",
    "print(history)\n",
    "\n",
    "########################################################################\n",
    "\n",
    "# evaluate the network\n",
    "print(\"[INFO] evaluating network...\")\n",
    "predictions = tasp_cnn.predict(x=array_test_images, batch_size=128)\n",
    "\n",
    "report = classification_report(tf.argmax(Y_test_onehot, axis=1),\n",
    "                               predictions.argmax(axis=1),\n",
    "                               target_names = Y_test_labels.unique(),\n",
    "                               output_dict = True)\n",
    "\n",
    "REPORTS_PATH = 'Reports/'\n",
    "REPORT_NAME  = 'Report' + MODEL_VERSION + '.csv'\n",
    "\n",
    "report_df = pd.DataFrame(report).transpose()\n",
    "report_df.to_csv(REPORTS_PATH + REPORT_NAME, index= True)\n",
    "\n",
    "report_df"
   ]
  },
  {
   "cell_type": "code",
   "execution_count": null,
   "id": "DoJbgcgC1d83",
   "metadata": {
    "id": "DoJbgcgC1d83",
    "tags": []
   },
   "outputs": [],
   "source": [
    "# tasp_cnn.save(root_path + 'madrid_model_XGBOOST_predicted.h5')"
   ]
  }
 ],
 "metadata": {
  "accelerator": "GPU",
  "colab": {
   "collapsed_sections": [
    "V7Azjtl8gRth",
    "qKYh5EeThQ_7",
    "kISRP5AQhWTD",
    "cCo2emMclT8h",
    "gJfbDNO5oB1N",
    "7a4EsWwQhe_i",
    "ycdOBuHSjhSk",
    "5PmJpoCCcxMJ",
    "ybjvOI7x0PKz",
    "pVPFGQ0AoNRD",
    "_Z4nz3ioxtXb",
    "dg0d7-k15L3H",
    "d5fAIUUg5L3J"
   ],
   "name": "TFM_final.ipynb",
   "provenance": [],
   "toc_visible": true
  },
  "kernelspec": {
   "display_name": "TFM",
   "language": "python",
   "name": "tfm"
  },
  "language_info": {
   "codemirror_mode": {
    "name": "ipython",
    "version": 3
   },
   "file_extension": ".py",
   "mimetype": "text/x-python",
   "name": "python",
   "nbconvert_exporter": "python",
   "pygments_lexer": "ipython3",
   "version": "3.9.11"
  },
  "toc-autonumbering": true,
  "toc-showcode": false,
  "toc-showmarkdowntxt": false,
  "toc-showtags": false
 },
 "nbformat": 4,
 "nbformat_minor": 5
}
