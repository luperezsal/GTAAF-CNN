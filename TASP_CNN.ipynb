{
 "cells": [
  {
   "cell_type": "markdown",
   "id": "835b171f-bf99-42a4-addd-79c633d23f4b",
   "metadata": {},
   "source": [
    "[TFM](https://github.com/jmrplens/TFG-TFM_EPS)"
   ]
  },
  {
   "cell_type": "markdown",
   "id": "d63fb9ae-88b7-4246-8fb7-f7e904b6d049",
   "metadata": {
    "tags": []
   },
   "source": [
    "# Diagrama de flujo"
   ]
  },
  {
   "cell_type": "markdown",
   "id": "60478eb5-96bc-4235-801e-0bef3c9b2433",
   "metadata": {},
   "source": [
    "<center><img src=\"Data/Data_flow.svg\"/></center>\n",
    "\n",
    "Metodología\n",
    "https://ieeexplore.ieee.org/stamp/stamp.jsp?tp=&arnumber=294849"
   ]
  },
  {
   "cell_type": "markdown",
   "id": "90c2e215-b652-4dbb-a951-8a62aff35046",
   "metadata": {
    "tags": [],
    "toc-hr-collapsed": true
   },
   "source": [
    "# Métodos"
   ]
  },
  {
   "cell_type": "markdown",
   "id": "yabWKtrCSTTp",
   "metadata": {
    "id": "yabWKtrCSTTp",
    "jp-MarkdownHeadingCollapsed": true,
    "tags": []
   },
   "source": [
    "## Carga Google Drive"
   ]
  },
  {
   "cell_type": "code",
   "execution_count": 1,
   "id": "9kRlrtLcSWSU",
   "metadata": {
    "id": "9kRlrtLcSWSU",
    "tags": []
   },
   "outputs": [],
   "source": [
    "# from google.colab import drive\n",
    "# drive.mount('/content/drive')"
   ]
  },
  {
   "cell_type": "markdown",
   "id": "d509f4f4-6594-4a0c-9bed-927d3922d6a0",
   "metadata": {
    "tags": []
   },
   "source": [
    "## Versión y especificación de directorios"
   ]
  },
  {
   "cell_type": "code",
   "execution_count": 2,
   "id": "d2b404dc-0e9c-4945-b4e5-d1a77d863a3d",
   "metadata": {},
   "outputs": [],
   "source": [
    "from datetime import datetime\n",
    "\n",
    "MODEL_TIMESTAMP = datetime.now().strftime(\"%Y-%m-%d-%H:%M:%S\")\n",
    "\n",
    "\n",
    "WEIGHTS_PATH  = './feature_weights/'\n",
    "REPORTS_PATH  = 'Reports/'\n",
    "MODELS_PATH   = 'Models/'\n",
    "F1_SCORES_PATH = 'F1scores/'\n",
    "GA_SCORES_PATH = 'GA_Scores/'\n",
    "HYPERPARAMS_PATH = './hyperparams/'\n",
    "\n",
    "HYPERPARAMS_EVOLUTON_PATH = './hyperparams_evolution/'\n",
    "FINAL_POPULATION_PATH  = './population/'\n",
    "CONFUSIONS_MATRIX_PATH = 'confusion_matrix/'\n",
    "\n",
    "###### MODELS ######\n",
    "MODELS_NAME = ['knn', 'convolution_1d', 'convolution_2d', 'auto_ml']\n",
    "\n",
    "REPORTS_SUMMARY_PATH = f\"{REPORTS_PATH}summary/\"\n",
    "\n",
    "laptop = False\n",
    "calculate_weights = False\n",
    "train_nn = True\n",
    "\n",
    "leeds  = False\n",
    "madrid = True\n",
    "\n",
    "tree_method = 'auto' if laptop else 'gpu_hist'\n",
    "\n",
    "\n",
    "loaded_timestamp = '2022-05-16-11:29:06'\n"
   ]
  },
  {
   "cell_type": "markdown",
   "id": "1ccb628e-a7f4-40e8-a62d-576f7a78c2fd",
   "metadata": {
    "jp-MarkdownHeadingCollapsed": true,
    "tags": []
   },
   "source": [
    "## Importar Tensorflow"
   ]
  },
  {
   "cell_type": "code",
   "execution_count": 4,
   "id": "5bb40e62-06ae-46b9-a711-a5d5667c4dbb",
   "metadata": {},
   "outputs": [],
   "source": [
    "# !pip install tensorflow-addons"
   ]
  },
  {
   "cell_type": "code",
   "execution_count": 5,
   "id": "32053d4d-f4d8-4b07-9cd8-bb5bf4ac8d44",
   "metadata": {},
   "outputs": [],
   "source": [
    "import tensorflow as tf\n",
    "from tensorflow.keras import backend as K\n",
    "from tensorflow.keras import layers, models\n",
    "from tensorflow.keras.regularizers import l2\n",
    "from tensorflow.keras.optimizers import Adam\n",
    "from tensorflow.keras import applications, optimizers\n",
    "from tensorflow.keras.applications.vgg16 import VGG16, preprocess_input\n",
    "from tensorflow.keras.preprocessing.image import ImageDataGenerator, load_img, img_to_array\n",
    "from tensorflow.keras.utils import model_to_dot, plot_model\n",
    "from tensorflow.keras.layers import Input, Lambda, Activation, Conv2D, MaxPooling2D, BatchNormalization, Add, concatenate, Conv2DTranspose, Flatten"
   ]
  },
  {
   "cell_type": "code",
   "execution_count": 6,
   "id": "e5732f07-8398-47a1-9d62-53cf7dd45556",
   "metadata": {},
   "outputs": [
    {
     "name": "stdout",
     "output_type": "stream",
     "text": [
      "Found GPU at: /device:GPU:0\n"
     ]
    },
    {
     "name": "stderr",
     "output_type": "stream",
     "text": [
      "2022-05-16 13:24:00.844856: I tensorflow/core/platform/cpu_feature_guard.cc:151] This TensorFlow binary is optimized with oneAPI Deep Neural Network Library (oneDNN) to use the following CPU instructions in performance-critical operations:  AVX2 FMA\n",
      "To enable them in other operations, rebuild TensorFlow with the appropriate compiler flags.\n",
      "2022-05-16 13:24:00.908884: I tensorflow/stream_executor/cuda/cuda_gpu_executor.cc:936] successful NUMA node read from SysFS had negative value (-1), but there must be at least one NUMA node, so returning NUMA node zero\n",
      "2022-05-16 13:24:00.958176: I tensorflow/stream_executor/cuda/cuda_gpu_executor.cc:936] successful NUMA node read from SysFS had negative value (-1), but there must be at least one NUMA node, so returning NUMA node zero\n",
      "2022-05-16 13:24:00.958442: I tensorflow/stream_executor/cuda/cuda_gpu_executor.cc:936] successful NUMA node read from SysFS had negative value (-1), but there must be at least one NUMA node, so returning NUMA node zero\n",
      "2022-05-16 13:24:01.634670: I tensorflow/stream_executor/cuda/cuda_gpu_executor.cc:936] successful NUMA node read from SysFS had negative value (-1), but there must be at least one NUMA node, so returning NUMA node zero\n",
      "2022-05-16 13:24:01.634932: I tensorflow/stream_executor/cuda/cuda_gpu_executor.cc:936] successful NUMA node read from SysFS had negative value (-1), but there must be at least one NUMA node, so returning NUMA node zero\n",
      "2022-05-16 13:24:01.635145: I tensorflow/stream_executor/cuda/cuda_gpu_executor.cc:936] successful NUMA node read from SysFS had negative value (-1), but there must be at least one NUMA node, so returning NUMA node zero\n",
      "2022-05-16 13:24:01.635320: I tensorflow/core/common_runtime/gpu/gpu_device.cc:1525] Created device /device:GPU:0 with 3368 MB memory:  -> device: 0, name: NVIDIA GeForce GTX 1050, pci bus id: 0000:01:00.0, compute capability: 6.1\n"
     ]
    }
   ],
   "source": [
    "device_name = tf.test.gpu_device_name()\n",
    "if device_name != '/device:GPU:0':\n",
    "  raise SystemError('GPU device not found')\n",
    "print('Found GPU at: {}'.format(device_name))\n",
    "# !nvidia-smi"
   ]
  },
  {
   "cell_type": "markdown",
   "id": "213b591c-8916-415a-a23c-8309f52f56e8",
   "metadata": {
    "tags": []
   },
   "source": [
    "## Importador/Exportador JSON"
   ]
  },
  {
   "cell_type": "code",
   "execution_count": 7,
   "id": "75269bf0-27f7-4b71-b311-256035370133",
   "metadata": {
    "tags": []
   },
   "outputs": [],
   "source": [
    "import json\n",
    "\n",
    "def write_json(feature_vector, root_path, file_name):\n",
    "    with open(root_path + file_name, 'w') as outfile:\n",
    "        json.dump(feature_vector, outfile)\n",
    "\n",
    "def load_json(root_path, file_name):\n",
    "    with open(root_path + file_name) as json_file:\n",
    "        data = json.load(json_file)\n",
    "\n",
    "    return data"
   ]
  },
  {
   "cell_type": "markdown",
   "id": "f4388716-87a9-4e2d-ab4a-e3959fa1958f",
   "metadata": {
    "tags": []
   },
   "source": [
    "## Construcción de imágenes"
   ]
  },
  {
   "cell_type": "code",
   "execution_count": 8,
   "id": "75b5661a-a9ac-4686-9611-6d43711d1528",
   "metadata": {},
   "outputs": [],
   "source": [
    "import numpy as np\n",
    "import math\n",
    "from matplotlib import pyplot as plt\n",
    "\n",
    "def get_feature_matrix_indexes(sorted_feature_vector,matrix):  \n",
    "\n",
    "    half_row = round((matrix.shape[0] - 1) / 2)\n",
    "    half_column = round((matrix.shape[1] - 1) / 2)\n",
    "\n",
    "    matrix_indexes = {}\n",
    "    \n",
    "    index = 0\n",
    "\n",
    "    for parent_key in sorted_feature_vector:\n",
    "        normalized_index = math.ceil(index/2)\n",
    "\n",
    "        if (index % 2 != 0): # Impar\n",
    "            current_row = half_row - normalized_index\n",
    "        else: # Par\n",
    "            current_row = half_row + normalized_index\n",
    "\n",
    "        sorted_child_indexes = np.argsort(feature_vector[parent_key]['feature_weights'])[::-1]\n",
    "\n",
    "        child_names   = np.array(feature_vector[parent_key]['feature_childs'])\n",
    "        child_weights = np.array(feature_vector[parent_key]['feature_weights'])\n",
    "\n",
    "        sorted_child_names   = child_names[sorted_child_indexes]\n",
    "        sorted_child_weights = child_weights[sorted_child_indexes]\n",
    "\n",
    "        position = 0\n",
    "        for sorted_child_index in sorted_child_indexes:\n",
    "            normalized_position = math.ceil(position/2)\n",
    "\n",
    "            if (position % 2 != 0): # Impar\n",
    "                current_column = half_column - normalized_position\n",
    "            else: # Par\n",
    "                current_column = half_column + normalized_position\n",
    "\n",
    "            matrix_indexes[child_names[sorted_child_index]] = [current_row, current_column]\n",
    "            position = position + 1 \n",
    "\n",
    "        index = index + 1\n",
    "\n",
    "    return matrix_indexes\n",
    "    \n",
    "def fv2gi(feature_vector):\n",
    "\n",
    "    max_dimension = 0\n",
    "    for key in feature_vector:\n",
    "        childs_number = len(feature_vector[key]['feature_childs'])\n",
    "        max_dimension = max(childs_number, max_dimension)\n",
    "                \n",
    "    matrix = np.zeros((max_dimension, max_dimension))\n",
    "\n",
    "    weights_vector = []\n",
    "    for parent_key in feature_vector:\n",
    "        wpi = sum([float(child_weight) for child_weight in feature_vector[parent_key]['feature_weights']])\n",
    "        feature_vector[parent_key]['wpi'] = wpi\n",
    "        weights_vector.append(wpi)\n",
    "\n",
    "   \n",
    "    sorted_feature_vector = sorted(feature_vector.items(),\n",
    "                                   key = lambda item: item[1]['wpi'],\n",
    "                                   reverse = True)\n",
    "     \n",
    "    sorted_feature_vector = dict(sorted_feature_vector)\n",
    "\n",
    "    \n",
    "    matrix_indexes = get_feature_matrix_indexes(sorted_feature_vector, matrix)\n",
    "\n",
    "    return matrix_indexes\n",
    "\n",
    "# matrix_indexes = fv2gi(feature_vector)"
   ]
  },
  {
   "cell_type": "markdown",
   "id": "fbdb0004-1f9b-493a-9c83-91d943b5309d",
   "metadata": {
    "jp-MarkdownHeadingCollapsed": true,
    "tags": []
   },
   "source": [
    "## Construcción Feature Vector"
   ]
  },
  {
   "cell_type": "code",
   "execution_count": 9,
   "id": "077b732a-ca4a-440e-8ae2-dbb3d15ba01e",
   "metadata": {},
   "outputs": [],
   "source": [
    "def fill_feature_vector(X_dataset,child_weights):\n",
    "  # Obtenemos el set de columnas del dataset\n",
    "  train_columns_set  = set(X_dataset.columns)\n",
    "\n",
    "  for parent_feature in feature_vector.keys():\n",
    "    # Obtiene el set de características hijas del padre actual\n",
    "    # dict.fromleys para mantener el orden, un set desordena los valores\n",
    "    feature_childs_set = dict.fromkeys(feature_vector[parent_feature]['feature_childs'])\n",
    "\n",
    "    # Obtener el índice de las columnas del actual padre para acceder a los pesos del XGBoost\n",
    "    index_feature_childs = X_dataset.columns.get_indexer(feature_childs_set)\n",
    "\n",
    "    feature_vector[parent_feature]['feature_weights'] = list([str(child_weight) for child_weight in child_weights[index_feature_childs]])\n",
    "\n",
    "  return feature_vector"
   ]
  },
  {
   "cell_type": "markdown",
   "id": "150c95ea-ae18-4406-b116-5ce6674b7f6e",
   "metadata": {
    "jp-MarkdownHeadingCollapsed": true,
    "tags": []
   },
   "source": [
    "## Normalización de datos"
   ]
  },
  {
   "cell_type": "code",
   "execution_count": 10,
   "id": "017e1821-71be-48d9-85cb-07808165a1cb",
   "metadata": {},
   "outputs": [],
   "source": [
    "from scipy.stats import zscore\n",
    "import pandas as pd\n",
    "\n",
    "def normalize_data(X_data):\n",
    "\n",
    "    # Create a sample df\n",
    "    normalized_df = X_data\n",
    "\n",
    "    # Calculate the zscores and drop zscores into new column\n",
    "    for column in normalized_df.columns:\n",
    "        normalized_df[column] = zscore(normalized_df[column])\n",
    "    \n",
    "    return normalized_df"
   ]
  },
  {
   "cell_type": "markdown",
   "id": "8358c9a0-6423-4aa8-92a3-e01a8ac72bb0",
   "metadata": {
    "jp-MarkdownHeadingCollapsed": true,
    "tags": []
   },
   "source": [
    "## Oversampling de datos"
   ]
  },
  {
   "cell_type": "code",
   "execution_count": 11,
   "id": "efac95c3-8dc1-4acf-b4e0-78d24fa64131",
   "metadata": {
    "tags": []
   },
   "outputs": [],
   "source": [
    "from imblearn.over_sampling import BorderlineSMOTE\n",
    "from imblearn.over_sampling import RandomOverSampler\n",
    "from imblearn.over_sampling import KMeansSMOTE\n",
    "\n",
    "def oversample_data(X_data, Y_labels):\n",
    "\n",
    "    oversampler = BorderlineSMOTE(kind='borderline-2')\n",
    "    # oversampler = RandomOverSampler()\n",
    "    # oversampler = KMeansSMOTE()\n",
    "    X_oversampled, Y_oversampled = oversampler.fit_resample(X_data, Y_labels)\n",
    "\n",
    "    print('********** After OverSampling **********')\n",
    "    print('Slight: ', (Y_oversampled == 'Slight').sum())\n",
    "    print('Serious:', (Y_oversampled == 'Serious').sum())\n",
    "    print('Fatal:  ', (Y_oversampled == 'Fatal').sum())\n",
    "    print('\\n Total X: ', len(X_oversampled), ' Total Y: ', len(Y_oversampled), '\\n')\n",
    "\n",
    "    return X_oversampled, Y_oversampled"
   ]
  },
  {
   "cell_type": "markdown",
   "id": "31e306be-543d-4ba7-b9a4-2cb1cb938f0b",
   "metadata": {
    "jp-MarkdownHeadingCollapsed": true,
    "tags": []
   },
   "source": [
    "## Construcción de imágenes"
   ]
  },
  {
   "cell_type": "code",
   "execution_count": 12,
   "id": "7b61998b-bd46-4dad-a0e8-8363f92f7741",
   "metadata": {},
   "outputs": [],
   "source": [
    "def build_gray_images(dataset, max_dimension, matrix_indexes):\n",
    "\n",
    "    matrix_3d = np.zeros((max_dimension, max_dimension, len(dataset.index)))\n",
    "    print(len(dataset.index))\n",
    "    for feature, value in matrix_indexes.items():\n",
    "        matrix_3d[value[0], value[1],] = dataset[feature]\n",
    "        \n",
    "    return matrix_3d"
   ]
  },
  {
   "cell_type": "markdown",
   "id": "bc000ada-10b7-43b8-ab9f-789d9d35be8c",
   "metadata": {
    "tags": [],
    "toc-hr-collapsed": true
   },
   "source": [
    "## Algoritmo genético"
   ]
  },
  {
   "cell_type": "markdown",
   "id": "aabcfd52-f850-40a9-a44f-183653456b65",
   "metadata": {
    "tags": []
   },
   "source": [
    "### Inicializar población"
   ]
  },
  {
   "cell_type": "code",
   "execution_count": 13,
   "id": "1f539cc1-22ad-467b-8e0b-0c892aff1111",
   "metadata": {},
   "outputs": [],
   "source": [
    "def generate_individual(hyperparams_to_optimize):\n",
    "\n",
    "    individual = []\n",
    "\n",
    "    for key in hyperparams_to_optimize:\n",
    "        min_value = hyperparams_to_optimize[key]['init'][0]\n",
    "        max_value = hyperparams_to_optimize[key]['init'][1]\n",
    "        data_type = hyperparams_to_optimize[key]['type']\n",
    "        \n",
    "        if data_type == 'int':\n",
    "            step = hyperparams_to_optimize[key]['step']\n",
    "            hyperparam = int(random.randrange(min_value, max_value))\n",
    "\n",
    "        if data_type == 'float':\n",
    "            round_to = hyperparams_to_optimize[key]['round']\n",
    "            hyperparam = round(random.uniform(min_value, max_value), round_to)\n",
    "\n",
    "        individual.append(hyperparam)\n",
    "    \n",
    "    return individual\n",
    "\n",
    "def initialize_population(number_of_individuals, hyperparams_to_optimize):\n",
    "    population = []\n",
    "\n",
    "    for i in range(number_of_individuals):\n",
    "\n",
    "        population.append(generate_individual(hyperparams_to_optimize))\n",
    "      \n",
    "    return np.array(population)"
   ]
  },
  {
   "cell_type": "markdown",
   "id": "0b80a92b-17eb-4a29-b12e-3852265dde12",
   "metadata": {
    "jp-MarkdownHeadingCollapsed": true,
    "tags": []
   },
   "source": [
    "### Fitness function"
   ]
  },
  {
   "cell_type": "code",
   "execution_count": 14,
   "id": "d5133e38-307e-4138-a664-fd4e28dc89c4",
   "metadata": {},
   "outputs": [],
   "source": [
    "from sklearn.metrics import f1_score\n",
    "\n",
    "def fitness_f1score(y_true, y_pred):\n",
    "\n",
    "    fitness = round((f1_score(y_true, y_pred, average='macro')), 4)\n",
    "\n",
    "    return fitness # Train the data annd find fitness score"
   ]
  },
  {
   "cell_type": "markdown",
   "id": "f9222dcc-088c-468e-bbc7-a0dec6541004",
   "metadata": {
    "tags": []
   },
   "source": [
    "### Evaluación de población"
   ]
  },
  {
   "cell_type": "code",
   "execution_count": 15,
   "id": "03f69b5d-1aba-4bad-a705-adcc672e68d2",
   "metadata": {},
   "outputs": [
    {
     "name": "stderr",
     "output_type": "stream",
     "text": [
      "/home/luis/anaconda3/envs/TFM/lib/python3.9/site-packages/xgboost/compat.py:36: FutureWarning: pandas.Int64Index is deprecated and will be removed from pandas in a future version. Use pandas.Index with the appropriate dtype instead.\n",
      "  from pandas import MultiIndex, Int64Index\n"
     ]
    }
   ],
   "source": [
    "from xgboost import XGBClassifier\n",
    "import xgboost as xgb\n",
    "import time\n",
    "\n",
    "\n",
    "\n",
    "def train_population(population, hyperparams_to_optimize, dMatrixTrain, dMatrixTest, Y_test):\n",
    "\n",
    "    fScore = []\n",
    "    \n",
    "    params = {'objective':'multi:softprob',\n",
    "               'tree_method': tree_method,\n",
    "               'single_precision_histogram': True,\n",
    "               'num_class': 3\n",
    "             }\n",
    "\n",
    "    for individual_index in range(population.shape[0]):\n",
    "        # Se almacenan en hyperparams_to_optimize los valores del individuo con su nombre correspondiente de hyperparams_name_to_optimize.\n",
    "        hyperparams = {}\n",
    "\n",
    "        for index, hyperparam_value in enumerate(population[individual_index]):\n",
    "\n",
    "            hyperparam_name_to_optimize = list(hyperparams_to_optimize.keys())[index]\n",
    "            data_type = hyperparams_to_optimize[hyperparam_name_to_optimize]['type']\n",
    "\n",
    "            hyperparams[hyperparam_name_to_optimize] = hyperparam_value\n",
    "            hyperparams[hyperparam_name_to_optimize] = hyperparams[hyperparam_name_to_optimize].astype(data_type)\n",
    "        \n",
    "        params.update(hyperparams)\n",
    "\n",
    "        # num_round = params['n_estimators']\n",
    "        \n",
    "        start = time.time()\n",
    "\n",
    "#         if not laptop:\n",
    "\n",
    "#             import dask.array as da\n",
    "#             import dask.distributed\n",
    "\n",
    "#             if __name__ == \"__main__\":\n",
    "#                 cluster = dask.distributed.LocalCluster()\n",
    "#                 client = dask.distributed.Client(cluster)\n",
    "\n",
    "\n",
    "#                 output = xgb.dask.train(\n",
    "#                                         client,\n",
    "#                                         params,\n",
    "#                                         dMatrixTrain,\n",
    "#                                         num_boost_round=4,\n",
    "#                                         evals=[(dMatrixTrain, \"train\")],\n",
    "#                 )\n",
    "#         else:\n",
    "\n",
    "        xgb.set_config(verbosity=0)\n",
    "        bst = xgb.train(params,\n",
    "                        dMatrixTrain)\n",
    "                        # num_round)\n",
    "\n",
    "        end = time.time()\n",
    "\n",
    "        preds = bst.predict(dMatrixTest)\n",
    "        \n",
    "        single_predictions = [np.argmax(pred) for pred in preds]\n",
    "        # preds = preds > 0.5\n",
    "\n",
    "        fitness_score = fitness_f1score(Y_test, single_predictions)\n",
    "\n",
    "        # print(f\"{individual_index}: {hyperparams} --> time(s): {round(end - start, 2)} --> score: {fitness_score}\")\n",
    "\n",
    "        fScore.append(fitness_score)\n",
    "\n",
    "    return fScore"
   ]
  },
  {
   "cell_type": "markdown",
   "id": "49b66fd8-ae70-4f20-84f6-0113ae309a08",
   "metadata": {
    "jp-MarkdownHeadingCollapsed": true,
    "tags": []
   },
   "source": [
    "### Selección de padres"
   ]
  },
  {
   "cell_type": "code",
   "execution_count": 16,
   "id": "771d8007-f28e-424c-8ff6-f174822b02a1",
   "metadata": {},
   "outputs": [],
   "source": [
    "# Select parents for mating\n",
    "def new_parents_selection(population, fitness, numParents):\n",
    "    selectedParents = np.empty((numParents, population.shape[1])) # Create an array to store fittest parents.\n",
    "\n",
    "    for parentId in range(numParents):\n",
    "        bestFitnessId = np.where(fitness == np.max(fitness))\n",
    "        bestFitnessId  = bestFitnessId[0][0]\n",
    "        selectedParents[parentId, :] = population[bestFitnessId, :]\n",
    "        fitness[bestFitnessId] = -1 # Set this value to negative, in case of F1-score, so this parent is not selected again\n",
    "\n",
    "    return selectedParents"
   ]
  },
  {
   "cell_type": "markdown",
   "id": "78f9b882-ad82-4446-a301-a856dedbd660",
   "metadata": {
    "jp-MarkdownHeadingCollapsed": true,
    "tags": []
   },
   "source": [
    "### Cruzamiento de población"
   ]
  },
  {
   "cell_type": "code",
   "execution_count": 17,
   "id": "db837b53-3d02-446c-aa9c-6c772da6be04",
   "metadata": {},
   "outputs": [],
   "source": [
    "'''\n",
    "Mate these parents to create children having parameters from these parents (we are using uniform crossover method)\n",
    "'''\n",
    "def crossover_uniform(parents, childrenSize):\n",
    "    \n",
    "    crossoverPointIndex  = np.arange(0, np.uint8(childrenSize[1]), 1, dtype= np.uint8) # get all the index\n",
    "    crossoverPointIndex1 = np.random.randint(0, np.uint8(childrenSize[1]), np.uint8(childrenSize[1]/2)) # select half  of the indexes randomly\n",
    "    crossoverPointIndex2 = np.array(list(set(crossoverPointIndex) - set(crossoverPointIndex1))) #select leftover indexes\n",
    "    \n",
    "    children = np.empty(childrenSize)\n",
    "    \n",
    "    '''\n",
    "    Create child by choosing parameters from two parents selected using new_parent_selection function. The parameter values\n",
    "    will be picked from the indexes, which were randomly selected above. \n",
    "    '''\n",
    "    for i in range(childrenSize[0]):\n",
    "        \n",
    "        #find parent 1 index \n",
    "        parent1_index = i%parents.shape[0]\n",
    "        #find parent 2 index\n",
    "        parent2_index = (i+1)%parents.shape[0]\n",
    "        #insert parameters based on random selected indexes in parent 1\n",
    "        children[i, crossoverPointIndex1] = parents[parent1_index, crossoverPointIndex1]\n",
    "        #insert parameters based on random selected indexes in parent 1\n",
    "        children[i, crossoverPointIndex2] = parents[parent2_index, crossoverPointIndex2]\n",
    "\n",
    "    return children"
   ]
  },
  {
   "cell_type": "markdown",
   "id": "17d549ad-a75d-4943-a89a-ea9e783054a6",
   "metadata": {
    "tags": []
   },
   "source": [
    "### Mutación"
   ]
  },
  {
   "cell_type": "code",
   "execution_count": 18,
   "id": "bb741b25-56ed-4e66-adbd-42d3b5607974",
   "metadata": {},
   "outputs": [],
   "source": [
    "def mutation(crossover, hyperparams_to_optimize):\n",
    "    \n",
    "    # MUTATION_PROBABILITY = 1/numberOfParameters\n",
    "    \n",
    "    MUTATION_PROBABILITY = 0.2\n",
    "    number_of_parameters = len(hyperparams_to_optimize)\n",
    "\n",
    "    for idx in range(crossover.shape[0]):\n",
    "\n",
    "        mutation_probability = np.random.rand(1)\n",
    "\n",
    "        while MUTATION_PROBABILITY > mutation_probability:\n",
    "\n",
    "            mutationValue = 0\n",
    "\n",
    "            hyperparam_selected_index = np.random.randint(0, number_of_parameters)\n",
    "            hyperparam_selected_name  = list(hyperparams_to_optimize.keys())[hyperparam_selected_index]\n",
    "\n",
    "            min_limit_value = hyperparams_to_optimize[hyperparam_selected_name]['init'][0]\n",
    "            max_limit_value = hyperparams_to_optimize[hyperparam_selected_name]['init'][1]\n",
    "\n",
    "            min_mutation_value = hyperparams_to_optimize[hyperparam_selected_name]['mutation'][0]\n",
    "            max_mutation_value = hyperparams_to_optimize[hyperparam_selected_name]['mutation'][1]\n",
    "\n",
    "            data_type = hyperparams_to_optimize[hyperparam_selected_name]['type']\n",
    "            \n",
    "            if data_type == 'int':\n",
    "                step = hyperparams_to_optimize[hyperparam_selected_name]['step']\n",
    "                mutationValue = int(random.randrange(min_mutation_value, max_mutation_value, step = step))\n",
    "\n",
    "            if data_type == 'float':\n",
    "                round_to = hyperparams_to_optimize[hyperparam_selected_name]['round']\n",
    "                mutationValue = round(random.uniform(min_mutation_value, max_mutation_value), round_to)\n",
    "                \n",
    "            # print(idx, hyperparam_selected_name, mutationValue)\n",
    "\n",
    "            crossover[idx, hyperparam_selected_index] = crossover[idx,hyperparam_selected_index] + mutationValue\n",
    "\n",
    "            if(crossover[idx, hyperparam_selected_index] > max_limit_value):\n",
    "                crossover[idx, hyperparam_selected_index] = max_limit_value\n",
    "\n",
    "            if(crossover[idx, hyperparam_selected_index] < min_limit_value):\n",
    "                crossover[idx, hyperparam_selected_index] = min_limit_value\n",
    "                \n",
    "            mutation_probability = np.random.rand(1)\n",
    "\n",
    "\n",
    "    return crossover"
   ]
  },
  {
   "cell_type": "markdown",
   "id": "d37d6d9f-8ae4-4740-9983-e51d39cdeac6",
   "metadata": {
    "jp-MarkdownHeadingCollapsed": true,
    "tags": []
   },
   "source": [
    "## Reshape de imágenes"
   ]
  },
  {
   "cell_type": "code",
   "execution_count": 19,
   "id": "5ded491b-6d05-44f5-9ee9-44064babfd00",
   "metadata": {},
   "outputs": [],
   "source": [
    "# Add one channel\n",
    "# https://machinelearningmastery.com/a-gentle-introduction-to-channels-first-and-channels-last-image-formats-for-deep-learning/\n",
    "\n",
    "# Add one channel to gray images depending of the number of the data\n",
    "def shape_images(X_data, gray_images):\n",
    "  images = []\n",
    "\n",
    "  for i in range(0,len(X_data)):\n",
    "      original_matrix = gray_images[:,:,i]\n",
    "      # print(original_matrix.shape)\n",
    "      shaped_image = np.expand_dims(original_matrix, axis=2)\n",
    "      # print(shaped_image.shape)\n",
    "      images.append(shaped_image)\n",
    "      # plt.matshow(shaped_image)\n",
    "\n",
    "  return images"
   ]
  },
  {
   "cell_type": "markdown",
   "id": "3a71fa80-2c77-46a3-819c-bb7a0ff9a5a1",
   "metadata": {
    "jp-MarkdownHeadingCollapsed": true,
    "tags": []
   },
   "source": [
    "## One-Hot Encoder/Decoder"
   ]
  },
  {
   "cell_type": "code",
   "execution_count": 20,
   "id": "81a2db8a-49a5-4a06-bf66-025a0d472001",
   "metadata": {},
   "outputs": [],
   "source": [
    "def casualty_to_one_hot(Y_labels):\n",
    "\n",
    "    transf = {\n",
    "        'Slight': 0,\n",
    "        'Serious': 1,\n",
    "        'Fatal': 2\n",
    "    }\n",
    "\n",
    "    Y_labels.replace(transf, inplace = True)\n",
    "\n",
    "    return tf.one_hot(Y_labels, 3)\n",
    "\n",
    "def one_hot_to_casualty(Y_labels):\n",
    "\n",
    "    transf = {\n",
    "        0: 'Slight',\n",
    "        1: 'Serious',\n",
    "        2: 'Fatal'\n",
    "    }   \n",
    "\n",
    "    return Y_labels.replace(transf)"
   ]
  },
  {
   "cell_type": "markdown",
   "id": "021df180-f056-4e21-ac6e-39d41369831b",
   "metadata": {
    "tags": [],
    "toc-hr-collapsed": true
   },
   "source": [
    "## Visualización de datos"
   ]
  },
  {
   "cell_type": "markdown",
   "id": "5d7a4a49-64d8-4a32-abf7-e626f39d0938",
   "metadata": {
    "jp-MarkdownHeadingCollapsed": true,
    "tags": []
   },
   "source": [
    "### Matriz de correlación"
   ]
  },
  {
   "cell_type": "code",
   "execution_count": 21,
   "id": "29dfa69d-7135-476f-9c1d-4ebf5d30bf53",
   "metadata": {},
   "outputs": [],
   "source": [
    "import seaborn as sns\n",
    "\n",
    "def correlation_matrix(X_data):\n",
    "    corrMatrix = X_data.corr()\n",
    "    fig,ax  = plt.subplots(1,1,figsize=(20,15))\n",
    "    sns.heatmap(corrMatrix, annot=True)\n",
    "    ax.set_xticklabels(ax.get_xticklabels(),rotation = 30)\n",
    "    plt.savefig('saving-a-seaborn-plot-as-eps-file.svg')\n",
    "    plt.show()\n"
   ]
  },
  {
   "cell_type": "markdown",
   "id": "78eaa5de-34f0-4724-ba36-0fdcf19c64e7",
   "metadata": {
    "jp-MarkdownHeadingCollapsed": true,
    "tags": []
   },
   "source": [
    "### PCA"
   ]
  },
  {
   "cell_type": "code",
   "execution_count": 22,
   "id": "7d011694-26fe-41e3-9a39-85722f128f6f",
   "metadata": {},
   "outputs": [],
   "source": [
    "from sklearn.decomposition import PCA\n",
    "\n",
    "def pca(X_train_data, X_test_data):\n",
    "    pca = PCA()\n",
    "    X_train_pca = pca.fit_transform(X_train_data)\n",
    "    X_test_pca  = pca.transform(X_test_data)\n",
    "    explained_variance = pca.explained_variance_ratio_\n",
    "\n",
    "    figure_name = plt.figure(figsize=(20, 15))\n",
    "    plt.plot(np.cumsum(pca.explained_variance_ratio_))\n",
    "    plt.xlabel('number of components')\n",
    "    plt.ylabel('cumulative explained variance')\n",
    "    plt.savefig('saving-a-seaborn-plot-as-eps-file.svg')\n",
    "    plt.show()"
   ]
  },
  {
   "cell_type": "markdown",
   "id": "401456b5-b7b9-421c-83db-709796ee1d8e",
   "metadata": {
    "jp-MarkdownHeadingCollapsed": true,
    "tags": []
   },
   "source": [
    "### TSNE"
   ]
  },
  {
   "cell_type": "code",
   "execution_count": 23,
   "id": "74c55dca-09c1-4831-a64c-bc04a9cdf73e",
   "metadata": {},
   "outputs": [],
   "source": [
    "from sklearn.manifold import TSNE\n",
    "from sklearn.preprocessing import StandardScaler\n",
    "\n",
    "def plot_TSNE(X_data, Y_data, n_components, output_file_name = None):\n",
    "\n",
    "    X_data_scaled = StandardScaler().fit_transform(X_data)\n",
    "    z_data = TSNE(n_components = n_components).fit_transform(X_data_scaled)\n",
    "\n",
    "    # X_test_scaled = StandardScaler().fit_transform(X_test),\n",
    "    # z_test = TSNE(n_components=2).fit_transform(X_test_scaled),\n",
    "\n",
    "    palette = sns.color_palette('husl', 3)\n",
    "    fig,ax  = plt.subplots(1, 1, figsize=(15,10))\n",
    "    sns.scatterplot(x = z_data[:,0],\n",
    "                    y = z_data[:,1],\n",
    "                    hue = Y_data,\n",
    "                    palette = palette,\n",
    "                    legend = 'full')\n",
    "\n",
    "    if (output_file_name): plt.savefig('./Out/' + output_file_name)"
   ]
  },
  {
   "cell_type": "markdown",
   "id": "f80b4c26-5100-4723-9342-b7b9aa187d79",
   "metadata": {
    "jp-MarkdownHeadingCollapsed": true,
    "tags": []
   },
   "source": [
    "### Autoencoder"
   ]
  },
  {
   "cell_type": "code",
   "execution_count": 24,
   "id": "0f4072a7-e2e5-4e45-9456-4bea3270a25a",
   "metadata": {},
   "outputs": [],
   "source": [
    "def autoencoder ():\n",
    "    input_img = Input(shape=(25,))\n",
    "\n",
    "    # definimos el encoder, que tendra una entrada de Input_img y una segunda capa con entrada de encoder1 y salida 3\n",
    "    encoder1 = layers.Dense(15, activation='sigmoid')(input_img)\n",
    "    encoder2 = layers.Dense(3, activation='sigmoid')(encoder1)\n",
    "\n",
    "    # definimos el  decoder que tendra una entrada inicial de encoder3 y una salida de 128 y finalmete una capa de salida con los mismos que Input_img\n",
    "    decoder1 = layers.Dense(15, activation='sigmoid')(encoder2)\n",
    "    decoder2 = layers.Dense(25, activation='sigmoid')(decoder1)\n",
    "\n",
    "    # this model maps an input to its reconstruction\n",
    "    autoencoder = tf.keras.Model(inputs=input_img, outputs=decoder2)\n",
    "    autoencoder.summary()\n",
    "\n",
    "    autoencoder.compile(optimizer='adam', loss='binary_crossentropy') #se usan estos dos en estas arquitecturas\n",
    "    \n",
    "    return autoencoder"
   ]
  },
  {
   "cell_type": "markdown",
   "id": "6ffc6df4-982b-49e8-8649-8da2c48a5af1",
   "metadata": {
    "tags": []
   },
   "source": [
    "## 1D-Convolution"
   ]
  },
  {
   "cell_type": "code",
   "execution_count": 25,
   "id": "22b2924f-95ff-40c7-9f3f-f25569fc4267",
   "metadata": {},
   "outputs": [
    {
     "name": "stderr",
     "output_type": "stream",
     "text": [
      "2022-05-16 13:24:03.227006: I tensorflow/stream_executor/cuda/cuda_gpu_executor.cc:936] successful NUMA node read from SysFS had negative value (-1), but there must be at least one NUMA node, so returning NUMA node zero\n",
      "2022-05-16 13:24:03.227315: I tensorflow/stream_executor/cuda/cuda_gpu_executor.cc:936] successful NUMA node read from SysFS had negative value (-1), but there must be at least one NUMA node, so returning NUMA node zero\n",
      "2022-05-16 13:24:03.227510: I tensorflow/stream_executor/cuda/cuda_gpu_executor.cc:936] successful NUMA node read from SysFS had negative value (-1), but there must be at least one NUMA node, so returning NUMA node zero\n",
      "2022-05-16 13:24:03.227966: I tensorflow/stream_executor/cuda/cuda_gpu_executor.cc:936] successful NUMA node read from SysFS had negative value (-1), but there must be at least one NUMA node, so returning NUMA node zero\n",
      "2022-05-16 13:24:03.228167: I tensorflow/stream_executor/cuda/cuda_gpu_executor.cc:936] successful NUMA node read from SysFS had negative value (-1), but there must be at least one NUMA node, so returning NUMA node zero\n",
      "2022-05-16 13:24:03.228348: I tensorflow/stream_executor/cuda/cuda_gpu_executor.cc:936] successful NUMA node read from SysFS had negative value (-1), but there must be at least one NUMA node, so returning NUMA node zero\n",
      "2022-05-16 13:24:03.228583: I tensorflow/stream_executor/cuda/cuda_gpu_executor.cc:936] successful NUMA node read from SysFS had negative value (-1), but there must be at least one NUMA node, so returning NUMA node zero\n",
      "2022-05-16 13:24:03.228782: I tensorflow/stream_executor/cuda/cuda_gpu_executor.cc:936] successful NUMA node read from SysFS had negative value (-1), but there must be at least one NUMA node, so returning NUMA node zero\n",
      "2022-05-16 13:24:03.228918: I tensorflow/core/common_runtime/gpu/gpu_device.cc:1525] Created device /job:localhost/replica:0/task:0/device:GPU:0 with 3368 MB memory:  -> device: 0, name: NVIDIA GeForce GTX 1050, pci bus id: 0000:01:00.0, compute capability: 6.1\n"
     ]
    }
   ],
   "source": [
    "import tensorflow_addons as tfa\n",
    "\n",
    "lr_init = 0.1\n",
    "num_classes = 3\n",
    "\n",
    "convolution_1d = models.Sequential()\n",
    "convolution_1d.add(layers.Conv1D(256, 3,strides = 1, activation='relu', padding='same', input_shape=(5, 5, 1)))\n",
    "convolution_1d.add(layers.BatchNormalization())\n",
    "convolution_1d.add(layers.Conv1D(256, 3, strides = 1, activation='relu', padding='same', input_shape=(3, 3, 256)))\n",
    "convolution_1d.add(layers.BatchNormalization())\n",
    "convolution_1d.add(layers.Conv1D(256, 3, strides = 1, activation='relu', padding='same', input_shape=(3, 3, 256)))\n",
    "convolution_1d.add(layers.BatchNormalization())\n",
    "convolution_1d.add(layers.Conv1D(256, 3, strides = 1, activation='relu', padding='same', input_shape=(3, 3, 256)))\n",
    "convolution_1d.add(layers.BatchNormalization())  \n",
    "convolution_1d.add(layers.Flatten())\n",
    "convolution_1d.add(layers.Dense(units=128))\n",
    "convolution_1d.add(layers.Dense(num_classes, activation='softmax'))\n",
    "\n",
    "convolution_1d.compile(\n",
    "    optimizer=Adam(learning_rate = lr_init, epsilon=1e-06),\n",
    "    loss='categorical_crossentropy',\n",
    "    metrics=[tfa.metrics.F1Score(num_classes = num_classes, average='macro', threshold=0.1)]\n",
    "  )"
   ]
  },
  {
   "cell_type": "markdown",
   "id": "7d8ea062-c0b7-4486-9ebe-94ae66a58b54",
   "metadata": {
    "tags": []
   },
   "source": [
    "## TASP-CNN"
   ]
  },
  {
   "cell_type": "code",
   "execution_count": 26,
   "id": "05497b70-0400-4219-8a07-3a43005066cb",
   "metadata": {},
   "outputs": [],
   "source": [
    "lr_init = 0.1\n",
    "num_classes = 3\n",
    "\n",
    "tasp_cnn = models.Sequential()\n",
    "tasp_cnn.add(layers.Conv2D(256, (3, 3), strides=(1, 1), activation='relu', padding='same', input_shape=(5, 5, 1)))\n",
    "tasp_cnn.add(layers.BatchNormalization())\n",
    "tasp_cnn.add(layers.Conv2D(256, (3, 3), strides=(1, 1), activation='relu', padding='same', input_shape=(3, 3, 256)))\n",
    "tasp_cnn.add(layers.BatchNormalization())\n",
    "tasp_cnn.add(layers.Conv2D(256, (3, 3), strides=(1, 1), activation='relu', padding='same', input_shape=(3, 3, 256)))\n",
    "tasp_cnn.add(layers.BatchNormalization())\n",
    "tasp_cnn.add(layers.Conv2D(256, (3, 3), strides=(1, 1), activation='relu', padding='same', input_shape=(3, 3, 256)))\n",
    "tasp_cnn.add(layers.BatchNormalization())  \n",
    "tasp_cnn.add(layers.Flatten())\n",
    "tasp_cnn.add(layers.Dense(units=128))\n",
    "tasp_cnn.add(layers.Dense(num_classes, activation='softmax'))\n",
    "\n",
    "tasp_cnn.compile(\n",
    "    optimizer=Adam(learning_rate = lr_init, epsilon=1e-06),\n",
    "    loss='categorical_crossentropy',\n",
    "    metrics=[tfa.metrics.F1Score(num_classes = num_classes, average='macro', threshold=0.1)]\n",
    "  )"
   ]
  },
  {
   "cell_type": "code",
   "execution_count": 27,
   "id": "7b99ef66-1c52-47f9-851f-2cab1406b114",
   "metadata": {},
   "outputs": [
    {
     "name": "stdout",
     "output_type": "stream",
     "text": [
      "Model: \"sequential_1\"\n",
      "_________________________________________________________________\n",
      " Layer (type)                Output Shape              Param #   \n",
      "=================================================================\n",
      " conv2d (Conv2D)             (None, 5, 5, 256)         2560      \n",
      "                                                                 \n",
      " batch_normalization_4 (Batc  (None, 5, 5, 256)        1024      \n",
      " hNormalization)                                                 \n",
      "                                                                 \n",
      " conv2d_1 (Conv2D)           (None, 5, 5, 256)         590080    \n",
      "                                                                 \n",
      " batch_normalization_5 (Batc  (None, 5, 5, 256)        1024      \n",
      " hNormalization)                                                 \n",
      "                                                                 \n",
      " conv2d_2 (Conv2D)           (None, 5, 5, 256)         590080    \n",
      "                                                                 \n",
      " batch_normalization_6 (Batc  (None, 5, 5, 256)        1024      \n",
      " hNormalization)                                                 \n",
      "                                                                 \n",
      " conv2d_3 (Conv2D)           (None, 5, 5, 256)         590080    \n",
      "                                                                 \n",
      " batch_normalization_7 (Batc  (None, 5, 5, 256)        1024      \n",
      " hNormalization)                                                 \n",
      "                                                                 \n",
      " flatten_1 (Flatten)         (None, 6400)              0         \n",
      "                                                                 \n",
      " dense_2 (Dense)             (None, 128)               819328    \n",
      "                                                                 \n",
      " dense_3 (Dense)             (None, 3)                 387       \n",
      "                                                                 \n",
      "=================================================================\n",
      "Total params: 2,596,611\n",
      "Trainable params: 2,594,563\n",
      "Non-trainable params: 2,048\n",
      "_________________________________________________________________\n"
     ]
    }
   ],
   "source": [
    "tasp_cnn.summary()"
   ]
  },
  {
   "cell_type": "code",
   "execution_count": 28,
   "id": "41d457bb-2db3-4b69-b0b7-bcf867dbeb09",
   "metadata": {},
   "outputs": [
    {
     "name": "stdout",
     "output_type": "stream",
     "text": [
      "Done!\n"
     ]
    }
   ],
   "source": [
    "print('Done!')"
   ]
  },
  {
   "cell_type": "markdown",
   "id": "58ea9112-c2a3-474d-87a5-ba64c599ab56",
   "metadata": {},
   "source": [
    "## Results"
   ]
  },
  {
   "cell_type": "markdown",
   "id": "c0a5be32-4a2d-457d-bd39-5ab2da01a809",
   "metadata": {
    "jp-MarkdownHeadingCollapsed": true,
    "tags": []
   },
   "source": [
    "### F1-Score History"
   ]
  },
  {
   "cell_type": "code",
   "execution_count": 29,
   "id": "6daa83e3-3b42-4e84-ae09-087c65298e52",
   "metadata": {},
   "outputs": [],
   "source": [
    "def plot_f1_score_history(f1_score_path, f1_score_name, history):\n",
    "    figure_name = plt.figure(figsize=(20, 10))\n",
    "\n",
    "    plt.plot(history.history['f1_score'], label='F1 score (training data)')\n",
    "    plt.plot(history.history['val_f1_score'], label='F1 score (validation data)')\n",
    "    plt.title('F1 score')\n",
    "    plt.ylabel('F1 score value')\n",
    "    plt.xlabel('No. epoch')\n",
    "    plt.legend(loc=\"upper left\")\n",
    "    plt.savefig(f1_score_path + f1_score_name)\n",
    "    plt.show()\n",
    "    \n",
    "    print(history)"
   ]
  },
  {
   "cell_type": "markdown",
   "id": "4529e0fc-6e5c-46aa-8029-d053d4df3d88",
   "metadata": {
    "jp-MarkdownHeadingCollapsed": true,
    "tags": []
   },
   "source": [
    "### Classification Report"
   ]
  },
  {
   "cell_type": "code",
   "execution_count": 30,
   "id": "14bcc399-bc1c-490d-b537-3fd46d4e49cf",
   "metadata": {},
   "outputs": [],
   "source": [
    "from sklearn.metrics import classification_report\n",
    "\n",
    "def plot_classification_report(path, file_name, y_true, y_predicted):\n",
    "\n",
    "    labels = one_hot_to_casualty(y_true)\n",
    "\n",
    "    report = classification_report(y_true,\n",
    "                                   y_predicted,\n",
    "                                   target_names = labels.unique(),\n",
    "                                   output_dict  = True)\n",
    "\n",
    "\n",
    "    report_df = pd.DataFrame(report).transpose()\n",
    "    report_df.to_csv(path + file_name, index = True)\n",
    "\n",
    "    print(report_df)"
   ]
  },
  {
   "cell_type": "markdown",
   "id": "7cb9703d-abc2-42b0-8dff-31a2a715815e",
   "metadata": {
    "jp-MarkdownHeadingCollapsed": true,
    "tags": []
   },
   "source": [
    "### Confusion Matrix"
   ]
  },
  {
   "cell_type": "code",
   "execution_count": 31,
   "id": "1d46827f-b218-49c7-9902-4337c1457d87",
   "metadata": {},
   "outputs": [],
   "source": [
    "from sklearn.metrics import confusion_matrix, ConfusionMatrixDisplay\n",
    "\n",
    "def plot_confusion_matrix(path, file_name, y_true, y_predicted):\n",
    "\n",
    "    cm = confusion_matrix(y_true,\n",
    "                          y_predicted,\n",
    "                          labels = y_true.unique())\n",
    "\n",
    "    labels = one_hot_to_casualty(y_true)\n",
    "\n",
    "    disp = ConfusionMatrixDisplay(confusion_matrix = cm,\n",
    "                                  display_labels = labels.unique()).plot()\n",
    "\n",
    "    plt.savefig(path + file_name, dpi = 150)"
   ]
  },
  {
   "cell_type": "markdown",
   "id": "pcQtLPSUVwgf",
   "metadata": {
    "id": "pcQtLPSUVwgf",
    "tags": []
   },
   "source": [
    "# Leeds Data"
   ]
  },
  {
   "cell_type": "markdown",
   "id": "e4tAAMniVQ-O",
   "metadata": {
    "id": "e4tAAMniVQ-O",
    "tags": []
   },
   "source": [
    "## Importación de datos"
   ]
  },
  {
   "cell_type": "code",
   "execution_count": 32,
   "id": "8d027c46-8e31-4698-86f1-38547595abce",
   "metadata": {},
   "outputs": [],
   "source": [
    "# !conda install pandas --y"
   ]
  },
  {
   "cell_type": "code",
   "execution_count": 33,
   "id": "e6951ab4",
   "metadata": {
    "id": "e6951ab4"
   },
   "outputs": [],
   "source": [
    "import pandas as pd\n",
    "# https://datamillnorth.org/dataset/road-traffic-accidents\n",
    "# root_path = '/content/drive/Othercomputers/Mi portátil/Drive/Master UA/TFM/TFM_DATA/'\n",
    "\n",
    "city_name = 'leeds'\n",
    "\n",
    "root_path = './Data/Leeds/'\n",
    "\n",
    "file_path_2009 = './2009.csv'\n",
    "file_path_2010 = './2010.csv'\n",
    "file_path_2011 = './2011.csv'\n",
    "file_path_2012 = './2012.csv'\n",
    "file_path_2013 = './2013.csv'\n",
    "file_path_2014 = './2014.csv'\n",
    "file_path_2015 = './2015.csv'\n",
    "file_path_2016 = './2016.csv'\n",
    "\n",
    "file_2009 = pd.read_csv(root_path + file_path_2009, encoding = 'cp1252')\n",
    "file_2010 = pd.read_csv(root_path + file_path_2010, encoding = 'cp1252')\n",
    "file_2011 = pd.read_csv(root_path + file_path_2011, encoding = 'cp1252')\n",
    "file_2012 = pd.read_csv(root_path + file_path_2012, encoding = 'cp1252')\n",
    "file_2013 = pd.read_csv(root_path + file_path_2013, encoding = 'cp1252')\n",
    "file_2014 = pd.read_csv(root_path + file_path_2014, encoding = 'cp1252')\n",
    "file_2015 = pd.read_csv(root_path + file_path_2015, encoding = 'cp1252')\n",
    "file_2016 = pd.read_csv(root_path + file_path_2016, encoding = 'cp1252')\n",
    "\n",
    "###################### UNIÓN DE ARCHIVOS ######################\n",
    "\n",
    "a = pd.concat([file_2009,file_2010])\n",
    "\n",
    "file_2013 = clean_df = file_2013.loc[:, ~file_2013.columns.isin(['Casualty Class'])]\n",
    "file_2013.set_axis(a.columns, axis=1, inplace=True)\n",
    "                                             \n",
    "file_2014 = clean_df = file_2014.loc[:, ~file_2014.columns.isin(['Casualty Class'])]\n",
    "file_2014.set_axis(a.columns, axis=1, inplace=True)\n",
    "\n",
    "# file_2015 = clean_df = file_2015.loc[:, ~file_2015.columns.isin(['Casualty Class'])]\n",
    "file_2015.set_axis(a.columns, axis=1, inplace=True)\n",
    "file_2016 = clean_df = file_2016.loc[:, ~file_2016.columns.isin(['Expr1'])]\n",
    "file_2016.set_axis(a.columns, axis=1, inplace=True)\n",
    "\n",
    "a = pd.concat([a, file_2011])\n",
    "a = pd.concat([a, file_2012])\n",
    "a = pd.concat([a, file_2013])\n",
    "a = pd.concat([a, file_2014])\n",
    "a = pd.concat([a, file_2015])\n",
    "a = pd.concat([a, file_2016])\n",
    "\n",
    "# a['1st Road Class'].value_counts()"
   ]
  },
  {
   "cell_type": "markdown",
   "id": "3Y9SjctrVXCD",
   "metadata": {
    "id": "3Y9SjctrVXCD",
    "tags": []
   },
   "source": [
    "## Limpieza de datos"
   ]
  },
  {
   "cell_type": "code",
   "execution_count": 34,
   "id": "b726f75b",
   "metadata": {
    "id": "b726f75b"
   },
   "outputs": [
    {
     "name": "stderr",
     "output_type": "stream",
     "text": [
      "/tmp/ipykernel_27618/4205016787.py:148: SettingWithCopyWarning: \n",
      "A value is trying to be set on a copy of a slice from a DataFrame.\n",
      "Try using .loc[row_indexer,col_indexer] = value instead\n",
      "\n",
      "See the caveats in the documentation: https://pandas.pydata.org/pandas-docs/stable/user_guide/indexing.html#returning-a-view-versus-a-copy\n",
      "  clean_df['Weather Conditions'] = clean_df['Weather Conditions'].astype('int')\n",
      "/tmp/ipykernel_27618/4205016787.py:149: SettingWithCopyWarning: \n",
      "A value is trying to be set on a copy of a slice from a DataFrame.\n",
      "Try using .loc[row_indexer,col_indexer] = value instead\n",
      "\n",
      "See the caveats in the documentation: https://pandas.pydata.org/pandas-docs/stable/user_guide/indexing.html#returning-a-view-versus-a-copy\n",
      "  clean_df['Casualty Class']     = clean_df['Casualty Class'].astype('int')\n"
     ]
    },
    {
     "data": {
      "text/html": [
       "<div>\n",
       "<style scoped>\n",
       "    .dataframe tbody tr th:only-of-type {\n",
       "        vertical-align: middle;\n",
       "    }\n",
       "\n",
       "    .dataframe tbody tr th {\n",
       "        vertical-align: top;\n",
       "    }\n",
       "\n",
       "    .dataframe thead th {\n",
       "        text-align: right;\n",
       "    }\n",
       "</style>\n",
       "<table border=\"1\" class=\"dataframe\">\n",
       "  <thead>\n",
       "    <tr style=\"text-align: right;\">\n",
       "      <th></th>\n",
       "      <th>Easting</th>\n",
       "      <th>Northing</th>\n",
       "      <th>Number of Vehicles</th>\n",
       "      <th>Accident Time</th>\n",
       "      <th>1st Road Class</th>\n",
       "      <th>Road Surface</th>\n",
       "      <th>Lighting Conditions</th>\n",
       "      <th>Weather Conditions</th>\n",
       "      <th>Casualty Class</th>\n",
       "      <th>Casualty Severity</th>\n",
       "      <th>Sex of Casualty</th>\n",
       "      <th>Age of Casualty</th>\n",
       "      <th>Type of Vehicle</th>\n",
       "    </tr>\n",
       "  </thead>\n",
       "  <tbody>\n",
       "    <tr>\n",
       "      <th>0</th>\n",
       "      <td>429093</td>\n",
       "      <td>436258</td>\n",
       "      <td>1</td>\n",
       "      <td>2</td>\n",
       "      <td>6</td>\n",
       "      <td>1</td>\n",
       "      <td>3</td>\n",
       "      <td>1</td>\n",
       "      <td>3</td>\n",
       "      <td>Slight</td>\n",
       "      <td>1</td>\n",
       "      <td>3</td>\n",
       "      <td>7</td>\n",
       "    </tr>\n",
       "    <tr>\n",
       "      <th>1</th>\n",
       "      <td>434723</td>\n",
       "      <td>435534</td>\n",
       "      <td>1</td>\n",
       "      <td>2</td>\n",
       "      <td>6</td>\n",
       "      <td>1</td>\n",
       "      <td>3</td>\n",
       "      <td>1</td>\n",
       "      <td>1</td>\n",
       "      <td>Serious</td>\n",
       "      <td>2</td>\n",
       "      <td>2</td>\n",
       "      <td>7</td>\n",
       "    </tr>\n",
       "    <tr>\n",
       "      <th>2</th>\n",
       "      <td>441173</td>\n",
       "      <td>433047</td>\n",
       "      <td>1</td>\n",
       "      <td>1</td>\n",
       "      <td>6</td>\n",
       "      <td>1</td>\n",
       "      <td>3</td>\n",
       "      <td>1</td>\n",
       "      <td>3</td>\n",
       "      <td>Slight</td>\n",
       "      <td>2</td>\n",
       "      <td>1</td>\n",
       "      <td>7</td>\n",
       "    </tr>\n",
       "    <tr>\n",
       "      <th>3</th>\n",
       "      <td>428487</td>\n",
       "      <td>431364</td>\n",
       "      <td>1</td>\n",
       "      <td>1</td>\n",
       "      <td>3</td>\n",
       "      <td>1</td>\n",
       "      <td>3</td>\n",
       "      <td>1</td>\n",
       "      <td>3</td>\n",
       "      <td>Slight</td>\n",
       "      <td>1</td>\n",
       "      <td>1</td>\n",
       "      <td>7</td>\n",
       "    </tr>\n",
       "    <tr>\n",
       "      <th>4</th>\n",
       "      <td>425928</td>\n",
       "      <td>435480</td>\n",
       "      <td>2</td>\n",
       "      <td>1</td>\n",
       "      <td>6</td>\n",
       "      <td>1</td>\n",
       "      <td>1</td>\n",
       "      <td>1</td>\n",
       "      <td>1</td>\n",
       "      <td>Slight</td>\n",
       "      <td>2</td>\n",
       "      <td>3</td>\n",
       "      <td>7</td>\n",
       "    </tr>\n",
       "    <tr>\n",
       "      <th>...</th>\n",
       "      <td>...</td>\n",
       "      <td>...</td>\n",
       "      <td>...</td>\n",
       "      <td>...</td>\n",
       "      <td>...</td>\n",
       "      <td>...</td>\n",
       "      <td>...</td>\n",
       "      <td>...</td>\n",
       "      <td>...</td>\n",
       "      <td>...</td>\n",
       "      <td>...</td>\n",
       "      <td>...</td>\n",
       "      <td>...</td>\n",
       "    </tr>\n",
       "    <tr>\n",
       "      <th>20302</th>\n",
       "      <td>423815</td>\n",
       "      <td>434248</td>\n",
       "      <td>2</td>\n",
       "      <td>2</td>\n",
       "      <td>6</td>\n",
       "      <td>2</td>\n",
       "      <td>3</td>\n",
       "      <td>1</td>\n",
       "      <td>1</td>\n",
       "      <td>Slight</td>\n",
       "      <td>1</td>\n",
       "      <td>3</td>\n",
       "      <td>3</td>\n",
       "    </tr>\n",
       "    <tr>\n",
       "      <th>20303</th>\n",
       "      <td>427102</td>\n",
       "      <td>427700</td>\n",
       "      <td>2</td>\n",
       "      <td>2</td>\n",
       "      <td>6</td>\n",
       "      <td>2</td>\n",
       "      <td>3</td>\n",
       "      <td>1</td>\n",
       "      <td>1</td>\n",
       "      <td>Slight</td>\n",
       "      <td>2</td>\n",
       "      <td>3</td>\n",
       "      <td>7</td>\n",
       "    </tr>\n",
       "    <tr>\n",
       "      <th>20304</th>\n",
       "      <td>419983</td>\n",
       "      <td>440944</td>\n",
       "      <td>2</td>\n",
       "      <td>1</td>\n",
       "      <td>3</td>\n",
       "      <td>1</td>\n",
       "      <td>3</td>\n",
       "      <td>1</td>\n",
       "      <td>1</td>\n",
       "      <td>Serious</td>\n",
       "      <td>2</td>\n",
       "      <td>3</td>\n",
       "      <td>7</td>\n",
       "    </tr>\n",
       "    <tr>\n",
       "      <th>20305</th>\n",
       "      <td>419983</td>\n",
       "      <td>440944</td>\n",
       "      <td>2</td>\n",
       "      <td>1</td>\n",
       "      <td>3</td>\n",
       "      <td>1</td>\n",
       "      <td>3</td>\n",
       "      <td>1</td>\n",
       "      <td>3</td>\n",
       "      <td>Slight</td>\n",
       "      <td>1</td>\n",
       "      <td>3</td>\n",
       "      <td>7</td>\n",
       "    </tr>\n",
       "    <tr>\n",
       "      <th>20306</th>\n",
       "      <td>427222</td>\n",
       "      <td>433739</td>\n",
       "      <td>1</td>\n",
       "      <td>1</td>\n",
       "      <td>6</td>\n",
       "      <td>1</td>\n",
       "      <td>3</td>\n",
       "      <td>1</td>\n",
       "      <td>3</td>\n",
       "      <td>Serious</td>\n",
       "      <td>1</td>\n",
       "      <td>3</td>\n",
       "      <td>17</td>\n",
       "    </tr>\n",
       "  </tbody>\n",
       "</table>\n",
       "<p>20307 rows × 13 columns</p>\n",
       "</div>"
      ],
      "text/plain": [
       "       Easting  Northing  Number of Vehicles  Accident Time  1st Road Class  \\\n",
       "0       429093    436258                   1              2               6   \n",
       "1       434723    435534                   1              2               6   \n",
       "2       441173    433047                   1              1               6   \n",
       "3       428487    431364                   1              1               3   \n",
       "4       425928    435480                   2              1               6   \n",
       "...        ...       ...                 ...            ...             ...   \n",
       "20302   423815    434248                   2              2               6   \n",
       "20303   427102    427700                   2              2               6   \n",
       "20304   419983    440944                   2              1               3   \n",
       "20305   419983    440944                   2              1               3   \n",
       "20306   427222    433739                   1              1               6   \n",
       "\n",
       "       Road Surface  Lighting Conditions  Weather Conditions  Casualty Class  \\\n",
       "0                 1                    3                   1               3   \n",
       "1                 1                    3                   1               1   \n",
       "2                 1                    3                   1               3   \n",
       "3                 1                    3                   1               3   \n",
       "4                 1                    1                   1               1   \n",
       "...             ...                  ...                 ...             ...   \n",
       "20302             2                    3                   1               1   \n",
       "20303             2                    3                   1               1   \n",
       "20304             1                    3                   1               1   \n",
       "20305             1                    3                   1               3   \n",
       "20306             1                    3                   1               3   \n",
       "\n",
       "      Casualty Severity  Sex of Casualty  Age of Casualty  Type of Vehicle  \n",
       "0                Slight                1                3                7  \n",
       "1               Serious                2                2                7  \n",
       "2                Slight                2                1                7  \n",
       "3                Slight                1                1                7  \n",
       "4                Slight                2                3                7  \n",
       "...                 ...              ...              ...              ...  \n",
       "20302            Slight                1                3                3  \n",
       "20303            Slight                2                3                7  \n",
       "20304           Serious                2                3                7  \n",
       "20305            Slight                1                3                7  \n",
       "20306           Serious                1                3               17  \n",
       "\n",
       "[20307 rows x 13 columns]"
      ]
     },
     "execution_count": 34,
     "metadata": {},
     "output_type": "execute_result"
    }
   ],
   "source": [
    "###################### DICCIONARIOS DE REEMPLAZO ######################\n",
    "# Unclassified: Carreteras locales sin destino definido. Sin embargo, los destinos locales pueden estar señalizados a lo largo de ellos.\n",
    "# A, A(M) y Motorway lo mismo?\n",
    "# B:            De carácter regional y utilizado para conectar zonas de menor importancia.\n",
    "#               Por lo general, se muestran de color marrón o amarillo en los mapas y tienen las mismas señales blancas que las rutas de clase A que no son primarias.\n",
    "#               Si la ruta es primaria, como la B6261, se mostrará igual que una ruta Clase A primaria.\n",
    "#               ¿Carretera como tal?\n",
    "\n",
    "# C:            Designaciones de autoridades locales para rutas dentro de su área con fines administrativos.\n",
    "#               Estas rutas no se muestran en mapas de carreteras a pequeña escala, pero se sabe que ocasionalmente aparecen en las señales de tráfico.\n",
    "road_class_replace = {\n",
    "    'Motorway': 1,\n",
    "    'A(M)': 2,\n",
    "    'A': 3,\n",
    "    'B': 4,\n",
    "    'C': 5,\n",
    "    'Unclassified': 6\n",
    "}\n",
    "\n",
    "##################################\n",
    "accident_date_replace = {\n",
    "    'Dry': 1,\n",
    "    'Wet / Damp': 2,\n",
    "    'Snow': 3,\n",
    "    'Frost / Ice': 4,\n",
    "    'Flood': 5,\n",
    "}\n",
    "##################################\n",
    "\n",
    "road_surface_replace = {\n",
    "    'Dry': 1,\n",
    "    'Wet / Damp': 2,\n",
    "    'Snow': 3,\n",
    "    'Frost/ Ice': 4,\n",
    "    'Frost / Ice': 4,\n",
    "    'Flood': 5,\n",
    "    'Flood (surface water over 3cm deep)': 5,\n",
    "    '5': 5\n",
    "}\n",
    "\n",
    "# La 5: \"Darkness: street lighting unknown\" no está presente en el paper, le hemos puesto un 5 porque sí #\n",
    "lighting_conditions_replace = {\n",
    "    'Daylight: street lights present': 1,\n",
    "    'Darkness: no street lighting': 2,\n",
    "    'Darkness: street lights present and lit': 3,\n",
    "    'Darkness: street lights present but unlit': 4,\n",
    "    'Darkness: street lighting unknown': 5,\n",
    "    '5': 5\n",
    "}\n",
    "\n",
    "# La 8.2: \"Unknown\" no está presente en el paper, le hemos puesto un 8 porque sí (Other) #\n",
    "weather_conditions_replace = {\n",
    "    'Fine without high winds': 1,\n",
    "    'Raining without high winds': 2,\n",
    "    'Snowing without high winds': 3,\n",
    "    'Fine with high winds': 4,\n",
    "    'Raining with high winds': 5,\n",
    "    'Snowing with high winds': 6,\n",
    "    'Fog or mist – if hazard': 7,\n",
    "    'Other': 8,\n",
    "    'Unknown': 8\n",
    "}\n",
    "\n",
    "type_of_vehicle_replace = {\n",
    "    'Pedal cycle': 1,\n",
    "    'M/cycle 50cc and under': 2,\n",
    "    'Motorcycle over 50cc and up to 125cc': 3,\n",
    "    'Motorcycle over 125cc and up to 500cc': 4,\n",
    "    'Motorcycle over 500cc': 5,\n",
    "    'Taxi/Private hire car': 6,\n",
    "    'Car': 7,\n",
    "    'Minibus (8 – 16 passenger seats)': 8,\n",
    "    'Bus or coach (17 or more passenger seats)': 9,\n",
    "    'Ridden horse': 10,\n",
    "    'Agricultural vehicle (includes diggers etc.)': 11,\n",
    "    'Tram / Light rail': 12,\n",
    "    'Goods vehicle 3.5 tonnes mgw and under': 13,\n",
    "    'Goods vehicle over 3.5 tonnes and under 7.5 tonnes mgw': 14,\n",
    "    'Goods vehicle 7.5 tonnes mgw and over': 15,\n",
    "    'Mobility Scooter': 16,\n",
    "    'Other Vehicle ': 17,\n",
    "    'Motorcycle - Unknown CC': 18\n",
    "}\n",
    "\n",
    "casualty_class_replace = {\n",
    "    'Driver': 1,\n",
    "    'Driver/Rider': 1,\n",
    "    'Driver or rider': 1,\n",
    "    'Passenger': 2,\n",
    "    'Vehicle or pillion passenger': 2,\n",
    "    'Pedestrian': 3\n",
    "}\n",
    "\n",
    "\n",
    "sex_of_casualty_replace = {\n",
    "    'Male': 1,\n",
    "    'Female': 2\n",
    "}\n",
    "\n",
    "###################### REEMPLAZOS ######################\n",
    "clean_df = clean_df.dropna()\n",
    "\n",
    "a['1st Road Class'].replace(road_class_replace, inplace = True)\n",
    "# print('1st Road Class:', a['1st Road Class'].unique())\n",
    "\n",
    "##################################\n",
    "# a['Accident Date'].replace(accident_date_replace, inplace = True)\n",
    "# print('Accident Date:', a['Accident Date'].unique())\n",
    "##################################\n",
    "a['Road Surface'].replace(road_surface_replace, inplace = True)\n",
    "a.dropna(inplace = True)\n",
    "\n",
    "a['Road Surface'] = a['Road Surface'].astype('int')\n",
    "# print('Road Surface:', a['Road Surface'].unique())\n",
    "\n",
    "a['Lighting Conditions'].replace(lighting_conditions_replace, inplace = True)\n",
    "# print('Lighting Conditions:', a['Lighting Conditions'].unique())\n",
    "\n",
    "a['Weather Conditions'].replace(weather_conditions_replace, inplace = True)\n",
    "a = a[a['Weather Conditions'] != 'Darkness: street lighting unknown']\n",
    "# print('Weather Conditions:', a['Weather Conditions'].unique())\n",
    "\n",
    "a['Type of Vehicle'].replace(type_of_vehicle_replace, inplace = True)\n",
    "# print('Type of Vehicle:', a['Type of Vehicle'].unique())\n",
    "\n",
    "a['Casualty Class'].replace(casualty_class_replace, inplace = True)\n",
    "# print('Casualty Class:', a['Casualty Class'].unique())\n",
    "\n",
    "a['Sex of Casualty'].replace(sex_of_casualty_replace, inplace = True)\n",
    "# print('Sex of Casualty:', a['Sex of Casualty'].unique())\n",
    "\n",
    "a['Age of Casualty'] = a['Age of Casualty'].mask(a['Age of Casualty'] < 18, 1)\n",
    "a['Age of Casualty'] = a['Age of Casualty'].mask(a['Age of Casualty'].between(18, 25), 2)\n",
    "a['Age of Casualty'] = a['Age of Casualty'].mask(a['Age of Casualty'].between(25, 65), 3)\n",
    "a['Age of Casualty'] = a['Age of Casualty'].mask(a['Age of Casualty'] > 65, 4)\n",
    "# print('Age of Casualty:', a['Age of Casualty'].unique())\n",
    "\n",
    "a['Time (24hr)'] = a['Time (24hr)'].mask(a['Time (24hr)'] < 600, 2)\n",
    "a['Time (24hr)'] = a['Time (24hr)'].mask(a['Time (24hr)'] > 1800, 2)\n",
    "a['Time (24hr)'] = a['Time (24hr)'].mask(a['Time (24hr)'].between(600, 1800), 1)\n",
    "# print('Time (24hr):', a['Time (24hr)'].unique())\n",
    "a.rename(columns={\"Time (24hr)\": \"Accident Time\"}, inplace = True)\n",
    "\n",
    "###################### LIMPIEZA DE VALORES NULOS/DUPLICADOS ######################\n",
    "\n",
    "clean_df = a.loc[:, ~a.columns.isin(['Accident Date', 'Reference Number'])]\n",
    "\n",
    "clean_df['Weather Conditions'] = clean_df['Weather Conditions'].astype('int')\n",
    "clean_df['Casualty Class']     = clean_df['Casualty Class'].astype('int')\n",
    "\n",
    "clean_df = clean_df.drop_duplicates()\n",
    "clean_df = clean_df.dropna()\n",
    "clean_df = clean_df.reset_index(drop=True)\n",
    "\n",
    "clean_df"
   ]
  },
  {
   "cell_type": "markdown",
   "id": "JOSunlOuVeEm",
   "metadata": {
    "id": "JOSunlOuVeEm",
    "tags": [],
    "toc-hr-collapsed": true
   },
   "source": [
    "## Split de datos"
   ]
  },
  {
   "cell_type": "code",
   "execution_count": 35,
   "id": "a506548e-6b11-4b46-abfb-bc7672c3f756",
   "metadata": {},
   "outputs": [],
   "source": [
    "# !conda install scikit-learn --y"
   ]
  },
  {
   "cell_type": "code",
   "execution_count": 36,
   "id": "c921e711",
   "metadata": {
    "id": "c921e711"
   },
   "outputs": [],
   "source": [
    "from sklearn.model_selection import train_test_split\n",
    "\n",
    "Y = clean_df['Casualty Severity']\n",
    "\n",
    "train, test = train_test_split(clean_df, test_size=0.2)\n",
    "X_train = X_train_original = train.loc[:, ~train.columns.isin(['Casualty Severity'])]\n",
    "Y_train = Y_train_original = train['Casualty Severity']\n",
    "\n",
    "X_test = test.loc[:, ~test.columns.isin(['Casualty Severity'])]\n",
    "Y_test = test['Casualty Severity']"
   ]
  },
  {
   "cell_type": "markdown",
   "id": "5c86be3e-c840-418f-b50f-3cde2af96d8c",
   "metadata": {},
   "source": [
    "### Downsampling"
   ]
  },
  {
   "cell_type": "code",
   "execution_count": 37,
   "id": "5d18643d-ece1-4ac8-985e-f046d5f5ed27",
   "metadata": {},
   "outputs": [],
   "source": [
    "from sklearn.model_selection import train_test_split\n",
    "\n",
    "Y = clean_df['Casualty Severity']\n",
    "\n",
    "from sklearn.utils import resample\n",
    "\n",
    "slight_data  = test[test['Casualty Severity'] == 'Slight']\n",
    "serious_data = test[test['Casualty Severity'] == 'Serious']\n",
    "fatal_data   = test[test['Casualty Severity'] == 'Fatal']\n",
    "\n",
    "X_slight_downsampled  = resample(slight_data,\n",
    "                                 replace = True,\n",
    "                                 n_samples = len(fatal_data))\n",
    "\n",
    "X_serious_downsampled = resample(serious_data,\n",
    "                                 replace = True,\n",
    "                                 n_samples = len(fatal_data))\n",
    "\n",
    "downsampled_dataset = pd.concat([X_slight_downsampled, X_serious_downsampled, fatal_data])\n",
    "\n",
    "downsampled_train, downsampled_test = train_test_split(downsampled_dataset, test_size=0.3)\n",
    "\n",
    "\n",
    "X_train_downsampled = downsampled_train.loc[:, ~downsampled_train.columns.isin(['Casualty Severity'])]\n",
    "Y_train_downsampled = downsampled_train['Casualty Severity']\n",
    "\n",
    "X_test_downsampled = downsampled_test.loc[:, ~downsampled_test.columns.isin(['Casualty Severity'])]\n",
    "Y_test_downsampled = downsampled_test['Casualty Severity']"
   ]
  },
  {
   "cell_type": "code",
   "execution_count": 38,
   "id": "603c5d0e",
   "metadata": {
    "id": "603c5d0e"
   },
   "outputs": [],
   "source": [
    "# fv2gi(feature_vector)\n",
    "# sorted(feature_vector.items(), key = lambda item: item[0][1])\n",
    "\n",
    "# for item in feature_vector['Accident Features'].items():\n",
    "#     print(item[1])\n",
    "\n",
    "# feature_vector[parent_key].items()\n",
    "\n",
    "# sorted(feature_vector['Accident Features'].items(), key = lambda item: item,\n",
    "#                                reverse = True)\n",
    "\n",
    "# print(feature_vector['Accident Features']['feature_weights'])\n",
    "\n",
    "# fv = np.array(feature_vector['Accident Features']['feature_childs'])\n",
    "# list(fv[indexes])"
   ]
  },
  {
   "cell_type": "markdown",
   "id": "gLtQ4-JMW0Tv",
   "metadata": {
    "id": "gLtQ4-JMW0Tv",
    "tags": []
   },
   "source": [
    "## Normalización de datos"
   ]
  },
  {
   "cell_type": "code",
   "execution_count": 39,
   "id": "9f97d173-a0ff-4b31-97e1-fd9d787069ae",
   "metadata": {},
   "outputs": [],
   "source": [
    "# !conda install -c conda-forge imbalanced-learn"
   ]
  },
  {
   "cell_type": "code",
   "execution_count": 40,
   "id": "FHb1AMbZjm9m",
   "metadata": {
    "id": "FHb1AMbZjm9m"
   },
   "outputs": [],
   "source": [
    "X_train = X_train.astype(int)\n",
    "X_test  = X_test.astype(int)\n",
    "X_train_downsampled = X_train_downsampled.astype(int)\n",
    "X_test_downsampled  = X_test_downsampled.astype(int)\n",
    "\n",
    "X_train = normalize_data(X_train)\n",
    "X_test  = normalize_data(X_test)\n",
    "X_train_downsampled = normalize_data(X_train_downsampled)\n",
    "X_test_downsampled  = normalize_data(X_test_downsampled)\n",
    "\n",
    "X_train_original = X_train_original.astype(int)\n",
    "X_train_original = normalize_data(X_train_original)"
   ]
  },
  {
   "cell_type": "markdown",
   "id": "nDVViKK3XCtE",
   "metadata": {
    "id": "nDVViKK3XCtE",
    "tags": []
   },
   "source": [
    "## Oversamplig de datos"
   ]
  },
  {
   "cell_type": "code",
   "execution_count": 41,
   "id": "f5125433-f3ee-4cd3-bc5d-dd3a6acfca54",
   "metadata": {
    "id": "f5125433-f3ee-4cd3-bc5d-dd3a6acfca54"
   },
   "outputs": [
    {
     "name": "stdout",
     "output_type": "stream",
     "text": [
      "********** Train Before OverSampling **********\n",
      "Slight:  14253\n",
      "Serious: 1877\n",
      "Fatal:   115\n",
      "\n",
      " Total X: 16245  Total Y: 16245 \n",
      "\n",
      "********** After OverSampling **********\n",
      "Slight:  14253\n",
      "Serious: 14252\n",
      "Fatal:   14253\n",
      "\n",
      " Total X:  42758  Total Y:  42758 \n",
      "\n",
      "********** Test **********\n",
      "Slight:  3564\n",
      "Serious: 472\n",
      "Fatal:   26\n",
      "\n",
      " Total X: 4062  Total Y: 4062 \n",
      "\n"
     ]
    }
   ],
   "source": [
    "print('********** Train Before OverSampling **********')\n",
    "print('Slight: ', (Y_train == 'Slight').sum())\n",
    "print('Serious:', (Y_train == 'Serious').sum())\n",
    "print('Fatal:  ', (Y_train == 'Fatal').sum())\n",
    "print('\\n Total X:', len(X_train), ' Total Y:', len(Y_train), '\\n')\n",
    "\n",
    "X_train, Y_train = oversample_data(X_train, Y_train)\n",
    "\n",
    "print('********** Test **********')\n",
    "print('Slight: ', (Y_test == 'Slight').sum())\n",
    "print('Serious:', (Y_test == 'Serious').sum())\n",
    "print('Fatal:  ', (Y_test == 'Fatal').sum())\n",
    "print('\\n Total X:', len(Y_test), ' Total Y:', len(Y_test), '\\n')"
   ]
  },
  {
   "cell_type": "markdown",
   "id": "199a4a83-3e38-4848-be3f-8ae4861230b8",
   "metadata": {
    "tags": []
   },
   "source": [
    "## XGBoost"
   ]
  },
  {
   "cell_type": "code",
   "execution_count": 42,
   "id": "3d2115fc-0d52-4bd4-883d-72bbc28f44aa",
   "metadata": {},
   "outputs": [],
   "source": [
    "from xgboost import XGBClassifier\n",
    "from sklearn.metrics import accuracy_score\n",
    "from hyperopt import STATUS_OK, Trials, fmin, hp, tpe"
   ]
  },
  {
   "cell_type": "markdown",
   "id": "bca2e5b8-f51f-4b6d-a5c7-c01239512bc7",
   "metadata": {},
   "source": [
    "### Genético"
   ]
  },
  {
   "cell_type": "code",
   "execution_count": 43,
   "id": "95e4e1f6-4e34-462f-afad-1e203bf2c9cb",
   "metadata": {},
   "outputs": [],
   "source": [
    "HYPERPARAMS_TO_OPTIMIZE = {'eta': {'type': 'float',\n",
    "                                   'init': [0.01, 1],\n",
    "                                   'mutation': [-0.3, 0.3],\n",
    "                                   'round': 2\n",
    "                                   },\n",
    "                           'max_depth': {'type': 'int',\n",
    "                                         'init': [1, 25],\n",
    "                                         'mutation': [-6, 6],\n",
    "                                         'step': 1\n",
    "                                   },\n",
    "                           'min_child_weight': {'type': 'float',\n",
    "                                                'init': [0.01, 20.0],\n",
    "                                                'mutation': [-7, 7],\n",
    "                                                'round': 1\n",
    "                                   },\n",
    "                           # 'n_estimators': {'type': 'int',\n",
    "                           #                  'init': [0, 1500],\n",
    "                           #                  'mutation': [-150, 150],\n",
    "                           #                  'step': 25\n",
    "                           #         },\n",
    "                           # 'gamma': {'type': 'float',\n",
    "                           #                   'init': [0.01, 10.0],\n",
    "                           #                   'mutation': [-4, 4],\n",
    "                           #                   'round': 2\n",
    "                           #         },\n",
    "                           # 'subsample': {'type': 'float', ## ATTENTION! SUBSAMPLE OF TRAINING\n",
    "                           #               'init': [0.01, 1],\n",
    "                           #               'mutation': [-0.4, 0.4],\n",
    "                           #               'round': 2\n",
    "                           #         },\n",
    "                           # 'colsample_bytree': {'type': 'float', ## ATENTION!! SUBSAMPLE OF COLUMNS\n",
    "                           #               'init': [0.01, 1],\n",
    "                           #               'mutation': [-0.4, 0.4],\n",
    "                           #               'round': 2\n",
    "                           #         },\n",
    "                           # 'reg_alpha': {'type': 'float', ## ATENTION!! MODEL MORE CONSERVATIVE!\n",
    "                           #               'init': [0, 1],\n",
    "                           #               'mutation': [-0.4, 0.4],\n",
    "                           #               'round': 2\n",
    "                           #         },\n",
    "                           # 'reg_lambda': {'type': 'float', ## ATENTION!! MODEL MORE CONSERVATIVE!\n",
    "                           #               'init': [0, 1],\n",
    "                           #               'mutation': [-0.4, 0.4],\n",
    "                           #               'round': 2\n",
    "                           #         }\n",
    "                          }\n",
    "\n",
    "number_of_individuals = 75\n",
    "numberOfParentsMating = 20\n",
    "number_of_hyperparams = len(HYPERPARAMS_TO_OPTIMIZE)\n",
    "number_of_generations = 50"
   ]
  },
  {
   "cell_type": "code",
   "execution_count": 44,
   "id": "da533363-181a-41d6-b636-a291510b7d3e",
   "metadata": {
    "tags": []
   },
   "outputs": [],
   "source": [
    "import xgboost as xgb\n",
    "import random\n",
    "\n",
    "if calculate_weights and leeds:\n",
    "    Y_train_downsampled_onehot = casualty_to_one_hot(Y_train_downsampled)\n",
    "    Y_test_downsampled_onehot  = casualty_to_one_hot(Y_test_downsampled)\n",
    "    Y_test_onehot  = casualty_to_one_hot(Y_test)\n",
    "    Y_train_onehot  = casualty_to_one_hot(Y_train)\n",
    "\n",
    "    populationSize = (number_of_individuals, number_of_hyperparams)\n",
    "    population = initialize_population(number_of_individuals   = number_of_individuals,\n",
    "                                       hyperparams_to_optimize = HYPERPARAMS_TO_OPTIMIZE)\n",
    "\n",
    "    fitnessHistory = np.empty([number_of_generations+1, number_of_individuals]) # Define an array to store the value of each parameter for each parent and generation\n",
    "    populationHistory = np.empty([(number_of_generations+1)*number_of_individuals, number_of_hyperparams]) # Insert the value of initial parameters in history\n",
    "\n",
    "    best_solution_history = np.empty([(number_of_generations), number_of_hyperparams+1])\n",
    "    populationHistory[0:number_of_individuals,:] = population\n",
    "\n",
    "\n",
    "#     if not laptop:\n",
    "\n",
    "#         import dask.array as da\n",
    "#         import dask.distributed\n",
    "\n",
    "#         if __name__ == \"__main__\":\n",
    "\n",
    "#             # X and y must be Dask dataframes or arrays\n",
    "#             X = X_train\n",
    "#             y = Y_train\n",
    "\n",
    "#             dtrain = xgb.dask.DaskDMatrix(client, X_train, Y_train)\n",
    "#             dtest  = xgb.dask.DaskDMatrix(client, X_test, Y_test)\n",
    "\n",
    "#     else:\n",
    "\n",
    "    dtrain = xgb.DMatrix(data  = X_train,\n",
    "                         label = Y_train)\n",
    "\n",
    "    dtest  = xgb.DMatrix(data  = X_test, \n",
    "                         label = Y_test)\n",
    "\n",
    "    for generation in range(number_of_generations):\n",
    "\n",
    "        print(\"This is number %s generation\" % (generation))\n",
    "\n",
    "        new_population = []\n",
    "\n",
    "        unique_individuals = np.unique(population, axis=0)\n",
    "\n",
    "        new_individuals_to_create = number_of_individuals - len(unique_individuals)\n",
    "\n",
    "        for i in range(new_individuals_to_create):\n",
    "            new_individual = generate_individual(hyperparams_to_optimize = HYPERPARAMS_TO_OPTIMIZE)\n",
    "            new_population.append(new_individual)\n",
    "\n",
    "        new_population = np.array(new_population)\n",
    "\n",
    "        if (new_individuals_to_create):\n",
    "            population = np.concatenate((unique_individuals, new_population), axis=0)\n",
    "\n",
    "        # print(f'Current population is {population}')\n",
    "        print(f'New population is {len(new_population)}')\n",
    "\n",
    "        # Train the dataset and obtain fitness\n",
    "        fitnessValue = train_population(population = population,\n",
    "                                        hyperparams_to_optimize = HYPERPARAMS_TO_OPTIMIZE,\n",
    "                                        dMatrixTrain = dtrain,\n",
    "                                        dMatrixTest = dtest,\n",
    "                                        Y_test = Y_test)\n",
    "\n",
    "        fitnessHistory[generation,:] = fitnessValue\n",
    "\n",
    "        # Best score in the current iteration\n",
    "        max_score_index = np.argmax(fitnessHistory[generation,:])\n",
    "        max_score_value = np.max(fitnessHistory[generation,:])\n",
    "        max_score_solution = population[max_score_index]\n",
    "\n",
    "        max_solution_with_score = []\n",
    "        max_solution_with_score = np.append(max_score_solution, max_score_value)\n",
    "        best_solution_history[generation] = max_solution_with_score\n",
    "\n",
    "        print(f\"Best F1 score in the this iteration = {max_score_value}, best solution {max_score_solution}\") # Survival of the fittest - take the top parents, based on the fitness value and number of parents needed to be selected\n",
    "\n",
    "        parents = new_parents_selection(population = population,\n",
    "                                        fitness = fitnessValue,\n",
    "                                        numParents = numberOfParentsMating)\n",
    "\n",
    "        # Mate these parents to create children having parameters from these parents (we are using uniform crossover)\n",
    "        children = crossover_uniform(parents = parents,\n",
    "                                     childrenSize = (populationSize[0] - parents.shape[0], number_of_hyperparams))\n",
    "\n",
    "        # Add mutation to create genetic diversity\n",
    "        children_mutated = mutation(children,\n",
    "                                    hyperparams_to_optimize = HYPERPARAMS_TO_OPTIMIZE)\n",
    "\n",
    "        '''\n",
    "        We will create new population, which will contain parents that where selected previously based on the\n",
    "        fitness score and rest of them  will be children\n",
    "        '''\n",
    "        population[0:parents.shape[0], :] = parents # Fittest parents\n",
    "        population[parents.shape[0]:, :]  = children_mutated # Children\n",
    "\n",
    "        populationHistory[(generation+1)*number_of_individuals : (generation+1)*number_of_individuals + number_of_individuals , :] = population # Store parent information\n",
    "\n",
    "    #Best solution from the final iteration\n",
    "\n",
    "    fitness = train_population(population = population,\n",
    "                               hyperparams_to_optimize = HYPERPARAMS_TO_OPTIMIZE,\n",
    "                               dMatrixTrain = dtrain,\n",
    "                               dMatrixTest = dtest,\n",
    "                               Y_test = Y_test)\n",
    "\n",
    "    fitnessHistory[generation+1, :] = fitness # index of the best solution\n",
    "    bestFitnessIndex = np.where(fitness == np.max(fitness))[0][0]\n",
    "\n",
    "\n",
    "    best_hyperparams = {}\n",
    "    for n_param, hyperparam in enumerate(HYPERPARAMS_TO_OPTIMIZE):\n",
    "        best_hyperparams[hyperparam] = population[bestFitnessIndex][n_param]"
   ]
  },
  {
   "cell_type": "code",
   "execution_count": 45,
   "id": "6f518cd5-dc64-4674-8518-3ebdad3d6c2e",
   "metadata": {},
   "outputs": [],
   "source": [
    "if calculate_weights and leeds:\n",
    "    #### PLOT FITNESS EVOLUTION ####\n",
    "    x_fitness = [np.max(fitnessHistory[i]) for i in range(0,fitnessHistory.shape[0])]\n",
    "\n",
    "    FILE_NAME = f\"{city_name}_ga_{MODEL_TIMESTAMP}.svg\"\n",
    "\n",
    "    plt.figure(figsize=(15, 8))\n",
    "    plt.ylabel('F1-Score')\n",
    "    plt.xlabel('Iterations')\n",
    "    plt.plot(np.arange(len(x_fitness)), x_fitness)\n",
    "    plt.savefig(GA_SCORES_PATH + FILE_NAME)\n",
    "\n",
    "    #### PLOT HYPERPARAMS EVOLUTION ####\n",
    "    FILE_NAME = f\"{city_name}_ga_hyperparams_evolution_p{number_of_individuals}_c{numberOfParentsMating}_{MODEL_TIMESTAMP}.svg\"\n",
    "\n",
    "    LEGEND_LABELS = HYPERPARAMS_TO_OPTIMIZE.keys()\n",
    "\n",
    "    plt.figure(figsize=(15, 8))\n",
    "    best_solution_history_aux = best_solution_history\n",
    "    best_solution_history_aux[:,1] = best_solution_history[:,1]/2\n",
    "    best_solution_history_aux[:,3] = best_solution_history[:,3]/100\n",
    "    plt.plot(best_solution_history_aux[:,:3])\n",
    "    plt.ylabel('Factor')\n",
    "    plt.xlabel('Iterations')\n",
    "    plt.legend(LEGEND_LABELS)\n",
    "    plt.savefig(HYPERPARAMS_EVOLUTON_PATH + FILE_NAME, dpi=300)\n",
    "\n",
    "    FILE_NAME = f\"{city_name}_population_p{number_of_individuals}_c{numberOfParentsMating}_{MODEL_TIMESTAMP}.txt\"\n",
    "\n",
    "    np.savetxt(FINAL_POPULATION_PATH + FILE_NAME, population, fmt='%s')"
   ]
  },
  {
   "cell_type": "markdown",
   "id": "69081589-f481-4d74-94d4-7b175655424a",
   "metadata": {
    "tags": [],
    "toc-hr-collapsed": true
   },
   "source": [
    "### Hiperparámetros"
   ]
  },
  {
   "cell_type": "markdown",
   "id": "3182b535-b21b-40b5-b3cc-ba436ca59f64",
   "metadata": {
    "tags": []
   },
   "source": [
    "#### Carga hiperparámetros"
   ]
  },
  {
   "cell_type": "code",
   "execution_count": 46,
   "id": "bc61265c-a5ea-4e87-a0d0-61fb2af14304",
   "metadata": {
    "tags": []
   },
   "outputs": [],
   "source": [
    "if not calculate_weights:\n",
    "    FILE_NAME = f\"{city_name}_hyperparams_{loaded_timestamp}.json\"\n",
    "\n",
    "    best_hyperparams = load_json(HYPERPARAMS_PATH, FILE_NAME)\n",
    "\n",
    "# # # 0.04 2 6.5 --> 0.778\n",
    "# best_hyperparams = {}\n",
    "# best_hyperparams['eta'] = 0.1\n",
    "# best_hyperparams['max_depth'] = 2\n",
    "# best_hyperparams['min_child_weight'] = 1\n",
    "# best_hyperparams['n_estimators'] = 583\n",
    "\n",
    "# 1.00e-01 2.00e+00 1.00e+00 5.83e+02 --> 0.72"
   ]
  },
  {
   "cell_type": "markdown",
   "id": "a1064316-3dfa-4bf2-8f31-933ec98df452",
   "metadata": {
    "tags": []
   },
   "source": [
    "#### Cálculo de Hiperparámetros"
   ]
  },
  {
   "cell_type": "code",
   "execution_count": 47,
   "id": "21a281da-a027-477b-bda5-0b41257ffaab",
   "metadata": {
    "tags": []
   },
   "outputs": [],
   "source": [
    "# Y_train_onehot = casualty_to_one_hot(Y_train)\n",
    "# Y_test_onehot  = casualty_to_one_hot(Y_test)\n",
    "\n",
    "# space={'max_depth': hp.quniform(\"max_depth\", 3, 25, 1),\n",
    "#         'gamma': hp.uniform ('gamma', 1,9),\n",
    "#         'reg_alpha' : hp.quniform('reg_alpha', 40,180,1),\n",
    "#         'reg_lambda' : hp.uniform('reg_lambda', 0,1),\n",
    "#         'colsample_bytree' : hp.uniform('colsample_bytree', 0.5,1),\n",
    "#         'min_child_weight' : hp.quniform('min_child_weight', 0, 15, 1),\n",
    "#         'n_estimators': hp.quniform('n_estimators', 100, 4000, 100),\n",
    "#         'tree_method': 'gpu_hist'\n",
    "#     }\n",
    "\n",
    "# def objective(space):\n",
    "#     clf = XGBClassifier(n_estimators = int(space['n_estimators']),\n",
    "#                         max_depth = int(space['max_depth']),\n",
    "#                         gamma = space['gamma'],\n",
    "#                         reg_alpha = int(space['reg_alpha']),\n",
    "#                         min_child_weight = int(space['min_child_weight']),\n",
    "#                         colsample_bytree = int(space['colsample_bytree']),\n",
    "#                         tree_method = space['tree_method']\n",
    "#                        )\n",
    "    \n",
    "#     evaluation = [(X_train, Y_train), (X_test, Y_test)]\n",
    "    \n",
    "#     clf.fit(X_train, Y_train,\n",
    "#             eval_set = evaluation, eval_metric = \"auc\",\n",
    "#             early_stopping_rounds = 10, verbose = False)\n",
    "            \n",
    "    \n",
    "#     pred = clf.predict(X_test)\n",
    "#     accuracy = accuracy_score(Y_test, pred>0.5)\n",
    "#     print (\"SCORE:\", accuracy)\n",
    "#     return {'loss': -accuracy, 'status': STATUS_OK }\n",
    "\n",
    "\n",
    "# trials = Trials()\n",
    "\n",
    "# best_hyperparams = fmin(fn = objective,\n",
    "#                         space = space,\n",
    "#                         algo = tpe.suggest,\n",
    "#                         max_evals = 100,\n",
    "#                         trials = trials)"
   ]
  },
  {
   "cell_type": "markdown",
   "id": "9d3fabde-6f45-4c38-9800-6d568b65d526",
   "metadata": {
    "tags": []
   },
   "source": [
    "#### Escritura hiperparámetros"
   ]
  },
  {
   "cell_type": "code",
   "execution_count": 48,
   "id": "3b19a759-7ba4-45a6-a1b0-b74589527b9f",
   "metadata": {},
   "outputs": [],
   "source": [
    "if calculate_weights and leeds:\n",
    "    FILE_NAME = f\"{city_name}_hyperparams_{MODEL_TIMESTAMP}.json\"\n",
    "\n",
    "    write_json(best_hyperparams, HYPERPARAMS_PATH, FILE_NAME)"
   ]
  },
  {
   "cell_type": "markdown",
   "id": "470a8ddd-0cea-4817-b248-153387ae9a1f",
   "metadata": {
    "toc-hr-collapsed": true
   },
   "source": [
    "### Pesos de características"
   ]
  },
  {
   "cell_type": "markdown",
   "id": "a4634264-34da-4355-af3f-99650d45068d",
   "metadata": {
    "tags": []
   },
   "source": [
    "#### Carga definitiva/auxiliar de pesos"
   ]
  },
  {
   "cell_type": "code",
   "execution_count": 49,
   "id": "ebc51d38-c18a-46e7-968d-4a8e40b91d79",
   "metadata": {
    "tags": []
   },
   "outputs": [],
   "source": [
    "# FILE_NAME = 'leeds_calculated_weights.json'\n",
    "FILE_NAME = f\"{city_name}_weights_{loaded_timestamp}.json\"\n",
    "\n",
    "feature_vector = load_json(WEIGHTS_PATH, FILE_NAME)"
   ]
  },
  {
   "cell_type": "markdown",
   "id": "a11e7364-7e4b-4ecf-9af2-559deb20df63",
   "metadata": {
    "tags": []
   },
   "source": [
    "#### Cálculo de pesos de caracetrísticas"
   ]
  },
  {
   "cell_type": "code",
   "execution_count": 50,
   "id": "bf8e4a99-5e84-4c6e-af5c-7451e342ccb1",
   "metadata": {},
   "outputs": [],
   "source": [
    "if calculate_weights and leeds:\n",
    "    xgboost = XGBClassifier(best_hyperparams,\n",
    "                            tree_method = tree_method,\n",
    "                            single_precision_histogram =  True)\n",
    "\n",
    "    xgboost.fit(X_train_downsampled, Y_train_downsampled)\n",
    "\n",
    "    child_weights  = np.array(xgboost.feature_importances_)\n",
    "    feature_vector = fill_feature_vector(X_train, child_weights)"
   ]
  },
  {
   "cell_type": "markdown",
   "id": "96e34dce-2ff6-474c-b5cc-09362f4d64e8",
   "metadata": {
    "tags": []
   },
   "source": [
    "#### Visualización pesos calculados"
   ]
  },
  {
   "cell_type": "code",
   "execution_count": 51,
   "id": "8fb50b3c-235c-4c50-b8ab-ff4c199e8a2e",
   "metadata": {
    "tags": []
   },
   "outputs": [],
   "source": [
    "if calculate_weights and leeds:\n",
    "    FILE_NAME = f\"{city_name}_figure_weights_{MODEL_TIMESTAMP}.svg\"\n",
    "\n",
    "    print(xgboost.get_booster().get_score(importance_type= 'weight'))\n",
    "    plt.figure(figsize=(10, 5))\n",
    "    plt.barh(X_train.columns, xgboost.feature_importances_)\n",
    "    plt.savefig(WEIGHTS_PATH + FILE_NAME)\n",
    "\n",
    "    for column, weight in zip(X_train.columns,xgboost.feature_importances_):\n",
    "      print(column, weight)"
   ]
  },
  {
   "cell_type": "markdown",
   "id": "a82ffbda-1e05-4edc-84c2-5d8a94796af4",
   "metadata": {},
   "source": [
    "#### Escritura de pesos de características"
   ]
  },
  {
   "cell_type": "code",
   "execution_count": 52,
   "id": "ca0f0895-d1e0-49a4-a88c-a91cfd9f119c",
   "metadata": {},
   "outputs": [],
   "source": [
    "if calculate_weights and leeds:    \n",
    "    matrix_indexes = fv2gi(feature_vector)\n",
    "\n",
    "    FILE_NAME = f\"{city_name}_weights_{MODEL_TIMESTAMP}.json\"\n",
    "    # FILE_NAME = 'leeds_default_weights.json'\n",
    "\n",
    "    write_json(feature_vector, WEIGHTS_PATH, FILE_NAME)"
   ]
  },
  {
   "cell_type": "markdown",
   "id": "a291b03b-03f6-44a8-8030-987312e24667",
   "metadata": {},
   "source": [
    "### Cálculo índices de matriz"
   ]
  },
  {
   "cell_type": "code",
   "execution_count": 53,
   "id": "209fd454-5668-4ab9-bc58-c30a546ac4c3",
   "metadata": {},
   "outputs": [],
   "source": [
    "matrix_indexes = fv2gi(feature_vector)"
   ]
  },
  {
   "cell_type": "markdown",
   "id": "4b3fnVqjYFXk",
   "metadata": {
    "id": "4b3fnVqjYFXk",
    "tags": []
   },
   "source": [
    "## Construcción de imágenes"
   ]
  },
  {
   "cell_type": "code",
   "execution_count": 54,
   "id": "21dcf79f",
   "metadata": {
    "id": "21dcf79f"
   },
   "outputs": [
    {
     "name": "stdout",
     "output_type": "stream",
     "text": [
      "42758\n",
      "16245\n",
      "4062\n"
     ]
    },
    {
     "data": {
      "text/html": [
       "<div>\n",
       "<style scoped>\n",
       "    .dataframe tbody tr th:only-of-type {\n",
       "        vertical-align: middle;\n",
       "    }\n",
       "\n",
       "    .dataframe tbody tr th {\n",
       "        vertical-align: top;\n",
       "    }\n",
       "\n",
       "    .dataframe thead th {\n",
       "        text-align: right;\n",
       "    }\n",
       "</style>\n",
       "<table border=\"1\" class=\"dataframe\">\n",
       "  <thead>\n",
       "    <tr style=\"text-align: right;\">\n",
       "      <th></th>\n",
       "      <th>0</th>\n",
       "      <th>1</th>\n",
       "      <th>2</th>\n",
       "      <th>3</th>\n",
       "      <th>4</th>\n",
       "    </tr>\n",
       "  </thead>\n",
       "  <tbody>\n",
       "    <tr>\n",
       "      <th>0</th>\n",
       "      <td>0.000000</td>\n",
       "      <td>0.000000</td>\n",
       "      <td>0.215436</td>\n",
       "      <td>0.000000</td>\n",
       "      <td>0.000000</td>\n",
       "    </tr>\n",
       "    <tr>\n",
       "      <th>1</th>\n",
       "      <td>0.000000</td>\n",
       "      <td>-0.754052</td>\n",
       "      <td>-1.951336</td>\n",
       "      <td>-0.831237</td>\n",
       "      <td>0.000000</td>\n",
       "    </tr>\n",
       "    <tr>\n",
       "      <th>2</th>\n",
       "      <td>0.115439</td>\n",
       "      <td>0.957278</td>\n",
       "      <td>-0.229310</td>\n",
       "      <td>1.350049</td>\n",
       "      <td>1.568929</td>\n",
       "    </tr>\n",
       "    <tr>\n",
       "      <th>3</th>\n",
       "      <td>0.000000</td>\n",
       "      <td>1.086385</td>\n",
       "      <td>-0.295490</td>\n",
       "      <td>0.000000</td>\n",
       "      <td>0.000000</td>\n",
       "    </tr>\n",
       "    <tr>\n",
       "      <th>4</th>\n",
       "      <td>0.000000</td>\n",
       "      <td>0.000000</td>\n",
       "      <td>-0.529092</td>\n",
       "      <td>0.000000</td>\n",
       "      <td>0.000000</td>\n",
       "    </tr>\n",
       "  </tbody>\n",
       "</table>\n",
       "</div>"
      ],
      "text/plain": [
       "          0         1         2         3         4\n",
       "0  0.000000  0.000000  0.215436  0.000000  0.000000\n",
       "1  0.000000 -0.754052 -1.951336 -0.831237  0.000000\n",
       "2  0.115439  0.957278 -0.229310  1.350049  1.568929\n",
       "3  0.000000  1.086385 -0.295490  0.000000  0.000000\n",
       "4  0.000000  0.000000 -0.529092  0.000000  0.000000"
      ]
     },
     "execution_count": 54,
     "metadata": {},
     "output_type": "execute_result"
    }
   ],
   "source": [
    "train_bgi = build_gray_images(X_train, 5, matrix_indexes)\n",
    "train_original_bgi = build_gray_images(X_train_original, 5, matrix_indexes)\n",
    "\n",
    "test_bgi  = build_gray_images(X_test, 5, matrix_indexes)\n",
    "\n",
    "\n",
    "pd.DataFrame(train_bgi[:,:,1057])"
   ]
  },
  {
   "cell_type": "markdown",
   "id": "_5saNqHWX4C_",
   "metadata": {
    "id": "_5saNqHWX4C_",
    "tags": []
   },
   "source": [
    "## Reshape de imágenes"
   ]
  },
  {
   "cell_type": "code",
   "execution_count": 55,
   "id": "bbdca6dd",
   "metadata": {
    "id": "bbdca6dd",
    "scrolled": true
   },
   "outputs": [],
   "source": [
    "train_images = shape_images(X_data = X_train,\n",
    "                            gray_images = train_bgi)\n",
    "test_images  = shape_images(X_data = X_test,\n",
    "                            gray_images = test_bgi)\n",
    "\n",
    "\n",
    "train_original_images = shape_images(X_data = X_train_original,\n",
    "                            gray_images = train_original_bgi)"
   ]
  },
  {
   "cell_type": "code",
   "execution_count": 56,
   "id": "15a5e9c9",
   "metadata": {
    "id": "15a5e9c9"
   },
   "outputs": [
    {
     "data": {
      "text/plain": [
       "<Figure size 432x288 with 0 Axes>"
      ]
     },
     "metadata": {},
     "output_type": "display_data"
    },
    {
     "data": {
      "image/png": "[encoded data removed]",
      "text/plain": [
       "<Figure size 216x216 with 1 Axes>"
      ]
     },
     "metadata": {
      "needs_background": "light"
     },
     "output_type": "display_data"
    },
    {
     "data": {
      "image/png": "[encoded data removed]",
      "text/plain": [
       "<Figure size 216x216 with 1 Axes>"
      ]
     },
     "metadata": {
      "needs_background": "light"
     },
     "output_type": "display_data"
    },
    {
     "data": {
      "image/png": "[encoded data removed]",
      "text/plain": [
       "<Figure size 216x216 with 1 Axes>"
      ]
     },
     "metadata": {
      "needs_background": "light"
     },
     "output_type": "display_data"
    }
   ],
   "source": [
    "plt.gray()\n",
    "for i in range(0,3):\n",
    "    plt.figure(figsize=(3, 3))\n",
    "    plt.imshow(train_bgi[:,:,i])\n",
    "    # plt.savefig(f\"{city_name}_image_example_{i}.svg\",transparent=True)\n",
    "    plt.show()"
   ]
  },
  {
   "cell_type": "code",
   "execution_count": 57,
   "id": "ad520774-b249-4575-855a-4a4fee307bd5",
   "metadata": {},
   "outputs": [],
   "source": [
    "# !conda install scikit-image"
   ]
  },
  {
   "cell_type": "code",
   "execution_count": 58,
   "id": "609a9bfb",
   "metadata": {
    "id": "609a9bfb"
   },
   "outputs": [],
   "source": [
    "# input_shape = (5, 5)\n",
    "\n",
    "array_train_images = np.asarray(train_images)\n",
    "array_test_images  = np.asarray(test_images)\n",
    "\n",
    "array_train_original_images = np.asarray(train_original_images)"
   ]
  },
  {
   "cell_type": "code",
   "execution_count": 59,
   "id": "ab443960-cace-48c5-ad61-2209386324f4",
   "metadata": {},
   "outputs": [],
   "source": [
    "# !conda install -c conda-forge tensorflow "
   ]
  },
  {
   "cell_type": "code",
   "execution_count": 60,
   "id": "cb121c88",
   "metadata": {
    "id": "cb121c88"
   },
   "outputs": [],
   "source": [
    "######### EN TERMINAL #########\n",
    "# !pip install tensorflow-addons"
   ]
  },
  {
   "cell_type": "markdown",
   "id": "fm72aQrpYW7V",
   "metadata": {
    "id": "fm72aQrpYW7V",
    "tags": []
   },
   "source": [
    "## One-Hot"
   ]
  },
  {
   "cell_type": "code",
   "execution_count": 61,
   "id": "01afbb97",
   "metadata": {
    "id": "01afbb97"
   },
   "outputs": [
    {
     "name": "stderr",
     "output_type": "stream",
     "text": [
      "/tmp/ipykernel_27618/3907942643.py:9: SettingWithCopyWarning: \n",
      "A value is trying to be set on a copy of a slice from a DataFrame\n",
      "\n",
      "See the caveats in the documentation: https://pandas.pydata.org/pandas-docs/stable/user_guide/indexing.html#returning-a-view-versus-a-copy\n",
      "  Y_labels.replace(transf, inplace = True)\n"
     ]
    }
   ],
   "source": [
    "Y_train_onehot = casualty_to_one_hot(Y_train)\n",
    "Y_train_original_onehot = casualty_to_one_hot(Y_train_original)\n",
    "Y_test_onehot  = casualty_to_one_hot(Y_test)"
   ]
  },
  {
   "cell_type": "markdown",
   "id": "V7Azjtl8gRth",
   "metadata": {
    "id": "V7Azjtl8gRth",
    "tags": [],
    "toc-hr-collapsed": true
   },
   "source": [
    "## Visualización de datos"
   ]
  },
  {
   "cell_type": "code",
   "execution_count": 62,
   "id": "SzhUTtEti5oE",
   "metadata": {
    "id": "SzhUTtEti5oE"
   },
   "outputs": [],
   "source": [
    "# !conda install seaborn"
   ]
  },
  {
   "cell_type": "markdown",
   "id": "qKYh5EeThQ_7",
   "metadata": {
    "id": "qKYh5EeThQ_7",
    "jp-MarkdownHeadingCollapsed": true,
    "tags": []
   },
   "source": [
    "### Matriz de correlación"
   ]
  },
  {
   "cell_type": "code",
   "execution_count": 63,
   "id": "PLcI-nQShVR1",
   "metadata": {
    "id": "PLcI-nQShVR1"
   },
   "outputs": [],
   "source": [
    "# correlation_matrix(X_test)"
   ]
  },
  {
   "cell_type": "markdown",
   "id": "kISRP5AQhWTD",
   "metadata": {
    "id": "kISRP5AQhWTD",
    "jp-MarkdownHeadingCollapsed": true,
    "tags": []
   },
   "source": [
    "### PCA"
   ]
  },
  {
   "cell_type": "code",
   "execution_count": 64,
   "id": "f285158d-69c6-4dfc-b728-6d4bd4b7cf1c",
   "metadata": {
    "id": "f285158d-69c6-4dfc-b728-6d4bd4b7cf1c"
   },
   "outputs": [],
   "source": [
    "# pca(X_train, X_test)"
   ]
  },
  {
   "cell_type": "markdown",
   "id": "70370ce9-acc4-4fe7-bea0-c592909a305d",
   "metadata": {
    "tags": []
   },
   "source": [
    "### TSNE"
   ]
  },
  {
   "cell_type": "code",
   "execution_count": 65,
   "id": "58ec350b-8032-4ecc-a38e-9db86efb2bc2",
   "metadata": {},
   "outputs": [],
   "source": [
    "# output_file_name = './2d_test_tsne.svg'\n",
    "# plot_TSNE(X_test, Y_test, n_components=2)\n",
    "\n",
    "# output_file_name = './2d_train_tsne.svg'\n",
    "# plot_TSNE(X_train, Y_train, n_components=2)\n",
    "\n",
    "# output_file_name = './3d_test_tsne.svg'\n",
    "# plot_TSNE(X_test, Y_test, n_components=3)\n",
    "\n",
    "# output_file_name = './3d_train_tsne.svg'\n",
    "# plot_TSNE(X_train, Y_train, n_components=3)"
   ]
  },
  {
   "cell_type": "markdown",
   "id": "EkC9ryU4lFwg",
   "metadata": {
    "id": "EkC9ryU4lFwg",
    "tags": [],
    "toc-hr-collapsed": true
   },
   "source": [
    "### Autoencoder"
   ]
  },
  {
   "cell_type": "markdown",
   "id": "cCo2emMclT8h",
   "metadata": {
    "id": "cCo2emMclT8h",
    "tags": []
   },
   "source": [
    "#### Entrenamiento"
   ]
  },
  {
   "cell_type": "code",
   "execution_count": 66,
   "id": "4xBSSjInlHj1",
   "metadata": {
    "id": "4xBSSjInlHj1"
   },
   "outputs": [],
   "source": [
    "X_train = array_train_images\n",
    "X_test = array_test_images\n",
    "X_train_original = array_train_original_images\n",
    "\n",
    "X_train = X_train.reshape(len(array_train_images), 25)\n",
    "X_train_original = X_train_original.reshape(len(array_train_original_images), 25)\n",
    "X_test  = X_test.reshape(len(X_test), 25)\n",
    "\n",
    "# autoencoder().fit(X_train, X_train,\n",
    "#                 epochs=15,\n",
    "#                 batch_size=32,\n",
    "#                 shuffle=True,\n",
    "#                 validation_data=(X_test, X_test))"
   ]
  },
  {
   "cell_type": "markdown",
   "id": "gJfbDNO5oB1N",
   "metadata": {
    "id": "gJfbDNO5oB1N",
    "tags": []
   },
   "source": [
    "#### Visualización"
   ]
  },
  {
   "cell_type": "code",
   "execution_count": 67,
   "id": "2NjR_MDJlXsJ",
   "metadata": {
    "id": "2NjR_MDJlXsJ"
   },
   "outputs": [],
   "source": [
    "# # create encoder model\n",
    "# encoder = Model(inputs=input_img, outputs=encoder2)\n",
    "# encoder.summary()\n",
    "# # create decoder model\n",
    "# encoded_input = Input(shape=(3,))\n",
    "# #lo que hace aqui es quedarse con las capas que corresponden al decodificador\n",
    "# decoder_layer1 = autoencoder.layers[-2]\n",
    "# decoder_layer2 = autoencoder.layers[-1]\n",
    "# decoder = Model(inputs=encoded_input, outputs=decoder_layer2(decoder_layer1(encoded_input)))\n",
    "# decoder.summary()\n",
    "# # si miramos la salida, son simetricos el uno respecto al otro\n",
    "# # encoder va de input a 3 y decoder de 3 a input\n",
    "\n",
    "# # get latent vector for visualization\n",
    "# latent_vector = encoder.predict(X_test)\n",
    "# # get decoder output to visualize reconstructed image\n",
    "# reconstructed_imgs = decoder.predict(latent_vector)\n",
    "\n",
    "\n",
    "# # visualize in 3D plot\n",
    "# from pylab import rcParams\n",
    "# from mpl_toolkits.mplot3d import Axes3D\n",
    "\n",
    "# rcParams['figure.figsize'] = 10, 8\n",
    "\n",
    "# fig = plt.figure(1)\n",
    "# ax = Axes3D(fig)\n",
    "\n",
    "# xs = latent_vector[:, 0]\n",
    "# ys = latent_vector[:, 1]\n",
    "# zs = latent_vector[:, 2]\n",
    "\n",
    "# color=['red','green','blue']\n",
    "\n",
    "# for x, y, z, label in zip(xs, ys, zs, Y_test):\n",
    "#     c = color[int(label)]\n",
    "#     ax.text(x, y, z, label, backgroundcolor=c)\n",
    "    \n",
    "# ax.set_xlim(xs.min(), xs.max())\n",
    "# ax.set_ylim(ys.min(), ys.max())\n",
    "# ax.set_zlim(zs.min(), zs.max())\n",
    "\n",
    "# # plt.show()\n",
    "\n",
    "# # X_test_encoded = encoder.predict(X_test, batch_size=32)\n",
    "# # plt.figure(figsize=(6, 6))\n",
    "# # plt.scatter(X_test_encoded[:, 0], X_test_encoded[:, 1], c=Y_test)\n",
    "# # plt.colorbar()\n",
    "# # plt.show()"
   ]
  },
  {
   "cell_type": "code",
   "execution_count": 68,
   "id": "07b3666f-f387-4ce1-b0f7-f1e12e3a61e7",
   "metadata": {
    "id": "07b3666f-f387-4ce1-b0f7-f1e12e3a61e7",
    "tags": []
   },
   "outputs": [],
   "source": [
    "from sklearn.manifold import TSNE\n",
    "from sklearn.preprocessing import StandardScaler\n",
    "\n",
    "def plot_TSNE(X_data, Y_data, n_components, output_file_name=None):\n",
    "    X_data_scaled = StandardScaler().fit_transform(X_data)\n",
    "    z_data = TSNE(n_components=n_components).fit_transform(X_data_scaled)\n",
    "    # X_test_scaled = StandardScaler().fit_transform(X_test)\n",
    "    # z_test = TSNE(n_components=2).fit_transform(X_test_scaled)\n",
    "\n",
    "    palette = sns.color_palette(\"hls\", 3)\n",
    "    fig,ax  = plt.subplots(1,1,figsize=(15,10))\n",
    "    sns.scatterplot(x = z_data[:,0],\n",
    "                    y = z_data[:,1],\n",
    "                    hue = Y_data,\n",
    "                    palette = palette,\n",
    "                    legend = 'full')\n",
    "\n",
    "    if (output_file_name): plt.savefig('./Out/' + output_file_name)\n",
    "\n",
    "# output_file_name = './2d_test_tsne.svg'\n",
    "# plot_TSNE(X_test, Y_test, n_components=2)\n",
    "\n",
    "# output_file_name = './2d_train_tsne.svg'\n",
    "# plot_TSNE(X_train, Y_train, n_components=2)\n",
    "\n",
    "# output_file_name = './3d_test_tsne.svg'\n",
    "# plot_TSNE(X_test, Y_test, n_components=3)\n",
    "\n",
    "# output_file_name = './3d_train_tsne.svg'\n",
    "# plot_TSNE(X_train, Y_train, n_components=3)"
   ]
  },
  {
   "cell_type": "markdown",
   "id": "6ba9997e-960d-46ef-9505-0e06add18c11",
   "metadata": {
    "tags": []
   },
   "source": [
    "## Models"
   ]
  },
  {
   "cell_type": "code",
   "execution_count": 69,
   "id": "fd452f93-49cb-41a6-aeca-287f08ddba6e",
   "metadata": {},
   "outputs": [
    {
     "name": "stdout",
     "output_type": "stream",
     "text": [
      "\n",
      "Pesos calculados: [ 0.37992002  2.88492275 47.08695652] \n",
      "\n",
      "\n"
     ]
    }
   ],
   "source": [
    "Y_test_labels = one_hot_to_casualty(Y_test)\n",
    "\n",
    "from sklearn.utils import class_weight\n",
    "\n",
    "pesos = class_weight.compute_class_weight('balanced',\n",
    "                                          classes = np.unique(Y_train_original),\n",
    "                                          y = Y_train_original)\n",
    "\n",
    "\n",
    "print('\\nPesos calculados:', pesos, '\\n\\n')\n",
    "\n",
    "\n",
    "# Keras espera un diccionario donde la clave sea el número de clase \n",
    "# y el valor sea el peso calculado. \n",
    "pesos = dict(enumerate(pesos))  "
   ]
  },
  {
   "cell_type": "code",
   "execution_count": 70,
   "id": "6a617ac8-991b-42f4-8c09-7be36e278ec3",
   "metadata": {},
   "outputs": [],
   "source": [
    "import pickle"
   ]
  },
  {
   "cell_type": "markdown",
   "id": "7f30e14d-d989-4df9-8f1b-cfc2f0457f1b",
   "metadata": {
    "toc-hr-collapsed": true
   },
   "source": [
    "### KNN"
   ]
  },
  {
   "cell_type": "code",
   "execution_count": 71,
   "id": "c2a3a799-c5eb-401f-aff9-1d35b5593885",
   "metadata": {},
   "outputs": [],
   "source": [
    "# from sklearn.neighbors import NearestNeighbors\n",
    "from sklearn.neighbors import KNeighborsClassifier\n",
    "from sklearn.model_selection import GridSearchCV\n",
    "\n",
    "MODEL_NAME = MODELS_NAME[0]"
   ]
  },
  {
   "cell_type": "markdown",
   "id": "abdf8b87-5b35-4a90-bb72-63be7771e11a",
   "metadata": {},
   "source": [
    "#### Entrenamiento"
   ]
  },
  {
   "cell_type": "code",
   "execution_count": 72,
   "id": "7ac1ac3c-85d8-485d-8b28-48eb4c74d848",
   "metadata": {},
   "outputs": [],
   "source": [
    "leaf_size = list(range(1,10, 2))\n",
    "n_neighbors = list(range(1,25, 5))"
   ]
  },
  {
   "cell_type": "code",
   "execution_count": 73,
   "id": "d9b1f562-15d0-41bb-a867-c62368d06aa6",
   "metadata": {},
   "outputs": [],
   "source": [
    "# # Create new KNN object\n",
    "# hyperparameters = dict(leaf_size = leaf_size,\n",
    "#                        n_neighbors = n_neighbors)\n",
    "\n",
    "# # Use GridSearch\n",
    "# knn_2 = KNeighborsClassifier()\n",
    "\n",
    "# # Fit the model\n",
    "# clf = GridSearchCV(knn_2,\n",
    "#                    hyperparameters,\n",
    "#                    cv = 5)\n",
    "\n",
    "# knn = clf.fit(X_train, Y_train)\n",
    "\n",
    "# # Print The value of best Hyperparameters\n",
    "\n",
    "# best_leaf_size = knn.best_estimator_.get_params()['leaf_size']\n",
    "# best_n_neighbors = knn.best_estimator_.get_params()['n_neighbors']\n",
    "\n",
    "# print('Best leaf_size:', best_leaf_size)\n",
    "# print('Best n_neighbors:', best_n_neighbors)\n",
    "\n",
    "# df = pd.DataFrame({'best_leaf_size':[best_leaf_size], 'n_neighbors':[best_n_neighbors]})\n",
    "\n",
    "# FILE_NAME = f\"{MODEL_NAME}/leeds_{MODEL_TIMESTAMP}.csv\"\n",
    "\n",
    "# df.to_csv(HYPERPARAMS_PATH + FILE_NAME, index = True)"
   ]
  },
  {
   "cell_type": "markdown",
   "id": "7639e1f7-0d13-4f7e-9343-5a150748483c",
   "metadata": {},
   "source": [
    "#### Escritura del modelo"
   ]
  },
  {
   "cell_type": "code",
   "execution_count": 74,
   "id": "2062638c-cd68-475a-ab10-9338d001f133",
   "metadata": {},
   "outputs": [],
   "source": [
    "# MODEL_PATH = f\"{MODELS_PATH}{MODEL_NAME}/\"\n",
    "# MODEL_FILE_NAME = f\"leeds_{MODEL_NAME}_{MODEL_TIMESTAMP}.pkl\"\n",
    "\n",
    "# # Its important to use binary mode \n",
    "# knnPickle = open(MODEL_PATH + MODEL_FILE_NAME, 'wb') \n",
    "\n",
    "# # source, destination \n",
    "# pickle.dump(knn, knnPickle)"
   ]
  },
  {
   "cell_type": "markdown",
   "id": "a4ccdf81-4c4c-4bcb-b10c-d609dc245145",
   "metadata": {
    "tags": []
   },
   "source": [
    "#### Carga de modelo pre-entrenado"
   ]
  },
  {
   "cell_type": "code",
   "execution_count": 75,
   "id": "a50e52bc-3781-4c15-a161-65999d90d148",
   "metadata": {},
   "outputs": [],
   "source": [
    "# MODEL_PATH = f\"{MODELS_PATH}{MODEL_NAME}/\"\n",
    "# MODEL_FILE_NAME = f\"leeds_{MODEL_NAME}_2022-04-27-21:50:26.pkl\"\n",
    "\n",
    "# # load the model from disk\n",
    "# loaded_model = pickle.load(open(MODEL_PATH + MODEL_FILE_NAME, 'rb'))"
   ]
  },
  {
   "cell_type": "markdown",
   "id": "cd32bbc5-bf0c-484e-bbcd-882884b7bac3",
   "metadata": {
    "tags": []
   },
   "source": [
    "#### Resultados"
   ]
  },
  {
   "cell_type": "code",
   "execution_count": 76,
   "id": "066b3ae0-0fb4-49ed-b42a-4a2cb3f02b92",
   "metadata": {},
   "outputs": [],
   "source": [
    "# y_true = tf.argmax(Y_test_onehot, axis=1)\n",
    "# y_predicted = knn.predict(X_test)\n",
    "\n",
    "\n",
    "# ############## SAVE CLASSIFICATION REPORT ##############\n",
    "# report = classification_report(y_true,\n",
    "#                                y_predicted,\n",
    "#                                target_names = Y_test_labels.unique(),\n",
    "#                                output_dict = True)\n",
    "\n",
    "# REPORT_PATH = f\"{REPORTS_PATH}{MODEL_NAME}/\"\n",
    "# REPORT_NAME  = f\"leeds_{MODEL_NAME}_report_{MODEL_TIMESTAMP}.csv\"\n",
    "\n",
    "# report_df = pd.DataFrame(report).transpose()\n",
    "# report_df.to_csv(REPORT_PATH + REPORT_NAME, index= True)\n",
    "\n",
    "\n",
    "# ############## SAVE CONFUSION MATRIX ##############\n",
    "\n",
    "# CONFUSION_MATRIX_PATH = f\"{CONFUSIONS_MATRIX_PATH}{MODEL_NAME}/\"\n",
    "# CONFUSION_MATRIX_NAME  = f\"leeds_{MODEL_NAME}_confusion_matrix_{MODEL_TIMESTAMP}.svg\"\n",
    "\n",
    "# cm = confusion_matrix(y_true,\n",
    "#                       y_predicted,\n",
    "#                       labels = Y_test.unique())\n",
    "\n",
    "# disp = ConfusionMatrixDisplay(confusion_matrix = cm,\n",
    "#                               display_labels = Y_test_labels.unique()).plot()\n",
    "\n",
    "# plt.savefig(CONFUSION_MATRIX_PATH + CONFUSION_MATRIX_NAME, dpi = 150)"
   ]
  },
  {
   "cell_type": "markdown",
   "id": "c3001677-1025-4c6b-95d0-c758cb05cd8f",
   "metadata": {
    "toc-hr-collapsed": true
   },
   "source": [
    "### Convolution 1D"
   ]
  },
  {
   "cell_type": "code",
   "execution_count": 77,
   "id": "9b2fd87f-5a8a-4acc-bc1e-9674cb389bdd",
   "metadata": {
    "tags": []
   },
   "outputs": [],
   "source": [
    "MODEL_NAME = MODELS_NAME[1]"
   ]
  },
  {
   "cell_type": "markdown",
   "id": "51f3ff34-855b-4176-9d89-b3089a202100",
   "metadata": {},
   "source": [
    "#### Entrenamiento"
   ]
  },
  {
   "cell_type": "code",
   "execution_count": 78,
   "id": "8889a47c-21e2-4965-8713-a30eccde6f44",
   "metadata": {},
   "outputs": [],
   "source": [
    "from keras.callbacks import ModelCheckpoint\n",
    "\n",
    "if train_nn:\n",
    "    MODEL_PATH = f\"{MODELS_PATH}{MODEL_NAME}/\"\n",
    "    file_name = '_epoch{epoch:02d}-loss{val_loss:.2f}'\n",
    "    MODEL_FILE_NAME = f\"{city_name}_{MODEL_NAME}_{MODEL_TIMESTAMP}_{file_name}.hdf5\"\n",
    "    \n",
    "    checkpoint = ModelCheckpoint(filepath= MODEL_PATH + MODEL_FILE_NAME, \n",
    "                                 monitor = 'val_loss',\n",
    "                                 verbose = 1, \n",
    "                                 save_best_only = True,\n",
    "                                 mode = 'min')\n",
    "    callbacks = [checkpoint]\n",
    "\n",
    "    history = convolution_1d.fit(array_train_images, Y_train_onehot,\n",
    "                                 # class_weight = pesos,\n",
    "                                 batch_size = 128,\n",
    "                                 epochs = 100,\n",
    "                                 shuffle = True,\n",
    "                                 validation_data = (array_test_images, Y_test_onehot),\n",
    "                                 callbacks = callbacks)\n",
    "\n",
    "    # convolution_1d.load_weights(MODEL_FILE_NAME)\n",
    "\n",
    "    history"
   ]
  },
  {
   "cell_type": "markdown",
   "id": "edeea268-a784-4906-ade9-c0ee7f749e42",
   "metadata": {},
   "source": [
    "#### Escritura del modelo"
   ]
  },
  {
   "cell_type": "code",
   "execution_count": 79,
   "id": "dc7866a3-0f39-4874-87bc-4035170e2add",
   "metadata": {},
   "outputs": [],
   "source": [
    "if train_nn and leeds:\n",
    "    MODEL_PATH = f\"{MODELS_PATH}{MODEL_NAME}/\"\n",
    "    MODEL_FILE_NAME = f\"{city_name}_{MODEL_NAME}_{MODEL_TIMESTAMP}.h5\"\n",
    "\n",
    "    tasp_cnn.save(MODEL_PATH + MODEL_FILE_NAME)"
   ]
  },
  {
   "cell_type": "markdown",
   "id": "ee308fe0-3b84-474c-a548-d322cc79cc0d",
   "metadata": {
    "tags": []
   },
   "source": [
    "#### Carga de modelo pre-entrenado"
   ]
  },
  {
   "cell_type": "code",
   "execution_count": 80,
   "id": "fd16047c-c9b8-4011-8462-c8a7242d6092",
   "metadata": {},
   "outputs": [],
   "source": [
    "if not train_nn and not laptop:\n",
    "    MODEL_PATH = f\"{MODELS_PATH}{MODEL_NAME}/\"\n",
    "    MODEL_FILE_NAME = 'leeds_convolution_1d_2022-05-11-08:53:52.h5'\n",
    "\n",
    "    convolution_1d = tf.keras.models.load_model(MODEL_PATH + MODEL_FILE_NAME)"
   ]
  },
  {
   "cell_type": "markdown",
   "id": "7e0ac8ee-0968-473e-8cb8-5c479d15a69a",
   "metadata": {
    "tags": []
   },
   "source": [
    "#### Resultados"
   ]
  },
  {
   "cell_type": "code",
   "execution_count": 81,
   "id": "04864929-acd0-4134-99bd-66514b4124d9",
   "metadata": {},
   "outputs": [],
   "source": [
    "if not laptop:\n",
    "    Y_predicted = convolution_1d.predict(x = array_test_images, batch_size = 128).argmax(axis = 1)\n",
    "\n",
    "    if train_nn:\n",
    "        F1_SCORE_PATH = f\"{F1_SCORES_PATH}{MODEL_NAME}/\"\n",
    "        F1_SCORE_NAME = f\"{city_name}_{MODEL_NAME}_f1_score_{MODEL_TIMESTAMP}.svg\"\n",
    "\n",
    "        plot_f1_score_history(f1_score_path = F1_SCORE_PATH,\n",
    "                              f1_score_name = F1_SCORE_NAME,\n",
    "                              history = history)\n",
    "\n",
    "    print(\"[INFO] evaluating network...\")\n",
    "\n",
    "    REPORT_PATH = f\"{REPORTS_PATH}{MODEL_NAME}/\"\n",
    "    REPORT_NAME  = f\"{city_name}_{MODEL_NAME}_report_{MODEL_TIMESTAMP}.csv\"\n",
    "\n",
    "    plot_classification_report(path = REPORT_PATH,\n",
    "                               file_name = REPORT_NAME,\n",
    "                               y_true = Y_test,\n",
    "                               y_predicted = Y_predicted)\n",
    "\n",
    "\n",
    "    CONFUSION_MATRIX_PATH = f\"{CONFUSIONS_MATRIX_PATH}{MODEL_NAME}/\"\n",
    "    CONFUSION_MATRIX_NAME = f\"{city_name}_{MODEL_NAME}_confusion_matrix_{MODEL_TIMESTAMP}.svg\"\n",
    "\n",
    "    plot_confusion_matrix(path = CONFUSION_MATRIX_PATH,\n",
    "                          file_name = CONFUSION_MATRIX_NAME,\n",
    "                          y_true = Y_test,\n",
    "                          y_predicted = Y_predicted)"
   ]
  },
  {
   "cell_type": "markdown",
   "id": "qWl5nEFhfoLX",
   "metadata": {
    "id": "qWl5nEFhfoLX",
    "tags": [],
    "toc-hr-collapsed": true
   },
   "source": [
    "### Convolution 2D"
   ]
  },
  {
   "cell_type": "code",
   "execution_count": 82,
   "id": "233b8c68-5a14-4094-8239-7885568b6898",
   "metadata": {},
   "outputs": [],
   "source": [
    "MODEL_NAME = MODELS_NAME[2]"
   ]
  },
  {
   "cell_type": "markdown",
   "id": "81ilUM9ijCge",
   "metadata": {
    "id": "81ilUM9ijCge",
    "tags": []
   },
   "source": [
    "#### Entrenamiento"
   ]
  },
  {
   "cell_type": "code",
   "execution_count": 83,
   "id": "xQuI-4TFjBEV",
   "metadata": {
    "id": "xQuI-4TFjBEV"
   },
   "outputs": [],
   "source": [
    "if train_nn:\n",
    "    history = tasp_cnn.fit(array_train_images, Y_train_onehot,\n",
    "                           # class_weight = pesos,\n",
    "                           batch_size = 128,\n",
    "                           epochs = 100,\n",
    "                           shuffle = True,\n",
    "                           validation_data = (array_test_images, Y_test_onehot))\n",
    "\n",
    "    history"
   ]
  },
  {
   "cell_type": "markdown",
   "id": "6fff2b6f-08b6-4a3e-b286-a13c106ce651",
   "metadata": {
    "tags": []
   },
   "source": [
    "#### Escritura del modelo"
   ]
  },
  {
   "cell_type": "code",
   "execution_count": 84,
   "id": "9c0147af-5a2a-494f-a286-39476aa5c6a4",
   "metadata": {},
   "outputs": [],
   "source": [
    "if train_nn:\n",
    "    MODEL_PATH = f\"{MODELS_PATH}{MODEL_NAME}/\"\n",
    "    MODEL_FILE_NAME = f\"leeds_{MODEL_NAME}_{MODEL_TIMESTAMP}.h5\"\n",
    "\n",
    "    tasp_cnn.save(MODEL_PATH + MODEL_FILE_NAME)"
   ]
  },
  {
   "cell_type": "markdown",
   "id": "aczocEwOkHlA",
   "metadata": {
    "id": "aczocEwOkHlA",
    "tags": []
   },
   "source": [
    "#### Carga de modelo pre-entrenado"
   ]
  },
  {
   "cell_type": "code",
   "execution_count": 85,
   "id": "v6rxkwFlkNz7",
   "metadata": {
    "id": "v6rxkwFlkNz7"
   },
   "outputs": [],
   "source": [
    "if not train_nn and not laptop:\n",
    "    MODEL_PATH = f\"{MODELS_PATH}{MODEL_NAME}/\"\n",
    "    MODEL_FILE_NAME = 'leeds_convolution_2d_2022-05-11-08:53:52.h5'\n",
    "    # MODEL_NAME = 'leeds_2022-04-25-08:30:33.h5'\n",
    "\n",
    "    tasp_cnn = tf.keras.models.load_model(MODEL_PATH + MODEL_FILE_NAME)"
   ]
  },
  {
   "cell_type": "markdown",
   "id": "O548TVkJjpp5",
   "metadata": {
    "id": "O548TVkJjpp5",
    "tags": []
   },
   "source": [
    "#### Resultados"
   ]
  },
  {
   "cell_type": "code",
   "execution_count": 86,
   "id": "8NivdSBoMFZE",
   "metadata": {
    "id": "8NivdSBoMFZE"
   },
   "outputs": [],
   "source": [
    "if not laptop:\n",
    "\n",
    "    Y_predicted = tasp_cnn.predict(x = array_test_images, batch_size = 128).argmax(axis = 1)\n",
    "\n",
    "    if train_nn:\n",
    "        F1_SCORE_PATH = f\"{F1_SCORES_PATH}{MODEL_NAME}/\"\n",
    "        F1_SCORE_NAME = f\"{city_name}_{MODEL_NAME}_f1_score_{MODEL_TIMESTAMP}.svg\"\n",
    "\n",
    "        plot_f1_score_history(f1_score_path = F1_SCORE_PATH,\n",
    "                              f1_score_name = F1_SCORE_NAME,\n",
    "                              history = history)\n",
    "\n",
    "    print(\"[INFO] evaluating network...\")\n",
    "\n",
    "    REPORT_PATH = f\"{REPORTS_PATH}{MODEL_NAME}/\"\n",
    "    REPORT_NAME  = f\"{city_name}_{MODEL_NAME}_report_{MODEL_TIMESTAMP}.csv\"\n",
    "\n",
    "    plot_classification_report(path = REPORT_PATH,\n",
    "                               file_name = REPORT_NAME,\n",
    "                               y_true = Y_test,\n",
    "                               y_predicted = Y_predicted)\n",
    "\n",
    "\n",
    "    CONFUSION_MATRIX_PATH = f\"{CONFUSIONS_MATRIX_PATH}{MODEL_NAME}/\"\n",
    "    CONFUSION_MATRIX_NAME = f\"{city_name}_{MODEL_NAME}_confusion_matrix_{MODEL_TIMESTAMP}.svg\"\n",
    "\n",
    "    plot_confusion_matrix(path = CONFUSION_MATRIX_PATH,\n",
    "                          file_name = CONFUSION_MATRIX_NAME,\n",
    "                          y_true = Y_test,\n",
    "                          y_predicted = Y_predicted)"
   ]
  },
  {
   "cell_type": "markdown",
   "id": "a631abf8-5cce-4190-a03e-f6bd5bcb7d12",
   "metadata": {},
   "source": [
    "## AutoML"
   ]
  },
  {
   "cell_type": "code",
   "execution_count": 87,
   "id": "1dbdccd8-304b-4dab-a573-2e6a6c44c59b",
   "metadata": {},
   "outputs": [],
   "source": [
    "MODEL_NAME = 'auto_ml'"
   ]
  },
  {
   "cell_type": "code",
   "execution_count": 88,
   "id": "ea8f9454-1b8d-47b6-b842-4c787f6b59ad",
   "metadata": {},
   "outputs": [],
   "source": [
    "# import autokeras as ak\n",
    "# from tensorflow.keras.datasets import mnist\n",
    "\n",
    "# # (x_train, y_train), (x_test, y_test) = mnist.load_data()\n",
    "\n",
    "# clf = ak.ImageClassifier(num_classes = 3,\n",
    "#                          loss='categorical_crossentropy',\n",
    "#                          metrics = [tfa.metrics.F1Score(num_classes = num_classes, average='micro', threshold = 0.1)],\n",
    "#                          overwrite = True,\n",
    "#                          tuner= 'bayesian',\n",
    "#                          max_trials = 20,\n",
    "#                          max_model_size = 3000000\n",
    "#                         )\n",
    "    \n",
    "# clf.fit(array_train_images,\n",
    "#         np.asarray(Y_train),\n",
    "#         epochs = 50,\n",
    "#         batch_size = 128,\n",
    "#         validation_data = (array_test_images, np.asarray(Y_test)))\n",
    "\n",
    "# best_auto_model = clf.export_model()\n",
    "# print(best_auto_model.summary())"
   ]
  },
  {
   "cell_type": "markdown",
   "id": "2d26cd39-0a6c-4cc1-96df-e032270bb193",
   "metadata": {},
   "source": [
    "### Escritura del modelo"
   ]
  },
  {
   "cell_type": "code",
   "execution_count": 89,
   "id": "9f374090-ed3a-43fe-8e5a-5e23f6e3b18c",
   "metadata": {},
   "outputs": [],
   "source": [
    "# MODEL_PATH = f\"{MODELS_PATH}{MODEL_NAME}/\"\n",
    "# MODEL_FILE_NAME = f\"{city_name}_{MODEL_NAME}_{MODEL_TIMESTAMP}.h5\"\n",
    "\n",
    "# best_auto_model.save(MODEL_PATH + MODEL_FILE_NAME)\n",
    "\n",
    "# # def myprint(s):\n",
    "# #     with open(f\"{MODEL_PATH}_{MODEL_FILE_NAME}_summary.txt\",'w+') as f:\n",
    "# #         print(s, file=f)\n",
    "\n",
    "        \n",
    "# from contextlib import redirect_stdout\n",
    "\n",
    "# MODEL_FILE_NAME = f\"{city_name}_{MODEL_NAME}_{MODEL_TIMESTAMP}_summary.txt\"\n",
    "\n",
    "# # with open(f\"{MODEL_PATH}_{MODEL_FILE_NAME}\", 'w') as f:\n",
    "\n",
    "# #     best_auto_model.summary(print_fn=lambda x: f.write(x + '\\n'))\n",
    "# with open(f\"{MODEL_PATH}_{MODEL_FILE_NAME}\", 'w') as f:\n",
    "#     with redirect_stdout(f):\n",
    "#         best_auto_model.summary()\n",
    "#         f.close()"
   ]
  },
  {
   "cell_type": "markdown",
   "id": "9ec24e94-a977-4e6c-b5fb-7a9496787566",
   "metadata": {},
   "source": [
    "### Resultados"
   ]
  },
  {
   "cell_type": "code",
   "execution_count": 90,
   "id": "e7ed2da6-f433-4e20-b663-1abe86717d27",
   "metadata": {},
   "outputs": [],
   "source": [
    "# Y_predicted = best_auto_model.predict(x = array_test_images, batch_size = 128).argmax(axis = 1)\n",
    "\n",
    "# F1_SCORE_PATH = f\"{F1_SCORES_PATH}{MODEL_NAME}/\"\n",
    "# F1_SCORE_NAME = f\"{city_name}_{MODEL_NAME}_f1_score_{MODEL_TIMESTAMP}.svg\"\n",
    "\n",
    "# plot_f1_score(f1_score_path = F1_SCORE_PATH,\n",
    "#               f1_score_name = F1_SCORE_NAME,\n",
    "#               history = history)\n",
    "\n",
    "# print(\"[INFO] evaluating network...\")\n",
    "\n",
    "# REPORT_PATH = f\"{REPORTS_PATH}{MODEL_NAME}/\"\n",
    "# REPORT_NAME  = f\"{city_name}_{MODEL_NAME}_report_{MODEL_TIMESTAMP}.csv\"\n",
    "\n",
    "# plot_classification_report(path = REPORT_PATH,\n",
    "#                            file_name = REPORT_NAME,\n",
    "#                            y_true = Y_test,\n",
    "#                            y_predicted = Y_predicted)\n",
    "\n",
    "\n",
    "# CONFUSION_MATRIX_PATH = f\"{CONFUSIONS_MATRIX_PATH}{MODEL_NAME}/\"\n",
    "# CONFUSION_MATRIX_NAME  = f\"{city_name}_{MODEL_NAME}_confusion_matrix_{MODEL_TIMESTAMP}.svg\"\n",
    "\n",
    "# plot_confusion_matrix(path = CONFUSION_MATRIX_PATH,\n",
    "#                       file_name = CONFUSION_MATRIX_NAME,\n",
    "#                       y_true = Y_test,\n",
    "#                       y_predicted = Y_predicted)"
   ]
  },
  {
   "cell_type": "markdown",
   "id": "oMQbX1j_zVOO",
   "metadata": {
    "id": "oMQbX1j_zVOO",
    "tags": []
   },
   "source": [
    "# Madrid Data"
   ]
  },
  {
   "cell_type": "markdown",
   "id": "pG-PDMY6zdqE",
   "metadata": {
    "id": "pG-PDMY6zdqE",
    "tags": [],
    "toc-hr-collapsed": true
   },
   "source": [
    "## Importación de datos"
   ]
  },
  {
   "cell_type": "markdown",
   "id": "wlkJKFfzBd8g",
   "metadata": {
    "id": "wlkJKFfzBd8g"
   },
   "source": [
    "- [Web Dataset](https://datos.madrid.es/portal/site/egob/menuitem.c05c1f754a33a9fbe4b2e4b284f1a5a0/?vgnextoid=7c2843010d9c3610VgnVCM2000001f4a900aRCRD&vgnextchannel=374512b9ace9f310VgnVCM100000171f5a0aRCRD&vgnextfmt=default)\n",
    "\n",
    "- [Web documentación](https://datos.madrid.es/FWProjects/egob/Catalogo/Seguridad/Ficheros/Estructura_DS_Accidentes_trafico_desde_2019.pdf)\n",
    "\n"
   ]
  },
  {
   "cell_type": "code",
   "execution_count": 91,
   "id": "Ic0tgQy47zEr",
   "metadata": {
    "id": "Ic0tgQy47zEr"
   },
   "outputs": [],
   "source": [
    "import pandas as pd\n",
    "\n",
    "city_name = 'madrid'\n",
    "\n",
    "# root_path = '/content/drive/Othercomputers/Mi portátil/Drive/Master UA/TFM/Incidentes de Trafico/Datasets/Madrid/'\n",
    "\n",
    "root_path = './Data/Madrid/'\n",
    "\n",
    "file_name_2019 = '2019_Accidentalidad.csv'\n",
    "file_name_2020 = '2020_Accidentalidad.csv'\n",
    "file_name_2021 = '2021_Accidentalidad.csv'\n",
    "file_name_2022 = '2022_Accidentalidad.csv'\n",
    "\n",
    "file_2019 = pd.read_csv(root_path + file_name_2019, sep=';')\n",
    "file_2020 = pd.read_csv(root_path + file_name_2020, sep=';')\n",
    "file_2021 = pd.read_csv(root_path + file_name_2021, sep=';')\n",
    "file_2022 = pd.read_csv(root_path + file_name_2022, sep=';')\n",
    "\n",
    "# print(len(file_2019[file_2019.cod_lesividad == 4]))\n",
    "# print(len(file_2020[file_2020.cod_lesividad == 4]))\n",
    "# print(len(file_2021[file_2021.lesividad == '4']))\n",
    "# print(len(file_2022[file_2022.lesividad == '4']))\n",
    "\n",
    "COLUMNS_TO_REMOVE = ['cod_distrito',\n",
    "                     'tipo_lesividad'\n",
    "                    ]\n",
    "\n",
    "data_frame = file_2019\n",
    "data_frame = pd.concat([data_frame, file_2020])\n",
    "\n",
    "data_frame.rename(columns={\"cod_lesividad\": \"lesividad\"}, inplace = True)\n",
    "data_frame.rename(columns={\"tipo_vehículo\": \"tipo_vehiculo\"}, inplace = True)\n",
    "data_frame = data_frame.drop(COLUMNS_TO_REMOVE, axis=1)\n",
    "\n",
    "data_frame = pd.concat([data_frame, file_2021])\n",
    "\n",
    "data_frame.dropna(subset=['lesividad'], inplace = True)\n",
    "data_frame.lesividad = data_frame.lesividad.replace(' ', 14).astype(int)\n",
    "data_frame = data_frame.reset_index(drop=True)"
   ]
  },
  {
   "cell_type": "code",
   "execution_count": 92,
   "id": "01143bfb-843f-4bf4-b558-3ee8c5f190bb",
   "metadata": {},
   "outputs": [
    {
     "data": {
      "text/html": [
       "<div>\n",
       "<style scoped>\n",
       "    .dataframe tbody tr th:only-of-type {\n",
       "        vertical-align: middle;\n",
       "    }\n",
       "\n",
       "    .dataframe tbody tr th {\n",
       "        vertical-align: top;\n",
       "    }\n",
       "\n",
       "    .dataframe thead th {\n",
       "        text-align: right;\n",
       "    }\n",
       "</style>\n",
       "<table border=\"1\" class=\"dataframe\">\n",
       "  <thead>\n",
       "    <tr style=\"text-align: right;\">\n",
       "      <th></th>\n",
       "      <th>num_expediente</th>\n",
       "      <th>fecha</th>\n",
       "      <th>hora</th>\n",
       "      <th>localizacion</th>\n",
       "      <th>numero</th>\n",
       "      <th>distrito</th>\n",
       "      <th>tipo_accidente</th>\n",
       "      <th>estado_meteorológico</th>\n",
       "      <th>tipo_vehiculo</th>\n",
       "      <th>tipo_persona</th>\n",
       "      <th>rango_edad</th>\n",
       "      <th>sexo</th>\n",
       "      <th>lesividad</th>\n",
       "      <th>coordenada_x_utm</th>\n",
       "      <th>coordenada_y_utm</th>\n",
       "      <th>positiva_alcohol</th>\n",
       "      <th>positiva_droga</th>\n",
       "    </tr>\n",
       "  </thead>\n",
       "  <tbody>\n",
       "    <tr>\n",
       "      <th>0</th>\n",
       "      <td>2018S017842</td>\n",
       "      <td>04/02/2019</td>\n",
       "      <td>9:10:00</td>\n",
       "      <td>CALL. ALBERTO AGUILERA, 1</td>\n",
       "      <td>1</td>\n",
       "      <td>CENTRO</td>\n",
       "      <td>Colisión lateral</td>\n",
       "      <td>Despejado</td>\n",
       "      <td>Motocicleta &gt; 125cc</td>\n",
       "      <td>Conductor</td>\n",
       "      <td>De 45 a 49 años</td>\n",
       "      <td>Hombre</td>\n",
       "      <td>7</td>\n",
       "      <td>440.068.049</td>\n",
       "      <td>4.475.679.170</td>\n",
       "      <td>N</td>\n",
       "      <td>NaN</td>\n",
       "    </tr>\n",
       "    <tr>\n",
       "      <th>1</th>\n",
       "      <td>2018S017842</td>\n",
       "      <td>04/02/2019</td>\n",
       "      <td>9:10:00</td>\n",
       "      <td>CALL. ALBERTO AGUILERA, 1</td>\n",
       "      <td>1</td>\n",
       "      <td>CENTRO</td>\n",
       "      <td>Colisión lateral</td>\n",
       "      <td>Despejado</td>\n",
       "      <td>Turismo</td>\n",
       "      <td>Conductor</td>\n",
       "      <td>De 30 a 34 años</td>\n",
       "      <td>Mujer</td>\n",
       "      <td>7</td>\n",
       "      <td>440.068.049</td>\n",
       "      <td>4.475.679.170</td>\n",
       "      <td>N</td>\n",
       "      <td>NaN</td>\n",
       "    </tr>\n",
       "    <tr>\n",
       "      <th>2</th>\n",
       "      <td>2019S000002</td>\n",
       "      <td>01/01/2019</td>\n",
       "      <td>3:50:00</td>\n",
       "      <td>CALL. CUART DE POBLET, 65</td>\n",
       "      <td>65</td>\n",
       "      <td>LATINA</td>\n",
       "      <td>Choque contra obstáculo fijo</td>\n",
       "      <td>Despejado</td>\n",
       "      <td>Turismo</td>\n",
       "      <td>Conductor</td>\n",
       "      <td>De 21 a 24 años</td>\n",
       "      <td>Hombre</td>\n",
       "      <td>2</td>\n",
       "      <td>436.473.789</td>\n",
       "      <td>4.472.030.489</td>\n",
       "      <td>N</td>\n",
       "      <td>NaN</td>\n",
       "    </tr>\n",
       "    <tr>\n",
       "      <th>3</th>\n",
       "      <td>2019S000006</td>\n",
       "      <td>01/01/2019</td>\n",
       "      <td>8:10:00</td>\n",
       "      <td>CALL. CASTRO DE ORO / CALL. FERREIRA</td>\n",
       "      <td>16</td>\n",
       "      <td>CARABANCHEL</td>\n",
       "      <td>Choque contra obstáculo fijo</td>\n",
       "      <td>Despejado</td>\n",
       "      <td>Turismo</td>\n",
       "      <td>Conductor</td>\n",
       "      <td>De 21 a 24 años</td>\n",
       "      <td>Hombre</td>\n",
       "      <td>14</td>\n",
       "      <td>438.116.128</td>\n",
       "      <td>4.471.171.190</td>\n",
       "      <td>S</td>\n",
       "      <td>NaN</td>\n",
       "    </tr>\n",
       "    <tr>\n",
       "      <th>4</th>\n",
       "      <td>2019S000006</td>\n",
       "      <td>01/01/2019</td>\n",
       "      <td>8:10:00</td>\n",
       "      <td>CALL. CASTRO DE ORO / CALL. FERREIRA</td>\n",
       "      <td>16</td>\n",
       "      <td>CARABANCHEL</td>\n",
       "      <td>Choque contra obstáculo fijo</td>\n",
       "      <td>Despejado</td>\n",
       "      <td>Turismo</td>\n",
       "      <td>Conductor</td>\n",
       "      <td>De 55 a 59 años</td>\n",
       "      <td>Hombre</td>\n",
       "      <td>14</td>\n",
       "      <td>438.116.128</td>\n",
       "      <td>4.471.171.190</td>\n",
       "      <td>N</td>\n",
       "      <td>NaN</td>\n",
       "    </tr>\n",
       "    <tr>\n",
       "      <th>...</th>\n",
       "      <td>...</td>\n",
       "      <td>...</td>\n",
       "      <td>...</td>\n",
       "      <td>...</td>\n",
       "      <td>...</td>\n",
       "      <td>...</td>\n",
       "      <td>...</td>\n",
       "      <td>...</td>\n",
       "      <td>...</td>\n",
       "      <td>...</td>\n",
       "      <td>...</td>\n",
       "      <td>...</td>\n",
       "      <td>...</td>\n",
       "      <td>...</td>\n",
       "      <td>...</td>\n",
       "      <td>...</td>\n",
       "      <td>...</td>\n",
       "    </tr>\n",
       "    <tr>\n",
       "      <th>60961</th>\n",
       "      <td>2021S015803</td>\n",
       "      <td>31/08/2021</td>\n",
       "      <td>13:50:00</td>\n",
       "      <td>CALL. MARCELO USERA, 168</td>\n",
       "      <td>168</td>\n",
       "      <td>USERA</td>\n",
       "      <td>Alcance</td>\n",
       "      <td>Despejado</td>\n",
       "      <td>Turismo</td>\n",
       "      <td>Conductor</td>\n",
       "      <td>De 55 a 59 años</td>\n",
       "      <td>Hombre</td>\n",
       "      <td>14</td>\n",
       "      <td>439279</td>\n",
       "      <td>4470784,77</td>\n",
       "      <td>N</td>\n",
       "      <td>NaN</td>\n",
       "    </tr>\n",
       "    <tr>\n",
       "      <th>60962</th>\n",
       "      <td>2021S015803</td>\n",
       "      <td>31/08/2021</td>\n",
       "      <td>13:50:00</td>\n",
       "      <td>CALL. MARCELO USERA, 168</td>\n",
       "      <td>168</td>\n",
       "      <td>USERA</td>\n",
       "      <td>Alcance</td>\n",
       "      <td>Despejado</td>\n",
       "      <td>Turismo</td>\n",
       "      <td>Pasajero</td>\n",
       "      <td>De 35 a 39 años</td>\n",
       "      <td>Mujer</td>\n",
       "      <td>2</td>\n",
       "      <td>439279</td>\n",
       "      <td>4470784,77</td>\n",
       "      <td>N</td>\n",
       "      <td>NaN</td>\n",
       "    </tr>\n",
       "    <tr>\n",
       "      <th>60963</th>\n",
       "      <td>2021S016898</td>\n",
       "      <td>31/08/2021</td>\n",
       "      <td>22:56:00</td>\n",
       "      <td>CALL. CAMINO DE LOS VINATEROS / CALL. CORREGID...</td>\n",
       "      <td>1</td>\n",
       "      <td>MORATALAZ</td>\n",
       "      <td>Colisión fronto-lateral</td>\n",
       "      <td>Despejado</td>\n",
       "      <td>Motocicleta hasta 125cc</td>\n",
       "      <td>Conductor</td>\n",
       "      <td>De 25 a 29 años</td>\n",
       "      <td>Hombre</td>\n",
       "      <td>7</td>\n",
       "      <td>443959,86</td>\n",
       "      <td>4473579,83</td>\n",
       "      <td>N</td>\n",
       "      <td>NaN</td>\n",
       "    </tr>\n",
       "    <tr>\n",
       "      <th>60964</th>\n",
       "      <td>2021S016898</td>\n",
       "      <td>31/08/2021</td>\n",
       "      <td>22:56:00</td>\n",
       "      <td>CALL. CAMINO DE LOS VINATEROS / CALL. CORREGID...</td>\n",
       "      <td>1</td>\n",
       "      <td>MORATALAZ</td>\n",
       "      <td>Colisión fronto-lateral</td>\n",
       "      <td>Despejado</td>\n",
       "      <td>Turismo</td>\n",
       "      <td>Conductor</td>\n",
       "      <td>De 25 a 29 años</td>\n",
       "      <td>Mujer</td>\n",
       "      <td>14</td>\n",
       "      <td>443959,86</td>\n",
       "      <td>4473579,83</td>\n",
       "      <td>N</td>\n",
       "      <td>NaN</td>\n",
       "    </tr>\n",
       "    <tr>\n",
       "      <th>60965</th>\n",
       "      <td>2021S016898</td>\n",
       "      <td>31/08/2021</td>\n",
       "      <td>22:56:00</td>\n",
       "      <td>CALL. CAMINO DE LOS VINATEROS / CALL. CORREGID...</td>\n",
       "      <td>1</td>\n",
       "      <td>MORATALAZ</td>\n",
       "      <td>Colisión fronto-lateral</td>\n",
       "      <td>Despejado</td>\n",
       "      <td>Turismo</td>\n",
       "      <td>Pasajero</td>\n",
       "      <td>De 25 a 29 años</td>\n",
       "      <td>Hombre</td>\n",
       "      <td>14</td>\n",
       "      <td>443959,86</td>\n",
       "      <td>4473579,83</td>\n",
       "      <td>N</td>\n",
       "      <td>NaN</td>\n",
       "    </tr>\n",
       "  </tbody>\n",
       "</table>\n",
       "<p>60966 rows × 17 columns</p>\n",
       "</div>"
      ],
      "text/plain": [
       "      num_expediente       fecha      hora  \\\n",
       "0        2018S017842  04/02/2019   9:10:00   \n",
       "1        2018S017842  04/02/2019   9:10:00   \n",
       "2        2019S000002  01/01/2019   3:50:00   \n",
       "3        2019S000006  01/01/2019   8:10:00   \n",
       "4        2019S000006  01/01/2019   8:10:00   \n",
       "...              ...         ...       ...   \n",
       "60961    2021S015803  31/08/2021  13:50:00   \n",
       "60962    2021S015803  31/08/2021  13:50:00   \n",
       "60963    2021S016898  31/08/2021  22:56:00   \n",
       "60964    2021S016898  31/08/2021  22:56:00   \n",
       "60965    2021S016898  31/08/2021  22:56:00   \n",
       "\n",
       "                                            localizacion numero     distrito  \\\n",
       "0                              CALL. ALBERTO AGUILERA, 1      1       CENTRO   \n",
       "1                              CALL. ALBERTO AGUILERA, 1      1       CENTRO   \n",
       "2                              CALL. CUART DE POBLET, 65     65       LATINA   \n",
       "3                   CALL. CASTRO DE ORO / CALL. FERREIRA     16  CARABANCHEL   \n",
       "4                   CALL. CASTRO DE ORO / CALL. FERREIRA     16  CARABANCHEL   \n",
       "...                                                  ...    ...          ...   \n",
       "60961                           CALL. MARCELO USERA, 168    168        USERA   \n",
       "60962                           CALL. MARCELO USERA, 168    168        USERA   \n",
       "60963  CALL. CAMINO DE LOS VINATEROS / CALL. CORREGID...      1    MORATALAZ   \n",
       "60964  CALL. CAMINO DE LOS VINATEROS / CALL. CORREGID...      1    MORATALAZ   \n",
       "60965  CALL. CAMINO DE LOS VINATEROS / CALL. CORREGID...      1    MORATALAZ   \n",
       "\n",
       "                     tipo_accidente estado_meteorológico  \\\n",
       "0                  Colisión lateral            Despejado   \n",
       "1                  Colisión lateral            Despejado   \n",
       "2      Choque contra obstáculo fijo            Despejado   \n",
       "3      Choque contra obstáculo fijo            Despejado   \n",
       "4      Choque contra obstáculo fijo            Despejado   \n",
       "...                             ...                  ...   \n",
       "60961                       Alcance            Despejado   \n",
       "60962                       Alcance            Despejado   \n",
       "60963       Colisión fronto-lateral            Despejado   \n",
       "60964       Colisión fronto-lateral            Despejado   \n",
       "60965       Colisión fronto-lateral            Despejado   \n",
       "\n",
       "                 tipo_vehiculo tipo_persona       rango_edad    sexo  \\\n",
       "0          Motocicleta > 125cc    Conductor  De 45 a 49 años  Hombre   \n",
       "1                      Turismo    Conductor  De 30 a 34 años   Mujer   \n",
       "2                      Turismo    Conductor  De 21 a 24 años  Hombre   \n",
       "3                      Turismo    Conductor  De 21 a 24 años  Hombre   \n",
       "4                      Turismo    Conductor  De 55 a 59 años  Hombre   \n",
       "...                        ...          ...              ...     ...   \n",
       "60961                  Turismo    Conductor  De 55 a 59 años  Hombre   \n",
       "60962                  Turismo     Pasajero  De 35 a 39 años   Mujer   \n",
       "60963  Motocicleta hasta 125cc    Conductor  De 25 a 29 años  Hombre   \n",
       "60964                  Turismo    Conductor  De 25 a 29 años   Mujer   \n",
       "60965                  Turismo     Pasajero  De 25 a 29 años  Hombre   \n",
       "\n",
       "       lesividad coordenada_x_utm coordenada_y_utm positiva_alcohol  \\\n",
       "0              7      440.068.049    4.475.679.170                N   \n",
       "1              7      440.068.049    4.475.679.170                N   \n",
       "2              2      436.473.789    4.472.030.489                N   \n",
       "3             14      438.116.128    4.471.171.190                S   \n",
       "4             14      438.116.128    4.471.171.190                N   \n",
       "...          ...              ...              ...              ...   \n",
       "60961         14           439279       4470784,77                N   \n",
       "60962          2           439279       4470784,77                N   \n",
       "60963          7        443959,86       4473579,83                N   \n",
       "60964         14        443959,86       4473579,83                N   \n",
       "60965         14        443959,86       4473579,83                N   \n",
       "\n",
       "       positiva_droga  \n",
       "0                 NaN  \n",
       "1                 NaN  \n",
       "2                 NaN  \n",
       "3                 NaN  \n",
       "4                 NaN  \n",
       "...               ...  \n",
       "60961             NaN  \n",
       "60962             NaN  \n",
       "60963             NaN  \n",
       "60964             NaN  \n",
       "60965             NaN  \n",
       "\n",
       "[60966 rows x 17 columns]"
      ]
     },
     "execution_count": 92,
     "metadata": {},
     "output_type": "execute_result"
    }
   ],
   "source": [
    "data_frame"
   ]
  },
  {
   "cell_type": "markdown",
   "id": "5PmJpoCCcxMJ",
   "metadata": {
    "id": "5PmJpoCCcxMJ"
   },
   "source": [
    "### Calcular Vehículos implicados"
   ]
  },
  {
   "cell_type": "markdown",
   "id": "utgDSVryALnm",
   "metadata": {
    "id": "utgDSVryALnm"
   },
   "source": [
    "A partir del número de expediente (un mismo expediente en varias filas quiere decir que se trata del mismo accidente) se hace un `groupby` a partir de él. Como el atributo `positiva_alcohol` no tiene valores nulos en ninguna de las filas, hacemos un conteo a partir de él y se asigna a una nueva columna `positiva_alcohol_rename` que posteriormente será renombrada como `vehiculos_implicados`"
   ]
  },
  {
   "cell_type": "code",
   "execution_count": 93,
   "id": "qy9UBWGFan1j",
   "metadata": {
    "id": "qy9UBWGFan1j"
   },
   "outputs": [],
   "source": [
    "data_frame = data_frame.join(data_frame.groupby('num_expediente')['positiva_alcohol'].count(), on='num_expediente', rsuffix='_rename')\n",
    "data_frame.rename(columns={\"positiva_alcohol_rename\": \"vehiculos_implicados\"}, errors=\"raise\", inplace=True)\n",
    "data_frame = data_frame.reset_index(drop=True)\n",
    "# data_frame.localizacion.unique()[:1000]"
   ]
  },
  {
   "cell_type": "markdown",
   "id": "e3lX-EnJ1aby",
   "metadata": {
    "id": "e3lX-EnJ1aby",
    "tags": [],
    "toc-hr-collapsed": true
   },
   "source": [
    "## Limpieza de datos"
   ]
  },
  {
   "cell_type": "markdown",
   "id": "ybjvOI7x0PKz",
   "metadata": {
    "id": "ybjvOI7x0PKz",
    "tags": []
   },
   "source": [
    "### Clasificación de carreteras"
   ]
  },
  {
   "cell_type": "code",
   "execution_count": 94,
   "id": "38c43193-d332-4c5e-a173-ce0877ad9ff4",
   "metadata": {},
   "outputs": [],
   "source": [
    "# ######################### SIGUIENTE CELDA #########################\n",
    "\n",
    "# # Unclassified: Carreteras locales sin destino definido. Sin embargo, los destinos locales pueden estar señalizados a lo largo de ellos.\n",
    "# # A, A(M) y Motorway lo mismo?\n",
    "# # B:            De carácter regional y utilizado para conectar zonas de menor importancia.\n",
    "# #               Por lo general, se muestran de color marrón o amarillo en los mapas y tienen las mismas señales blancas que las rutas de clase A que no son primarias.\n",
    "# #               Si la ruta es primaria, como la B6261, se mostrará igual que una ruta Clase A primaria.\n",
    "# #               ¿Carretera como tal?\n",
    "\n",
    "# # C:            Designaciones de autoridades locales para rutas dentro de su área con fines administrativos.\n",
    "# #               Estas rutas no se muestran en mapas de carreteras a pequeña escala, pero se sabe que ocasionalmente aparecen en las señales de tráfico.\n",
    "\n",
    "# # Unclassified\n",
    "\n",
    "\n",
    "# regex = {}\n",
    "# regex['paseo_regex'] = 'PASEO|paseo'\n",
    "# regex['parque_regex'] = 'PARQUE|PQUE'\n",
    "# regex['ronda_regex'] = 'RONDA'\n",
    "# regex['puerta_regex'] = 'PUERTA|PTA|Puerta'\n",
    "# regex['puente_regex'] = 'PNTE|PUENTE'\n",
    "# regex['plaza_regex'] = 'PLAZA|PZA'\n",
    "# regex['camino_regex']= 'CMNO|CAMINO'\n",
    "# regex['bulevard_regex'] = 'BULE'\n",
    "# regex['travesia_regex'] = 'TRVA'\n",
    "# regex['cuesta_regex'] = 'CUSTA|CUESTA'\n",
    "# regex['rotonda_regex'] = 'GTA|gta|GLORIETA|glorieta|ROTONDA'\n",
    "# regex['aeropuerto_regex'] ='AEROPUERTO|AEROP'\n",
    "# regex['calzada_regex'] = 'CALZADA'\n",
    "# regex['poligono_regex'] ='POLIGONO'\n",
    "# regex['highway_regex'] = 'AUTOV.|autovia|A-|M-|M 30|m 30|A\\\\d|M 23|M23' # A,A(M),Motorway\n",
    "# regex['road_regex'] = 'CTRA.|CARRETERA|carretera|CRA.' # B\n",
    "# regex['avenida_regex'] = 'AVDA|AV|AVENIDA|AVDA|Avda.|avenida'\n",
    "# regex['calle_regex']  = 'CALL.|Calle|CALLE|c/|C/|C.|calle'\n",
    "\n",
    "# data_frame['tipo_via'] = 'N/A'\n",
    "\n",
    "# for index,regex_values in enumerate(regex.values()):\n",
    "#     print(regex_values)\n",
    "#     regex_indexes = data_frame[data_frame.localizacion.str.contains(regex_values,  case = True, regex=True)].index\n",
    "#     print(len(regex_indexes))\n",
    "#     data_frame.iloc[regex_indexes, data_frame.columns.get_loc('tipo_via')] = str(index)\n",
    "#     data_frame.iloc[regex_indexes, data_frame.columns.get_loc('localizacion')] = str(index)\n",
    "    \n",
    "    \n",
    "    \n",
    "# # street_indexes  = data_frame[data_frame.localizacion.str.contains('CALL.|Calle|CALLE|c/|C/|C.|calle', case = True, regex=True)].index\n",
    "# # highway_indexes = data_frame[data_frame.localizacion.str.contains(highway_regex, case = True, regex=True)].index\n",
    "# # road_indexes    = data_frame[data_frame.localizacion.str.contains(road_regex, case = True, regex=True)].index\n",
    "# # # avenue_indexes  = data_frame[data_frame.localizacion.str.contains(avenue_regex,  case = True, regex=True)].index\n",
    "# # # ride_indexes    = data_frame[data_frame.localizacion.str.contains(ride_regex, case = True, regex=True)].index\n",
    "\n",
    "# # data_frame['tipo_via'] = 'N/A'\n",
    "\n",
    "# # data_frame.iloc[street_indexes,  data_frame.columns.get_loc('tipo_via')] = 'Unclassified'\n",
    "# # data_frame.iloc[highway_indexes, data_frame.columns.get_loc('tipo_via')] = 'A'\n",
    "# # data_frame.iloc[road_indexes, data_frame.columns.get_loc('tipo_via')] = 'B'\n",
    "# # # data_frame.iloc[ride_indexes, data_frame.columns.get_loc('tipo_via')] = 'AVENIDA'\n",
    "# # # data_frame.iloc[avenue_indexes,  data_frame.columns.get_loc('tipo_via')] = 'AVENIDA'\n",
    "\n",
    "\n",
    "# # data_frame.iloc[highway_indexes, data_frame.columns.get_loc('localizacion')] = 1\n",
    "# # data_frame.iloc[road_indexes, data_frame.columns.get_loc('localizacion')] = 2\n",
    "# # data_frame.iloc[street_indexes,  data_frame.columns.get_loc('localizacion')] = 3\n",
    "# # # data_frame.iloc[avenue_indexes,  data_frame.columns.get_loc('localizacion')] = '3'\n",
    "# # # data_frame.iloc[ride_indexes, data_frame.columns.get_loc('localizacion')] = '5'\n",
    "\n",
    "# positive_drug_indexes = data_frame[data_frame.positiva_droga == 1].index\n",
    "# data_frame.iloc[positive_drug_indexes, data_frame.columns.get_loc('positiva_alcohol')] = 'S'\n",
    "\n",
    "# data_frame = data_frame[~(data_frame.tipo_via == 'N/A')]\n",
    "# # # print(data_frame.localizacion.unique())"
   ]
  },
  {
   "cell_type": "code",
   "execution_count": 95,
   "id": "7da252aZ0N3n",
   "metadata": {
    "id": "7da252aZ0N3n"
   },
   "outputs": [],
   "source": [
    "# ######################### SIGUIENTE CELDA #########################\n",
    "\n",
    "# # Unclassified: Carreteras locales sin destino definido. Sin embargo, los destinos locales pueden estar señalizados a lo largo de ellos.\n",
    "# # A, A(M) y Motorway lo mismo?\n",
    "# # B:            De carácter regional y utilizado para conectar zonas de menor importancia.\n",
    "# #               Por lo general, se muestran de color marrón o amarillo en los mapas y tienen las mismas señales blancas que las rutas de clase A que no son primarias.\n",
    "# #               Si la ruta es primaria, como la B6261, se mostrará igual que una ruta Clase A primaria.\n",
    "# #               ¿Carretera como tal?\n",
    "\n",
    "# # C:            Designaciones de autoridades locales para rutas dentro de su área con fines administrativos.\n",
    "# #               Estas rutas no se muestran en mapas de carreteras a pequeña escala, pero se sabe que ocasionalmente aparecen en las señales de tráfico.\n",
    "\n",
    "# # Unclassified\n",
    "# street_regex  = ('CALL.|Calle|CALLE|c/|C/|C.|calle|'\n",
    "#                  'AVDA|AV|AVENIDA|AVDA|avenida|Avda.|'\n",
    "#                  'PASEO|paseo|'\n",
    "#                  'PARQUE|PQUE|'\n",
    "#                  'RONDA|'\n",
    "#                  'PUERTA|PTA|Puerta|'\n",
    "#                  'PNTE|PUENTE|'\n",
    "#                  'PLAZA|PZA|'\n",
    "#                  'CMNO|CAMINO|'\n",
    "#                  'BULE|'\n",
    "#                  'TRVA|'\n",
    "#                  'CUSTA|CUESTA|'\n",
    "#                  'GTA|gta|GLORIETA|glorieta|ROTONDA|'\n",
    "#                  'AEROPUERTO|AEROP'\n",
    "# )\n",
    "\n",
    "# highway_regex = 'AUTOV.|autovia|A-|M-|M 30|m 30|A\\\\d|M 23|M23' # A,A(M),Motorway\n",
    "# road_regex = 'CTRA.|CARRETERA|carretera|CRA.|CALZADA|POLIGONO' # B\n",
    "\n",
    "# street_indexes  = data_frame[data_frame.localizacion.str.contains(street_regex,  case = True, regex=True)].index\n",
    "# highway_indexes = data_frame[data_frame.localizacion.str.contains(highway_regex, case = True, regex=True)].index\n",
    "# road_indexes    = data_frame[data_frame.localizacion.str.contains(road_regex, case = True, regex=True)].index\n",
    "# # avenue_indexes  = data_frame[data_frame.localizacion.str.contains(avenue_regex,  case = True, regex=True)].index\n",
    "# # ride_indexes    = data_frame[data_frame.localizacion.str.contains(ride_regex, case = True, regex=True)].index\n",
    "\n",
    "# data_frame['tipo_via'] = 'N/A'\n",
    "\n",
    "# data_frame.iloc[street_indexes,  data_frame.columns.get_loc('tipo_via')] = 'Unclassified'\n",
    "# data_frame.iloc[highway_indexes, data_frame.columns.get_loc('tipo_via')] = 'A'\n",
    "# data_frame.iloc[road_indexes, data_frame.columns.get_loc('tipo_via')] = 'B'\n",
    "# # data_frame.iloc[ride_indexes, data_frame.columns.get_loc('tipo_via')] = 'AVENIDA'\n",
    "# # data_frame.iloc[avenue_indexes,  data_frame.columns.get_loc('tipo_via')] = 'AVENIDA'\n",
    "\n",
    "\n",
    "# data_frame.iloc[highway_indexes, data_frame.columns.get_loc('localizacion')] = 1\n",
    "# data_frame.iloc[road_indexes, data_frame.columns.get_loc('localizacion')] = 2\n",
    "# data_frame.iloc[street_indexes,  data_frame.columns.get_loc('localizacion')] = 3\n",
    "# # data_frame.iloc[avenue_indexes,  data_frame.columns.get_loc('localizacion')] = '3'\n",
    "# # data_frame.iloc[ride_indexes, data_frame.columns.get_loc('localizacion')] = '5'\n",
    "\n",
    "# # positive_drug_indexes = data_frame[data_frame.positiva_droga == 1].index\n",
    "# # data_frame.iloc[positive_drug_indexes, data_frame.columns.get_loc('positiva_alcohol')] = 'S'\n",
    "\n",
    "# data_frame = data_frame[~(data_frame.tipo_via == 'N/A')]\n",
    "# # print(data_frame.localizacion.unique())"
   ]
  },
  {
   "cell_type": "markdown",
   "id": "bc350245-b09e-4de1-9ecb-3d2f8d60ba7e",
   "metadata": {
    "tags": []
   },
   "source": [
    "Consideraciones:\n",
    "\n",
    "- Los patinetes se han considerado como ciclomotres de menos de 50cc.\n",
    "- Las furgonetas se consideran como vehículos de menos de 3.5 toneladas.\n",
    "- Maquinaria de obras se considera la misma tipología que maquinaria agrícola.\n",
    "- Cuadriciclos ligeros y no ligeros se consideran como `Motorcycle-Unknown CC`.\n",
    "- Patinetes y Vehículos de Mobilidad Urbana se consideran como `Mobility Scooters`.\n",
    "- `Vehículo articulado` se considera como un vehículo de más de 7.5 toneladas."
   ]
  },
  {
   "cell_type": "code",
   "execution_count": 96,
   "id": "RwdUhUHc1Up4",
   "metadata": {
    "id": "RwdUhUHc1Up4",
    "tags": []
   },
   "outputs": [
    {
     "name": "stdout",
     "output_type": "stream",
     "text": [
      "Estado meteorológico: \n",
      " 1.0    50915\n",
      "3.0     3948\n",
      "2.0     2942\n",
      "7.0      919\n",
      "4.0      804\n",
      "6.0       81\n",
      "5.0       18\n",
      "Name: estado_meteorológico, dtype: int64\n",
      "Tipo vehículo: \n",
      " 5.0     39050\n",
      "3.0      5655\n",
      "4.0      4877\n",
      "9.0      3561\n",
      "1.0      2154\n",
      "6.0      1913\n",
      "2.0      1429\n",
      "12.0     1188\n",
      "13.0      513\n",
      "15.0      396\n",
      "8.0       115\n",
      "14.0       43\n",
      "11.0        9\n",
      "10.0        2\n",
      "7.0         1\n",
      "Name: tipo_vehiculo, dtype: int64\n",
      "Tipo de persona: \n",
      " 1.0    46022\n",
      "2.0    11409\n",
      "3.0     3530\n",
      "Name: tipo_persona, dtype: int64\n",
      "Sexo: \n",
      " 1    40374\n",
      "2    20348\n",
      "3      244\n",
      "Name: sexo, dtype: int64\n",
      "Positivo Alcohol: \n",
      " 2    59616\n",
      "1     1350\n",
      "Name: positiva_alcohol, dtype: int64\n",
      "Gravedad: \n",
      " Slight     59593\n",
      "Serious     1284\n",
      "Fatal         84\n",
      "77             5\n",
      "Name: lesividad, dtype: int64\n",
      "Edad: \n",
      " 3    47132\n",
      "2     6859\n",
      "4     3958\n",
      "1     2699\n",
      "5      318\n",
      "Name: rango_edad, dtype: int64\n",
      "hora: 1    37079\n",
      "2    23887\n",
      "Name: hora, dtype: int64\n",
      "Distrito: \n",
      " 4.0     5189\n",
      "7.0     4429\n",
      "19.0    4319\n",
      "2.0     3930\n",
      "12.0    3705\n",
      "14.0    3418\n",
      "15.0    3341\n",
      "0.0     3203\n",
      "20.0    3192\n",
      "6.0     3188\n",
      "10.0    3039\n",
      "9.0     2973\n",
      "1.0     2796\n",
      "17.0    2722\n",
      "8.0     2478\n",
      "16.0    2158\n",
      "11.0    1778\n",
      "3.0     1647\n",
      "5.0     1604\n",
      "13.0     972\n",
      "18.0     880\n",
      "Name: distrito, dtype: int64\n",
      "Tipo Accidente: \n",
      " 2     17049\n",
      "4     15076\n",
      "6      6723\n",
      "0      6462\n",
      "3      6134\n",
      "8      4060\n",
      "1      3061\n",
      "5      1503\n",
      "11      442\n",
      "7       207\n",
      "10      176\n",
      "9        69\n",
      "12        4\n",
      "Name: tipo_accidente, dtype: int64\n"
     ]
    }
   ],
   "source": [
    "weather_conditions_replace = {\n",
    "    'Despejado': 1,\n",
    "    'Nublado': 2,\n",
    "    'Lluvia débil': 3,\n",
    "    'LLuvia intensa': 4,\n",
    "    'Granizando':  5,\n",
    "    'Nevando': 6,\n",
    "    'Se desconoce': 7 \n",
    "}\n",
    "\n",
    "## CUIDADO CON Motocicleta hasta 125cc!!! HEMOS SUPUESTO QUE LOS CICLOMOTORES SON HASTA 50CC!!\n",
    "type_of_vehicle_replace = {\n",
    "    'Bicicleta': 1,\n",
    "    'Ciclo': 1,\n",
    "    'Bicicleta EPAC (pedaleo asistido)': 1,\n",
    "    'Ciclomotor': 2,\n",
    "    'Ciclomotor de dos ruedas L1e-B': 2,\n",
    "    'Ciclomotor de tres ruedas': 2,\n",
    "    'Motocicleta hasta 125cc': 3,\n",
    "    'Moto de tres ruedas hasta 125cc': 3,\n",
    "    'Motocicleta > 125cc': 4,\n",
    "    'Moto de tres ruedas > 125cc': 4,\n",
    "    'Turismo': 5,\n",
    "    'Todo terreno': 5,\n",
    "    'Microbús <= 17 plazas': 5,\n",
    "    'Autobús': 6,\n",
    "    'Autobus EMT': 6,\n",
    "    'Autobús articulado': 6,\n",
    "    'Autobús articulado EMT': 6,\n",
    "    'Maquinaria agrícola': 7,\n",
    "    'Maquinaria de obras': 8,\n",
    "    'Furgoneta': 9,        # Menos de 3.5 toneladas.\n",
    "    'Ambulancia SAMUR': 10,\n",
    "    'Autocaravana': 11,     # Entre 3.5 y 7.5 toneladas.\n",
    "    'Camión rígido': 12,    # Mayor que 7.5 toneladas.\n",
    "    'Tractocamión': 12,\n",
    "    'Vehículo articulado': 12,\n",
    "    'Camión de bomberos': 12,\n",
    "    'VMU eléctrico': 13,\n",
    "    'Patinete': 13,\n",
    "    'Sin especificar': 14,\n",
    "    'Otros vehículos sin motor': 14,\n",
    "    'Remolque': 14,\n",
    "    'Semiremolque': 14,\n",
    "    'Otros vehículos con motor': 15,\n",
    "    'Cuadriciclo ligero': 15,\n",
    "    'Cuadriciclo no ligero': 15,\n",
    "    'Motorcycle - Unknown CC': 15\n",
    "}\n",
    "\n",
    "# type_of_vehicle_replace = {}\n",
    "# for index,tipo_vehiculo in enumerate(data_frame.tipo_vehiculo.unique()):\n",
    "#     if not pd.isna(tipo_vehiculo): type_of_vehicle_replace[tipo_vehiculo] = index\n",
    "\n",
    "casualty_class_replace = {\n",
    "    'Conductor': 1,\n",
    "    'Pasajero': 2,\n",
    "    'Peatón': 3\n",
    "}\n",
    "\n",
    "### CUIDADO CON DESCONOCIDO!!! MEJOR HACER IMPUTACIÓN PARA RELLENENAR LOS DESCONOCIDOS?\n",
    "sex_of_casualty_replace = {\n",
    "    'Hombre': 1,\n",
    "    'Mujer': 2,\n",
    "    'Desconocido': 3\n",
    "}\n",
    "\n",
    "accident_type_replace = {\n",
    "    'Colisión fronto-lateral': 1,\n",
    "    'Alcance': 2,\n",
    "    'Colisión lateral': 3,\n",
    "    'Choque contra obstáculo fijo': 4,\n",
    "    'Colisión múltiple': 5,\n",
    "    'Caída': 5,\n",
    "    'Atropello a persona': 6,\n",
    "    'Colisión frontal': 7,\n",
    "    'Otro': 8,\n",
    "    'Solo salida de la vía': 9,\n",
    "    'Vuelco': 10,\n",
    "    'Atropello a animal': 11,\n",
    "    'Despeñamiento': 12\n",
    "}\n",
    "\n",
    "alcohol_replace = {\n",
    "    'S': 1,\n",
    "    'N': 2,\n",
    "}\n",
    "\n",
    "accident_class_replace = {\n",
    "    1:  'Slight',  # Atención en urgencias sin posterior ingreso. - LEVE\n",
    "    2:  'Slight',  # Ingreso inferior o igual a 24 horas - LEVE\n",
    "    5:  'Slight',  # Asistencia sanitaria ambulatoria con posterioridad - LEVE\n",
    "    6:  'Slight',  # Asistencia sanitaria inmediata en centro de salud o mutua - LEVE\n",
    "    7:  'Slight',  # Asistencia sanitaria sólo en el lugar del accidente - LEVE\n",
    "    14: 'Slight',  # Sin asistencia sanitaria - LEVE O NADA\n",
    "    3:  'Serious', # Ingreso superior a 24 horas. - GRAVE\n",
    "    4:  'Fatal'    # Fallecido 24 horas - FALLECIDO \n",
    "}\n",
    "###################### REEMPLAZOS ######################\n",
    "\n",
    "# ### OJO QUE ESTAMOS REPLICANDO LA ESTRUCTURA DEL DATASET DE LEEDS\n",
    "age_replace = {\n",
    "    'Menor de 5 años': 1,\n",
    "    'De 6 a 9 años': 1,\n",
    "    'De 6  a  9 años': 1,\n",
    "    'De 10 a 14 años': 1,\n",
    "    'De 15 a 17 años': 1,\n",
    "    'De 18 a 20 años': 2,\n",
    "    'De 21 a 24 años': 2,\n",
    "    'De 25 a 29 años': 3,\n",
    "    'De 30 a 34 años': 3,\n",
    "    'De 35 a 39 años': 3,\n",
    "    'De 40 a 44 años': 3,\n",
    "    'De 45 a 49 años': 3,\n",
    "    'De 50 a 54 años': 3,\n",
    "    'De 55 a 59 años': 3,\n",
    "    'De 60 a 64 años': 3,\n",
    "    'De 65 a 69 años': 4,\n",
    "    'De 70 a 74 años': 4,\n",
    "    'Más de 74 años': 4,\n",
    "    'Desconocido': 5,\n",
    "}\n",
    "\n",
    "# age_replace = {\n",
    "#     'Menor de 5 años': 1,\n",
    "#     'De 6 a 9 años': 2,\n",
    "#     'De 6  a  9 años': 3,\n",
    "#     'De 10 a 14 años': 4,\n",
    "#     'De 15 a 17 años': 5,\n",
    "#     'De 18 a 20 años': 6,\n",
    "#     'De 21 a 24 años': 7,\n",
    "#     'De 25 a 29 años': 8,\n",
    "#     'De 30 a 34 años': 9,\n",
    "#     'De 35 a 39 años': 10,\n",
    "#     'De 40 a 44 años': 11,\n",
    "#     'De 45 a 49 años': 12,\n",
    "#     'De 50 a 54 años': 13,\n",
    "#     'De 55 a 59 años': 14,\n",
    "#     'De 60 a 64 años': 15,\n",
    "#     'De 65 a 69 años': 16,\n",
    "#     'De 70 a 74 años': 17,\n",
    "#     'Más de 74 años': 18,\n",
    "#     'Desconocido': 19,\n",
    "# }\n",
    "\n",
    "data_frame['estado_meteorológico'].replace(weather_conditions_replace, inplace = True)\n",
    "print('Estado meteorológico: \\n', data_frame['estado_meteorológico'].value_counts())\n",
    "\n",
    "data_frame['tipo_vehiculo'].replace(type_of_vehicle_replace, inplace = True)\n",
    "print('Tipo vehículo: \\n', data_frame['tipo_vehiculo'].value_counts())\n",
    "\n",
    "data_frame['tipo_persona'].replace(casualty_class_replace, inplace = True)\n",
    "print('Tipo de persona: \\n', data_frame['tipo_persona'].value_counts())\n",
    "\n",
    "data_frame['sexo'].replace(sex_of_casualty_replace, inplace = True)\n",
    "print('Sexo: \\n', data_frame['sexo'].value_counts())\n",
    "\n",
    "data_frame['positiva_alcohol'].replace(alcohol_replace, inplace = True)\n",
    "print('Positivo Alcohol: \\n', data_frame['positiva_alcohol'].value_counts())\n",
    "\n",
    "data_frame['lesividad'].replace(accident_class_replace, inplace = True)\n",
    "print('Gravedad: \\n', data_frame['lesividad'].value_counts())\n",
    "\n",
    "data_frame['rango_edad'].replace(age_replace, inplace = True)\n",
    "print('Edad: \\n', data_frame['rango_edad'].value_counts())\n",
    "\n",
    "data_frame.hora = data_frame.hora.mask(pd.to_datetime(data_frame.hora) < '06:00:00', 2)\n",
    "data_frame.hora = data_frame.hora.mask(pd.to_datetime(data_frame.hora) > '18:00:00', 2)\n",
    "data_frame.hora = data_frame.hora.mask(pd.to_datetime(data_frame.hora).between('06:00:00', '18:00:00'), 1)\n",
    "print('hora:', data_frame['hora'].value_counts())\n",
    "\n",
    "district_replace = {}\n",
    "for index,distrito in enumerate(data_frame.distrito.unique()):\n",
    "  if not pd.isna(distrito): district_replace[distrito] = int(index)\n",
    "\n",
    "accident_type_replace = {}\n",
    "for index,accident_type in enumerate(data_frame.tipo_accidente.unique()):\n",
    "    if not pd.isna(accident_type): accident_type_replace[accident_type] = int(index)\n",
    "\n",
    "data_frame['distrito'].replace(district_replace, inplace = True)\n",
    "print('Distrito: \\n', data_frame['distrito'].value_counts())\n",
    "\n",
    "data_frame['tipo_accidente'].replace(accident_type_replace, inplace = True)\n",
    "print('Tipo Accidente: \\n', data_frame['tipo_accidente'].value_counts())\n",
    "\n",
    "# Eliminamos aquellas lesividades desconocidas i.e. 77.\n",
    "data_frame = data_frame[data_frame.lesividad != 77]"
   ]
  },
  {
   "cell_type": "markdown",
   "id": "pVPFGQ0AoNRD",
   "metadata": {
    "id": "pVPFGQ0AoNRD",
    "tags": []
   },
   "source": [
    "### Coordenadas UTM a números enteros"
   ]
  },
  {
   "cell_type": "markdown",
   "id": "nabg28LMAHhW",
   "metadata": {
    "id": "nabg28LMAHhW"
   },
   "source": [
    "Las coordenadas UTM son coordenads que están expresadas en término de X e Y partiendo de la base de que parten desde una determinada localización. Estas coordenadas constan de una parte entera y una decimal.\n",
    "\n",
    "En este dataset el formato que presentan estas coordenadas pueden ser de tres tipos:\n",
    "\n",
    "- **XXX.XXX.XXX**: en este caso los seis primeros dígitos forman la parte entera y los tres útlimos la parte decimal.\n",
    "- **XXXXXX,XX**: los seis primeros dígitos indican la parte entera, mientras que tras la coma aparecen dos dígitos de la parte decimal que habrá que completar añadiendo uno más.\n",
    "- **XXXXXX**: indican la parte entera, sin contar con la parte decimal.\n",
    "\n",
    "Por lo que el objetivo es estandarizar todos los formatos convirtiendo cada una de las coordenadas a un número entero, siendo necesario tratar con cada una de las casuísticas para añadir ceros a la derecha en caso de que falten para que cada una de las coordenadas tenga la misma longitud."
   ]
  },
  {
   "cell_type": "code",
   "execution_count": 97,
   "id": "sgVHBwC0Fd1N",
   "metadata": {
    "id": "sgVHBwC0Fd1N",
    "tags": []
   },
   "outputs": [
    {
     "name": "stderr",
     "output_type": "stream",
     "text": [
      "/tmp/ipykernel_27618/1802693479.py:38: FutureWarning: The default value of regex will change from True to False in a future version. In addition, single character regular expressions will *not* be treated as literal strings when regex=True.\n",
      "  selected_rows_x1.Integer = selected_rows_x1.Integer.str.replace('.','')\n",
      "/tmp/ipykernel_27618/1802693479.py:38: SettingWithCopyWarning: \n",
      "A value is trying to be set on a copy of a slice from a DataFrame.\n",
      "Try using .loc[row_indexer,col_indexer] = value instead\n",
      "\n",
      "See the caveats in the documentation: https://pandas.pydata.org/pandas-docs/stable/user_guide/indexing.html#returning-a-view-versus-a-copy\n",
      "  selected_rows_x1.Integer = selected_rows_x1.Integer.str.replace('.','')\n",
      "/tmp/ipykernel_27618/1802693479.py:39: SettingWithCopyWarning: \n",
      "A value is trying to be set on a copy of a slice from a DataFrame.\n",
      "Try using .loc[row_indexer,col_indexer] = value instead\n",
      "\n",
      "See the caveats in the documentation: https://pandas.pydata.org/pandas-docs/stable/user_guide/indexing.html#returning-a-view-versus-a-copy\n",
      "  selected_rows_x2.Number  = selected_rows_x2.Number.str.replace(',','.')\n",
      "/tmp/ipykernel_27618/1802693479.py:41: FutureWarning: The default value of regex will change from True to False in a future version. In addition, single character regular expressions will *not* be treated as literal strings when regex=True.\n",
      "  selected_rows_y1.Integer = selected_rows_y1.Integer.str.replace('.','')\n",
      "/tmp/ipykernel_27618/1802693479.py:41: SettingWithCopyWarning: \n",
      "A value is trying to be set on a copy of a slice from a DataFrame.\n",
      "Try using .loc[row_indexer,col_indexer] = value instead\n",
      "\n",
      "See the caveats in the documentation: https://pandas.pydata.org/pandas-docs/stable/user_guide/indexing.html#returning-a-view-versus-a-copy\n",
      "  selected_rows_y1.Integer = selected_rows_y1.Integer.str.replace('.','')\n",
      "/tmp/ipykernel_27618/1802693479.py:42: SettingWithCopyWarning: \n",
      "A value is trying to be set on a copy of a slice from a DataFrame.\n",
      "Try using .loc[row_indexer,col_indexer] = value instead\n",
      "\n",
      "See the caveats in the documentation: https://pandas.pydata.org/pandas-docs/stable/user_guide/indexing.html#returning-a-view-versus-a-copy\n",
      "  selected_rows_y2.Number  = selected_rows_y2.Number.str.replace(',','.')\n",
      "/tmp/ipykernel_27618/1802693479.py:46: SettingWithCopyWarning: \n",
      "A value is trying to be set on a copy of a slice from a DataFrame.\n",
      "Try using .loc[row_indexer,col_indexer] = value instead\n",
      "\n",
      "See the caveats in the documentation: https://pandas.pydata.org/pandas-docs/stable/user_guide/indexing.html#returning-a-view-versus-a-copy\n",
      "  selected_rows_x1['processed_x_utm'] = selected_rows_x1.Integer + selected_rows_x1.Float\n",
      "/tmp/ipykernel_27618/1802693479.py:47: SettingWithCopyWarning: \n",
      "A value is trying to be set on a copy of a slice from a DataFrame.\n",
      "Try using .loc[row_indexer,col_indexer] = value instead\n",
      "\n",
      "See the caveats in the documentation: https://pandas.pydata.org/pandas-docs/stable/user_guide/indexing.html#returning-a-view-versus-a-copy\n",
      "  selected_rows_x2['processed_x_utm'] = selected_rows_x2.Number\n",
      "/tmp/ipykernel_27618/1802693479.py:48: SettingWithCopyWarning: \n",
      "A value is trying to be set on a copy of a slice from a DataFrame.\n",
      "Try using .loc[row_indexer,col_indexer] = value instead\n",
      "\n",
      "See the caveats in the documentation: https://pandas.pydata.org/pandas-docs/stable/user_guide/indexing.html#returning-a-view-versus-a-copy\n",
      "  selected_rows_x3['processed_x_utm'] = selected_rows_x3.Number\n",
      "/tmp/ipykernel_27618/1802693479.py:50: SettingWithCopyWarning: \n",
      "A value is trying to be set on a copy of a slice from a DataFrame.\n",
      "Try using .loc[row_indexer,col_indexer] = value instead\n",
      "\n",
      "See the caveats in the documentation: https://pandas.pydata.org/pandas-docs/stable/user_guide/indexing.html#returning-a-view-versus-a-copy\n",
      "  selected_rows_y1['processed_y_utm'] = selected_rows_y1.Integer + selected_rows_y1.Float\n",
      "/tmp/ipykernel_27618/1802693479.py:51: SettingWithCopyWarning: \n",
      "A value is trying to be set on a copy of a slice from a DataFrame.\n",
      "Try using .loc[row_indexer,col_indexer] = value instead\n",
      "\n",
      "See the caveats in the documentation: https://pandas.pydata.org/pandas-docs/stable/user_guide/indexing.html#returning-a-view-versus-a-copy\n",
      "  selected_rows_y2['processed_y_utm'] = selected_rows_y2.Number\n",
      "/tmp/ipykernel_27618/1802693479.py:52: SettingWithCopyWarning: \n",
      "A value is trying to be set on a copy of a slice from a DataFrame.\n",
      "Try using .loc[row_indexer,col_indexer] = value instead\n",
      "\n",
      "See the caveats in the documentation: https://pandas.pydata.org/pandas-docs/stable/user_guide/indexing.html#returning-a-view-versus-a-copy\n",
      "  selected_rows_y3['processed_y_utm'] = selected_rows_y3.Number\n",
      "/tmp/ipykernel_27618/1802693479.py:59: SettingWithCopyWarning: \n",
      "A value is trying to be set on a copy of a slice from a DataFrame.\n",
      "Try using .loc[row_indexer,col_indexer] = value instead\n",
      "\n",
      "See the caveats in the documentation: https://pandas.pydata.org/pandas-docs/stable/user_guide/indexing.html#returning-a-view-versus-a-copy\n",
      "  selected_rows_x2.processed_x_utm = selected_rows_x2.processed_x_utm.transform(lambda x: x + '0'*(10-len(x)))\n",
      "/tmp/ipykernel_27618/1802693479.py:60: SettingWithCopyWarning: \n",
      "A value is trying to be set on a copy of a slice from a DataFrame.\n",
      "Try using .loc[row_indexer,col_indexer] = value instead\n",
      "\n",
      "See the caveats in the documentation: https://pandas.pydata.org/pandas-docs/stable/user_guide/indexing.html#returning-a-view-versus-a-copy\n",
      "  selected_rows_x3.processed_x_utm = selected_rows_x3.processed_x_utm.transform(lambda x: x + '.000')\n",
      "/tmp/ipykernel_27618/1802693479.py:62: SettingWithCopyWarning: \n",
      "A value is trying to be set on a copy of a slice from a DataFrame.\n",
      "Try using .loc[row_indexer,col_indexer] = value instead\n",
      "\n",
      "See the caveats in the documentation: https://pandas.pydata.org/pandas-docs/stable/user_guide/indexing.html#returning-a-view-versus-a-copy\n",
      "  selected_rows_y2.processed_y_utm = selected_rows_y2.processed_y_utm.transform(lambda x: x + '0'*(11-len(x)))\n",
      "/tmp/ipykernel_27618/1802693479.py:63: SettingWithCopyWarning: \n",
      "A value is trying to be set on a copy of a slice from a DataFrame.\n",
      "Try using .loc[row_indexer,col_indexer] = value instead\n",
      "\n",
      "See the caveats in the documentation: https://pandas.pydata.org/pandas-docs/stable/user_guide/indexing.html#returning-a-view-versus-a-copy\n",
      "  selected_rows_y3.processed_y_utm = selected_rows_y3.processed_y_utm.transform(lambda x: x + '.000')\n",
      "/tmp/ipykernel_27618/1802693479.py:65: SettingWithCopyWarning: \n",
      "A value is trying to be set on a copy of a slice from a DataFrame\n",
      "\n",
      "See the caveats in the documentation: https://pandas.pydata.org/pandas-docs/stable/user_guide/indexing.html#returning-a-view-versus-a-copy\n",
      "  data_frame['processed_x_utm'][selected_rows_x1.index] = selected_rows_x1['processed_x_utm']\n",
      "/tmp/ipykernel_27618/1802693479.py:66: SettingWithCopyWarning: \n",
      "A value is trying to be set on a copy of a slice from a DataFrame\n",
      "\n",
      "See the caveats in the documentation: https://pandas.pydata.org/pandas-docs/stable/user_guide/indexing.html#returning-a-view-versus-a-copy\n",
      "  data_frame['processed_x_utm'][selected_rows_x2.index] = selected_rows_x2['processed_x_utm']\n",
      "/tmp/ipykernel_27618/1802693479.py:67: SettingWithCopyWarning: \n",
      "A value is trying to be set on a copy of a slice from a DataFrame\n",
      "\n",
      "See the caveats in the documentation: https://pandas.pydata.org/pandas-docs/stable/user_guide/indexing.html#returning-a-view-versus-a-copy\n",
      "  data_frame['processed_x_utm'][selected_rows_x3.index] = selected_rows_x3['processed_x_utm']\n",
      "/tmp/ipykernel_27618/1802693479.py:69: SettingWithCopyWarning: \n",
      "A value is trying to be set on a copy of a slice from a DataFrame\n",
      "\n",
      "See the caveats in the documentation: https://pandas.pydata.org/pandas-docs/stable/user_guide/indexing.html#returning-a-view-versus-a-copy\n",
      "  data_frame['processed_y_utm'][selected_rows_y1.index] = selected_rows_y1['processed_y_utm']\n",
      "/tmp/ipykernel_27618/1802693479.py:70: SettingWithCopyWarning: \n",
      "A value is trying to be set on a copy of a slice from a DataFrame\n",
      "\n",
      "See the caveats in the documentation: https://pandas.pydata.org/pandas-docs/stable/user_guide/indexing.html#returning-a-view-versus-a-copy\n",
      "  data_frame['processed_y_utm'][selected_rows_y2.index] = selected_rows_y2['processed_y_utm']\n",
      "/tmp/ipykernel_27618/1802693479.py:71: SettingWithCopyWarning: \n",
      "A value is trying to be set on a copy of a slice from a DataFrame\n",
      "\n",
      "See the caveats in the documentation: https://pandas.pydata.org/pandas-docs/stable/user_guide/indexing.html#returning-a-view-versus-a-copy\n",
      "  data_frame['processed_y_utm'][selected_rows_y3.index] = selected_rows_y3['processed_y_utm']\n",
      "/tmp/ipykernel_27618/1802693479.py:77: FutureWarning: The default value of regex will change from True to False in a future version. In addition, single character regular expressions will *not* be treated as literal strings when regex=True.\n",
      "  data_frame.processed_x_utm = data_frame.processed_x_utm.str.replace('.','')\n",
      "/tmp/ipykernel_27618/1802693479.py:77: SettingWithCopyWarning: \n",
      "A value is trying to be set on a copy of a slice from a DataFrame.\n",
      "Try using .loc[row_indexer,col_indexer] = value instead\n",
      "\n",
      "See the caveats in the documentation: https://pandas.pydata.org/pandas-docs/stable/user_guide/indexing.html#returning-a-view-versus-a-copy\n",
      "  data_frame.processed_x_utm = data_frame.processed_x_utm.str.replace('.','')\n",
      "/tmp/ipykernel_27618/1802693479.py:78: FutureWarning: The default value of regex will change from True to False in a future version. In addition, single character regular expressions will *not* be treated as literal strings when regex=True.\n",
      "  data_frame.processed_y_utm = data_frame.processed_y_utm.str.replace('.','')\n"
     ]
    }
   ],
   "source": [
    "# Todos las comas a puntos\n",
    "\n",
    "import re\n",
    "\n",
    "s = data_frame.coordenada_x_utm.str\n",
    "s_y = data_frame.coordenada_y_utm.str\n",
    "\n",
    "# Regex que hace match para dos grupos, la parte entera y la parte decimal.\n",
    "group_integer_and_float_pattern = '(?P<Integer>\\d{3}\\.\\d{3})(?P<Float>\\.\\d{2,3})'\n",
    "all_float_pattern   = '(?P<Number>\\d{6},\\d+)'\n",
    "all_integer_pattern = '(?P<Number>\\d{6}$)'\n",
    "\n",
    "group_integer_and_float_pattern_y = '(?P<Integer>\\d\\.\\d{3}\\.\\d{3})(?P<Float>\\.\\d{2,3})'\n",
    "all_float_pattern_y   = '(?P<Number>\\d{7},\\d+)'\n",
    "all_integer_pattern_y = '(?P<Number>\\d{7}$)'\n",
    "\n",
    "# Se extraen en un dataframe independiente ambas partes, la entera y la decimal\n",
    "index_and_extracted_x1 = s.extract(group_integer_and_float_pattern)\n",
    "index_and_extracted_x2 = s.extract(all_float_pattern)\n",
    "index_and_extracted_x3 = s.extract(all_integer_pattern)\n",
    "\n",
    "index_and_extracted_y1 = s_y.extract(group_integer_and_float_pattern_y)\n",
    "index_and_extracted_y2 = s_y.extract(all_float_pattern_y)\n",
    "index_and_extracted_y3 = s_y.extract(all_integer_pattern_y)\n",
    "\n",
    "# Se seleccionan aquellas que no continenen valores nulos el Float.\n",
    "# Es decir, aquellos con los que el match ha tenido éxito (los que llevan punto)\n",
    "# en lugar de comas.\n",
    "selected_rows_x1 = index_and_extracted_x1[~index_and_extracted_x1['Float'].isnull()]\n",
    "selected_rows_x2 = index_and_extracted_x2[~index_and_extracted_x2['Number'].isnull()]\n",
    "selected_rows_x3 = index_and_extracted_x3[~index_and_extracted_x3['Number'].isnull()]\n",
    "\n",
    "selected_rows_y1 = index_and_extracted_y1[~index_and_extracted_y1['Float'].isnull()]\n",
    "selected_rows_y2 = index_and_extracted_y2[~index_and_extracted_y2['Number'].isnull()]\n",
    "selected_rows_y3 = index_and_extracted_y3[~index_and_extracted_y3['Number'].isnull()]\n",
    "\n",
    "# Se cambia el string de la parte entera a un string sin puntos.\n",
    "selected_rows_x1.Integer = selected_rows_x1.Integer.str.replace('.','')\n",
    "selected_rows_x2.Number  = selected_rows_x2.Number.str.replace(',','.')\n",
    "\n",
    "selected_rows_y1.Integer = selected_rows_y1.Integer.str.replace('.','')\n",
    "selected_rows_y2.Number  = selected_rows_y2.Number.str.replace(',','.')\n",
    "\n",
    "# Se crea una nueva columna en el nuevo dataframe con la unión de la parte\n",
    "# entera y la parte decimal.\n",
    "selected_rows_x1['processed_x_utm'] = selected_rows_x1.Integer + selected_rows_x1.Float\n",
    "selected_rows_x2['processed_x_utm'] = selected_rows_x2.Number\n",
    "selected_rows_x3['processed_x_utm'] = selected_rows_x3.Number\n",
    "\n",
    "selected_rows_y1['processed_y_utm'] = selected_rows_y1.Integer + selected_rows_y1.Float\n",
    "selected_rows_y2['processed_y_utm'] = selected_rows_y2.Number\n",
    "selected_rows_y3['processed_y_utm'] = selected_rows_y3.Number\n",
    "\n",
    "data_frame['processed_x_utm'] = 'N/A'\n",
    "data_frame['processed_y_utm'] = 'N/A'\n",
    "\n",
    "# Si la longitud de alguno de los números es menor a diez, hay que añadirle x 0s\n",
    "# de diferencia\n",
    "selected_rows_x2.processed_x_utm = selected_rows_x2.processed_x_utm.transform(lambda x: x + '0'*(10-len(x)))\n",
    "selected_rows_x3.processed_x_utm = selected_rows_x3.processed_x_utm.transform(lambda x: x + '.000')\n",
    "\n",
    "selected_rows_y2.processed_y_utm = selected_rows_y2.processed_y_utm.transform(lambda x: x + '0'*(11-len(x)))\n",
    "selected_rows_y3.processed_y_utm = selected_rows_y3.processed_y_utm.transform(lambda x: x + '.000')\n",
    "\n",
    "data_frame['processed_x_utm'][selected_rows_x1.index] = selected_rows_x1['processed_x_utm']\n",
    "data_frame['processed_x_utm'][selected_rows_x2.index] = selected_rows_x2['processed_x_utm']\n",
    "data_frame['processed_x_utm'][selected_rows_x3.index] = selected_rows_x3['processed_x_utm']\n",
    "\n",
    "data_frame['processed_y_utm'][selected_rows_y1.index] = selected_rows_y1['processed_y_utm']\n",
    "data_frame['processed_y_utm'][selected_rows_y2.index] = selected_rows_y2['processed_y_utm']\n",
    "data_frame['processed_y_utm'][selected_rows_y3.index] = selected_rows_y3['processed_y_utm']\n",
    "\n",
    "# Eliminamos aquellas filas que no tienen coordenadas\n",
    "data_frame = data_frame[data_frame['coordenada_y_utm'] != '0.000']\n",
    "\n",
    "# Eliminamos el punto de la parte decimal para convertirlo a entero\n",
    "data_frame.processed_x_utm = data_frame.processed_x_utm.str.replace('.','')\n",
    "data_frame.processed_y_utm = data_frame.processed_y_utm.str.replace('.','')\n",
    "\n",
    "# Lo convertimos en entero\n",
    "data_frame.processed_x_utm = data_frame.processed_x_utm.astype(int)\n",
    "data_frame.processed_y_utm = data_frame.processed_y_utm.astype(int)"
   ]
  },
  {
   "cell_type": "markdown",
   "id": "_Z4nz3ioxtXb",
   "metadata": {
    "id": "_Z4nz3ioxtXb",
    "tags": []
   },
   "source": [
    "### Renombrado y eliminación de columnas"
   ]
  },
  {
   "cell_type": "code",
   "execution_count": 98,
   "id": "tqnlSOcN71Ah",
   "metadata": {
    "id": "tqnlSOcN71Ah"
   },
   "outputs": [],
   "source": [
    "# COLUMNS_TO_REMOVE = ['num_expediente', 'fecha', 'tipo_via', 'numero', 'positiva_droga', 'coordenada_x_utm', 'coordenada_y_utm', 'positiva_droga']\n",
    "COLUMNS_TO_REMOVE = ['num_expediente', 'fecha', 'tipo_via', 'localizacion', 'numero', 'positiva_droga', 'coordenada_x_utm', 'coordenada_y_utm', 'positiva_droga']\n",
    "\n",
    "data_frame = data_frame.loc[:, ~data_frame.columns.isin(COLUMNS_TO_REMOVE)]\n",
    "\n",
    "# data_frame.rename(columns={\"localizacion\": \"tipo_carretera\"}, errors=\"raise\", inplace=True)\n",
    "data_frame.rename(columns={\"processed_x_utm\": \"coordenada_x_utm\"}, errors=\"raise\", inplace=True)\n",
    "data_frame.rename(columns={\"processed_y_utm\": \"coordenada_y_utm\"}, errors=\"raise\", inplace=True)\n",
    "data_frame.rename(columns={\"positiva_alcohol\": \"drogas_alcohol_positivo\"}, errors=\"raise\", inplace=True)\n",
    "\n",
    "data_frame = data_frame.drop_duplicates()\n",
    "data_frame = data_frame.dropna()\n",
    "data_frame = data_frame.reset_index(drop=True)"
   ]
  },
  {
   "cell_type": "code",
   "execution_count": 99,
   "id": "c28c4311-643e-4627-8a70-a5d74c4332ef",
   "metadata": {},
   "outputs": [
    {
     "data": {
      "text/plain": [
       "Index(['hora', 'distrito', 'tipo_accidente', 'estado_meteorológico',\n",
       "       'tipo_vehiculo', 'tipo_persona', 'rango_edad', 'sexo', 'lesividad',\n",
       "       'drogas_alcohol_positivo', 'vehiculos_implicados', 'coordenada_x_utm',\n",
       "       'coordenada_y_utm'],\n",
       "      dtype='object')"
      ]
     },
     "execution_count": 99,
     "metadata": {},
     "output_type": "execute_result"
    }
   ],
   "source": [
    "data_frame.columns"
   ]
  },
  {
   "cell_type": "code",
   "execution_count": 162,
   "id": "38e4a2e2-cefb-4732-b3a5-ebbd48963fe5",
   "metadata": {},
   "outputs": [
    {
     "data": {
      "text/plain": [
       "Slight     53124\n",
       "Serious     1271\n",
       "Fatal         84\n",
       "Name: lesividad, dtype: int64"
      ]
     },
     "execution_count": 162,
     "metadata": {},
     "output_type": "execute_result"
    },
    {
     "data": {
      "image/png": "[encoded data removed]",
      "text/plain": [
       "<Figure size 1440x720 with 1 Axes>"
      ]
     },
     "metadata": {},
     "output_type": "display_data"
    }
   ],
   "source": [
    "import seaborn as sns\n",
    "import matplotlib.pyplot as plt\n",
    "\n",
    "plt.figure(figsize=(20, 10))\n",
    "\n",
    "# sns.set_theme(style=\"whitegrid\")\n",
    "sns.histplot(data=data_frame, x=\"lesividad\", stat='count')\n",
    "plt.savefig('saving-a-seaborn-plot-as-eps-file.svg')\n",
    "data_frame.lesividad.value_counts()"
   ]
  },
  {
   "cell_type": "code",
   "execution_count": 101,
   "id": "5ae87450-809a-4958-b9cb-422a3e91effc",
   "metadata": {},
   "outputs": [],
   "source": [
    "# X_data_frame = data_frame.loc[:, ~data_frame.columns.isin(['lesividad'])]\n",
    "# Y_data_frame = data_frame['lesividad']\n",
    "\n",
    "# X_data_frame  = X_data_frame.astype(int)"
   ]
  },
  {
   "cell_type": "markdown",
   "id": "qKuGQ1I8078E",
   "metadata": {
    "id": "qKuGQ1I8078E",
    "tags": []
   },
   "source": [
    "## Split de datos"
   ]
  },
  {
   "cell_type": "code",
   "execution_count": 163,
   "id": "6583a4fb-5fcd-4a15-a78d-6f752f927b30",
   "metadata": {},
   "outputs": [
    {
     "data": {
      "text/plain": [
       "Slight     53124\n",
       "Serious     1271\n",
       "Fatal         84\n",
       "Name: lesividad, dtype: int64"
      ]
     },
     "execution_count": 163,
     "metadata": {},
     "output_type": "execute_result"
    },
    {
     "data": {
      "image/png": "[encoded data removed]",
      "text/plain": [
       "<Figure size 1440x720 with 1 Axes>"
      ]
     },
     "metadata": {},
     "output_type": "display_data"
    }
   ],
   "source": [
    "import seaborn as sns\n",
    "import matplotlib.pyplot as plt\n",
    "\n",
    "plt.figure(figsize=(20, 10))\n",
    "\n",
    "# sns.set_theme(style=\"whitegrid\")\n",
    "sns.histplot(data=data_frame, x=\"lesividad\", stat='count')\n",
    "# plt.savefig('saving-a-seaborn-plot-as-eps-file.svg')\n",
    "data_frame.lesividad.value_counts()"
   ]
  },
  {
   "cell_type": "code",
   "execution_count": 103,
   "id": "NCcJF3i8s3dD",
   "metadata": {
    "id": "NCcJF3i8s3dD"
   },
   "outputs": [],
   "source": [
    "from sklearn.model_selection import train_test_split\n",
    "\n",
    "train, test = train_test_split(data_frame, test_size=0.2)\n",
    "X_train = X_train_original = train.loc[:, ~train.columns.isin(['lesividad'])]\n",
    "\n",
    "X_train = X_train.astype(int)\n",
    "X_train_original = X_train_original.astype(int)\n",
    "\n",
    "Y_train = Y_train_original = train['lesividad']\n",
    "\n",
    "X_test = test.loc[:, ~test.columns.isin(['lesividad'])]\n",
    "X_test = X_test.astype(int)\n",
    "Y_test = test['lesividad']"
   ]
  },
  {
   "cell_type": "code",
   "execution_count": 104,
   "id": "x2PcFjlBmTlC",
   "metadata": {
    "id": "x2PcFjlBmTlC"
   },
   "outputs": [],
   "source": [
    "# # FILE_NAME = f\"{city_name}_calculated_weights.json\"\n",
    "# FILE_NAME = 'madrid_adapted_leeds_default_weights.json'\n",
    "\n",
    "# feature_vector = load_json(WEIGHTS_PATH, FILE_NAME)"
   ]
  },
  {
   "cell_type": "code",
   "execution_count": 105,
   "id": "bde99d2d-727a-4e30-90b3-67dc859075bf",
   "metadata": {},
   "outputs": [],
   "source": [
    "\n",
    "# feature_vector = {}\n",
    "\n",
    "# feature_vector['Accident Features'] = {\n",
    "#     'feature_childs': ['coordenada_x_utm', 'coordenada_y_utm', 'distrito', 'hora', 'vehiculos_implicados'],\n",
    "#     'feature_weights': [0.165774538, 0.171530785, 0.082228259, 0.047771472, 0.060763375]\n",
    "# } \n",
    "\n",
    "# feature_vector['Roadway Features'] = {\n",
    "#     'feature_childs': ['tipo_accidente'], # Road Surface \n",
    "#     'feature_weights': [0.07036541]\n",
    "# }\n",
    "\n",
    "# feature_vector['Environmental Features'] = {\n",
    "#     'feature_childs': ['estado_meteorológico'],\n",
    "#     'feature_weights': [0.04354843]\n",
    "# }\n",
    "\n",
    "# feature_vector['Vehicle Features'] = {\n",
    "#     'feature_childs': ['tipo_vehiculo'],\n",
    "#     'feature_weights': [0.126314657]\n",
    "# }\n",
    "\n",
    "# feature_vector['Casualty Features'] = {\n",
    "#     'feature_childs': ['tipo_persona', 'sexo', 'rango_edad', 'drogas_alcohol_positivo'],\n",
    "#     'feature_weights': [0.067057589, 0.049116389, 0.095220163, 0.059951354]\n",
    "# } \n",
    "# matrix_indexes = fv2gi(feature_vector)\n",
    "\n",
    "# # {'Accident Features': {'feature_childs': ['Easting',\n",
    "# #    'Northing',\n",
    "# #    '1st Road Class',\n",
    "# #    'Accident Time',\n",
    "# #    'Number of Vehicles'],\n",
    "# #   'feature_weights': [0.165774538,\n",
    "# #    0.171530785,\n",
    "# #    0.082228259,\n",
    "# #    0.047771472,\n",
    "# #    0.060763375],\n",
    "# #   'wpi': 0.528068429},\n",
    "# #  'Roadway Features': {'feature_childs': ['Road Surface'],\n",
    "# #   'feature_weights': [0.048847406],\n",
    "# #   'wpi': 0.048847406},\n",
    "# #  'Environmental Features': {'feature_childs': ['Lighting Conditions',\n",
    "# #    'Weather Conditions'],\n",
    "# #   'feature_weights': [0.041826936, 0.04354843],\n",
    "# #   'wpi': 0.08537536600000001},\n",
    "# #  'Vehicle Features': {'feature_childs': ['Type of Vehicle'],\n",
    "# #   'feature_weights': [0.126314657],\n",
    "# #   'wpi': 0.126314657},\n",
    "# #  'Casualty Features': {'feature_childs': ['Casualty Class',\n",
    "# #    'Sex of Casualty',\n",
    "# #    'Age of Casualty'],\n",
    "# #   'feature_weights': [0.067057589, 0.049116389, 0.095220163],\n",
    "# #   'wpi': 0.211394141}}\n",
    "# feature_vector"
   ]
  },
  {
   "cell_type": "markdown",
   "id": "5W4MXdIis6vn",
   "metadata": {
    "id": "5W4MXdIis6vn",
    "tags": []
   },
   "source": [
    "## Normalización de datos"
   ]
  },
  {
   "cell_type": "code",
   "execution_count": 106,
   "id": "tHUfNlw8sdxS",
   "metadata": {
    "id": "tHUfNlw8sdxS"
   },
   "outputs": [],
   "source": [
    "X_train = X_train.astype(int)\n",
    "X_test  = X_test.astype(int)\n",
    "\n",
    "X_train_original = X_train_original.astype(int)\n",
    "\n",
    "X_train = normalize_data(X_train)\n",
    "X_train_original = normalize_data(X_train_original)\n",
    "X_test  = normalize_data(X_test)"
   ]
  },
  {
   "cell_type": "markdown",
   "id": "kr_UChBJ21Cu",
   "metadata": {
    "id": "kr_UChBJ21Cu",
    "tags": []
   },
   "source": [
    "## Oversampling de datos"
   ]
  },
  {
   "cell_type": "code",
   "execution_count": 107,
   "id": "rXwHLi842zLs",
   "metadata": {
    "id": "rXwHLi842zLs"
   },
   "outputs": [
    {
     "name": "stdout",
     "output_type": "stream",
     "text": [
      "********** Before OverSampling **********\n",
      "Slight:  42498\n",
      "Serious: 1023\n",
      "Fatal:   62\n",
      "\n",
      " Total X: 43583  Total Y: 43583 \n",
      "\n",
      "********** After OverSampling **********\n",
      "Slight:  42498\n",
      "Serious: 42497\n",
      "Fatal:   42498\n",
      "\n",
      " Total X:  127493  Total Y:  127493 \n",
      "\n"
     ]
    }
   ],
   "source": [
    "print('********** Before OverSampling **********')\n",
    "print('Slight: ', (Y_train == 'Slight').sum())\n",
    "print('Serious:', (Y_train == 'Serious').sum())\n",
    "print('Fatal:  ', (Y_train == 'Fatal').sum())\n",
    "print('\\n Total X:', len(X_train), ' Total Y:', len(Y_train), '\\n')\n",
    "\n",
    "X_train, Y_train = oversample_data(X_train, Y_train)"
   ]
  },
  {
   "cell_type": "markdown",
   "id": "06540ce8-f30e-45fb-b44f-55e1632951d2",
   "metadata": {},
   "source": [
    "## Downsampling de datos"
   ]
  },
  {
   "cell_type": "code",
   "execution_count": 108,
   "id": "62a11f0e-a930-4fe5-9c60-a12973ac9da9",
   "metadata": {},
   "outputs": [],
   "source": [
    "from sklearn.model_selection import train_test_split\n",
    "\n",
    "from sklearn.utils import resample\n",
    "\n",
    "slight_data  = test[test['lesividad'] == 'Slight']\n",
    "serious_data = test[test['lesividad'] == 'Serious']\n",
    "fatal_data   = test[test['lesividad'] == 'Fatal']\n",
    "\n",
    "X_slight_downsampled = resample(slight_data,\n",
    "                                replace = True,\n",
    "                                n_samples = len(fatal_data))\n",
    "\n",
    "X_serious_downsampled = resample(serious_data,\n",
    "                                 replace = True,\n",
    "                                 n_samples = len(fatal_data))\n",
    "\n",
    "\n",
    "downsampled_dataset = pd.concat([X_slight_downsampled, X_serious_downsampled, fatal_data])\n",
    "\n",
    "downsampled_train, downsampled_test = train_test_split(downsampled_dataset, test_size=0.3)\n",
    "\n",
    "X_train_downsampled = downsampled_train.loc[:, ~downsampled_train.columns.isin(['lesividad'])]\n",
    "Y_train_downsampled = downsampled_train['lesividad']\n",
    "\n",
    "X_test_downsampled = downsampled_test.loc[:, ~downsampled_test.columns.isin(['lesividad'])]\n",
    "Y_test_downsampled = downsampled_test['lesividad']"
   ]
  },
  {
   "cell_type": "code",
   "execution_count": 109,
   "id": "2ec4e4df-7c2d-48fb-b867-0a7066a57076",
   "metadata": {},
   "outputs": [],
   "source": [
    "X_train = X_train.astype(int)\n",
    "X_test  = X_test.astype(int)\n",
    "\n",
    "X_train_original = X_train_original.astype(int)\n",
    "\n",
    "X_train_downsampled = X_train_downsampled.astype(int)\n",
    "X_test_downsampled  = X_test_downsampled.astype(int)\n",
    "\n",
    "X_train = normalize_data(X_train)\n",
    "X_test  = normalize_data(X_test)\n",
    "X_train_downsampled = normalize_data(X_train_downsampled)\n",
    "X_test_downsampled  = normalize_data(X_test_downsampled)"
   ]
  },
  {
   "cell_type": "markdown",
   "id": "cf5eb99c-7ac9-425b-af2e-735ae2155e03",
   "metadata": {
    "tags": [],
    "toc-hr-collapsed": true
   },
   "source": [
    "## XGBoost"
   ]
  },
  {
   "cell_type": "code",
   "execution_count": 110,
   "id": "d525349f-2832-457b-833f-e4f2d549ea35",
   "metadata": {},
   "outputs": [],
   "source": [
    "from xgboost import XGBClassifier\n",
    "from sklearn.metrics import accuracy_score\n",
    "from hyperopt import STATUS_OK, Trials, fmin, hp, tpe"
   ]
  },
  {
   "cell_type": "markdown",
   "id": "47ccda69-9c08-4e7c-b1fb-20ce276379ae",
   "metadata": {},
   "source": [
    "### Genético"
   ]
  },
  {
   "cell_type": "code",
   "execution_count": 111,
   "id": "c5e41610-872e-4fdd-ab9b-2d7fdc739d20",
   "metadata": {},
   "outputs": [],
   "source": [
    "# HYPERPARAMS_TO_OPTIMIZE = {'eta': {'type': 'float',\n",
    "#                                    'init': [0.01, 1],\n",
    "#                                    'mutation': [-0.3, 0.3],\n",
    "#                                    'round': 2\n",
    "#                                    },\n",
    "#                            'max_depth': {'type': 'int',\n",
    "#                                          'init': [1, 20],\n",
    "#                                          'mutation': [-4, 4],\n",
    "#                                          'step': 1\n",
    "#                                    },\n",
    "#                            'min_child_weight': {'type': 'float',\n",
    "#                                                 'init': [0.1, 15.0],\n",
    "#                                                 'mutation': [-5, 5],\n",
    "#                                                 'round': 1\n",
    "#                                    },\n",
    "#                            'n_estimators': {'type': 'int',\n",
    "#                                             'init': [0, 2000],\n",
    "#                                             'mutation': [-200, 200],\n",
    "#                                             'step': 150\n",
    "#                                    },\n",
    "# }"
   ]
  },
  {
   "cell_type": "code",
   "execution_count": 112,
   "id": "b3e8a6fb-aef6-4186-aae1-89981e83bd3b",
   "metadata": {
    "collapsed": true,
    "jupyter": {
     "outputs_hidden": true
    },
    "tags": []
   },
   "outputs": [
    {
     "name": "stderr",
     "output_type": "stream",
     "text": [
      "/tmp/ipykernel_27618/3907942643.py:9: SettingWithCopyWarning: \n",
      "A value is trying to be set on a copy of a slice from a DataFrame\n",
      "\n",
      "See the caveats in the documentation: https://pandas.pydata.org/pandas-docs/stable/user_guide/indexing.html#returning-a-view-versus-a-copy\n",
      "  Y_labels.replace(transf, inplace = True)\n",
      "/home/luis/anaconda3/envs/TFM/lib/python3.9/site-packages/xgboost/data.py:250: FutureWarning: pandas.Int64Index is deprecated and will be removed from pandas in a future version. Use pandas.Index with the appropriate dtype instead.\n",
      "  elif isinstance(data.columns, (pd.Int64Index, pd.RangeIndex)):\n"
     ]
    },
    {
     "name": "stdout",
     "output_type": "stream",
     "text": [
      "This is number 0 generation\n",
      "New population is 0\n",
      "Best F1 score in the this iteration = 0.2872, best solution [0.05 1.   8.  ]\n",
      "This is number 1 generation\n",
      "New population is 27\n",
      "Best F1 score in the this iteration = 0.2872, best solution [0.05 1.   8.  ]\n",
      "This is number 2 generation\n",
      "New population is 26\n",
      "Best F1 score in the this iteration = 0.2872, best solution [0.05 1.   8.  ]\n",
      "This is number 3 generation\n",
      "New population is 24\n",
      "Best F1 score in the this iteration = 0.297, best solution [ 0.09  2.   14.6 ]\n",
      "This is number 4 generation\n",
      "New population is 31\n",
      "Best F1 score in the this iteration = 0.297, best solution [ 0.09  2.   14.6 ]\n",
      "This is number 5 generation\n",
      "New population is 34\n",
      "Best F1 score in the this iteration = 0.297, best solution [0.09 2.   0.8 ]\n",
      "This is number 6 generation\n",
      "New population is 37\n",
      "Best F1 score in the this iteration = 0.297, best solution [0.09 2.   0.8 ]\n",
      "This is number 7 generation\n",
      "New population is 40\n",
      "Best F1 score in the this iteration = 0.297, best solution [0.09 2.   0.8 ]\n",
      "This is number 8 generation\n",
      "New population is 43\n",
      "Best F1 score in the this iteration = 0.297, best solution [0.09 2.   0.8 ]\n",
      "This is number 9 generation\n",
      "New population is 36\n",
      "Best F1 score in the this iteration = 0.297, best solution [0.09 2.   0.8 ]\n",
      "This is number 10 generation\n",
      "New population is 42\n",
      "Best F1 score in the this iteration = 0.297, best solution [0.09 2.   0.8 ]\n",
      "This is number 11 generation\n",
      "New population is 42\n",
      "Best F1 score in the this iteration = 0.297, best solution [0.09 2.   0.8 ]\n",
      "This is number 12 generation\n",
      "New population is 45\n",
      "Best F1 score in the this iteration = 0.297, best solution [0.09 2.   0.8 ]\n",
      "This is number 13 generation\n",
      "New population is 43\n",
      "Best F1 score in the this iteration = 0.297, best solution [0.09 2.   0.8 ]\n",
      "This is number 14 generation\n",
      "New population is 40\n",
      "Best F1 score in the this iteration = 0.297, best solution [0.09 2.   0.8 ]\n",
      "This is number 15 generation\n",
      "New population is 40\n",
      "Best F1 score in the this iteration = 0.297, best solution [0.09 2.   0.8 ]\n",
      "This is number 16 generation\n",
      "New population is 40\n",
      "Best F1 score in the this iteration = 0.297, best solution [0.09 2.   0.8 ]\n",
      "This is number 17 generation\n",
      "New population is 45\n",
      "Best F1 score in the this iteration = 0.297, best solution [0.09 2.   0.8 ]\n",
      "This is number 18 generation\n",
      "New population is 49\n",
      "Best F1 score in the this iteration = 0.297, best solution [0.09 2.   0.8 ]\n",
      "This is number 19 generation\n",
      "New population is 38\n",
      "Best F1 score in the this iteration = 0.297, best solution [0.09 2.   0.8 ]\n",
      "This is number 20 generation\n",
      "New population is 44\n",
      "Best F1 score in the this iteration = 0.297, best solution [0.09 2.   0.8 ]\n",
      "This is number 21 generation\n",
      "New population is 43\n",
      "Best F1 score in the this iteration = 0.297, best solution [0.09 2.   0.8 ]\n",
      "This is number 22 generation\n",
      "New population is 39\n",
      "Best F1 score in the this iteration = 0.297, best solution [0.09 2.   0.01]\n",
      "This is number 23 generation\n",
      "New population is 47\n",
      "Best F1 score in the this iteration = 0.297, best solution [0.09 2.   0.01]\n",
      "This is number 24 generation\n",
      "New population is 42\n",
      "Best F1 score in the this iteration = 0.297, best solution [0.09 2.   0.01]\n",
      "This is number 25 generation\n",
      "New population is 44\n",
      "Best F1 score in the this iteration = 0.297, best solution [0.09 2.   0.01]\n",
      "This is number 26 generation\n",
      "New population is 44\n",
      "Best F1 score in the this iteration = 0.297, best solution [0.09 2.   0.01]\n",
      "This is number 27 generation\n",
      "New population is 47\n",
      "Best F1 score in the this iteration = 0.297, best solution [0.09 2.   0.01]\n",
      "This is number 28 generation\n",
      "New population is 45\n",
      "Best F1 score in the this iteration = 0.297, best solution [0.09 2.   0.01]\n",
      "This is number 29 generation\n",
      "New population is 43\n",
      "Best F1 score in the this iteration = 0.297, best solution [0.09 2.   0.01]\n",
      "This is number 30 generation\n",
      "New population is 46\n",
      "Best F1 score in the this iteration = 0.297, best solution [0.09 2.   0.01]\n",
      "This is number 31 generation\n",
      "New population is 50\n",
      "Best F1 score in the this iteration = 0.297, best solution [0.09 2.   0.01]\n",
      "This is number 32 generation\n",
      "New population is 42\n",
      "Best F1 score in the this iteration = 0.297, best solution [0.09 2.   0.01]\n",
      "This is number 33 generation\n",
      "New population is 45\n",
      "Best F1 score in the this iteration = 0.297, best solution [0.09 2.   0.01]\n",
      "This is number 34 generation\n",
      "New population is 43\n",
      "Best F1 score in the this iteration = 0.297, best solution [0.09 2.   0.01]\n",
      "This is number 35 generation\n",
      "New population is 44\n",
      "Best F1 score in the this iteration = 0.297, best solution [0.09 2.   0.01]\n",
      "This is number 36 generation\n",
      "New population is 46\n",
      "Best F1 score in the this iteration = 0.297, best solution [0.09 2.   0.01]\n",
      "This is number 37 generation\n",
      "New population is 47\n",
      "Best F1 score in the this iteration = 0.297, best solution [0.09 2.   0.01]\n",
      "This is number 38 generation\n",
      "New population is 40\n",
      "Best F1 score in the this iteration = 0.297, best solution [0.09 2.   0.01]\n",
      "This is number 39 generation\n",
      "New population is 38\n",
      "Best F1 score in the this iteration = 0.297, best solution [0.09 2.   0.01]\n",
      "This is number 40 generation\n",
      "New population is 52\n",
      "Best F1 score in the this iteration = 0.297, best solution [0.09 2.   0.01]\n",
      "This is number 41 generation\n",
      "New population is 44\n",
      "Best F1 score in the this iteration = 0.297, best solution [0.09 2.   0.01]\n",
      "This is number 42 generation\n",
      "New population is 48\n",
      "Best F1 score in the this iteration = 0.297, best solution [0.09 2.   0.01]\n",
      "This is number 43 generation\n",
      "New population is 44\n",
      "Best F1 score in the this iteration = 0.297, best solution [0.09 2.   0.01]\n",
      "This is number 44 generation\n",
      "New population is 42\n",
      "Best F1 score in the this iteration = 0.297, best solution [0.09 2.   0.01]\n",
      "This is number 45 generation\n",
      "New population is 47\n",
      "Best F1 score in the this iteration = 0.297, best solution [0.09 2.   0.01]\n",
      "This is number 46 generation\n",
      "New population is 46\n",
      "Best F1 score in the this iteration = 0.297, best solution [0.09 2.   0.01]\n",
      "This is number 47 generation\n",
      "New population is 46\n",
      "Best F1 score in the this iteration = 0.297, best solution [0.09 2.   0.01]\n",
      "This is number 48 generation\n",
      "New population is 47\n",
      "Best F1 score in the this iteration = 0.297, best solution [0.09 2.   0.01]\n",
      "This is number 49 generation\n",
      "New population is 46\n",
      "Best F1 score in the this iteration = 0.297, best solution [0.09 2.   0.01]\n"
     ]
    }
   ],
   "source": [
    "import xgboost as xgb\n",
    "import random\n",
    "\n",
    "if calculate_weights and madrid:\n",
    "\n",
    "    Y_train_downsampled_onehot = casualty_to_one_hot(Y_train_downsampled)\n",
    "    Y_test_downsampled_onehot  = casualty_to_one_hot(Y_test_downsampled)\n",
    "    Y_test_onehot  = casualty_to_one_hot(Y_test)\n",
    "    \n",
    "    Y_train_onehot = casualty_to_one_hot(Y_train)\n",
    "\n",
    "\n",
    "    populationSize = (number_of_individuals, number_of_hyperparams)\n",
    "    population = initialize_population(number_of_individuals   = number_of_individuals,\n",
    "                                       hyperparams_to_optimize = HYPERPARAMS_TO_OPTIMIZE)\n",
    "\n",
    "    fitnessHistory = np.empty([number_of_generations+1, number_of_individuals]) # Define an array to store the value of each parameter for each parent and generation\n",
    "    populationHistory = np.empty([(number_of_generations+1)*number_of_individuals, number_of_hyperparams]) # Insert the value of initial parameters in history\n",
    "\n",
    "    best_solution_history = np.empty([(number_of_generations), number_of_hyperparams+1])\n",
    "    populationHistory[0:number_of_individuals,:] = population\n",
    "\n",
    "\n",
    "    xgbDMatrixTrain = xgb.DMatrix(data  = X_train,\n",
    "                                  label = Y_train)\n",
    "\n",
    "    xgbDMatrixTest  = xgb.DMatrix(data  = X_test, \n",
    "                                  label = Y_test)\n",
    "\n",
    "    for generation in range(number_of_generations):\n",
    "\n",
    "        print(\"This is number %s generation\" % (generation))\n",
    "\n",
    "        new_population = []\n",
    "\n",
    "        unique_individuals = np.unique(population, axis=0)\n",
    "\n",
    "        new_individuals_to_create = number_of_individuals - len(unique_individuals)\n",
    "\n",
    "        for i in range(new_individuals_to_create):\n",
    "            new_individual = generate_individual(hyperparams_to_optimize = HYPERPARAMS_TO_OPTIMIZE)\n",
    "            new_population.append(new_individual)\n",
    "\n",
    "        new_population = np.array(new_population)\n",
    "\n",
    "        if (new_individuals_to_create):\n",
    "            population = np.concatenate((unique_individuals, new_population), axis=0)\n",
    "\n",
    "        # print(f'Current population is {population}')\n",
    "        print(f'New population is {len(new_population)}')\n",
    "\n",
    "        # Train the dataset and obtain fitness\n",
    "        fitnessValue = train_population(population = population,\n",
    "                                        hyperparams_to_optimize = HYPERPARAMS_TO_OPTIMIZE,\n",
    "                                        dMatrixTrain = xgbDMatrixTrain,\n",
    "                                        dMatrixTest = xgbDMatrixTest,\n",
    "                                        Y_test = Y_test)\n",
    "\n",
    "        fitnessHistory[generation,:] = fitnessValue\n",
    "\n",
    "        # Best score in the current iteration\n",
    "        max_score_index = np.argmax(fitnessHistory[generation,:])\n",
    "        max_score_value = np.max(fitnessHistory[generation,:])\n",
    "        max_score_solution = population[max_score_index]\n",
    "\n",
    "        max_solution_with_score = []\n",
    "        max_solution_with_score = np.append(max_score_solution, max_score_value)\n",
    "        best_solution_history[generation] = max_solution_with_score\n",
    "\n",
    "        print(f\"Best F1 score in the this iteration = {max_score_value}, best solution {max_score_solution}\") # Survival of the fittest - take the top parents, based on the fitness value and number of parents needed to be selected\n",
    "\n",
    "        parents = new_parents_selection(population = population,\n",
    "                                        fitness = fitnessValue,\n",
    "                                        numParents = numberOfParentsMating)\n",
    "\n",
    "        # Mate these parents to create children having parameters from these parents (we are using uniform crossover)\n",
    "        children = crossover_uniform(parents = parents,\n",
    "                                     childrenSize = (populationSize[0] - parents.shape[0], number_of_hyperparams))\n",
    "\n",
    "        # Add mutation to create genetic diversity\n",
    "        children_mutated = mutation(children,\n",
    "                                    hyperparams_to_optimize = HYPERPARAMS_TO_OPTIMIZE)\n",
    "\n",
    "        '''\n",
    "        We will create new population, which will contain parents that where selected previously based on the\n",
    "        fitness score and rest of them  will be children\n",
    "        '''\n",
    "        population[0:parents.shape[0], :] = parents # Fittest parents\n",
    "        population[parents.shape[0]:, :]  = children_mutated # Children\n",
    "\n",
    "        populationHistory[(generation+1)*number_of_individuals : (generation+1)*number_of_individuals + number_of_individuals , :] = population # Store parent information\n",
    "\n",
    "    #Best solution from the final iteration\n",
    "\n",
    "    fitness = train_population(population = population,\n",
    "                               hyperparams_to_optimize = HYPERPARAMS_TO_OPTIMIZE,\n",
    "                               dMatrixTrain = xgbDMatrixTrain,\n",
    "                               dMatrixTest = xgbDMatrixTest,\n",
    "                               Y_test = Y_test)\n",
    "\n",
    "    fitnessHistory[generation+1, :] = fitness # index of the best solution\n",
    "    bestFitnessIndex = np.where(fitness == np.max(fitness))[0][0]\n",
    "\n",
    "\n",
    "    best_hyperparams = {}\n",
    "    for n_param, hyperparam in enumerate(HYPERPARAMS_TO_OPTIMIZE):\n",
    "        best_hyperparams[hyperparam] = population[bestFitnessIndex][n_param]"
   ]
  },
  {
   "cell_type": "code",
   "execution_count": 113,
   "id": "a9cff61d-c0c4-43d1-8aba-f0128c249852",
   "metadata": {},
   "outputs": [
    {
     "data": {
      "image/png": "[encoded data removed]",
      "text/plain": [
       "<Figure size 1080x576 with 1 Axes>"
      ]
     },
     "metadata": {},
     "output_type": "display_data"
    },
    {
     "data": {
      "image/png": "[encoded data removed]",
      "text/plain": [
       "<Figure size 1080x576 with 1 Axes>"
      ]
     },
     "metadata": {},
     "output_type": "display_data"
    }
   ],
   "source": [
    "if calculate_weights and madrid:\n",
    "    #### PLOT FITNESS EVOLUTION ####\n",
    "    x_fitness = [np.max(fitnessHistory[i]) for i in range(0,fitnessHistory.shape[0])]\n",
    "\n",
    "    FILE_NAME = f\"{city_name}_ga_{MODEL_TIMESTAMP}.svg\"\n",
    "\n",
    "    plt.figure(figsize=(15, 8))\n",
    "    plt.ylabel('F1-Score')\n",
    "    plt.xlabel('Iterations')\n",
    "    plt.plot(np.arange(len(x_fitness)), x_fitness)\n",
    "    plt.savefig(GA_SCORES_PATH + FILE_NAME)\n",
    "\n",
    "    #### PLOT HYPERPARAMS EVOLUTION ####\n",
    "    FILE_NAME = f\"{city_name}_ga_hyperparams_evolution_p{number_of_individuals}_c{numberOfParentsMating}_{MODEL_TIMESTAMP}.svg\"\n",
    "\n",
    "    LEGEND_LABELS = HYPERPARAMS_TO_OPTIMIZE.keys()\n",
    "\n",
    "    plt.figure(figsize=(15, 8))\n",
    "    best_solution_history_aux = best_solution_history\n",
    "    best_solution_history_aux[:,1] = best_solution_history[:,1]/2\n",
    "    best_solution_history_aux[:,3] = best_solution_history[:,3]/100\n",
    "    plt.plot(best_solution_history_aux[:,:3])\n",
    "    plt.ylabel('Factor')\n",
    "    plt.xlabel('Iterations')\n",
    "    plt.legend(LEGEND_LABELS)\n",
    "    plt.savefig(HYPERPARAMS_EVOLUTON_PATH + FILE_NAME, dpi=300)\n",
    "\n",
    "    FILE_NAME = f\"{city_name}_population_p{number_of_individuals}_c{numberOfParentsMating}_{MODEL_TIMESTAMP}.txt\"\n",
    "\n",
    "    np.savetxt(FINAL_POPULATION_PATH + FILE_NAME, population, fmt='%s')"
   ]
  },
  {
   "cell_type": "markdown",
   "id": "48115b98-c658-4031-bdb1-a0024703952a",
   "metadata": {
    "tags": [],
    "toc-hr-collapsed": true
   },
   "source": [
    "### Hiperparámetros"
   ]
  },
  {
   "cell_type": "markdown",
   "id": "ea4ea677-b0e1-43eb-9964-37dcb5c0241f",
   "metadata": {},
   "source": [
    "- [Bayesian Optimization with HYPEROPT](https://www.kaggle.com/code/prashant111/a-guide-on-xgboost-hyperparameters-tuning/notebook)"
   ]
  },
  {
   "cell_type": "markdown",
   "id": "40166b8f-b982-4cb1-bc9f-989b297970ad",
   "metadata": {},
   "source": [
    "#### Carga hiperparámetros"
   ]
  },
  {
   "cell_type": "code",
   "execution_count": 114,
   "id": "55470307-b090-4ba0-a615-b200b386b075",
   "metadata": {},
   "outputs": [],
   "source": [
    "if not calculate_weights:\n",
    "\n",
    "    FILE_NAME = f\"{city_name}_hyperparams{loaded_timestamp}.json\"\n",
    "\n",
    "    best_hyperparams = load_json(HYPERPARAMS_PATH, FILE_NAME)\n",
    "\n",
    "# # # 0.875 GA\n",
    "# # # 0.04, 1, 3.9, 900\n",
    "# # # best_hyperparams = {}\n",
    "# # # best_hyperparams['eta'] = 0.04\n",
    "# # # best_hyperparams['max_depth'] = 1\n",
    "# # # best_hyperparams['min_child_weight'] = 3.9\n",
    "# # # best_hyperparams['n_estimators'] = 900"
   ]
  },
  {
   "cell_type": "markdown",
   "id": "ce1213fe-2a09-4686-8834-edc9ba60d2ea",
   "metadata": {},
   "source": [
    "#### Escritura hiperparámetros"
   ]
  },
  {
   "cell_type": "code",
   "execution_count": 115,
   "id": "9dad8965-a095-4b09-9cc3-915c4d2c5c11",
   "metadata": {},
   "outputs": [
    {
     "name": "stdout",
     "output_type": "stream",
     "text": [
      "{'eta': 0.09, 'max_depth': 2.0, 'min_child_weight': 0.01}\n"
     ]
    }
   ],
   "source": [
    "if calculate_weights and madrid:\n",
    "    FILE_NAME = f\"{city_name}_hyperparams{MODEL_TIMESTAMP}.json\"\n",
    "\n",
    "    write_json(best_hyperparams, HYPERPARAMS_PATH, FILE_NAME)\n",
    "    print(best_hyperparams)"
   ]
  },
  {
   "cell_type": "markdown",
   "id": "7e290436-2027-4bac-99c1-78870fd94419",
   "metadata": {
    "tags": [],
    "toc-hr-collapsed": true
   },
   "source": [
    "### Pesos de características"
   ]
  },
  {
   "cell_type": "markdown",
   "id": "4ca5c496-8106-4310-acb2-0b9b8dd5ecaf",
   "metadata": {},
   "source": [
    "#### Carga definitiva/auxiliar de pesos"
   ]
  },
  {
   "cell_type": "code",
   "execution_count": 116,
   "id": "69adbb52-3650-4cde-8322-032613a81f6a",
   "metadata": {},
   "outputs": [
    {
     "data": {
      "text/plain": [
       "{'Accident Features': {'feature_childs': ['coordenada_x_utm',\n",
       "   'coordenada_y_utm',\n",
       "   'distrito',\n",
       "   'hora',\n",
       "   'vehiculos_implicados'],\n",
       "  'feature_weights': [0.165774538,\n",
       "   0.171530785,\n",
       "   0.082228259,\n",
       "   0.047771472,\n",
       "   0.060763375],\n",
       "  'wpi': 0.528068429},\n",
       " 'Roadway Features': {'feature_childs': ['tipo_accidente'],\n",
       "  'feature_weights': [0.07036541],\n",
       "  'wpi': 0.07036541},\n",
       " 'Environmental Features': {'feature_childs': ['estado_meteorológico'],\n",
       "  'feature_weights': [0.04354843],\n",
       "  'wpi': 0.04354843},\n",
       " 'Vehicle Features': {'feature_childs': ['tipo_vehiculo'],\n",
       "  'feature_weights': [0.126314657],\n",
       "  'wpi': 0.126314657},\n",
       " 'Casualty Features': {'feature_childs': ['tipo_persona',\n",
       "   'sexo',\n",
       "   'rango_edad',\n",
       "   'drogas_alcohol_positivo'],\n",
       "  'feature_weights': [0.067057589, 0.049116389, 0.095220163, 0.059951354],\n",
       "  'wpi': 0.271345495}}"
      ]
     },
     "execution_count": 116,
     "metadata": {},
     "output_type": "execute_result"
    }
   ],
   "source": [
    "FILE_NAME = 'madrid_adapted_leeds_default_weights.json'\n",
    "# FILE_NAME = 'madrid_weights_no_roadClass.json'\n",
    "# FILE_NAME = f\"{city_name}_weights{loaded_timestamp}.json\"\n",
    "\n",
    "feature_vector = load_json(WEIGHTS_PATH, FILE_NAME)\n",
    "feature_vector"
   ]
  },
  {
   "cell_type": "markdown",
   "id": "12a5b938-bfc9-4d1b-94e6-571720665d88",
   "metadata": {},
   "source": [
    "#### Cálculo de pesos de caracetrísticas"
   ]
  },
  {
   "cell_type": "code",
   "execution_count": 117,
   "id": "a2e78430-67de-475f-8284-f3ec595caa1c",
   "metadata": {},
   "outputs": [
    {
     "name": "stderr",
     "output_type": "stream",
     "text": [
      "/home/luis/anaconda3/envs/TFM/lib/python3.9/site-packages/xgboost/core.py:499: FutureWarning: Pass `objective` as keyword args.  Passing these as positional arguments will be considered as error in future releases.\n",
      "  warnings.warn(\n",
      "/home/luis/anaconda3/envs/TFM/lib/python3.9/site-packages/xgboost/sklearn.py:1224: UserWarning: The use of label encoder in XGBClassifier is deprecated and will be removed in a future release. To remove this warning, do the following: 1) Pass option use_label_encoder=False when constructing XGBClassifier object; and 2) Encode your labels (y) as integers starting with 0, i.e. 0, 1, 2, ..., [num_class - 1].\n",
      "  warnings.warn(label_encoder_deprecation_msg, UserWarning)\n",
      "/home/luis/anaconda3/envs/TFM/lib/python3.9/site-packages/xgboost/data.py:250: FutureWarning: pandas.Int64Index is deprecated and will be removed from pandas in a future version. Use pandas.Index with the appropriate dtype instead.\n",
      "  elif isinstance(data.columns, (pd.Int64Index, pd.RangeIndex)):\n"
     ]
    }
   ],
   "source": [
    "if calculate_weights and madrid:\n",
    "    xgboost = XGBClassifier(best_hyperparams,\n",
    "                            tree_method = tree_method,\n",
    "                            single_precision_histogram =  True)\n",
    "\n",
    "    xgboost.fit(X_train_downsampled, Y_train_downsampled)\n",
    "\n",
    "    child_weights  = np.array(xgboost.feature_importances_)\n",
    "    feature_vector = fill_feature_vector(X_train_downsampled, child_weights)"
   ]
  },
  {
   "cell_type": "markdown",
   "id": "3f0f6472-a98c-4801-b5cc-31d0f46c13a4",
   "metadata": {
    "tags": []
   },
   "source": [
    "#### Visualización pesos calculados"
   ]
  },
  {
   "cell_type": "code",
   "execution_count": 118,
   "id": "72fc1536-1b5a-4d6a-922d-5f27f58e7396",
   "metadata": {
    "tags": []
   },
   "outputs": [
    {
     "name": "stdout",
     "output_type": "stream",
     "text": [
      "{'hora': 40.0, 'distrito': 123.0, 'tipo_accidente': 66.0, 'estado_meteorológico': 1.0, 'tipo_vehiculo': 56.0, 'tipo_persona': 67.0, 'rango_edad': 5.0, 'sexo': 29.0, 'vehiculos_implicados': 24.0, 'coordenada_x_utm': 182.0, 'coordenada_y_utm': 142.0}\n",
      "[0.05276853 0.10511653 0.19475107 0.00148864 0.13911882 0.06954206\n",
      " 0.03323388 0.05458388 0.         0.18674098 0.09501561 0.06764002]\n",
      "hora 0.052768532\n",
      "distrito 0.10511653\n",
      "tipo_accidente 0.19475107\n",
      "estado_meteorológico 0.0014886443\n",
      "tipo_vehiculo 0.13911882\n",
      "tipo_persona 0.06954206\n",
      "rango_edad 0.03323388\n",
      "sexo 0.054583877\n",
      "drogas_alcohol_positivo 0.0\n",
      "vehiculos_implicados 0.18674098\n",
      "coordenada_x_utm 0.09501561\n",
      "coordenada_y_utm 0.06764002\n"
     ]
    },
    {
     "data": {
      "image/png": "[encoded data removed]",
      "text/plain": [
       "<Figure size 720x360 with 1 Axes>"
      ]
     },
     "metadata": {},
     "output_type": "display_data"
    }
   ],
   "source": [
    "if calculate_weights and madrid:\n",
    "    FILE_NAME = f\"{city_name}_figure_weights_{MODEL_TIMESTAMP}.svg\"\n",
    "\n",
    "    print(xgboost.get_booster().get_score(importance_type= 'weight'))\n",
    "    plt.figure(figsize=(10, 5))\n",
    "    plt.barh(X_train_downsampled.columns, xgboost.feature_importances_)\n",
    "    plt.savefig(WEIGHTS_PATH + FILE_NAME)\n",
    "\n",
    "    print(xgboost.feature_importances_)\n",
    "\n",
    "    for column, weight in zip(X_train_downsampled.columns,xgboost.feature_importances_):\n",
    "      print(column, weight)\n",
    "\n",
    "    child_weights  = np.array(xgboost.feature_importances_)\n",
    "    feature_vector = fill_feature_vector(X_train_downsampled, child_weights)"
   ]
  },
  {
   "cell_type": "markdown",
   "id": "2278163f-8450-412d-8147-c235f6825646",
   "metadata": {},
   "source": [
    "#### Escritura de pesos de características"
   ]
  },
  {
   "cell_type": "markdown",
   "id": "ff4e3738-44ef-45be-9b24-989e4610267e",
   "metadata": {},
   "source": [
    "- v5: Pesos calculados con hiperparámetros. En el dataset están tipificados los vehículos como en el artículo, las edades no están en rango.\n",
    "- v6: Pesos calculados con hiperparámetros. En el dataset están tipificados los vehículos como en el artículo, las edades están en rango.\n",
    "- v7: hiperparams, tipos de carretera tipificados por vía."
   ]
  },
  {
   "cell_type": "code",
   "execution_count": 119,
   "id": "3a4d2414-bf56-4519-aaf2-ae6333e69b11",
   "metadata": {},
   "outputs": [],
   "source": [
    "if calculate_weights and madrid:\n",
    "    matrix_indexes = fv2gi(feature_vector)\n",
    "\n",
    "    FILE_NAME = f\"{city_name}_weights{MODEL_TIMESTAMP}.json\"\n",
    "    # FILE_NAME = 'default_calculated_weights.json'\n",
    "\n",
    "    write_json(feature_vector, WEIGHTS_PATH, FILE_NAME)"
   ]
  },
  {
   "cell_type": "markdown",
   "id": "40bc80de-39c3-4818-b7eb-8a406aeed4e2",
   "metadata": {},
   "source": [
    "### Cálculo índices de matriz"
   ]
  },
  {
   "cell_type": "code",
   "execution_count": 120,
   "id": "bd560eed-aa5b-47ad-a8fd-fb142a5d123e",
   "metadata": {},
   "outputs": [],
   "source": [
    "matrix_indexes = fv2gi(feature_vector)"
   ]
  },
  {
   "cell_type": "markdown",
   "id": "dR3Ah2X24fbw",
   "metadata": {
    "id": "dR3Ah2X24fbw"
   },
   "source": [
    "## Construcción de imágenes"
   ]
  },
  {
   "cell_type": "code",
   "execution_count": 121,
   "id": "cWGYQ82UI4RM",
   "metadata": {
    "id": "cWGYQ82UI4RM"
   },
   "outputs": [
    {
     "name": "stdout",
     "output_type": "stream",
     "text": [
      "127493\n",
      "43583\n",
      "10896\n"
     ]
    },
    {
     "data": {
      "text/html": [
       "<div>\n",
       "<style scoped>\n",
       "    .dataframe tbody tr th:only-of-type {\n",
       "        vertical-align: middle;\n",
       "    }\n",
       "\n",
       "    .dataframe tbody tr th {\n",
       "        vertical-align: top;\n",
       "    }\n",
       "\n",
       "    .dataframe thead th {\n",
       "        text-align: right;\n",
       "    }\n",
       "</style>\n",
       "<table border=\"1\" class=\"dataframe\">\n",
       "  <thead>\n",
       "    <tr style=\"text-align: right;\">\n",
       "      <th></th>\n",
       "      <th>0</th>\n",
       "      <th>1</th>\n",
       "      <th>2</th>\n",
       "      <th>3</th>\n",
       "      <th>4</th>\n",
       "    </tr>\n",
       "  </thead>\n",
       "  <tbody>\n",
       "    <tr>\n",
       "      <th>0</th>\n",
       "      <td>0.000000</td>\n",
       "      <td>0.000000</td>\n",
       "      <td>-0.094593</td>\n",
       "      <td>0.000000</td>\n",
       "      <td>0.000000</td>\n",
       "    </tr>\n",
       "    <tr>\n",
       "      <th>1</th>\n",
       "      <td>0.000000</td>\n",
       "      <td>0.000000</td>\n",
       "      <td>0.863748</td>\n",
       "      <td>0.000000</td>\n",
       "      <td>0.000000</td>\n",
       "    </tr>\n",
       "    <tr>\n",
       "      <th>2</th>\n",
       "      <td>-0.282900</td>\n",
       "      <td>-2.054765</td>\n",
       "      <td>0.930066</td>\n",
       "      <td>0.346994</td>\n",
       "      <td>1.350932</td>\n",
       "    </tr>\n",
       "    <tr>\n",
       "      <th>3</th>\n",
       "      <td>0.109529</td>\n",
       "      <td>-0.659828</td>\n",
       "      <td>-1.119871</td>\n",
       "      <td>-0.070160</td>\n",
       "      <td>0.000000</td>\n",
       "    </tr>\n",
       "    <tr>\n",
       "      <th>4</th>\n",
       "      <td>0.000000</td>\n",
       "      <td>0.000000</td>\n",
       "      <td>-0.187704</td>\n",
       "      <td>0.000000</td>\n",
       "      <td>0.000000</td>\n",
       "    </tr>\n",
       "  </tbody>\n",
       "</table>\n",
       "</div>"
      ],
      "text/plain": [
       "          0         1         2         3         4\n",
       "0  0.000000  0.000000 -0.094593  0.000000  0.000000\n",
       "1  0.000000  0.000000  0.863748  0.000000  0.000000\n",
       "2 -0.282900 -2.054765  0.930066  0.346994  1.350932\n",
       "3  0.109529 -0.659828 -1.119871 -0.070160  0.000000\n",
       "4  0.000000  0.000000 -0.187704  0.000000  0.000000"
      ]
     },
     "execution_count": 121,
     "metadata": {},
     "output_type": "execute_result"
    }
   ],
   "source": [
    "train_bgi = build_gray_images(X_train, 5, matrix_indexes)\n",
    "train_original_bgi = build_gray_images(X_train_original, 5, matrix_indexes)\n",
    "\n",
    "test_bgi  = build_gray_images(X_test, 5, matrix_indexes)\n",
    "\n",
    "pd.DataFrame(train_bgi[:,:,1057])"
   ]
  },
  {
   "cell_type": "markdown",
   "id": "yQTCws554zZL",
   "metadata": {
    "id": "yQTCws554zZL"
   },
   "source": [
    "## Reshape de imágenes"
   ]
  },
  {
   "cell_type": "code",
   "execution_count": 179,
   "id": "mRrOKk3a43ZI",
   "metadata": {
    "id": "mRrOKk3a43ZI"
   },
   "outputs": [],
   "source": [
    "train_images = shape_images(X_data = X_train,\n",
    "                            gray_images = train_bgi)\n",
    "\n",
    "train_original_images = shape_images(X_data = X_train_original,\n",
    "                                     gray_images = train_original_bgi)\n",
    "\n",
    "test_images  = shape_images(X_data = X_test,\n",
    "                            gray_images = test_bgi)"
   ]
  },
  {
   "cell_type": "code",
   "execution_count": 269,
   "id": "2991a700-e8db-47f1-aeaf-847129f13355",
   "metadata": {},
   "outputs": [
    {
     "name": "stderr",
     "output_type": "stream",
     "text": [
      "/tmp/ipykernel_27618/955781238.py:4: MatplotlibDeprecationWarning: The 'b' parameter of grid() has been renamed 'visible' since Matplotlib 3.5; support for the old name will be dropped two minor releases later.\n",
      "  plt.grid(b=None)\n"
     ]
    },
    {
     "data": {
      "text/plain": [
       "<Figure size 432x288 with 0 Axes>"
      ]
     },
     "metadata": {},
     "output_type": "display_data"
    },
    {
     "data": {
      "image/png": "[encoded data removed]",
      "text/plain": [
       "<Figure size 216x216 with 1 Axes>"
      ]
     },
     "metadata": {},
     "output_type": "display_data"
    },
    {
     "data": {
      "image/png": "[encoded data removed]",
      "text/plain": [
       "<Figure size 216x216 with 1 Axes>"
      ]
     },
     "metadata": {},
     "output_type": "display_data"
    },
    {
     "data": {
      "image/png": "[encoded data removed]",
      "text/plain": [
       "<Figure size 216x216 with 1 Axes>"
      ]
     },
     "metadata": {},
     "output_type": "display_data"
    }
   ],
   "source": [
    "plt.gray()\n",
    "for i in range(100,103):\n",
    "    plt.figure(figsize=(3, 3))\n",
    "    plt.grid(b=None)\n",
    "    plt.imshow(train_bgi[:,:,i])\n",
    "    # plt.savefig(f\"{city_name}_image_example_{i}.svg\",transparent=True)\n",
    "    plt.show()"
   ]
  },
  {
   "cell_type": "code",
   "execution_count": 123,
   "id": "deb2d341-a847-437b-a1fb-0e40e01cced2",
   "metadata": {},
   "outputs": [],
   "source": [
    "# train_images = shape_images(X_data = X_train,\n",
    "#                             gray_images = train_bgi)\n",
    "# test_images  = shape_images(X_data = X_test,\n",
    "#                             gray_images = test_bgi)"
   ]
  },
  {
   "cell_type": "markdown",
   "id": "1PdwhQuQ9o_P",
   "metadata": {
    "id": "1PdwhQuQ9o_P"
   },
   "source": [
    "## One-Hot"
   ]
  },
  {
   "cell_type": "code",
   "execution_count": 124,
   "id": "6hTctKZSI3re",
   "metadata": {
    "id": "6hTctKZSI3re"
   },
   "outputs": [
    {
     "name": "stderr",
     "output_type": "stream",
     "text": [
      "/tmp/ipykernel_27618/3907942643.py:9: SettingWithCopyWarning: \n",
      "A value is trying to be set on a copy of a slice from a DataFrame\n",
      "\n",
      "See the caveats in the documentation: https://pandas.pydata.org/pandas-docs/stable/user_guide/indexing.html#returning-a-view-versus-a-copy\n",
      "  Y_labels.replace(transf, inplace = True)\n"
     ]
    }
   ],
   "source": [
    "Y_train_onehot = casualty_to_one_hot(Y_train)\n",
    "Y_train_original_onehot = casualty_to_one_hot(Y_train_original)\n",
    "Y_test_onehot  = casualty_to_one_hot(Y_test)\n",
    "\n",
    "array_train_images = np.asarray(train_images)\n",
    "array_train_original_images = np.asarray(train_original_images)\n",
    "array_test_images  = np.asarray(test_images)"
   ]
  },
  {
   "cell_type": "markdown",
   "id": "IStgg--F5L3F",
   "metadata": {
    "id": "IStgg--F5L3F",
    "tags": [],
    "toc-hr-collapsed": true
   },
   "source": [
    "## Visualización de datos"
   ]
  },
  {
   "cell_type": "code",
   "execution_count": 125,
   "id": "rvyfvMPy5L3G",
   "metadata": {
    "id": "rvyfvMPy5L3G"
   },
   "outputs": [],
   "source": [
    "# !conda install -c anaconda seaborn --y"
   ]
  },
  {
   "cell_type": "markdown",
   "id": "dg0d7-k15L3H",
   "metadata": {
    "id": "dg0d7-k15L3H",
    "tags": []
   },
   "source": [
    "### Matriz de correlación"
   ]
  },
  {
   "cell_type": "code",
   "execution_count": 126,
   "id": "SN7gwKNO5L3H",
   "metadata": {
    "id": "SN7gwKNO5L3H"
   },
   "outputs": [],
   "source": [
    "# correlation_matrix(data_frame)"
   ]
  },
  {
   "cell_type": "markdown",
   "id": "d5fAIUUg5L3J",
   "metadata": {
    "id": "d5fAIUUg5L3J",
    "tags": []
   },
   "source": [
    "### PCA"
   ]
  },
  {
   "cell_type": "code",
   "execution_count": 127,
   "id": "lhQElB3I5L3J",
   "metadata": {
    "id": "lhQElB3I5L3J"
   },
   "outputs": [],
   "source": [
    "# pca(X_train, X_test)"
   ]
  },
  {
   "cell_type": "markdown",
   "id": "52ffbfe4-9fce-4e68-81b9-766d485b87ff",
   "metadata": {
    "tags": []
   },
   "source": [
    "### TSNE"
   ]
  },
  {
   "cell_type": "code",
   "execution_count": 128,
   "id": "c669feae-6b17-4f05-b43b-6d3aa87a1c97",
   "metadata": {},
   "outputs": [],
   "source": [
    "# output_file_name = './2d_test_tsne.svg'\n",
    "# plot_TSNE(X_test, Y_test, n_components=2)\n",
    "\n",
    "# output_file_name = './2d_train_tsne.svg'\n",
    "# plot_TSNE(X_train, Y_train, n_components=2)\n",
    "\n",
    "# output_file_name = './3d_test_tsne.svg'\n",
    "# plot_TSNE(X_test, Y_test, n_components=3)\n",
    "\n",
    "# output_file_name = './3d_train_tsne.svg'\n",
    "# plot_TSNE(X_train, Y_train, n_components=3)"
   ]
  },
  {
   "cell_type": "markdown",
   "id": "XBbgOcIz5L3J",
   "metadata": {
    "id": "XBbgOcIz5L3J",
    "tags": [],
    "toc-hr-collapsed": true
   },
   "source": [
    "### Autoencoder"
   ]
  },
  {
   "cell_type": "markdown",
   "id": "U84H7J695L3J",
   "metadata": {
    "id": "U84H7J695L3J",
    "tags": []
   },
   "source": [
    "#### Entrenamiento"
   ]
  },
  {
   "cell_type": "code",
   "execution_count": 129,
   "id": "A2mJaZVn5L3L",
   "metadata": {
    "id": "A2mJaZVn5L3L"
   },
   "outputs": [],
   "source": [
    "# input_img = Input(shape=(25,))\n",
    "\n",
    "# # definimos el encoder, que tendra una entrada de Input_img y una segunda capa con entrada de encoder1 y salida 3\n",
    "# encoder1 = layers.Dense(15, activation='sigmoid')(input_img)\n",
    "# encoder2 = layers.Dense(3, activation='sigmoid')(encoder1)\n",
    "\n",
    "# # definimos el  decoder que tendra una entrada inicial de encoder3 y una salida de 128 y finalmete una capa de salida con los mismos que Input_img\n",
    "# decoder1 = layers.Dense(15, activation='sigmoid')(encoder2)\n",
    "# decoder2 = layers.Dense(25, activation='sigmoid')(decoder1)\n",
    "\n",
    "# # this model maps an input to its reconstruction\n",
    "# autoencoder = tf.keras.Model(inputs=input_img, outputs=decoder2)\n",
    "# autoencoder.summary()\n",
    "\n",
    "# autoencoder.compile(optimizer='adam', loss='binary_crossentropy') #se usan estos dos en estas arquitecturas\n",
    "\n",
    "X_train = array_train_images\n",
    "X_test = array_test_images\n",
    "\n",
    "X_train = X_train.reshape(len(array_train_images), 25)\n",
    "X_test  = X_test.reshape(len(X_test), 25)\n",
    "\n",
    "# autoencoder.fit(X_train, X_train,\n",
    "#                 epochs=15,\n",
    "#                 batch_size=32,\n",
    "#                 shuffle=True,\n",
    "#                 validation_data=(X_test, X_test))"
   ]
  },
  {
   "cell_type": "markdown",
   "id": "gIiKplwP5L3L",
   "metadata": {
    "id": "gIiKplwP5L3L",
    "tags": []
   },
   "source": [
    "#### Visualización"
   ]
  },
  {
   "cell_type": "code",
   "execution_count": 130,
   "id": "opBOyrIx5L3M",
   "metadata": {
    "id": "opBOyrIx5L3M"
   },
   "outputs": [],
   "source": [
    "# # create encoder model\n",
    "# encoder = tf.keras.Model(inputs=input_img, outputs=encoder2)\n",
    "# encoder.summary()\n",
    "# # create decoder model\n",
    "# encoded_input = Input(shape=(3,))\n",
    "# #lo que hace aqui es quedarse con las capas que corresponden al decodificador\n",
    "# decoder_layer1 = autoencoder.layers[-2]\n",
    "# decoder_layer2 = autoencoder.layers[-1]\n",
    "# decoder = tf.keras.Model(inputs=encoded_input, outputs=decoder_layer2(decoder_layer1(encoded_input)))\n",
    "# decoder.summary()\n",
    "# # si miramos la salida, son simetricos el uno respecto al otro\n",
    "# # encoder va de input a 3 y decoder de 3 a input\n",
    "\n",
    "# # get latent vector for visualization\n",
    "# latent_vector = encoder.predict(X_test)\n",
    "# # get decoder output to visualize reconstructed image\n",
    "# reconstructed_imgs = decoder.predict(latent_vector)\n",
    "\n",
    "\n",
    "# # visualize in 3D plot\n",
    "# from pylab import rcParams\n",
    "# from mpl_toolkits.mplot3d import Axes3D\n",
    "\n",
    "# rcParams['figure.figsize'] = 10, 8\n",
    "\n",
    "# fig = plt.figure(1)\n",
    "# ax = Axes3D(fig)\n",
    "\n",
    "# xs = latent_vector[:, 0]\n",
    "# ys = latent_vector[:, 1]\n",
    "# zs = latent_vector[:, 2]\n",
    "\n",
    "# # color=['red','green','blue']\n",
    "\n",
    "# # for x, y, z, label in zip(xs, ys, zs, Y_test):\n",
    "# #     c = color[int(label)]\n",
    "# #     ax.text(x, y, z, label, backgroundcolor=c)\n",
    "    \n",
    "# # ax.set_xlim(xs.min(), xs.max())\n",
    "# # ax.set_ylim(ys.min(), ys.max())\n",
    "# # ax.set_zlim(zs.min(), zs.max())\n",
    "\n",
    "# # plt.show()\n",
    "\n",
    "# # X_test_encoded = encoder.predict(X_test, batch_size=32)\n",
    "# # plt.figure(figsize=(6, 6))\n",
    "# # plt.scatter(X_test_encoded[:, 0], X_test_encoded[:, 1], c=Y_test)\n",
    "# # plt.colorbar()\n",
    "# # plt.show()"
   ]
  },
  {
   "cell_type": "markdown",
   "id": "a8ea5149-aa36-4789-a693-169d65b3c5ba",
   "metadata": {
    "tags": []
   },
   "source": [
    "## Models"
   ]
  },
  {
   "cell_type": "code",
   "execution_count": 131,
   "id": "1b94cf5a-3223-4b1d-8d5e-ca001ccc999e",
   "metadata": {},
   "outputs": [
    {
     "name": "stdout",
     "output_type": "stream",
     "text": [
      "\n",
      "Pesos calculados: [  0.34184354  14.20104268 234.3172043 ] \n",
      "\n",
      "\n"
     ]
    }
   ],
   "source": [
    "array_train_images = np.asarray(train_images)\n",
    "array_test_images  = np.asarray(test_images)\n",
    "\n",
    "input_train_shape = (len(array_train_images), 5, 5, 1)\n",
    "input_test_shape  = (len(array_test_images), 5, 5, 1)\n",
    "\n",
    "array_train_images = array_train_images.reshape(input_train_shape)\n",
    "array_test_images  = array_test_images.reshape(input_test_shape)\n",
    "\n",
    "Y_test_labels = one_hot_to_casualty(Y_test)\n",
    "\n",
    "from sklearn.utils import class_weight\n",
    "\n",
    "pesos = class_weight.compute_class_weight('balanced',\n",
    "                                          classes = np.unique(Y_train_original),\n",
    "                                          y = Y_train_original)\n",
    "\n",
    "\n",
    "print('\\nPesos calculados:', pesos, '\\n\\n')\n",
    "\n",
    "\n",
    "# Keras espera un diccionario donde la clave sea el número de clase \n",
    "# y el valor sea el peso calculado. \n",
    "pesos = dict(enumerate(pesos))  "
   ]
  },
  {
   "cell_type": "markdown",
   "id": "318a39c2-0589-4599-998e-624c3ae30fb9",
   "metadata": {
    "toc-hr-collapsed": true
   },
   "source": [
    "### KNN"
   ]
  },
  {
   "cell_type": "code",
   "execution_count": 132,
   "id": "4dd71172-ec16-4ad8-9911-61f119055c44",
   "metadata": {},
   "outputs": [],
   "source": [
    "from sklearn.neighbors import KNeighborsClassifier\n",
    "from sklearn.model_selection import GridSearchCV\n",
    "\n",
    "MODEL_NAME = MODELS_NAME[0]"
   ]
  },
  {
   "cell_type": "markdown",
   "id": "e55a5324-8a19-4d7a-9936-0528fac6a38b",
   "metadata": {},
   "source": [
    "#### Entrenamiento"
   ]
  },
  {
   "cell_type": "code",
   "execution_count": 133,
   "id": "f96cccc3-659c-4d47-b610-4c9bc701b556",
   "metadata": {},
   "outputs": [],
   "source": [
    "# # leaf_size = list(range(1,10, 2))\n",
    "# # n_neighbors = list(range(1,100, 10))\n",
    "# # p = [1, 2]\n",
    "\n",
    "# # Create new KNN object\n",
    "# hyperparameters = dict(leaf_size = leaf_size,\n",
    "#                        n_neighbors = n_neighbors)\n",
    "\n",
    "# # Use GridSearch\n",
    "# knn_2 = KNeighborsClassifier()\n",
    "\n",
    "# # Fit the model\n",
    "# clf = GridSearchCV(knn_2,\n",
    "#                    hyperparameters,\n",
    "#                    cv = 4)\n",
    "\n",
    "# knn = clf.fit(X_train, Y_train)\n",
    "\n",
    "# # Print The value of best Hyperparameters\n",
    "\n",
    "# best_leaf_size = knn.best_estimator_.get_params()['leaf_size']\n",
    "# best_n_neighbors = knn.best_estimator_.get_params()['n_neighbors']\n",
    "\n",
    "# print('Best leaf_size:', best_leaf_size)\n",
    "# print('Best n_neighbors:', best_n_neighbors)\n",
    "\n",
    "# df = pd.DataFrame({'best_leaf_size':[best_leaf_size], 'n_neighbors':[best_n_neighbors]})\n",
    "\n",
    "# FILE_NAME = f\"{MODEL_NAME}/madrid_{MODEL_TIMESTAMP}.csv\"\n",
    "\n",
    "# df.to_csv(HYPERPARAMS_PATH + FILE_NAME, index = True)"
   ]
  },
  {
   "cell_type": "markdown",
   "id": "68fdabd2-a01a-444b-b802-535186798bd3",
   "metadata": {},
   "source": [
    "#### Escritura del modelo"
   ]
  },
  {
   "cell_type": "code",
   "execution_count": 134,
   "id": "9ea7f92a-3c77-40c7-9d58-82b2d321e5b4",
   "metadata": {},
   "outputs": [],
   "source": [
    "# MODEL_PATH = f\"{MODELS_PATH}{MODEL_NAME}/\"\n",
    "# MODEL_FILE_NAME = f\"{city_name}_{MODEL_NAME}_{MODEL_TIMESTAMP}.pkl\"\n",
    "\n",
    "# # Its important to use binary mode \n",
    "# knnPickle = open(MODEL_PATH + MODEL_FILE_NAME, 'wb') \n",
    "\n",
    "# # source, destination \n",
    "# pickle.dump(knn, knnPickle)"
   ]
  },
  {
   "cell_type": "markdown",
   "id": "24cf557e-fae2-429c-8409-7cbb3b48ae85",
   "metadata": {
    "tags": []
   },
   "source": [
    "#### Carga de modelo pre-entrenado"
   ]
  },
  {
   "cell_type": "code",
   "execution_count": 135,
   "id": "c2d9fe88-06b2-47ec-9459-6d931c50ca30",
   "metadata": {},
   "outputs": [],
   "source": [
    "# MODEL_PATH = f\"{MODELS_PATH}{MODEL_NAME}/\"\n",
    "# MODEL_FILE_NAME = f\"{city_name}_{MODEL_NAME}_2022-04-27-21:50:26.pkl\"\n",
    "\n",
    "# # load the model from disk\n",
    "# loaded_model = pickle.load(open(MODEL_PATH + MODEL_FILE_NAME, 'rb'))"
   ]
  },
  {
   "cell_type": "markdown",
   "id": "b1e34364-1192-4115-9796-6b64d6790e73",
   "metadata": {
    "tags": []
   },
   "source": [
    "#### Resultados"
   ]
  },
  {
   "cell_type": "code",
   "execution_count": 136,
   "id": "ecfdf70a-df80-4dce-ad02-c658c8bc197d",
   "metadata": {},
   "outputs": [],
   "source": [
    "# y_predicted = knn.predict(X_test)\n",
    "\n",
    "# Y_predicted = convolution_1d.predict(x = array_test_images, batch_size = 128).argmax(axis = 1)\n",
    "\n",
    "# F1_SCORE_PATH = f\"{F1_SCORES_PATH}{MODEL_NAME}/\"\n",
    "# F1_SCORE_NAME = f\"{city_name}_{MODEL_NAME}_f1_score_{MODEL_TIMESTAMP}.svg\"\n",
    "\n",
    "# # plot_f1_score(f1_score_path = F1_SCORE_PATH,\n",
    "# #               f1_score_name = F1_SCORE_NAME,\n",
    "# #               history = history)\n",
    "\n",
    "# print(\"[INFO] evaluating network...\")\n",
    "\n",
    "# REPORT_PATH = f\"{REPORTS_PATH}{MODEL_NAME}/\"\n",
    "# REPORT_NAME  = f\"{city_name}_{MODEL_NAME}_report_{MODEL_TIMESTAMP}.csv\"\n",
    "\n",
    "# plot_classification_report(path = REPORT_PATH,\n",
    "#                            file_name = REPORT_NAME,\n",
    "#                            y_true = Y_test,\n",
    "#                            y_predicted = Y_predicted)\n",
    "\n",
    "\n",
    "# CONFUSION_MATRIX_PATH = f\"{CONFUSIONS_MATRIX_PATH}{MODEL_NAME}/\"\n",
    "# CONFUSION_MATRIX_NAME = f\"{city_name}_{MODEL_NAME}_confusion_matrix_{MODEL_TIMESTAMP}.svg\"\n",
    "\n",
    "# plot_confusion_matrix(path = CONFUSION_MATRIX_PATH,\n",
    "#                       file_name = CONFUSION_MATRIX_NAME,\n",
    "#                       y_true = Y_test,\n",
    "#                       y_predicted = Y_predicted)"
   ]
  },
  {
   "cell_type": "markdown",
   "id": "e2d85ab2-3416-4f93-a44e-bad2c346c015",
   "metadata": {
    "tags": [],
    "toc-hr-collapsed": true
   },
   "source": [
    "### Convolution 1D"
   ]
  },
  {
   "cell_type": "code",
   "execution_count": 137,
   "id": "57fc8277-f9e1-4e68-8337-ae9eb66a3468",
   "metadata": {},
   "outputs": [],
   "source": [
    "MODEL_NAME = MODELS_NAME[1]"
   ]
  },
  {
   "cell_type": "markdown",
   "id": "ca013c7b-48ea-476a-b585-e8c751463f7d",
   "metadata": {
    "tags": []
   },
   "source": [
    "#### Entrenamiento"
   ]
  },
  {
   "cell_type": "code",
   "execution_count": 138,
   "id": "c1aca6bf-90b1-42bd-9fba-d7b8a5ad36c1",
   "metadata": {},
   "outputs": [],
   "source": [
    "if train_nn:\n",
    "    history = convolution_1d.fit(array_train_images, Y_train_onehot,\n",
    "                                 # class_weight = pesos,\n",
    "                                 batch_size = 128,\n",
    "                                 epochs = 100,\n",
    "                                 shuffle = True,\n",
    "                                 validation_data = (array_test_images, Y_test_onehot))\n",
    "    history"
   ]
  },
  {
   "cell_type": "markdown",
   "id": "57162dc6-95aa-4c54-88c7-9773e537479e",
   "metadata": {},
   "source": [
    "#### Escritura del modelo"
   ]
  },
  {
   "cell_type": "code",
   "execution_count": 139,
   "id": "d88c587c-a817-4892-8bc7-64200abf4a16",
   "metadata": {},
   "outputs": [],
   "source": [
    "if train_nn:\n",
    "    MODEL_PATH = f\"{MODELS_PATH}{MODEL_NAME}/\"\n",
    "    MODEL_FILE_NAME = f\"{city_name}_{MODEL_NAME}_{MODEL_TIMESTAMP}.h5\"\n",
    "\n",
    "    tasp_cnn.save(MODEL_PATH + MODEL_FILE_NAME)"
   ]
  },
  {
   "cell_type": "markdown",
   "id": "a12a2f07-c130-41aa-88fe-677b9c10ddd8",
   "metadata": {},
   "source": [
    "#### Carga de modelo pre-entrenado"
   ]
  },
  {
   "cell_type": "code",
   "execution_count": 140,
   "id": "18b1f493-056a-4491-84c1-c62bae69551d",
   "metadata": {},
   "outputs": [],
   "source": [
    "if not train_nn and not laptop:\n",
    "    MODEL_PATH = f\"{MODELS_PATH}{MODEL_NAME}/\"\n",
    "    MODEL_FILE_NAME = 'madrid_convolution_1d_2022-05-11-08:53:52.h5'\n",
    "\n",
    "    convolution_1d = tf.keras.models.load_model(MODEL_PATH + MODEL_FILE_NAME)"
   ]
  },
  {
   "cell_type": "markdown",
   "id": "5278dca3-abde-4aa5-8c59-42ccd1ee423a",
   "metadata": {},
   "source": [
    "#### Resultados"
   ]
  },
  {
   "cell_type": "code",
   "execution_count": 141,
   "id": "e76d8dac-a50d-454a-8f35-8d0a77292181",
   "metadata": {},
   "outputs": [],
   "source": [
    "if not laptop:\n",
    "    Y_predicted = convolution_1d.predict(x = array_test_images, batch_size = 128).argmax(axis = 1)\n",
    "\n",
    "    if train_nn:\n",
    "        F1_SCORE_PATH = f\"{F1_SCORES_PATH}{MODEL_NAME}/\"\n",
    "        F1_SCORE_NAME = f\"{city_name}_{MODEL_NAME}_f1_score_{MODEL_TIMESTAMP}.svg\"\n",
    "\n",
    "        plot_f1_score_history(f1_score_path = F1_SCORE_PATH,\n",
    "                              f1_score_name = F1_SCORE_NAME,\n",
    "                              history = history)\n",
    "\n",
    "    print(\"[INFO] evaluating network...\")\n",
    "\n",
    "    REPORT_PATH = f\"{REPORTS_PATH}{MODEL_NAME}/\"\n",
    "    REPORT_NAME  = f\"{city_name}_{MODEL_NAME}_report_{MODEL_TIMESTAMP}.csv\"\n",
    "\n",
    "    plot_classification_report(path = REPORT_PATH,\n",
    "                               file_name = REPORT_NAME,\n",
    "                               y_true = Y_test,\n",
    "                               y_predicted = Y_predicted)\n",
    "\n",
    "\n",
    "    CONFUSION_MATRIX_PATH = f\"{CONFUSIONS_MATRIX_PATH}{MODEL_NAME}/\"\n",
    "    CONFUSION_MATRIX_NAME = f\"{city_name}_{MODEL_NAME}_confusion_matrix_{MODEL_TIMESTAMP}.svg\"\n",
    "\n",
    "    plot_confusion_matrix(path = CONFUSION_MATRIX_PATH,\n",
    "                          file_name = CONFUSION_MATRIX_NAME,\n",
    "                          y_true = Y_test,\n",
    "                          y_predicted = Y_predicted)"
   ]
  },
  {
   "cell_type": "markdown",
   "id": "PohCQRSm67P0",
   "metadata": {
    "id": "PohCQRSm67P0",
    "tags": [],
    "toc-hr-collapsed": true
   },
   "source": [
    "### Convolution 2D"
   ]
  },
  {
   "cell_type": "code",
   "execution_count": 142,
   "id": "c06a48c3-e0a7-4a93-ab64-901503503e7f",
   "metadata": {},
   "outputs": [],
   "source": [
    "MODEL_NAME = MODELS_NAME[2]"
   ]
  },
  {
   "cell_type": "markdown",
   "id": "vPh1ixx-67P2",
   "metadata": {
    "id": "vPh1ixx-67P2"
   },
   "source": [
    "#### Entrenamiento"
   ]
  },
  {
   "cell_type": "code",
   "execution_count": 143,
   "id": "b-rJTSQC67P2",
   "metadata": {
    "id": "b-rJTSQC67P2",
    "tags": []
   },
   "outputs": [],
   "source": [
    "if train_nn:\n",
    "    history = tasp_cnn.fit(array_train_images, Y_train_onehot,\n",
    "                       # class_weight = pesos,\n",
    "                       batch_size = 128,\n",
    "                       epochs = 100,\n",
    "                       shuffle = True,\n",
    "                       validation_data = (array_test_images, Y_test_onehot))\n",
    "    history"
   ]
  },
  {
   "cell_type": "markdown",
   "id": "16dca0f9-336a-4113-b58c-1fb300c89608",
   "metadata": {
    "tags": []
   },
   "source": [
    "#### Escritura del modelo"
   ]
  },
  {
   "cell_type": "code",
   "execution_count": 144,
   "id": "1aac281b-8364-4710-b6e1-d75ae4a401d5",
   "metadata": {},
   "outputs": [],
   "source": [
    "if train_nn:\n",
    "    MODEL_PATH = f\"{MODELS_PATH}{MODEL_NAME}/\"\n",
    "    MODEL_FILE_NAME = f\"{city_name}_{MODEL_NAME}_{MODEL_TIMESTAMP}.h5\"\n",
    "\n",
    "    tasp_cnn.save(MODEL_PATH + MODEL_FILE_NAME)"
   ]
  },
  {
   "cell_type": "markdown",
   "id": "aT8XDceKGSdi",
   "metadata": {
    "id": "aT8XDceKGSdi",
    "tags": []
   },
   "source": [
    "#### Carga de modelo pre-entrenado"
   ]
  },
  {
   "cell_type": "code",
   "execution_count": 146,
   "id": "dRaqg9SXGRwb",
   "metadata": {
    "id": "dRaqg9SXGRwb"
   },
   "outputs": [],
   "source": [
    "if not train_nn and not laptop:\n",
    "    MODEL_PATH = f\"{MODELS_PATH}{MODEL_NAME}/\"\n",
    "    MODEL_FILE_NAME = 'madrid_convolution_2d_2022-05-15-21 25 47.h5'\n",
    "\n",
    "    tasp_cnn = tf.keras.models.load_model(MODEL_PATH + MODEL_FILE_NAME)"
   ]
  },
  {
   "cell_type": "code",
   "execution_count": 256,
   "id": "fa29ab0f-d59b-4646-98af-d26e1b1398dd",
   "metadata": {
    "tags": []
   },
   "outputs": [
    {
     "ename": "NameError",
     "evalue": "name 'Model' is not defined",
     "output_type": "error",
     "traceback": [
      "\u001b[0;31m---------------------------------------------------------------------------\u001b[0m",
      "\u001b[0;31mNameError\u001b[0m                                 Traceback (most recent call last)",
      "Input \u001b[0;32mIn [256]\u001b[0m, in \u001b[0;36m<cell line: 5>\u001b[0;34m()\u001b[0m\n\u001b[1;32m      3\u001b[0m n_samples \u001b[38;5;241m=\u001b[39m \u001b[38;5;241m3\u001b[39m\n\u001b[1;32m      4\u001b[0m layers \u001b[38;5;241m=\u001b[39m [\u001b[38;5;241m0\u001b[39m, \u001b[38;5;241m2\u001b[39m, \u001b[38;5;241m4\u001b[39m, \u001b[38;5;241m6\u001b[39m]\n\u001b[0;32m----> 5\u001b[0m tasp_cnn_feature_maps \u001b[38;5;241m=\u001b[39m \u001b[43mModel\u001b[49m(inputs \u001b[38;5;241m=\u001b[39m tasp_cnn\u001b[38;5;241m.\u001b[39minputs, outputs\u001b[38;5;241m=\u001b[39mmodel\u001b[38;5;241m.\u001b[39mlayers[\u001b[38;5;241m1\u001b[39m]\u001b[38;5;241m.\u001b[39moutput)\n\u001b[1;32m      7\u001b[0m \u001b[38;5;28;01mfor\u001b[39;00m layer_number \u001b[38;5;129;01min\u001b[39;00m layers:\n\u001b[1;32m      8\u001b[0m     filters, biases \u001b[38;5;241m=\u001b[39m tasp_cnn\u001b[38;5;241m.\u001b[39mlayers[layer_number]\u001b[38;5;241m.\u001b[39mget_weights()\n",
      "\u001b[0;31mNameError\u001b[0m: name 'Model' is not defined"
     ]
    }
   ],
   "source": [
    "# ## Exportar los kernels\n",
    "\n",
    "# n_samples = 3\n",
    "# layers = [0, 2, 4, 6]\n",
    "\n",
    "# for layer_number in layers:\n",
    "#     filters, biases = tasp_cnn.layers[layer_number].get_weights()\n",
    "    \n",
    "#     layer_name = layer_number//2 + 1\n",
    "\n",
    "#     for i in range(n_samples):\n",
    "#         # X,Y, channel, filter_number\n",
    "#         current_filter = filters[:,:,0, i]\n",
    "\n",
    "#         plt.figure(figsize=(3, 3))\n",
    "#         plt.grid(b = None)\n",
    "#         plt.imshow(current_filter, cmap='gray')\n",
    "\n",
    "#         # plt.savefig(f\"filters/{city_name}_filter_layer_{layer_name}_{i}.svg\", transparent=True)\n",
    "#         plt.show()"
   ]
  },
  {
   "cell_type": "code",
   "execution_count": 265,
   "id": "f69cd710-082b-4800-a989-8b24142de759",
   "metadata": {},
   "outputs": [
    {
     "data": {
      "text/plain": [
       "(3, 5, 5, 256)"
      ]
     },
     "execution_count": 265,
     "metadata": {},
     "output_type": "execute_result"
    }
   ],
   "source": [
    "# # import tf.keras.mo.Model\n",
    "# tasp_cnn_feature_maps = tf.keras.models.Model(inputs = tasp_cnn.inputs, outputs=tasp_cnn.layers[0].output)\n",
    "\n",
    "# tasp_cnn_feature_maps.predict(array_train_images[:3]).shape"
   ]
  },
  {
   "cell_type": "code",
   "execution_count": 262,
   "id": "17830ff4-9577-4f72-bd97-943844300fc8",
   "metadata": {},
   "outputs": [
    {
     "ename": "TypeError",
     "evalue": "'Functional' object is not subscriptable",
     "output_type": "error",
     "traceback": [
      "\u001b[0;31m---------------------------------------------------------------------------\u001b[0m",
      "\u001b[0;31mTypeError\u001b[0m                                 Traceback (most recent call last)",
      "Input \u001b[0;32mIn [262]\u001b[0m, in \u001b[0;36m<cell line: 5>\u001b[0;34m()\u001b[0m\n\u001b[1;32m      5\u001b[0m \u001b[38;5;28;01mfor\u001b[39;00m _ \u001b[38;5;129;01min\u001b[39;00m \u001b[38;5;28mrange\u001b[39m(square):\n\u001b[1;32m      6\u001b[0m     \u001b[38;5;28;01mfor\u001b[39;00m _ \u001b[38;5;129;01min\u001b[39;00m \u001b[38;5;28mrange\u001b[39m(square):\n\u001b[1;32m      7\u001b[0m         \u001b[38;5;66;03m# specify subplot and turn of axis\u001b[39;00m\n\u001b[1;32m      8\u001b[0m \n\u001b[1;32m      9\u001b[0m         \u001b[38;5;66;03m# plot filter channel in grayscale\u001b[39;00m\n\u001b[0;32m---> 10\u001b[0m         plt\u001b[38;5;241m.\u001b[39mimshow(\u001b[43mtasp_cnn_feature_maps\u001b[49m\u001b[43m[\u001b[49m\u001b[43mix\u001b[49m\u001b[38;5;241;43m-\u001b[39;49m\u001b[38;5;241;43m1\u001b[39;49m\u001b[43m,\u001b[49m\u001b[43m:\u001b[49m\u001b[43m,\u001b[49m\u001b[43m:\u001b[49m\u001b[43m,\u001b[49m\u001b[43m:\u001b[49m\u001b[43m]\u001b[49m, cmap\u001b[38;5;241m=\u001b[39m\u001b[38;5;124m'\u001b[39m\u001b[38;5;124mgray\u001b[39m\u001b[38;5;124m'\u001b[39m)\n\u001b[1;32m     11\u001b[0m         ix \u001b[38;5;241m+\u001b[39m\u001b[38;5;241m=\u001b[39m \u001b[38;5;241m1\u001b[39m\n\u001b[1;32m     12\u001b[0m \u001b[38;5;66;03m# show the figure\u001b[39;00m\n",
      "\u001b[0;31mTypeError\u001b[0m: 'Functional' object is not subscriptable"
     ]
    }
   ],
   "source": [
    "# feature_maps = tasp_cnn.predict(array_train_images)\n",
    "# # plot all 64 maps in an 8x8 squares\n",
    "# square = 5\n",
    "# ix = 1\n",
    "# for _ in range(square):\n",
    "#     for _ in range(square):\n",
    "#         # specify subplot and turn of axis\n",
    "\n",
    "#         # plot filter channel in grayscale\n",
    "#         plt.imshow(tasp_cnn_feature_maps[ix-1,:,:,:], cmap='gray')\n",
    "#         ix += 1\n",
    "# # show the figure\n",
    "# plt.show()"
   ]
  },
  {
   "cell_type": "markdown",
   "id": "wD_BOwcwGb4W",
   "metadata": {
    "id": "wD_BOwcwGb4W"
   },
   "source": [
    "#### Resultados"
   ]
  },
  {
   "cell_type": "code",
   "execution_count": null,
   "id": "nHVVq0khGato",
   "metadata": {
    "id": "nHVVq0khGato",
    "tags": []
   },
   "outputs": [],
   "source": [
    "if not laptop:\n",
    "\n",
    "    Y_predicted = tasp_cnn.predict(x = array_test_images, batch_size = 128).argmax(axis = 1)\n",
    "\n",
    "    F1_SCORE_PATH = f\"{F1_SCORES_PATH}{MODEL_NAME}/\"\n",
    "    F1_SCORE_NAME = f\"{city_name}_{MODEL_NAME}_f1_score_{MODEL_TIMESTAMP}.svg\"\n",
    "\n",
    "    if train_nn:\n",
    "        F1_SCORE_PATH = f\"{F1_SCORES_PATH}{MODEL_NAME}/\"\n",
    "        F1_SCORE_NAME = f\"{city_name}_{MODEL_NAME}_f1_score_{MODEL_TIMESTAMP}.svg\"\n",
    "\n",
    "        plot_f1_score_history(f1_score_path = F1_SCORE_PATH,\n",
    "                              f1_score_name = F1_SCORE_NAME,\n",
    "                              history = history)\n",
    "\n",
    "    print(\"[INFO] evaluating network...\")\n",
    "\n",
    "    REPORT_PATH = f\"{REPORTS_PATH}{MODEL_NAME}/\"\n",
    "    REPORT_NAME  = f\"{city_name}_{MODEL_NAME}_report_{MODEL_TIMESTAMP}.csv\"\n",
    "\n",
    "    plot_classification_report(path = REPORT_PATH,\n",
    "                               file_name = REPORT_NAME,\n",
    "                               y_true = Y_test,\n",
    "                               y_predicted = Y_predicted)\n",
    "\n",
    "\n",
    "    CONFUSION_MATRIX_PATH = f\"{CONFUSIONS_MATRIX_PATH}{MODEL_NAME}/\"\n",
    "    CONFUSION_MATRIX_NAME = f\"{city_name}_{MODEL_NAME}_confusion_matrix_{MODEL_TIMESTAMP}.svg\"\n",
    "\n",
    "    plot_confusion_matrix(path = CONFUSION_MATRIX_PATH,\n",
    "                          file_name = CONFUSION_MATRIX_NAME,\n",
    "                          y_true = Y_test,\n",
    "                          y_predicted = Y_predicted)"
   ]
  },
  {
   "cell_type": "markdown",
   "id": "a557fd15-2eb8-497f-bd7e-34e8fc596449",
   "metadata": {},
   "source": [
    "## AutoML"
   ]
  },
  {
   "cell_type": "code",
   "execution_count": null,
   "id": "4ac6d7a4-039c-452e-bc4c-78c5199996c3",
   "metadata": {},
   "outputs": [],
   "source": [
    "MODEL_NAME = MODELS_NAME[3]"
   ]
  },
  {
   "cell_type": "code",
   "execution_count": null,
   "id": "DoJbgcgC1d83",
   "metadata": {
    "id": "DoJbgcgC1d83",
    "tags": []
   },
   "outputs": [],
   "source": [
    "# tasp_cnn.save(root_path + 'madrid_model_XGBOOST_predicted.h5')"
   ]
  },
  {
   "cell_type": "code",
   "execution_count": null,
   "id": "b9b65f8d-ba77-42e8-850a-d4b8b5135641",
   "metadata": {},
   "outputs": [],
   "source": [
    "# import autokeras as ak\n",
    "\n",
    "# # clf = ak.ImageClassifier(num_classes = 3,\n",
    "# #                          loss='categorical_crossentropy',\n",
    "# #                          metrics = [tfa.metrics.F1Score(num_classes = num_classes, average='micro', threshold = 0.1)],\n",
    "# #                          overwrite = True,\n",
    "# #                          tuner= 'bayesian',\n",
    "# #                          max_trials = 20,\n",
    "# #                          max_model_size = 3000000\n",
    "# #                         )\n",
    "# clf = ak.StructuredDataClassifier(num_classes = 3,\n",
    "#                              loss='categorical_crossentropy',\n",
    "#                              metrics = [tfa.metrics.F1Score(num_classes = num_classes, average='micro', threshold = 0.1)],\n",
    "#                              overwrite = True,\n",
    "#                              tuner= 'bayesian',\n",
    "#                              max_trials = 20\n",
    "#                         )\n",
    "\n",
    "# clf.fit(array_train_images,\n",
    "#         np.asarray(Y_train),\n",
    "#         epochs = 100,\n",
    "#         batch_size = 128,\n",
    "#         validation_data = (array_test_images, np.asarray(Y_test)))\n",
    "\n",
    "# best_auto_model = clf.export_model()\n",
    "# print(best_auto_model.summary())"
   ]
  },
  {
   "cell_type": "markdown",
   "id": "885bbb5c-e78f-426b-bdac-c679f9ee671c",
   "metadata": {
    "tags": []
   },
   "source": [
    "### Escritura del modelo"
   ]
  },
  {
   "cell_type": "code",
   "execution_count": null,
   "id": "a61062eb-31de-4166-8855-98f5b9277758",
   "metadata": {},
   "outputs": [],
   "source": [
    "# MODEL_PATH = f\"{MODELS_PATH}{MODEL_NAME}/\"\n",
    "# MODEL_FILE_NAME = f\"{city_name}_{MODEL_NAME}_{MODEL_TIMESTAMP}.h5\"\n",
    "\n",
    "# best_auto_model.save(MODEL_PATH + MODEL_FILE_NAME)"
   ]
  },
  {
   "cell_type": "markdown",
   "id": "cbf8663f-213d-4010-9195-6ad9cbc9c9e1",
   "metadata": {},
   "source": [
    "### Resultados"
   ]
  },
  {
   "cell_type": "code",
   "execution_count": null,
   "id": "4216cee8-ff56-498d-98db-112eb635c501",
   "metadata": {},
   "outputs": [],
   "source": [
    "# Y_predicted = best_auto_model.predict(x = array_test_images, batch_size = 128).argmax(axis = 1)\n",
    "\n",
    "# F1_SCORE_PATH = f\"{F1_SCORES_PATH}{MODEL_NAME}/\"\n",
    "# F1_SCORE_NAME = f\"{city_name}_{MODEL_NAME}_f1_score_{MODEL_TIMESTAMP}.svg\"\n",
    "\n",
    "# # plot_f1_score(f1_score_path = F1_SCORE_PATH,\n",
    "# #               f1_score_name = F1_SCORE_NAME,\n",
    "# #               history = history)\n",
    "\n",
    "# print(\"[INFO] evaluating network...\")\n",
    "\n",
    "# REPORT_PATH = f\"{REPORTS_PATH}{MODEL_NAME}/\"\n",
    "# REPORT_NAME  = f\"{city_name}_{MODEL_NAME}_report_{MODEL_TIMESTAMP}.csv\"\n",
    "\n",
    "# plot_classification_report(path = REPORT_PATH,\n",
    "#                            file_name = REPORT_NAME,\n",
    "#                            y_true = Y_test,\n",
    "#                            y_predicted = Y_predicted)\n",
    "\n",
    "\n",
    "# CONFUSION_MATRIX_PATH = f\"{CONFUSIONS_MATRIX_PATH}{MODEL_NAME}/\"\n",
    "# CONFUSION_MATRIX_NAME  = f\"{city_name}_{MODEL_NAME}_confusion_matrix_{MODEL_TIMESTAMP}.svg\"\n",
    "\n",
    "# plot_confusion_matrix(path = CONFUSION_MATRIX_PATH,\n",
    "#                       file_name = CONFUSION_MATRIX_NAME,\n",
    "#                       y_true = Y_test,\n",
    "#                       y_predicted = Y_predicted)"
   ]
  },
  {
   "cell_type": "markdown",
   "id": "6d656c0a-d4e9-4758-a1f7-1878ed998fa8",
   "metadata": {},
   "source": [
    "# Data Summary"
   ]
  },
  {
   "cell_type": "code",
   "execution_count": null,
   "id": "60314a42-8590-48e1-9d87-9f41859c01d2",
   "metadata": {},
   "outputs": [],
   "source": [
    "# MODEL_TIMESTAMP\n",
    "\n",
    "# WEIGHTS_PATH  = './feature_weights/'\n",
    "# REPORTS_PATH  = 'Reports/'\n",
    "# MODELS_PATH   = 'Models/'\n",
    "# F1_SCORES_PATH = 'F1scores/'\n",
    "# GA_SCORES_PATH = 'GA_Scores/'\n",
    "# HYPERPARAMS_PATH = './hyperparams/'\n",
    "\n",
    "# HYPERPARAMS_EVOLUTON_PATH = './hyperparams_evolution/'\n",
    "# FINAL_POPULATION_PATH = './population/'\n",
    "# CONFUSIONS_MATRIX_PATH = 'confusion_matrix/'\n",
    "\n",
    "# ###### MODELS ######\n",
    "# MODELS_NAME = ['knn', 'convolution_1d', 'convolution_2d']\n",
    "# DATA_PATHS = [REPORTS_PATH]\n",
    "\n",
    "from os.path import exists\n",
    "\n",
    "reports_summary = pd.DataFrame()\n",
    "\n",
    "cities = ['leeds', 'madrid']\n",
    "\n",
    "models_renaming = {'knn': 'KNN',\n",
    "                   'convolution_1d': '1D-convolution',\n",
    "                   'convolution_2d': '2D-convolution'}\n",
    "                   # 'auto_ml': 'AutoML'}\n",
    "\n",
    "for model_name in MODELS_NAME:\n",
    "    \n",
    "    REPORT_PATH = f\"{REPORTS_PATH}{model_name}/\"\n",
    "\n",
    "    for city in cities:\n",
    "        REPORT_NAME  = f\"{city}_{model_name}_report_{MODEL_TIMESTAMP}.csv\"\n",
    "\n",
    "        if exists(REPORT_PATH + REPORT_NAME):\n",
    "            report = pd.read_csv(REPORT_PATH + REPORT_NAME, index_col=[0])\n",
    "            report.insert(0, 'city', city)\n",
    "            report.insert(1, 'model', models_renaming[model_name])\n",
    "            \n",
    "            reports_summary = pd.concat([reports_summary, report])\n",
    "\n",
    "reports_summary = reports_summary.sort_values(['city', 'model'], ascending = [True, True])\n",
    "\n",
    "c_m = reports_summary['city'] + '_' + reports_summary['model']\n",
    "reports_summary.insert(0, 'c_m', c_m)\n",
    "\n",
    "# reports_summary.drop(['city', 'model'], axis=1, inplace = True)\n",
    "\n",
    "SAVE_PATH =  f\"{REPORTS_SUMMARY_PATH}{MODEL_TIMESTAMP}.csv\"\n",
    "\n",
    "reports_summary.to_csv(SAVE_PATH, index= True)\n",
    "\n",
    "reports_summary.insert(0, 'accident_type', reports_summary.index)"
   ]
  },
  {
   "cell_type": "code",
   "execution_count": null,
   "id": "7a5de0ef-2c61-42fb-886d-cabe6c9bb79a",
   "metadata": {},
   "outputs": [],
   "source": [
    "import seaborn as sns\n",
    "\n",
    "MEASURE_TYPES  = ['precision', 'recall', 'f1-score']\n",
    "ACCIDENT_TYPES = ['Slight', 'Serious', 'Fatal']\n",
    "\n",
    "fig, axs = plt.subplots(len(MEASURE_TYPES), len(cities), figsize=(15,20))\n",
    "\n",
    "leeds_reports_summary  = reports_summary[reports_summary['city'] == 'leeds']\n",
    "madrid_reports_summary = reports_summary[reports_summary['city'] == 'madrid']\n",
    "\n",
    "# print(leeds_reports_summary.loc[ACCIDENT_TYPES])\n",
    "\n",
    "for index, measure_type in enumerate(MEASURE_TYPES):\n",
    "\n",
    "    ax = sns.barplot(x = 'accident_type',\n",
    "                     y = measure_type,\n",
    "                     hue = 'model',\n",
    "                     data = leeds_reports_summary.loc[ACCIDENT_TYPES],\n",
    "                     ax = axs[index, 0]).set(title = f\"{measure_type} Leeds\")\n",
    "\n",
    "    ax = sns.barplot(x = 'accident_type',\n",
    "                     y = measure_type,\n",
    "                     hue = 'model',\n",
    "                     data = madrid_reports_summary.loc[ACCIDENT_TYPES],\n",
    "                     ax = axs[index, 1]).set(title = f\"{measure_type} Madrid\")\n",
    "\n",
    "SAVE_PATH = f\"{REPORTS_SUMMARY_PATH}{MODEL_TIMESTAMP}.png\"\n",
    "\n",
    "fig = fig.get_figure()\n",
    "fig.savefig(SAVE_PATH)"
   ]
  }
 ],
 "metadata": {
  "accelerator": "GPU",
  "colab": {
   "collapsed_sections": [
    "V7Azjtl8gRth",
    "qKYh5EeThQ_7",
    "kISRP5AQhWTD",
    "cCo2emMclT8h",
    "gJfbDNO5oB1N",
    "7a4EsWwQhe_i",
    "ycdOBuHSjhSk",
    "5PmJpoCCcxMJ",
    "ybjvOI7x0PKz",
    "pVPFGQ0AoNRD",
    "_Z4nz3ioxtXb",
    "dg0d7-k15L3H",
    "d5fAIUUg5L3J"
   ],
   "name": "TFM_final.ipynb",
   "provenance": [],
   "toc_visible": true
  },
  "kernelspec": {
   "display_name": "Python [conda env:TFM]",
   "language": "python",
   "name": "conda-env-TFM-py"
  },
  "language_info": {
   "codemirror_mode": {
    "name": "ipython",
    "version": 3
   },
   "file_extension": ".py",
   "mimetype": "text/x-python",
   "name": "python",
   "nbconvert_exporter": "python",
   "pygments_lexer": "ipython3",
   "version": "3.9.11"
  },
  "toc-autonumbering": true,
  "toc-showcode": false,
  "toc-showmarkdowntxt": false,
  "toc-showtags": false
 },
 "nbformat": 4,
 "nbformat_minor": 5
}
